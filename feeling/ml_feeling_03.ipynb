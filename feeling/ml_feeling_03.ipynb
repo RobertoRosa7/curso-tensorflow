{
 "cells": [
  {
   "cell_type": "code",
   "execution_count": 81,
   "metadata": {},
   "outputs": [],
   "source": [
    "import os\n",
    "import pandas as pd\n",
    "import nltk\n",
    "import numpy as np"
   ]
  },
  {
   "cell_type": "code",
   "execution_count": 82,
   "metadata": {},
   "outputs": [
    {
     "data": {
      "text/html": [
       "<div>\n",
       "<style scoped>\n",
       "    .dataframe tbody tr th:only-of-type {\n",
       "        vertical-align: middle;\n",
       "    }\n",
       "\n",
       "    .dataframe tbody tr th {\n",
       "        vertical-align: top;\n",
       "    }\n",
       "\n",
       "    .dataframe thead th {\n",
       "        text-align: right;\n",
       "    }\n",
       "</style>\n",
       "<table border=\"1\" class=\"dataframe\">\n",
       "  <thead>\n",
       "    <tr style=\"text-align: right;\">\n",
       "      <th></th>\n",
       "      <th>text</th>\n",
       "      <th>sentiment</th>\n",
       "    </tr>\n",
       "  </thead>\n",
       "  <tbody>\n",
       "    <tr>\n",
       "      <th>0</th>\n",
       "      <td>Mais uma vez, o Sr. Costner arrumou um filme p...</td>\n",
       "      <td>negative</td>\n",
       "    </tr>\n",
       "    <tr>\n",
       "      <th>1</th>\n",
       "      <td>Este é um exemplo do motivo pelo qual a maiori...</td>\n",
       "      <td>negative</td>\n",
       "    </tr>\n",
       "    <tr>\n",
       "      <th>2</th>\n",
       "      <td>Primeiro de tudo eu odeio esses raps imbecis, ...</td>\n",
       "      <td>negative</td>\n",
       "    </tr>\n",
       "    <tr>\n",
       "      <th>3</th>\n",
       "      <td>Nem mesmo os Beatles puderam escrever músicas ...</td>\n",
       "      <td>negative</td>\n",
       "    </tr>\n",
       "    <tr>\n",
       "      <th>4</th>\n",
       "      <td>Filmes de fotos de latão não é uma palavra apr...</td>\n",
       "      <td>negative</td>\n",
       "    </tr>\n",
       "    <tr>\n",
       "      <th>...</th>\n",
       "      <td>...</td>\n",
       "      <td>...</td>\n",
       "    </tr>\n",
       "    <tr>\n",
       "      <th>49454</th>\n",
       "      <td>Como a média de votos era muito baixa, e o fat...</td>\n",
       "      <td>positive</td>\n",
       "    </tr>\n",
       "    <tr>\n",
       "      <th>49455</th>\n",
       "      <td>O enredo teve algumas reviravoltas infelizes e...</td>\n",
       "      <td>positive</td>\n",
       "    </tr>\n",
       "    <tr>\n",
       "      <th>49456</th>\n",
       "      <td>Estou espantado com a forma como este filme e ...</td>\n",
       "      <td>positive</td>\n",
       "    </tr>\n",
       "    <tr>\n",
       "      <th>49457</th>\n",
       "      <td>A Christmas Together realmente veio antes do m...</td>\n",
       "      <td>positive</td>\n",
       "    </tr>\n",
       "    <tr>\n",
       "      <th>49458</th>\n",
       "      <td>O drama romântico da classe trabalhadora do di...</td>\n",
       "      <td>positive</td>\n",
       "    </tr>\n",
       "  </tbody>\n",
       "</table>\n",
       "<p>49459 rows × 2 columns</p>\n",
       "</div>"
      ],
      "text/plain": [
       "                                                    text sentiment\n",
       "0      Mais uma vez, o Sr. Costner arrumou um filme p...  negative\n",
       "1      Este é um exemplo do motivo pelo qual a maiori...  negative\n",
       "2      Primeiro de tudo eu odeio esses raps imbecis, ...  negative\n",
       "3      Nem mesmo os Beatles puderam escrever músicas ...  negative\n",
       "4      Filmes de fotos de latão não é uma palavra apr...  negative\n",
       "...                                                  ...       ...\n",
       "49454  Como a média de votos era muito baixa, e o fat...  positive\n",
       "49455  O enredo teve algumas reviravoltas infelizes e...  positive\n",
       "49456  Estou espantado com a forma como este filme e ...  positive\n",
       "49457  A Christmas Together realmente veio antes do m...  positive\n",
       "49458  O drama romântico da classe trabalhadora do di...  positive\n",
       "\n",
       "[49459 rows x 2 columns]"
      ]
     },
     "execution_count": 82,
     "metadata": {},
     "output_type": "execute_result"
    }
   ],
   "source": [
    "df = pd.read_csv(os.path.join('..', 'storage', 'base_sentiment.1.0.2.csv'))\n",
    "df"
   ]
  },
  {
   "cell_type": "code",
   "execution_count": 83,
   "metadata": {},
   "outputs": [
    {
     "data": {
      "text/plain": [
       "sentiment\n",
       "negative    24765\n",
       "positive    24694\n",
       "Name: count, dtype: int64"
      ]
     },
     "execution_count": 83,
     "metadata": {},
     "output_type": "execute_result"
    }
   ],
   "source": [
    "df['sentiment'].value_counts()"
   ]
  },
  {
   "cell_type": "code",
   "execution_count": 84,
   "metadata": {},
   "outputs": [
    {
     "data": {
      "text/plain": [
       "(49459, 2)"
      ]
     },
     "execution_count": 84,
     "metadata": {},
     "output_type": "execute_result"
    }
   ],
   "source": [
    "df.shape"
   ]
  },
  {
   "cell_type": "code",
   "execution_count": 85,
   "metadata": {},
   "outputs": [],
   "source": [
    "base_training = df.values[:int(df.shape[0] / 100 * 80)]\n",
    "base_test = df.values[int(df.shape[0] / 100 * 20):]"
   ]
  },
  {
   "cell_type": "code",
   "execution_count": 86,
   "metadata": {},
   "outputs": [],
   "source": [
    "list_stopwords = nltk.corpus.stopwords.words('portuguese')"
   ]
  },
  {
   "cell_type": "code",
   "execution_count": 87,
   "metadata": {},
   "outputs": [],
   "source": [
    "def remove_stopwords(text):\n",
    "    frases = []\n",
    "    for (word, sentiment) in text:\n",
    "        no_stopwords = [ w for w in word.split() if w not in list_stopwords]\n",
    "        frases.append((no_stopwords, sentiment))\n",
    "    return frases"
   ]
  },
  {
   "cell_type": "code",
   "execution_count": 88,
   "metadata": {},
   "outputs": [],
   "source": [
    "def stemmer(text):\n",
    "    stem = nltk.stem.RSLPStemmer()\n",
    "    list_with_stem = []\n",
    "    for (word, sentiment) in text:\n",
    "        with_stem = [str(stem.stem(w)) for w in word.split() if w not in list_stopwords]\n",
    "        list_with_stem.append((with_stem, sentiment))\n",
    "    return list_with_stem"
   ]
  },
  {
   "cell_type": "code",
   "execution_count": 89,
   "metadata": {},
   "outputs": [],
   "source": [
    "list_with_stemmer = stemmer(df.values)"
   ]
  },
  {
   "cell_type": "code",
   "execution_count": 90,
   "metadata": {},
   "outputs": [],
   "source": [
    "def search_word(words):\n",
    "    all_words = []\n",
    "    for word, sentiment in words:\n",
    "        all_words.append(word)\n",
    "    return all_words"
   ]
  },
  {
   "cell_type": "code",
   "execution_count": 91,
   "metadata": {},
   "outputs": [],
   "source": [
    "word_with_stemmer_training = stemmer(base_training)\n",
    "word_with_stemmer_test = stemmer(base_test)"
   ]
  },
  {
   "cell_type": "code",
   "execution_count": 92,
   "metadata": {},
   "outputs": [],
   "source": [
    "def get_freq(words):\n",
    "    words = nltk.FreqDist(words)\n",
    "    return words"
   ]
  },
  {
   "cell_type": "code",
   "execution_count": 93,
   "metadata": {},
   "outputs": [],
   "source": [
    "word_training = search_word(word_with_stemmer_training)\n",
    "word_test = search_word(word_with_stemmer_test)"
   ]
  },
  {
   "cell_type": "code",
   "execution_count": 94,
   "metadata": {},
   "outputs": [],
   "source": [
    "freq_training = get_freq(word_training[0])\n",
    "freq_test = get_freq(word_test[0])"
   ]
  },
  {
   "cell_type": "code",
   "execution_count": 95,
   "metadata": {},
   "outputs": [],
   "source": [
    "# função para retornar somente palavras únicas\n",
    "def search_word_unique(freq):\n",
    "    freq = freq.keys()\n",
    "    return freq \n",
    "\n",
    "word_unique_training = search_word_unique(freq_training)\n",
    "word_unique_test = search_word_unique(freq_test)"
   ]
  },
  {
   "cell_type": "code",
   "execution_count": 96,
   "metadata": {},
   "outputs": [],
   "source": [
    "# função para identificar quais palavras únicas estão no documento\n",
    "def extractor_word(document):\n",
    "    doc = set(document)\n",
    "    feature = {}\n",
    "    for word in word_unique_training:\n",
    "        feature['%s' % word] = (word in doc)\n",
    "    return feature\n",
    "\n",
    "# função para identificar quais palavras únicas estão no documento\n",
    "def extractor_word_test(document):\n",
    "    doc = set(document)\n",
    "    feature = {}\n",
    "    for word in word_unique_test:\n",
    "        feature['%s' % word] = (word in doc)\n",
    "    return feature"
   ]
  },
  {
   "cell_type": "code",
   "execution_count": 97,
   "metadata": {},
   "outputs": [],
   "source": [
    "base_complete_training = nltk.classify.apply_features(extractor_word, word_with_stemmer_training)\n",
    "base_complete_test = nltk.classify.apply_features(extractor_word_test, word_with_stemmer_test)"
   ]
  },
  {
   "cell_type": "code",
   "execution_count": 98,
   "metadata": {},
   "outputs": [],
   "source": [
    "classifier = nltk.NaiveBayesClassifier.train(base_complete_training)"
   ]
  },
  {
   "cell_type": "code",
   "execution_count": 99,
   "metadata": {},
   "outputs": [
    {
     "data": {
      "text/plain": [
       "['negative', 'positive']"
      ]
     },
     "execution_count": 99,
     "metadata": {},
     "output_type": "execute_result"
    }
   ],
   "source": [
    "classifier.labels()"
   ]
  },
  {
   "cell_type": "code",
   "execution_count": 100,
   "metadata": {},
   "outputs": [
    {
     "name": "stdout",
     "output_type": "stream",
     "text": [
      "Most Informative Features\n",
      "                  deslig = True           negati : positi =      3.3 : 1.0\n",
      "                kutcher. = True           positi : negati =      2.8 : 1.0\n",
      "                costner. = True           negati : positi =      2.6 : 1.0\n",
      "                  nenhum = True           negati : positi =      2.0 : 1.0\n",
      "                obstácul = True           positi : negati =      1.8 : 1.0\n",
      "                  armári = True           negati : positi =      1.8 : 1.0\n",
      "              importava. = True           negati : positi =      1.8 : 1.0\n",
      "                   mágic = True           positi : negati =      1.8 : 1.0\n",
      "                    terr = True           negati : positi =      1.8 : 1.0\n",
      "                    venc = True           positi : negati =      1.8 : 1.0\n"
     ]
    }
   ],
   "source": [
    "classifier.show_most_informative_features(10)"
   ]
  },
  {
   "cell_type": "code",
   "execution_count": 101,
   "metadata": {},
   "outputs": [
    {
     "data": {
      "text/plain": [
       "0.4195056611403154"
      ]
     },
     "execution_count": 101,
     "metadata": {},
     "output_type": "execute_result"
    }
   ],
   "source": [
    "nltk.classify.accuracy(classifier, base_complete_test)"
   ]
  },
  {
   "cell_type": "code",
   "execution_count": 102,
   "metadata": {},
   "outputs": [],
   "source": [
    "errors = []\n",
    "for (frase, classe) in base_complete_test:\n",
    "    result = classifier.classify(frase)\n",
    "    if result != classe:\n",
    "        errors.append((classe, result, frase))"
   ]
  },
  {
   "cell_type": "code",
   "execution_count": 103,
   "metadata": {},
   "outputs": [
    {
     "name": "stdout",
     "output_type": "stream",
     "text": [
      "         |     n     p |\n",
      "         |     e     o |\n",
      "         |     g     s |\n",
      "         |     a     i |\n",
      "         |     t     t |\n",
      "         |     i     i |\n",
      "         |     v     v |\n",
      "         |     e     e |\n",
      "---------+-------------+\n",
      "negative |<13991>  883 |\n",
      "positive | 22086 <2608>|\n",
      "---------+-------------+\n",
      "(row = reference; col = test)\n",
      "\n"
     ]
    }
   ],
   "source": [
    "from nltk.metrics import ConfusionMatrix\n",
    "hope = []\n",
    "predict = []\n",
    "for (frase, classe) in base_complete_test:\n",
    "    result = classifier.classify(frase)\n",
    "    predict.append(result)\n",
    "    hope.append(classe)\n",
    "\n",
    "matrix = ConfusionMatrix(hope, predict)\n",
    "print(matrix)"
   ]
  },
  {
   "cell_type": "code",
   "execution_count": 104,
   "metadata": {},
   "outputs": [
    {
     "name": "stdout",
     "output_type": "stream",
     "text": [
      "negative: 0.318475\n",
      "positive: 0.681525\n"
     ]
    }
   ],
   "source": [
    "text = \"nossa, que notícia maravilhosa!\"\n",
    "test_stemming = []\n",
    "stemmer = nltk.RSLPStemmer()\n",
    "for word in text.split():\n",
    "    with_stem = [w for w in word.split()]\n",
    "    test_stemming.append(str(stemmer.stem(with_stem[0])))\n",
    "\n",
    "novo = extractor_word(test_stemming)\n",
    "\n",
    "dist = classifier.prob_classify(novo)\n",
    "for classe in dist.samples():\n",
    "    print('%s: %f' % (classe, dist.prob(classe)))"
   ]
  },
  {
   "cell_type": "code",
   "execution_count": 105,
   "metadata": {},
   "outputs": [
    {
     "name": "stdout",
     "output_type": "stream",
     "text": [
      "negative: 0.318475\n",
      "positive: 0.681525\n"
     ]
    }
   ],
   "source": [
    "text = \"Pqp, que trânsito chato da porra!\"\n",
    "test_stemming = []\n",
    "stemmer = nltk.RSLPStemmer()\n",
    "for word in text.split():\n",
    "    with_stem = [w for w in word.split()]\n",
    "    test_stemming.append(str(stemmer.stem(with_stem[0])))\n",
    "\n",
    "novo = extractor_word(test_stemming)\n",
    "\n",
    "dist = classifier.prob_classify(novo)\n",
    "for classe in dist.samples():\n",
    "    print('%s: %f' % (classe, dist.prob(classe)))"
   ]
  }
 ],
 "metadata": {
  "interpreter": {
   "hash": "37d749834043cc8bcf9500ddac590bcfc07020a4e948b1c7aab57c3f0cf1e0ef"
  },
  "kernelspec": {
   "display_name": "Python 3.9.5 ('.venv': venv)",
   "language": "python",
   "name": "python3"
  },
  "language_info": {
   "codemirror_mode": {
    "name": "ipython",
    "version": 3
   },
   "file_extension": ".py",
   "mimetype": "text/x-python",
   "name": "python",
   "nbconvert_exporter": "python",
   "pygments_lexer": "ipython3",
   "version": "3.9.5"
  },
  "orig_nbformat": 4
 },
 "nbformat": 4,
 "nbformat_minor": 2
}
