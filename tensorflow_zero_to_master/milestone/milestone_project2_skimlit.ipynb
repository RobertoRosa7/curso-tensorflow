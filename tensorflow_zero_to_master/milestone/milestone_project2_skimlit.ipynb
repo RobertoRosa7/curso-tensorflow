{
 "cells": [
  {
   "cell_type": "markdown",
   "metadata": {},
   "source": [
    "# Milestone project 2 - SkimLit\n",
    "\n",
    "## SkimLit sequece problem: Many to one\n",
    "\n",
    "To investigate the efficacy of @week of daily low-dose oral prednisolone in improving pain, mobility, systemic low-grade inflamation in the short term and wether the effect would be sustained at @week in order adults with moderate to sever knee osteoarthritis (OA).\n",
    "\n",
    "## What we're going to cover\n",
    "\n",
    "* Download a text dataset (PubMed 200k RCT)\n",
    "* Writing a preprocessing function for our text data\n",
    "* Setting up multiple modelling experiments with differents levels of embeddings\n",
    "* Building a multimodal model to take in different source of data\n",
    "    - Replicating the model powering https://arxiv.org/abs/1710.06071\n",
    "* Finding the most wrong prediction example\n",
    "\n",
    "see: https://www.nltk.org/install.html\n"
   ]
  },
  {
   "cell_type": "code",
   "execution_count": 1,
   "metadata": {},
   "outputs": [
    {
     "name": "stdout",
     "output_type": "stream",
     "text": [
      "GPU 0: NVIDIA GeForce GTX 1650 Ti (UUID: GPU-396e0d2a-a22a-a57f-bd25-8f6297e10119)\n"
     ]
    }
   ],
   "source": [
    "!nvidia-smi -L"
   ]
  },
  {
   "cell_type": "markdown",
   "metadata": {},
   "source": [
    "## Get dataset\n",
    "\n",
    "Since we'll be replicating a paper above (PubMed 200k RCT), let's download the data they used.\n",
    "\n",
    "We can do so from the authors GitHub: https://github.com/Franck-Dernoncourt/pubmed-rct\n"
   ]
  },
  {
   "cell_type": "code",
   "execution_count": 2,
   "metadata": {},
   "outputs": [
    {
     "name": "stdout",
     "output_type": "stream",
     "text": [
      "pandas: 1.3.5\n",
      "tensorflow: 2.9.3\n",
      "sklearn: 1.0.2\n"
     ]
    }
   ],
   "source": [
    "import os\n",
    "import sys\n",
    "import shutil\n",
    "import random\n",
    "import string\n",
    "import re\n",
    "import pandas as pd\n",
    "import tensorflow as tf\n",
    "import tensorflow_hub as hub\n",
    "import sklearn as skl\n",
    "import numpy as np\n",
    "import matplotlib.pyplot as plt\n",
    "import nltk\n",
    "import multiprocessing\n",
    "\n",
    "from keras.utils import plot_model\n",
    "from gensim.models import Word2Vec, KeyedVectors\n",
    "from gensim.models.phrases import Phrases, Phraser\n",
    "from sklearn.feature_extraction.text import TfidfVectorizer\n",
    "from sklearn.pipeline import Pipeline\n",
    "from sklearn.naive_bayes import MultinomialNB\n",
    "from sklearn.feature_extraction.text import CountVectorizer\n",
    "\n",
    "\n",
    "\n",
    "# add path root project to read helper fuctions\n",
    "sys.path.append(os.path.join('../'))\n",
    "\n",
    "from helper_functions import calculate_results\n",
    "\n",
    "print(f'pandas: {pd.__version__}')\n",
    "print(f'tensorflow: {tf.__version__}')\n",
    "print(f'sklearn: {skl.__version__}')"
   ]
  },
  {
   "cell_type": "code",
   "execution_count": 3,
   "metadata": {},
   "outputs": [],
   "source": [
    "nltk_lists = ['tokenizers/punkt', 'stemmers/rslp', 'corpora/stopwords']\n",
    "\n",
    "for name in nltk_lists:\n",
    "    try:\n",
    "        nltk.data.find(name)\n",
    "    except LookupError:\n",
    "        nltk.download(name.split('/')[1])"
   ]
  },
  {
   "cell_type": "code",
   "execution_count": 4,
   "metadata": {},
   "outputs": [],
   "source": [
    "STORAGE = os.path.join('../../', 'storage')\n",
    "MODEL_PATH = f'{STORAGE}/models'\n",
    "NLP = f'{STORAGE}/nlp'"
   ]
  },
  {
   "cell_type": "code",
   "execution_count": 5,
   "metadata": {},
   "outputs": [],
   "source": [
    "# !git clone https://github.com/Franck-Dernoncourt/pubmed-rct.git\n",
    "# shutil.move('pubmed-rct', f'{NLP}')"
   ]
  },
  {
   "cell_type": "code",
   "execution_count": 6,
   "metadata": {},
   "outputs": [
    {
     "data": {
      "text/plain": [
       "['dev.txt', 'test.txt', 'train.txt']"
      ]
     },
     "execution_count": 6,
     "metadata": {},
     "output_type": "execute_result"
    }
   ],
   "source": [
    "# list dir and see your content\n",
    "os.listdir(f'{NLP}/pubmed-rct/PubMed_20k_RCT_numbers_replaced_with_at_sign')"
   ]
  },
  {
   "cell_type": "code",
   "execution_count": 7,
   "metadata": {},
   "outputs": [],
   "source": [
    "# start our experiments using 20k dataset with number replaced by '@' sign\n",
    "data_dir = f'{NLP}/pubmed-rct/PubMed_20k_RCT_numbers_replaced_with_at_sign/'"
   ]
  },
  {
   "cell_type": "code",
   "execution_count": 8,
   "metadata": {},
   "outputs": [
    {
     "data": {
      "text/plain": [
       "['../../storage/nlp/pubmed-rct/PubMed_20k_RCT_numbers_replaced_with_at_sign/dev.txt',\n",
       " '../../storage/nlp/pubmed-rct/PubMed_20k_RCT_numbers_replaced_with_at_sign/test.txt',\n",
       " '../../storage/nlp/pubmed-rct/PubMed_20k_RCT_numbers_replaced_with_at_sign/train.txt']"
      ]
     },
     "execution_count": 8,
     "metadata": {},
     "output_type": "execute_result"
    }
   ],
   "source": [
    "# check all of the filenames in the target directory\n",
    "filenames = [data_dir + filename for filename in os.listdir(data_dir)]\n",
    "filenames"
   ]
  },
  {
   "cell_type": "markdown",
   "metadata": {},
   "source": [
    "## Preprocess data\n",
    "\n",
    "Now we've got some text data, it's time to become one with it.\n",
    "\n",
    "And one of the best ways to become one with the data is to...\n",
    "\n",
    "> Visualize, Visualize, Visualize\n",
    "\n",
    "So with that in mind, let's write a function to read in all of the lines of a target text file\n"
   ]
  },
  {
   "cell_type": "code",
   "execution_count": 9,
   "metadata": {},
   "outputs": [],
   "source": [
    "# create a function to read the lines of a document\n",
    "def get_lines(filename):\n",
    "    \"\"\" \n",
    "    Reads filename (a txt filename) and returns the lines of a text as a list\n",
    "    Args:\n",
    "        filename:  a string  containing the target filepath\n",
    "    Returns:\n",
    "        A list of strings with one string per line from the target filename\n",
    "    \"\"\"\n",
    "    with open(filename, 'r') as file:\n",
    "        return file.readlines()"
   ]
  },
  {
   "cell_type": "code",
   "execution_count": 10,
   "metadata": {},
   "outputs": [
    {
     "data": {
      "text/plain": [
       "['###24293578\\n',\n",
       " 'OBJECTIVE\\tTo investigate the efficacy of @ weeks of daily low-dose oral prednisolone in improving pain , mobility , and systemic low-grade inflammation in the short term and whether the effect would be sustained at @ weeks in older adults with moderate to severe knee osteoarthritis ( OA ) .\\n',\n",
       " 'METHODS\\tA total of @ patients with primary knee OA were randomized @:@ ; @ received @ mg/day of prednisolone and @ received placebo for @ weeks .\\n',\n",
       " 'METHODS\\tOutcome measures included pain reduction and improvement in function scores and systemic inflammation markers .\\n',\n",
       " 'METHODS\\tPain was assessed using the visual analog pain scale ( @-@ mm ) .\\n',\n",
       " 'METHODS\\tSecondary outcome measures included the Western Ontario and McMaster Universities Osteoarthritis Index scores , patient global assessment ( PGA ) of the severity of knee OA , and @-min walk distance ( @MWD ) .\\n',\n",
       " 'METHODS\\tSerum levels of interleukin @ ( IL-@ ) , IL-@ , tumor necrosis factor ( TNF ) - , and high-sensitivity C-reactive protein ( hsCRP ) were measured .\\n',\n",
       " 'RESULTS\\tThere was a clinically relevant reduction in the intervention group compared to the placebo group for knee pain , physical function , PGA , and @MWD at @ weeks .\\n',\n",
       " 'RESULTS\\tThe mean difference between treatment arms ( @ % CI ) was @ ( @-@ @ ) , p < @ ; @ ( @-@ @ ) , p < @ ; @ ( @-@ @ ) , p < @ ; and @ ( @-@ @ ) , p < @ , respectively .\\n',\n",
       " 'RESULTS\\tFurther , there was a clinically relevant reduction in the serum levels of IL-@ , IL-@ , TNF - , and hsCRP at @ weeks in the intervention group when compared to the placebo group .\\n',\n",
       " 'RESULTS\\tThese differences remained significant at @ weeks .\\n',\n",
       " 'RESULTS\\tThe Outcome Measures in Rheumatology Clinical Trials-Osteoarthritis Research Society International responder rate was @ % in the intervention group and @ % in the placebo group ( p < @ ) .\\n',\n",
       " 'CONCLUSIONS\\tLow-dose oral prednisolone had both a short-term and a longer sustained effect resulting in less knee pain , better physical function , and attenuation of systemic inflammation in older patients with knee OA ( ClinicalTrials.gov identifier NCT@ ) .\\n',\n",
       " '\\n',\n",
       " '###24854809\\n']"
      ]
     },
     "execution_count": 10,
     "metadata": {},
     "output_type": "execute_result"
    }
   ],
   "source": [
    "# Let's read in the training lines\n",
    "\n",
    "train_lines = get_lines(data_dir + 'train.txt') # read the lines with the training file\n",
    "train_lines[:15]"
   ]
  },
  {
   "cell_type": "markdown",
   "metadata": {},
   "source": [
    "Let's think about how we want our data to look\n",
    "\n",
    "How I think our data would be best represented\n",
    "\n",
    "```json\n",
    "[   \n",
    "    {\n",
    "        \"line_number\":0,\n",
    "        \"target\": \"BACKGROUND\",\n",
    "        \"text\":\" 'Serum levels of interleukin @ ( IL-@ ) , IL-@  and high-sensitivity C-reactive protein ( hsCRP ) were measured .\\n'\",\n",
    "        \"total_lines\": 11\n",
    "    }\n",
    "]\n",
    "\n",
    "```\n",
    "\n",
    "Let's write a function which turns each of our dataset into the above format so we can continue to prepare"
   ]
  },
  {
   "cell_type": "code",
   "execution_count": 11,
   "metadata": {},
   "outputs": [],
   "source": [
    "def preprocess_text_with_line_numbers(filename):\n",
    "    \"\"\" \n",
    "    Args:\n",
    "        filename: (str) required\n",
    "    Returns:\n",
    "        A list of dictionaries of abstract line data.\n",
    "\n",
    "        Takes in filename, reads it contents and sorts through each line, extracting\n",
    "        things like the target label, the text of the sentence, how many sentences are\n",
    "        in the current abstract and what sentence number the target line is.\n",
    "    \"\"\"\n",
    "    input_lines = get_lines(filename) # get all lines from filename\n",
    "    abstract_lines = \"\" # create an empty abstract\n",
    "    abstract_sample = [] # create an empty list\n",
    "\n",
    "    # loop through each line in the target file\n",
    "    for line in input_lines:\n",
    "        if line.startswith('###'): # check if line start with ###\n",
    "            # get id from line\n",
    "            abstract_id = line\n",
    "\n",
    "            # reset the abstract string if the line is an ID line\n",
    "            abstract_lines = \"\" \n",
    "        elif line.isspace(): # check line is a new line\n",
    "            # split abstract into separate lines\n",
    "            abstract_line_split = abstract_lines.splitlines()\n",
    "\n",
    "            # iterate through each line in a single abstract and count them at the same time\n",
    "            for abstract_line_number, abstract_line in enumerate(abstract_line_split):\n",
    "                # create an empty dictionary for each line\n",
    "                line_data = {}\n",
    "                \n",
    "                # split target label from text\n",
    "                target_text_split = abstract_line.split('\\t')\n",
    "                \n",
    "                # get target label\n",
    "                line_data['target'] = target_text_split[0]\n",
    "                \n",
    "                # get target text and lower it\n",
    "                line_data['text'] = target_text_split[1].lower()\n",
    "                \n",
    "                # what number does the line appear in\n",
    "                line_data['number'] = abstract_line_number\n",
    "                \n",
    "                # how many total lines are there in the target abstract? (start from 0)\n",
    "                line_data['total_line'] = len(abstract_line_split) - 1\n",
    "                \n",
    "                # add line data to abstract sample list\n",
    "                abstract_sample.append(line_data)\n",
    "        else: # if the above conditions aren't fulfilled the line contains a labelled sentences \n",
    "            abstract_lines += line\n",
    "            \n",
    "    return abstract_sample\n",
    "    "
   ]
  },
  {
   "cell_type": "code",
   "execution_count": 12,
   "metadata": {},
   "outputs": [
    {
     "name": "stdout",
     "output_type": "stream",
     "text": [
      "180040 30212 30135\n"
     ]
    }
   ],
   "source": [
    "# get data from file and preprocess it\n",
    "\n",
    "train_samples = preprocess_text_with_line_numbers(data_dir + 'train.txt')\n",
    "val_samples = preprocess_text_with_line_numbers(data_dir + 'dev.txt') # dev is another name for validation data\n",
    "test_samples = preprocess_text_with_line_numbers(data_dir + 'test.txt')\n",
    "\n",
    "print(len(train_samples), len(val_samples), len(test_samples))"
   ]
  },
  {
   "cell_type": "code",
   "execution_count": 13,
   "metadata": {},
   "outputs": [
    {
     "data": {
      "text/plain": [
       "[{'target': 'OBJECTIVE',\n",
       "  'text': 'to investigate the efficacy of @ weeks of daily low-dose oral prednisolone in improving pain , mobility , and systemic low-grade inflammation in the short term and whether the effect would be sustained at @ weeks in older adults with moderate to severe knee osteoarthritis ( oa ) .',\n",
       "  'number': 0,\n",
       "  'total_line': 11},\n",
       " {'target': 'METHODS',\n",
       "  'text': 'a total of @ patients with primary knee oa were randomized @:@ ; @ received @ mg/day of prednisolone and @ received placebo for @ weeks .',\n",
       "  'number': 1,\n",
       "  'total_line': 11},\n",
       " {'target': 'METHODS',\n",
       "  'text': 'outcome measures included pain reduction and improvement in function scores and systemic inflammation markers .',\n",
       "  'number': 2,\n",
       "  'total_line': 11},\n",
       " {'target': 'METHODS',\n",
       "  'text': 'pain was assessed using the visual analog pain scale ( @-@ mm ) .',\n",
       "  'number': 3,\n",
       "  'total_line': 11},\n",
       " {'target': 'METHODS',\n",
       "  'text': 'secondary outcome measures included the western ontario and mcmaster universities osteoarthritis index scores , patient global assessment ( pga ) of the severity of knee oa , and @-min walk distance ( @mwd ) .',\n",
       "  'number': 4,\n",
       "  'total_line': 11}]"
      ]
     },
     "execution_count": 13,
     "metadata": {},
     "output_type": "execute_result"
    }
   ],
   "source": [
    "# check the first abstract of our training data\n",
    "train_samples[:5]"
   ]
  },
  {
   "cell_type": "markdown",
   "metadata": {},
   "source": [
    "Use pandas to visualize our train_samples"
   ]
  },
  {
   "cell_type": "code",
   "execution_count": 14,
   "metadata": {},
   "outputs": [],
   "source": [
    "train_df = pd.DataFrame(train_samples)\n",
    "val_df = pd.DataFrame(val_samples)\n",
    "test_df = pd.DataFrame(test_samples)"
   ]
  },
  {
   "cell_type": "code",
   "execution_count": 15,
   "metadata": {},
   "outputs": [
    {
     "data": {
      "text/html": [
       "<div>\n",
       "<style scoped>\n",
       "    .dataframe tbody tr th:only-of-type {\n",
       "        vertical-align: middle;\n",
       "    }\n",
       "\n",
       "    .dataframe tbody tr th {\n",
       "        vertical-align: top;\n",
       "    }\n",
       "\n",
       "    .dataframe thead th {\n",
       "        text-align: right;\n",
       "    }\n",
       "</style>\n",
       "<table border=\"1\" class=\"dataframe\">\n",
       "  <thead>\n",
       "    <tr style=\"text-align: right;\">\n",
       "      <th></th>\n",
       "      <th>target</th>\n",
       "      <th>text</th>\n",
       "      <th>number</th>\n",
       "      <th>total_line</th>\n",
       "    </tr>\n",
       "  </thead>\n",
       "  <tbody>\n",
       "    <tr>\n",
       "      <th>0</th>\n",
       "      <td>OBJECTIVE</td>\n",
       "      <td>to investigate the efficacy of @ weeks of dail...</td>\n",
       "      <td>0</td>\n",
       "      <td>11</td>\n",
       "    </tr>\n",
       "    <tr>\n",
       "      <th>1</th>\n",
       "      <td>METHODS</td>\n",
       "      <td>a total of @ patients with primary knee oa wer...</td>\n",
       "      <td>1</td>\n",
       "      <td>11</td>\n",
       "    </tr>\n",
       "    <tr>\n",
       "      <th>2</th>\n",
       "      <td>METHODS</td>\n",
       "      <td>outcome measures included pain reduction and i...</td>\n",
       "      <td>2</td>\n",
       "      <td>11</td>\n",
       "    </tr>\n",
       "    <tr>\n",
       "      <th>3</th>\n",
       "      <td>METHODS</td>\n",
       "      <td>pain was assessed using the visual analog pain...</td>\n",
       "      <td>3</td>\n",
       "      <td>11</td>\n",
       "    </tr>\n",
       "    <tr>\n",
       "      <th>4</th>\n",
       "      <td>METHODS</td>\n",
       "      <td>secondary outcome measures included the wester...</td>\n",
       "      <td>4</td>\n",
       "      <td>11</td>\n",
       "    </tr>\n",
       "  </tbody>\n",
       "</table>\n",
       "</div>"
      ],
      "text/plain": [
       "      target                                               text  number  \\\n",
       "0  OBJECTIVE  to investigate the efficacy of @ weeks of dail...       0   \n",
       "1    METHODS  a total of @ patients with primary knee oa wer...       1   \n",
       "2    METHODS  outcome measures included pain reduction and i...       2   \n",
       "3    METHODS  pain was assessed using the visual analog pain...       3   \n",
       "4    METHODS  secondary outcome measures included the wester...       4   \n",
       "\n",
       "   total_line  \n",
       "0          11  \n",
       "1          11  \n",
       "2          11  \n",
       "3          11  \n",
       "4          11  "
      ]
     },
     "execution_count": 15,
     "metadata": {},
     "output_type": "execute_result"
    }
   ],
   "source": [
    "train_df.head()"
   ]
  },
  {
   "cell_type": "code",
   "execution_count": 16,
   "metadata": {},
   "outputs": [
    {
     "data": {
      "text/plain": [
       "METHODS        59353\n",
       "RESULTS        57953\n",
       "CONCLUSIONS    27168\n",
       "BACKGROUND     21727\n",
       "OBJECTIVE      13839\n",
       "Name: target, dtype: int64"
      ]
     },
     "execution_count": 16,
     "metadata": {},
     "output_type": "execute_result"
    }
   ],
   "source": [
    "# how are distribution of labels in training data\n",
    "train_df['target'].value_counts()"
   ]
  },
  {
   "cell_type": "code",
   "execution_count": 17,
   "metadata": {},
   "outputs": [
    {
     "data": {
      "text/plain": [
       "<AxesSubplot:ylabel='Frequency'>"
      ]
     },
     "execution_count": 17,
     "metadata": {},
     "output_type": "execute_result"
    },
    {
     "data": {
      "image/png": "[encoded data removed]",
      "text/plain": [
       "<Figure size 640x480 with 1 Axes>"
      ]
     },
     "metadata": {},
     "output_type": "display_data"
    }
   ],
   "source": [
    "# let's check the length of different lines\n",
    "train_df['total_line'].plot.hist()"
   ]
  },
  {
   "cell_type": "code",
   "execution_count": 18,
   "metadata": {},
   "outputs": [
    {
     "data": {
      "text/plain": [
       "(180040, 30212, 30135)"
      ]
     },
     "execution_count": 18,
     "metadata": {},
     "output_type": "execute_result"
    }
   ],
   "source": [
    "# convert abstract text line to list\n",
    "train_sentences = train_df['text'].tolist()\n",
    "val_sentences = val_df['text'].tolist()\n",
    "test_sentences = test_df['text'].tolist()\n",
    "\n",
    "len(train_sentences), len(val_sentences), len(test_sentences)"
   ]
  },
  {
   "cell_type": "code",
   "execution_count": 19,
   "metadata": {},
   "outputs": [
    {
     "data": {
      "text/plain": [
       "['to investigate the efficacy of @ weeks of daily low-dose oral prednisolone in improving pain , mobility , and systemic low-grade inflammation in the short term and whether the effect would be sustained at @ weeks in older adults with moderate to severe knee osteoarthritis ( oa ) .',\n",
       " 'a total of @ patients with primary knee oa were randomized @:@ ; @ received @ mg/day of prednisolone and @ received placebo for @ weeks .',\n",
       " 'outcome measures included pain reduction and improvement in function scores and systemic inflammation markers .',\n",
       " 'pain was assessed using the visual analog pain scale ( @-@ mm ) .',\n",
       " 'secondary outcome measures included the western ontario and mcmaster universities osteoarthritis index scores , patient global assessment ( pga ) of the severity of knee oa , and @-min walk distance ( @mwd ) .']"
      ]
     },
     "execution_count": 19,
     "metadata": {},
     "output_type": "execute_result"
    }
   ],
   "source": [
    "train_sentences[:5]"
   ]
  },
  {
   "cell_type": "markdown",
   "metadata": {},
   "source": [
    "## Make numeric label (ML models require numeric label)\n",
    "\n",
    "see: https://scikit-learn.org/stable/modules/generated/sklearn.preprocessing.OneHotEncoder.html\n",
    "\n",
    "see: https://en.wikipedia.org/wiki/Sparse_matrix\n",
    "\n",
    "**WARNING**: Tensorflow is uncompatible with matrix sparse so use hyperameter false in OneHotEncoder of sklearn preprocessing"
   ]
  },
  {
   "cell_type": "code",
   "execution_count": 20,
   "metadata": {},
   "outputs": [
    {
     "data": {
      "text/plain": [
       "array([[0., 0., 0., 1., 0.],\n",
       "       [0., 0., 1., 0., 0.],\n",
       "       [0., 0., 1., 0., 0.],\n",
       "       ...,\n",
       "       [0., 0., 0., 0., 1.],\n",
       "       [0., 1., 0., 0., 0.],\n",
       "       [0., 1., 0., 0., 0.]])"
      ]
     },
     "execution_count": 20,
     "metadata": {},
     "output_type": "execute_result"
    }
   ],
   "source": [
    "# one hot encoder\n",
    "one_hot_encoder = skl.preprocessing.OneHotEncoder(sparse=False) # we want non-sparse matrix\n",
    "train_labels_one_hot = one_hot_encoder.fit_transform(train_df['target'].to_numpy().reshape(-1, 1))\n",
    "val_labels_one_hot = one_hot_encoder.transform(val_df['target'].to_numpy().reshape(-1, 1))\n",
    "test_labels_one_hot = one_hot_encoder.transform(test_df['target'].to_numpy().reshape(-1, 1))\n",
    "\n",
    "# check what trainining one hot encoder look like\n",
    "train_labels_one_hot"
   ]
  },
  {
   "cell_type": "markdown",
   "metadata": {},
   "source": [
    "### Label Encoder"
   ]
  },
  {
   "cell_type": "code",
   "execution_count": 21,
   "metadata": {},
   "outputs": [
    {
     "data": {
      "text/plain": [
       "array([3, 2, 2, ..., 4, 1, 1])"
      ]
     },
     "execution_count": 21,
     "metadata": {},
     "output_type": "execute_result"
    }
   ],
   "source": [
    "# Extract labels ('target' column) and encode them into integers\n",
    "label_encoder = skl.preprocessing.LabelEncoder()\n",
    "train_labels_label_encoded = label_encoder.fit_transform(train_df['target'].to_numpy())\n",
    "val_labels_label_encoded = label_encoder.transform(val_df['target'].to_numpy())\n",
    "test_labels_label_encoded = label_encoder.transform(test_df['target'].to_numpy())\n",
    "\n",
    "# check what training label look like\n",
    "train_labels_label_encoded"
   ]
  },
  {
   "cell_type": "code",
   "execution_count": 22,
   "metadata": {},
   "outputs": [
    {
     "data": {
      "text/plain": [
       "(5,\n",
       " array(['BACKGROUND', 'CONCLUSIONS', 'METHODS', 'OBJECTIVE', 'RESULTS'],\n",
       "       dtype=object))"
      ]
     },
     "execution_count": 22,
     "metadata": {},
     "output_type": "execute_result"
    }
   ],
   "source": [
    "# get class name and number of classes from LabelEncoder intances\n",
    "num_classes = len(label_encoder.classes_)\n",
    "class_names =  label_encoder.classes_\n",
    "\n",
    "num_classes, class_names"
   ]
  },
  {
   "cell_type": "markdown",
   "metadata": {},
   "source": [
    "## Model 0: Baseline"
   ]
  },
  {
   "cell_type": "code",
   "execution_count": 23,
   "metadata": {},
   "outputs": [],
   "source": [
    "# create model 0 baseline\n",
    "model_0 = Pipeline([ \n",
    "    ('tf-idf', TfidfVectorizer()),  # convert words to number using tf-idf\n",
    "    ('clf', MultinomialNB()) # model text\n",
    "])\n",
    "\n",
    "model_0_history = model_0.fit(train_sentences, train_labels_label_encoded)"
   ]
  },
  {
   "cell_type": "code",
   "execution_count": 24,
   "metadata": {},
   "outputs": [
    {
     "data": {
      "text/plain": [
       "0.7218323844829869"
      ]
     },
     "execution_count": 24,
     "metadata": {},
     "output_type": "execute_result"
    }
   ],
   "source": [
    "model_0.score(val_sentences, val_labels_label_encoded)"
   ]
  },
  {
   "cell_type": "code",
   "execution_count": 25,
   "metadata": {},
   "outputs": [
    {
     "data": {
      "text/plain": [
       "array([4, 1, 3, ..., 4, 4, 1])"
      ]
     },
     "execution_count": 25,
     "metadata": {},
     "output_type": "execute_result"
    }
   ],
   "source": [
    "# make some predictions using our baseline\n",
    "model_0_preds = model_0.predict(val_sentences)\n",
    "model_0_preds"
   ]
  },
  {
   "cell_type": "code",
   "execution_count": 26,
   "metadata": {},
   "outputs": [
    {
     "data": {
      "text/html": [
       "<div>\n",
       "<style scoped>\n",
       "    .dataframe tbody tr th:only-of-type {\n",
       "        vertical-align: middle;\n",
       "    }\n",
       "\n",
       "    .dataframe tbody tr th {\n",
       "        vertical-align: top;\n",
       "    }\n",
       "\n",
       "    .dataframe thead th {\n",
       "        text-align: right;\n",
       "    }\n",
       "</style>\n",
       "<table border=\"1\" class=\"dataframe\">\n",
       "  <thead>\n",
       "    <tr style=\"text-align: right;\">\n",
       "      <th></th>\n",
       "      <th>accuracy</th>\n",
       "      <th>f1</th>\n",
       "      <th>precision</th>\n",
       "      <th>recall</th>\n",
       "    </tr>\n",
       "  </thead>\n",
       "  <tbody>\n",
       "    <tr>\n",
       "      <th>model_0_results</th>\n",
       "      <td>0.721832</td>\n",
       "      <td>0.698925</td>\n",
       "      <td>0.718647</td>\n",
       "      <td>0.721832</td>\n",
       "    </tr>\n",
       "  </tbody>\n",
       "</table>\n",
       "</div>"
      ],
      "text/plain": [
       "                 accuracy        f1  precision    recall\n",
       "model_0_results  0.721832  0.698925   0.718647  0.721832"
      ]
     },
     "execution_count": 26,
     "metadata": {},
     "output_type": "execute_result"
    }
   ],
   "source": [
    "model_0_results = calculate_results(y_true=val_labels_label_encoded, y_pred=model_0_preds)\n",
    "model_results = pd.DataFrame({'model_0_results': model_0_results})\n",
    "model_results.transpose()"
   ]
  },
  {
   "cell_type": "markdown",
   "metadata": {},
   "source": [
    "## Preparing our data (the text) for deep sequence models\n",
    "\n",
    "Before we start building deeper models, we've got to create vectorization and embedding layers"
   ]
  },
  {
   "cell_type": "code",
   "execution_count": 27,
   "metadata": {},
   "outputs": [
    {
     "data": {
      "text/plain": [
       "180040"
      ]
     },
     "execution_count": 27,
     "metadata": {},
     "output_type": "execute_result"
    }
   ],
   "source": [
    "# how many words there are in our train_sentences: https://arxiv.org/pdf/1710.06071.pdf\n",
    "sent_lens = [len(sentence.split()) for sentence in train_sentences]\n",
    "len(sent_lens)"
   ]
  },
  {
   "cell_type": "code",
   "execution_count": 28,
   "metadata": {},
   "outputs": [
    {
     "data": {
      "text/plain": [
       "26.338269273494777"
      ]
     },
     "execution_count": 28,
     "metadata": {},
     "output_type": "execute_result"
    }
   ],
   "source": [
    "# how long is each sentence on average?\n",
    "np.mean(sent_lens)"
   ]
  },
  {
   "cell_type": "code",
   "execution_count": 29,
   "metadata": {},
   "outputs": [
    {
     "data": {
      "text/plain": [
       "26.338269273494777"
      ]
     },
     "execution_count": 29,
     "metadata": {},
     "output_type": "execute_result"
    }
   ],
   "source": [
    "# how long is each sentence on average?\n",
    "sum(sent_lens)/len(train_sentences)"
   ]
  },
  {
   "cell_type": "code",
   "execution_count": 30,
   "metadata": {},
   "outputs": [
    {
     "data": {
      "image/png": "[encoded data removed]",
      "text/plain": [
       "<Figure size 640x480 with 1 Axes>"
      ]
     },
     "metadata": {},
     "output_type": "display_data"
    }
   ],
   "source": [
    "# What's the distribuition look like?\n",
    "ax = plt.hist(sent_lens, bins=20)"
   ]
  },
  {
   "cell_type": "code",
   "execution_count": 31,
   "metadata": {},
   "outputs": [
    {
     "data": {
      "text/plain": [
       "55"
      ]
     },
     "execution_count": 31,
     "metadata": {},
     "output_type": "execute_result"
    }
   ],
   "source": [
    "# How long of a sentence length covers 95% of examples?\n",
    "output_seq_len = int(np.percentile(sent_lens, 95))\n",
    "output_seq_len"
   ]
  },
  {
   "cell_type": "code",
   "execution_count": 32,
   "metadata": {},
   "outputs": [
    {
     "data": {
      "text/plain": [
       "296"
      ]
     },
     "execution_count": 32,
     "metadata": {},
     "output_type": "execute_result"
    }
   ],
   "source": [
    "# Maximum sequence length in the training set\n",
    "max(sent_lens)"
   ]
  },
  {
   "cell_type": "code",
   "execution_count": 33,
   "metadata": {},
   "outputs": [],
   "source": [
    "max_tokens = 68000\n",
    "\n",
    "# create text vectorizer\n",
    "text_vectorizer = tf.keras.layers.experimental.preprocessing.TextVectorization(max_tokens=max_tokens, # number of words in vocab\n",
    "                                                                               output_sequence_length=output_seq_len,\n",
    "                                                                               )"
   ]
  },
  {
   "cell_type": "code",
   "execution_count": 34,
   "metadata": {},
   "outputs": [],
   "source": [
    "# adapt text vecotorizer to training sentences\n",
    "text_vectorizer.adapt(train_sentences)"
   ]
  },
  {
   "cell_type": "code",
   "execution_count": 35,
   "metadata": {},
   "outputs": [
    {
     "name": "stdout",
     "output_type": "stream",
     "text": [
      "Text:\n",
      "a total of @ children ( aged @-@ years ) were randomized by school classes into a monitoring vs no-monitoring group .\n",
      "\n",
      "Length of text: 22\n",
      "\n",
      "Vectorizer text: [[    8    76     4   109   307    64     9    29    22   846  2475   143\n",
      "      8   607    44 29822    13     0     0     0     0     0     0     0\n",
      "      0     0     0     0     0     0     0     0     0     0     0     0\n",
      "      0     0     0     0     0     0     0     0     0     0     0     0\n",
      "      0     0     0     0     0     0     0]]\n",
      "\n",
      "Length Vectorizer: 55\n"
     ]
    }
   ],
   "source": [
    "target_sentence = random.choice(train_sentences)\n",
    "print(f'Text:\\n{target_sentence}')\n",
    "print(f'\\nLength of text: {len(target_sentence.split())}')\n",
    "print(f'\\nVectorizer text: {text_vectorizer([target_sentence])}')\n",
    "print(f'\\nLength Vectorizer: {len(text_vectorizer([target_sentence])[0])}')"
   ]
  },
  {
   "cell_type": "code",
   "execution_count": 36,
   "metadata": {},
   "outputs": [
    {
     "name": "stdout",
     "output_type": "stream",
     "text": [
      "Number of words in vocab: 64841\n",
      "The most common words: ['', '[UNK]', 'the', 'and', 'of']\n",
      "The least common words: ['aainduced', 'aaigroup', 'aachener', 'aachen', 'aaacp']\n"
     ]
    }
   ],
   "source": [
    "# how many words in our training vocabulary\n",
    "rct_20k_text_vocab = text_vectorizer.get_vocabulary()\n",
    "\n",
    "print(f'Number of words in vocab: {len(rct_20k_text_vocab)}')\n",
    "print(f'The most common words: {rct_20k_text_vocab[:5]}')\n",
    "print(f'The least common words: {rct_20k_text_vocab[-5:]}')"
   ]
  },
  {
   "cell_type": "code",
   "execution_count": 37,
   "metadata": {},
   "outputs": [
    {
     "data": {
      "text/plain": [
       "{'name': 'text_vectorization',\n",
       " 'trainable': True,\n",
       " 'batch_input_shape': (None,),\n",
       " 'dtype': 'string',\n",
       " 'max_tokens': 68000,\n",
       " 'standardize': 'lower_and_strip_punctuation',\n",
       " 'split': 'whitespace',\n",
       " 'ngrams': None,\n",
       " 'output_mode': 'int',\n",
       " 'output_sequence_length': 55,\n",
       " 'pad_to_max_tokens': False,\n",
       " 'sparse': False,\n",
       " 'ragged': False,\n",
       " 'vocabulary': None,\n",
       " 'idf_weights': None}"
      ]
     },
     "execution_count": 37,
     "metadata": {},
     "output_type": "execute_result"
    }
   ],
   "source": [
    "# get the config of text_vectorizer\n",
    "text_vectorizer.get_config()"
   ]
  },
  {
   "cell_type": "code",
   "execution_count": 38,
   "metadata": {},
   "outputs": [],
   "source": [
    "# create token embedding layer\n",
    "token_embed = tf.keras.layers.Embedding(input_dim=len(rct_20k_text_vocab), # length of vocabulary\n",
    "                                        output_dim=128, # NOTE: different embedding sizes result in \n",
    "                                        mask_zero=False, # use masking to handle variable sequence length\n",
    "                                        name='token_embedding'\n",
    "                                        )"
   ]
  },
  {
   "cell_type": "code",
   "execution_count": 39,
   "metadata": {},
   "outputs": [
    {
     "name": "stdout",
     "output_type": "stream",
     "text": [
      "Sentence before vectorization:\n",
      " a total of @ children ( aged @-@ years ) were randomized by school classes into a monitoring vs no-monitoring group .\n",
      "\n",
      "Sentence after vectorization (before embedding):\n",
      "[[    8    76     4   109   307    64     9    29    22   846  2475   143\n",
      "      8   607    44 29822    13     0     0     0     0     0     0     0\n",
      "      0     0     0     0     0     0     0     0     0     0     0     0\n",
      "      0     0     0     0     0     0     0     0     0     0     0     0\n",
      "      0     0     0     0     0     0     0]]\n",
      "\n",
      "Sentence after embedding:\n",
      "[[[-0.04731191  0.01687222  0.00011636 ... -0.01576472 -0.01419325\n",
      "   -0.03374523]\n",
      "  [ 0.04471033  0.00787769 -0.03810167 ... -0.02677356  0.00886334\n",
      "    0.00834662]\n",
      "  [-0.00295116  0.01351228 -0.03054488 ...  0.04002272 -0.00724564\n",
      "    0.01006081]\n",
      "  ...\n",
      "  [ 0.04661373  0.01173985  0.00409436 ... -0.02789465  0.02204971\n",
      "   -0.02520366]\n",
      "  [ 0.04661373  0.01173985  0.00409436 ... -0.02789465  0.02204971\n",
      "   -0.02520366]\n",
      "  [ 0.04661373  0.01173985  0.00409436 ... -0.02789465  0.02204971\n",
      "   -0.02520366]]]\n",
      "\n",
      "Sentence after embedding shape:\n",
      "(1, 55, 128)\n"
     ]
    }
   ],
   "source": [
    "print(f'Sentence before vectorization:\\n {target_sentence}\\n')\n",
    "vectorized_sentence = text_vectorizer([target_sentence])\n",
    "print(f'Sentence after vectorization (before embedding):\\n{vectorized_sentence}\\n')\n",
    "embedded_sentence = token_embed(vectorized_sentence)\n",
    "print(f'Sentence after embedding:\\n{embedded_sentence}\\n')\n",
    "print(f'Sentence after embedding shape:\\n{embedded_sentence.shape}')"
   ]
  },
  {
   "cell_type": "code",
   "execution_count": 40,
   "metadata": {},
   "outputs": [
    {
     "data": {
      "text/plain": [
       "<TensorSliceDataset element_spec=(TensorSpec(shape=(), dtype=tf.string, name=None), TensorSpec(shape=(5,), dtype=tf.float64, name=None))>"
      ]
     },
     "execution_count": 40,
     "metadata": {},
     "output_type": "execute_result"
    }
   ],
   "source": [
    "# Turn our data into Tensorflow Dataset\n",
    "train_dataset = tf.data.Dataset.from_tensor_slices((train_sentences, train_labels_one_hot))\n",
    "val_dataset = tf.data.Dataset.from_tensor_slices((val_sentences, val_labels_one_hot))\n",
    "test_dataset = tf.data.Dataset.from_tensor_slices((test_sentences, test_labels_one_hot))\n",
    "\n",
    "train_dataset"
   ]
  },
  {
   "cell_type": "code",
   "execution_count": 41,
   "metadata": {},
   "outputs": [
    {
     "data": {
      "text/plain": [
       "<PrefetchDataset element_spec=(TensorSpec(shape=(None,), dtype=tf.string, name=None), TensorSpec(shape=(None, 5), dtype=tf.float64, name=None))>"
      ]
     },
     "execution_count": 41,
     "metadata": {},
     "output_type": "execute_result"
    }
   ],
   "source": [
    "# Take the TensorSliceDataset's and turn them into prefected dataset\n",
    "train_dataset = train_dataset.batch(32).prefetch(tf.data.AUTOTUNE)\n",
    "val_dataset = val_dataset.batch(32).prefetch(tf.data.AUTOTUNE)\n",
    "test_dataset = test_dataset.batch(32).prefetch(tf.data.AUTOTUNE),\n",
    "\n",
    "train_dataset"
   ]
  },
  {
   "cell_type": "markdown",
   "metadata": {},
   "source": [
    "## Model 1: Conv1D with token embedding"
   ]
  },
  {
   "cell_type": "code",
   "execution_count": 42,
   "metadata": {},
   "outputs": [
    {
     "name": "stdout",
     "output_type": "stream",
     "text": [
      "Model: \"model_1_conv1d_token_embedding\"\n",
      "_________________________________________________________________\n",
      " Layer (type)                Output Shape              Param #   \n",
      "=================================================================\n",
      " input_1 (InputLayer)        [(None, 1)]               0         \n",
      "                                                                 \n",
      " text_vectorization (TextVec  (None, 55)               0         \n",
      " torization)                                                     \n",
      "                                                                 \n",
      " token_embedding (Embedding)  (None, 55, 128)          8299648   \n",
      "                                                                 \n",
      " conv1d (Conv1D)             (None, 55, 64)            41024     \n",
      "                                                                 \n",
      " global_average_pooling1d (G  (None, 64)               0         \n",
      " lobalAveragePooling1D)                                          \n",
      "                                                                 \n",
      " dense (Dense)               (None, 5)                 325       \n",
      "                                                                 \n",
      "=================================================================\n",
      "Total params: 8,340,997\n",
      "Trainable params: 8,340,997\n",
      "Non-trainable params: 0\n",
      "_________________________________________________________________\n"
     ]
    }
   ],
   "source": [
    "# create Conv 1D model to process sequences\n",
    "inputs = tf.keras.layers.Input(shape=(1,), dtype=tf.string)\n",
    "x = text_vectorizer(inputs) # vectorize text input\n",
    "x = token_embed(x) # create embedding\n",
    "x = tf.keras.layers.Conv1D(filters=64, \n",
    "                           kernel_size=5, \n",
    "                           padding='same', \n",
    "                           activation='relu')(x)\n",
    "x = tf.keras.layers.GlobalAveragePooling1D()(x) # condense the output of our feature vector from conv layer\n",
    "outputs = tf.keras.layers.Dense(num_classes, \n",
    "                                activation='softmax')(x) # we have more than two class\n",
    "model_1 = tf.keras.Model(inputs, \n",
    "                         outputs,\n",
    "                         name='model_1_conv1d_token_embedding')\n",
    "\n",
    "# compile mode 1\n",
    "model_1.compile(loss=tf.keras.losses.CategoricalCrossentropy(), \n",
    "                optimizer=tf.keras.optimizers.Adam(),\n",
    "                metrics=['accuracy'])\n",
    "# show summary\n",
    "model_1.summary()"
   ]
  },
  {
   "cell_type": "code",
   "execution_count": 43,
   "metadata": {},
   "outputs": [
    {
     "name": "stdout",
     "output_type": "stream",
     "text": [
      "Epoch 1/3\n",
      "562/562 [==============================] - 14s 10ms/step - loss: 0.9156 - accuracy: 0.6347 - val_loss: 0.6883 - val_accuracy: 0.7374\n",
      "Epoch 2/3\n",
      "562/562 [==============================] - 6s 10ms/step - loss: 0.6605 - accuracy: 0.7543 - val_loss: 0.6346 - val_accuracy: 0.7676\n",
      "Epoch 3/3\n",
      "562/562 [==============================] - 5s 10ms/step - loss: 0.6199 - accuracy: 0.7738 - val_loss: 0.5973 - val_accuracy: 0.7872\n"
     ]
    }
   ],
   "source": [
    "# fit the model with 10% of train_dataset\n",
    "model_1_history = model_1.fit(train_dataset,\n",
    "                              steps_per_epoch=int(0.1 * len(train_dataset)), # use only 10%\n",
    "                              epochs=3,\n",
    "                              validation_data=val_dataset,\n",
    "                              validation_steps=int(0.1 * len(val_dataset)) # only validate on 10% of batches\n",
    "                              )"
   ]
  },
  {
   "cell_type": "code",
   "execution_count": 44,
   "metadata": {},
   "outputs": [
    {
     "name": "stdout",
     "output_type": "stream",
     "text": [
      "945/945 [==============================] - 3s 3ms/step - loss: 0.5995 - accuracy: 0.7861\n"
     ]
    },
    {
     "data": {
      "text/plain": [
       "[0.599485456943512, 0.7860783934593201]"
      ]
     },
     "execution_count": 44,
     "metadata": {},
     "output_type": "execute_result"
    }
   ],
   "source": [
    "# evaluate the model\n",
    "model_1.evaluate(val_dataset)"
   ]
  },
  {
   "cell_type": "code",
   "execution_count": 45,
   "metadata": {},
   "outputs": [
    {
     "name": "stdout",
     "output_type": "stream",
     "text": [
      "945/945 [==============================] - 2s 2ms/step\n"
     ]
    },
    {
     "data": {
      "text/plain": [
       "array([[4.2705047e-01, 1.8563825e-01, 8.4922038e-02, 2.7497214e-01,\n",
       "        2.7417131e-02],\n",
       "       [4.4584513e-01, 2.9473534e-01, 1.3887726e-02, 2.3644967e-01,\n",
       "        9.0822279e-03],\n",
       "       [1.3557127e-01, 6.4952979e-03, 1.9455823e-03, 8.5593873e-01,\n",
       "        4.9037430e-05],\n",
       "       ...,\n",
       "       [2.4784163e-06, 7.2982803e-04, 6.0917629e-04, 1.8711119e-06,\n",
       "        9.9865663e-01],\n",
       "       [5.3473156e-02, 4.7392499e-01, 9.8630227e-02, 6.0885809e-02,\n",
       "        3.1308582e-01],\n",
       "       [1.9815038e-01, 6.1452579e-01, 4.3434050e-02, 5.6502126e-02,\n",
       "        8.7387584e-02]], dtype=float32)"
      ]
     },
     "execution_count": 45,
     "metadata": {},
     "output_type": "execute_result"
    }
   ],
   "source": [
    "# make some predictions (out model predictions probabilities for each class)\n",
    "model_1_pred_prob = model_1.predict(val_dataset)\n",
    "model_1_pred_prob"
   ]
  },
  {
   "cell_type": "code",
   "execution_count": 46,
   "metadata": {},
   "outputs": [
    {
     "data": {
      "text/plain": [
       "<tf.Tensor: shape=(30212,), dtype=int64, numpy=array([0, 0, 3, ..., 4, 1, 1], dtype=int64)>"
      ]
     },
     "execution_count": 46,
     "metadata": {},
     "output_type": "execute_result"
    }
   ],
   "source": [
    "# convert to pred prob to classes\n",
    "model_1_preds = tf.argmax(model_1_pred_prob, axis=1)\n",
    "model_1_preds"
   ]
  },
  {
   "cell_type": "code",
   "execution_count": 47,
   "metadata": {},
   "outputs": [
    {
     "data": {
      "text/html": [
       "<div>\n",
       "<style scoped>\n",
       "    .dataframe tbody tr th:only-of-type {\n",
       "        vertical-align: middle;\n",
       "    }\n",
       "\n",
       "    .dataframe tbody tr th {\n",
       "        vertical-align: top;\n",
       "    }\n",
       "\n",
       "    .dataframe thead th {\n",
       "        text-align: right;\n",
       "    }\n",
       "</style>\n",
       "<table border=\"1\" class=\"dataframe\">\n",
       "  <thead>\n",
       "    <tr style=\"text-align: right;\">\n",
       "      <th></th>\n",
       "      <th>accuracy</th>\n",
       "      <th>precision</th>\n",
       "      <th>recall</th>\n",
       "      <th>f1</th>\n",
       "    </tr>\n",
       "  </thead>\n",
       "  <tbody>\n",
       "    <tr>\n",
       "      <th>model_0_results</th>\n",
       "      <td>0.721832</td>\n",
       "      <td>0.718647</td>\n",
       "      <td>0.721832</td>\n",
       "      <td>0.698925</td>\n",
       "    </tr>\n",
       "    <tr>\n",
       "      <th>model_1_results</th>\n",
       "      <td>0.786078</td>\n",
       "      <td>0.782613</td>\n",
       "      <td>0.786078</td>\n",
       "      <td>0.783555</td>\n",
       "    </tr>\n",
       "  </tbody>\n",
       "</table>\n",
       "</div>"
      ],
      "text/plain": [
       "                 accuracy  precision    recall        f1\n",
       "model_0_results  0.721832   0.718647  0.721832  0.698925\n",
       "model_1_results  0.786078   0.782613  0.786078  0.783555"
      ]
     },
     "execution_count": 47,
     "metadata": {},
     "output_type": "execute_result"
    }
   ],
   "source": [
    "model_1_results = calculate_results(y_true=val_labels_label_encoded, y_pred=model_1_preds)\n",
    "\n",
    "model_results = pd.DataFrame({'model_0_results': model_0_results,\n",
    "                              'model_1_results': model_1_results})\n",
    "model_results.transpose()"
   ]
  },
  {
   "cell_type": "markdown",
   "metadata": {},
   "source": [
    "## Model 2: Feature Extraction with Pretrained Model\n",
    "\n",
    "see: https://keras.io/examples/nlp/pretrained_word_embeddings/\n",
    "\n",
    "see: http://nilc.icmc.usp.br/nilc/index.php/repositorio-de-word-embeddings-do-nilc\n",
    "\n",
    "see: https://www.kaggle.com/code/chewzy/tutorial-how-to-train-your-custom-word-embedding"
   ]
  },
  {
   "cell_type": "code",
   "execution_count": 48,
   "metadata": {},
   "outputs": [],
   "source": [
    "# model_use = tf.keras.models.load_model(f'{MODEL_PATH}/tfhub_universal_sentence_encoder')\n",
    "\n",
    "tfhub_url = 'https://www.kaggle.com/models/google/universal-sentence-encoder/TensorFlow2/universal-sentence-encoder/2'\n",
    "\n",
    "# create a Keras Layer using the pretrained layer from tensorflow hub\n",
    "sentence_encoder_layer = hub.KerasLayer(tfhub_url, \n",
    "                                        input_shape=[], \n",
    "                                        dtype=tf.string,\n",
    "                                        trainable=False, \n",
    "                                        name='USE')"
   ]
  },
  {
   "cell_type": "code",
   "execution_count": 49,
   "metadata": {},
   "outputs": [
    {
     "name": "stdout",
     "output_type": "stream",
     "text": [
      "Random sentences:\n",
      "over the @-month period , no statistically significant associations between changes in the cfq subscale scores and changes in child bmi percentile were identified .\n"
     ]
    }
   ],
   "source": [
    "# Test out the pretrained embedding on a random sentences\n",
    "random_train_sentence = random.choice(train_sentences)\n",
    "print(f'Random sentences:\\n{random_train_sentence}')\n",
    "use_embedding_sentence = sentence_encoder_layer([random_train_sentence])"
   ]
  },
  {
   "cell_type": "code",
   "execution_count": 50,
   "metadata": {},
   "outputs": [
    {
     "data": {
      "text/plain": [
       "<tf.Tensor: shape=(1, 512), dtype=float32, numpy=\n",
       "array([[-4.94096801e-02,  7.72148371e-02, -5.11406176e-02,\n",
       "         2.58385390e-02, -5.07891141e-02, -1.35742165e-02,\n",
       "        -4.01241034e-02,  3.12288268e-03,  1.35373464e-03,\n",
       "         8.20486471e-02,  6.88035265e-02, -3.17996033e-02,\n",
       "        -3.14729055e-03,  5.28822429e-02, -3.67323086e-02,\n",
       "        -9.14945360e-03, -8.57649073e-02,  1.08646648e-02,\n",
       "         2.59892214e-02, -2.55062152e-03, -2.26722080e-02,\n",
       "         6.59973919e-02, -1.89125407e-02,  2.80961953e-03,\n",
       "         1.63896810e-02,  3.94039936e-02,  1.29706059e-02,\n",
       "         7.39498287e-02, -2.48467103e-02, -5.05347289e-02,\n",
       "        -3.18851136e-02,  3.28513421e-02,  4.64073680e-02,\n",
       "        -1.86683964e-02, -6.40047267e-02, -1.94110051e-02,\n",
       "        -8.70724022e-02, -4.09874059e-02, -3.68115306e-02,\n",
       "         4.75370400e-02, -4.55615707e-02,  6.61521330e-02,\n",
       "        -6.32053092e-02, -6.22480689e-03,  4.12250422e-02,\n",
       "        -3.78302578e-03,  6.58289436e-03, -6.77959472e-02,\n",
       "         7.93432370e-02, -6.84147477e-02,  1.06276339e-02,\n",
       "        -8.21282864e-02, -5.26222773e-02, -1.40030487e-02,\n",
       "         5.03510348e-02, -4.56517190e-02, -5.85646145e-02,\n",
       "         5.00332043e-02,  3.89179699e-02, -1.09118894e-02,\n",
       "        -3.35304886e-02, -2.10572015e-02,  2.25059316e-03,\n",
       "        -3.41320829e-03,  1.76495388e-02, -4.18051556e-02,\n",
       "         1.73350889e-02,  1.54287778e-02,  5.14135920e-02,\n",
       "        -2.51148287e-02, -5.59072010e-02, -6.62742034e-02,\n",
       "         1.01412153e-02,  8.44380334e-02, -1.08186351e-02,\n",
       "         8.08066875e-02,  1.28247337e-02,  1.59579609e-02,\n",
       "         7.45474026e-02, -7.09959418e-02,  5.55815510e-02,\n",
       "         4.85046096e-02,  2.40025241e-02,  6.19206093e-02,\n",
       "         1.60041603e-03,  2.05258951e-02,  2.87548341e-02,\n",
       "        -1.57107098e-03, -1.03910938e-02, -7.98119754e-02,\n",
       "        -1.25681274e-02, -1.08335167e-02, -5.57498354e-03,\n",
       "         5.83099425e-02,  1.84896607e-02, -3.65428887e-02,\n",
       "        -2.22083759e-02,  3.18193361e-02,  8.83393176e-03,\n",
       "         4.18715030e-02, -6.14925511e-02, -2.89154984e-02,\n",
       "        -6.39102608e-02, -2.04293113e-02, -1.09829633e-02,\n",
       "        -5.44285811e-02, -2.33698799e-03,  4.18384261e-02,\n",
       "        -1.75632946e-02, -2.30657198e-02,  7.97210261e-02,\n",
       "         2.32864767e-02,  1.61109548e-02, -5.97107485e-02,\n",
       "         8.18568692e-02, -2.13942816e-03,  1.05389440e-02,\n",
       "         2.46850681e-02, -1.09035885e-02, -6.92879185e-02,\n",
       "         3.56081091e-02, -6.77467585e-02,  5.10542765e-02,\n",
       "         4.65777665e-02,  4.81528742e-03,  2.03255881e-02,\n",
       "        -5.75392470e-02,  8.72106198e-03,  7.75963068e-02,\n",
       "        -1.44242775e-02,  2.88195605e-03,  5.31287156e-02,\n",
       "        -2.38006618e-02,  5.28533161e-02, -6.01087185e-03,\n",
       "        -9.90180764e-03,  2.43801307e-02,  4.95975874e-02,\n",
       "         2.13849116e-02,  2.74494514e-02,  2.89631914e-02,\n",
       "         3.47204395e-02, -2.89152060e-02, -7.60303289e-02,\n",
       "         4.13242020e-02,  7.65224993e-02,  3.69865485e-02,\n",
       "         3.56309004e-02,  1.91409308e-02, -4.82775504e-03,\n",
       "         6.71043321e-02,  7.23453835e-02, -4.79719602e-02,\n",
       "        -2.33041290e-02,  6.42030686e-03,  6.68626428e-02,\n",
       "        -3.00845527e-03,  2.63141561e-02,  1.20017026e-02,\n",
       "         5.89193776e-03, -8.12090933e-02, -2.79280283e-02,\n",
       "        -2.31103064e-03,  2.25271918e-02, -8.73978715e-04,\n",
       "        -7.31872469e-02, -7.59865269e-02,  2.22098082e-02,\n",
       "         4.41324785e-02, -4.04367000e-02,  2.90122461e-02,\n",
       "        -7.07354993e-02,  4.91525531e-02,  8.01035669e-03,\n",
       "        -7.49907568e-02, -1.70520991e-02, -5.68223260e-02,\n",
       "        -8.41818377e-03,  4.10714671e-02,  4.70735133e-02,\n",
       "        -4.88887057e-02,  2.45113559e-02,  4.12288494e-02,\n",
       "        -4.06204239e-02,  4.29184586e-02,  4.41456512e-02,\n",
       "        -3.19292061e-02,  7.43186008e-03, -2.91814413e-02,\n",
       "         4.73050699e-02, -1.73260609e-03, -6.55429512e-02,\n",
       "         4.24021482e-02,  6.26772270e-02,  2.44922917e-02,\n",
       "        -7.97860175e-02, -2.89874263e-02,  5.30821420e-02,\n",
       "         1.52865029e-03,  1.97252687e-02,  7.20430985e-02,\n",
       "         9.16636176e-03, -7.23253861e-02,  6.79006279e-02,\n",
       "         6.18524849e-02, -3.07841189e-02, -3.80911008e-02,\n",
       "         6.47771433e-02,  5.97014539e-02, -7.45904446e-02,\n",
       "        -4.42813635e-02, -2.46401839e-02, -4.13280533e-04,\n",
       "        -1.38064486e-03, -5.69288768e-02,  6.85529690e-03,\n",
       "        -4.06497605e-02,  3.78172547e-02,  3.08571775e-02,\n",
       "        -5.26824966e-02, -4.28010672e-02, -5.72430843e-04,\n",
       "        -7.53565133e-02, -6.54650554e-02,  1.21425488e-03,\n",
       "        -2.91015953e-02, -1.22936759e-02,  3.62256877e-02,\n",
       "         1.98796075e-02,  6.22159280e-02, -7.80269969e-03,\n",
       "         8.58465359e-02, -1.51043544e-02,  8.32644850e-03,\n",
       "        -7.13040605e-02, -3.69951949e-02, -1.21143153e-02,\n",
       "         8.58203992e-02, -8.20898190e-02,  4.55203792e-03,\n",
       "         7.79206865e-03,  7.72477910e-02, -5.25067858e-02,\n",
       "        -2.12964490e-02,  3.94396670e-02, -3.46620046e-02,\n",
       "         5.23772575e-02,  4.91723791e-02,  7.98837394e-02,\n",
       "        -8.60929415e-02,  6.32594898e-02, -4.97232154e-02,\n",
       "        -6.58537075e-02, -1.11129144e-02, -1.42796123e-02,\n",
       "        -3.98737118e-02, -8.34208652e-02,  5.40397353e-02,\n",
       "         3.90970521e-02,  5.12857065e-02, -3.09408009e-02,\n",
       "        -3.24074849e-02, -7.80046033e-03, -7.10908207e-05,\n",
       "        -3.68141718e-02,  1.43856201e-02, -5.50572090e-02,\n",
       "         2.68801115e-02, -6.59755319e-02,  1.76909771e-02,\n",
       "        -2.94704735e-03,  1.21295992e-02,  5.98596297e-02,\n",
       "        -5.47747314e-02,  6.05055839e-02, -3.08790319e-02,\n",
       "        -3.11405305e-02,  1.94771327e-02, -1.44304121e-02,\n",
       "        -2.16952246e-02, -7.87058920e-02, -4.34987023e-02,\n",
       "        -6.57402445e-03,  6.98355734e-02, -3.16214636e-02,\n",
       "         1.70086361e-02,  3.02466620e-02,  1.57288238e-02,\n",
       "        -1.30715705e-02, -7.45551139e-02,  1.79112032e-02,\n",
       "         1.63585860e-02, -4.57227267e-02,  1.83420349e-02,\n",
       "        -7.57218450e-02,  7.85651430e-02, -1.71073172e-02,\n",
       "        -5.18596582e-02, -8.87427013e-03, -4.95225471e-03,\n",
       "         1.80643089e-02, -1.11281872e-02,  1.56228300e-02,\n",
       "        -7.43849296e-03, -1.27411680e-02,  5.40935434e-02,\n",
       "        -5.99932671e-02, -1.39992721e-02,  1.45636313e-02,\n",
       "        -1.78790092e-02, -3.05858534e-02,  6.34856075e-02,\n",
       "        -3.41687985e-02,  6.88042194e-02, -5.45969158e-02,\n",
       "        -3.77709381e-02,  2.20028851e-02, -2.14811489e-02,\n",
       "         7.49878138e-02, -2.82540508e-02,  6.01043068e-02,\n",
       "        -1.28823880e-03,  9.66137182e-03,  1.27235680e-05,\n",
       "        -7.47312978e-02,  4.26557623e-02,  4.67362441e-03,\n",
       "        -3.97107340e-02, -9.05202031e-02,  1.44123356e-03,\n",
       "        -3.01522203e-02, -5.41824475e-02, -4.15341277e-03,\n",
       "         5.93731664e-02,  4.60939594e-02, -5.92983700e-02,\n",
       "         7.23630786e-02,  2.18865890e-02, -1.35332663e-02,\n",
       "         5.68216592e-02, -5.58964871e-02,  7.21113831e-02,\n",
       "         7.13662244e-03, -1.05417874e-02,  3.23842578e-02,\n",
       "         5.02708815e-02,  7.50183389e-02,  6.25688210e-02,\n",
       "        -5.16628511e-02, -5.59306219e-02,  6.21124581e-02,\n",
       "        -1.14469975e-02, -4.76064440e-03, -1.71710029e-02,\n",
       "         6.32223785e-02,  2.09023599e-02,  8.41406360e-03,\n",
       "        -1.22362422e-02,  5.15707396e-02, -6.76099062e-02,\n",
       "         2.58206739e-03, -1.87766775e-02,  5.30498335e-03,\n",
       "         1.89321898e-02, -2.62158420e-02,  7.55784884e-02,\n",
       "         4.24962305e-02,  1.81677230e-02,  5.96657917e-02,\n",
       "         4.42308970e-02, -8.23226124e-02, -1.82532351e-02,\n",
       "        -3.98806334e-02,  3.90104316e-02, -3.21531743e-02,\n",
       "         2.87661534e-02, -1.66291837e-02,  2.60172840e-02,\n",
       "         4.55185995e-02, -1.53650166e-02,  4.47566472e-02,\n",
       "         7.03620240e-02,  4.07183863e-04, -5.83893619e-02,\n",
       "         1.40810778e-04,  7.88541511e-02, -2.26982459e-02,\n",
       "        -5.99276535e-02, -6.94552138e-02,  7.47300778e-03,\n",
       "         5.79756387e-02,  8.30405504e-02, -8.17801505e-02,\n",
       "        -1.36735449e-02, -1.06440801e-02,  5.83932288e-02,\n",
       "         1.36130201e-02, -1.67446267e-02,  2.39190608e-02,\n",
       "        -7.68161044e-02, -7.61791132e-03,  8.92128702e-03,\n",
       "        -1.67133904e-03,  7.10100755e-02, -5.55886589e-02,\n",
       "        -2.43847854e-02,  3.90375545e-03,  3.64386626e-02,\n",
       "         4.22387868e-02, -6.03999719e-02, -6.07385766e-04,\n",
       "         5.66664673e-02,  6.15729531e-03, -5.62894829e-02,\n",
       "         2.10764492e-03, -1.70029365e-02,  3.07152588e-02,\n",
       "        -3.76244262e-02, -3.02552525e-02, -2.81653944e-02,\n",
       "         6.02546372e-02, -5.10901958e-02,  1.36073325e-02,\n",
       "        -4.54010963e-02, -1.36195282e-02, -1.98969450e-02,\n",
       "         6.01468161e-02,  4.18078639e-02,  1.30143380e-02,\n",
       "        -3.50809619e-02,  4.96798120e-02, -3.32928821e-02,\n",
       "        -4.21174429e-02,  7.40318149e-02, -1.91763714e-02,\n",
       "        -3.80372219e-02, -4.14092466e-02, -7.24955946e-02,\n",
       "        -1.91205442e-02,  1.07930461e-02,  4.36922014e-02,\n",
       "         6.83252364e-02,  2.23697469e-04,  4.96184491e-02,\n",
       "         7.68248662e-02, -3.68518569e-02,  1.96700506e-02,\n",
       "        -6.12691827e-02, -7.17636372e-04, -6.77235238e-03,\n",
       "         4.08966504e-02,  3.41487303e-02, -4.13735919e-02,\n",
       "         7.60592967e-02, -1.69131197e-02,  2.24275440e-02,\n",
       "        -7.98185021e-02, -3.99407651e-03, -4.93142568e-02,\n",
       "         3.91682200e-02, -6.28679842e-02,  2.84775272e-02,\n",
       "         7.62070641e-02,  2.23101303e-02,  7.34571666e-02,\n",
       "        -4.01482470e-02, -7.95735104e-04, -6.03472115e-03,\n",
       "        -2.01202780e-02,  1.88957602e-02,  6.57217205e-02,\n",
       "         6.18246607e-02, -3.27523835e-02,  2.48417277e-02,\n",
       "        -3.54293175e-02,  6.67866766e-02,  9.11792461e-03,\n",
       "         1.45536559e-02,  3.43916565e-02,  4.68884148e-02,\n",
       "        -2.96297837e-02,  7.66986981e-02, -5.29078729e-02,\n",
       "         1.72857419e-02,  3.52442861e-02, -5.63553013e-02,\n",
       "         4.07556519e-02,  1.53860096e-02, -2.21710503e-02,\n",
       "         5.80322631e-02,  2.08347514e-02, -1.54022211e-02,\n",
       "         7.70551041e-02, -1.19294170e-02, -1.61124188e-02,\n",
       "        -6.66359663e-02, -2.06754077e-02, -1.41123515e-02,\n",
       "         8.21929425e-02, -1.44777410e-02, -3.05536129e-02,\n",
       "         1.59582440e-02,  4.88928966e-02, -4.49739397e-02,\n",
       "         4.70722653e-02, -7.42861256e-02,  4.60711531e-02,\n",
       "         2.87522897e-02,  9.65561345e-03,  7.79839465e-03,\n",
       "        -6.12204075e-02,  7.36301672e-03]], dtype=float32)>"
      ]
     },
     "execution_count": 50,
     "metadata": {},
     "output_type": "execute_result"
    }
   ],
   "source": [
    "use_embedding_sentence"
   ]
  },
  {
   "cell_type": "code",
   "execution_count": 51,
   "metadata": {},
   "outputs": [
    {
     "name": "stdout",
     "output_type": "stream",
     "text": [
      "Model: \"model_2_use_feature_extractor\"\n",
      "_________________________________________________________________\n",
      " Layer (type)                Output Shape              Param #   \n",
      "=================================================================\n",
      " input_2 (InputLayer)        [(None,)]                 0         \n",
      "                                                                 \n",
      " USE (KerasLayer)            (None, 512)               256797824 \n",
      "                                                                 \n",
      " dense_1 (Dense)             (None, 128)               65664     \n",
      "                                                                 \n",
      " dense_2 (Dense)             (None, 5)                 645       \n",
      "                                                                 \n",
      "=================================================================\n",
      "Total params: 256,864,133\n",
      "Trainable params: 66,309\n",
      "Non-trainable params: 256,797,824\n",
      "_________________________________________________________________\n"
     ]
    }
   ],
   "source": [
    "# building a model and fitting an NLP feature extraction from tensorflow hub\n",
    "inputs = tf.keras.layers.Input(shape=(), \n",
    "                               dtype=tf.string)\n",
    "x = sentence_encoder_layer(inputs) # tokenize text and create embedding of each sequence (512 long vector)\n",
    "x = tf.keras.layers.Dense(128, \n",
    "                          activation='relu')(x)\n",
    "# if you could add more layers here if you wanted to\n",
    "outputs = tf.keras.layers.Dense(num_classes, \n",
    "                                activation='softmax')(x)\n",
    "model_2 = tf.keras.Model(inputs, \n",
    "                         outputs, \n",
    "                         name='model_2_use_feature_extractor')\n",
    "model_2.compile(loss=tf.keras.losses.CategoricalCrossentropy(),\n",
    "                optimizer=tf.keras.optimizers.Adam(),\n",
    "                metrics=['accuracy'])\n",
    "\n",
    "model_2.summary()"
   ]
  },
  {
   "cell_type": "code",
   "execution_count": 52,
   "metadata": {},
   "outputs": [
    {
     "name": "stdout",
     "output_type": "stream",
     "text": [
      "Epoch 1/3\n",
      "562/562 [==============================] - 10s 14ms/step - loss: 0.9171 - accuracy: 0.6492 - val_loss: 0.7974 - val_accuracy: 0.6882\n",
      "Epoch 2/3\n",
      "562/562 [==============================] - 7s 13ms/step - loss: 0.7681 - accuracy: 0.7024 - val_loss: 0.7556 - val_accuracy: 0.7061\n",
      "Epoch 3/3\n",
      "562/562 [==============================] - 9s 16ms/step - loss: 0.7509 - accuracy: 0.7133 - val_loss: 0.7382 - val_accuracy: 0.7141\n"
     ]
    }
   ],
   "source": [
    "# fit the model\n",
    "model_2_history = model_2.fit(train_dataset,\n",
    "                              epochs=3,\n",
    "                              steps_per_epoch=int(0.1 * len(train_dataset)),\n",
    "                              validation_data=val_dataset,\n",
    "                              validation_steps=int(0.1 * len(val_dataset)))"
   ]
  },
  {
   "cell_type": "code",
   "execution_count": 53,
   "metadata": {},
   "outputs": [
    {
     "name": "stdout",
     "output_type": "stream",
     "text": [
      "  5/945 [..............................] - ETA: 13s - loss: 0.8135 - accuracy: 0.6438"
     ]
    },
    {
     "name": "stdout",
     "output_type": "stream",
     "text": [
      "945/945 [==============================] - 12s 13ms/step - loss: 0.7396 - accuracy: 0.7153\n"
     ]
    },
    {
     "data": {
      "text/plain": [
       "[0.7395992875099182, 0.715278685092926]"
      ]
     },
     "execution_count": 53,
     "metadata": {},
     "output_type": "execute_result"
    }
   ],
   "source": [
    "model_2.evaluate(val_dataset)"
   ]
  },
  {
   "cell_type": "code",
   "execution_count": 54,
   "metadata": {},
   "outputs": [
    {
     "name": "stdout",
     "output_type": "stream",
     "text": [
      "945/945 [==============================] - 12s 13ms/step\n"
     ]
    }
   ],
   "source": [
    "model_2_pred_prob = model_2.predict(val_dataset)"
   ]
  },
  {
   "cell_type": "code",
   "execution_count": 55,
   "metadata": {},
   "outputs": [
    {
     "data": {
      "text/plain": [
       "<tf.Tensor: shape=(30212,), dtype=int64, numpy=array([0, 1, 3, ..., 4, 4, 2], dtype=int64)>"
      ]
     },
     "execution_count": 55,
     "metadata": {},
     "output_type": "execute_result"
    }
   ],
   "source": [
    "# convert to pred prob to classes\n",
    "model_2_preds = tf.argmax(model_2_pred_prob, axis=1)\n",
    "model_2_preds"
   ]
  },
  {
   "cell_type": "code",
   "execution_count": 56,
   "metadata": {},
   "outputs": [
    {
     "data": {
      "text/html": [
       "<div>\n",
       "<style scoped>\n",
       "    .dataframe tbody tr th:only-of-type {\n",
       "        vertical-align: middle;\n",
       "    }\n",
       "\n",
       "    .dataframe tbody tr th {\n",
       "        vertical-align: top;\n",
       "    }\n",
       "\n",
       "    .dataframe thead th {\n",
       "        text-align: right;\n",
       "    }\n",
       "</style>\n",
       "<table border=\"1\" class=\"dataframe\">\n",
       "  <thead>\n",
       "    <tr style=\"text-align: right;\">\n",
       "      <th></th>\n",
       "      <th>accuracy</th>\n",
       "      <th>precision</th>\n",
       "      <th>recall</th>\n",
       "      <th>f1</th>\n",
       "    </tr>\n",
       "  </thead>\n",
       "  <tbody>\n",
       "    <tr>\n",
       "      <th>model_0_results</th>\n",
       "      <td>0.721832</td>\n",
       "      <td>0.718647</td>\n",
       "      <td>0.721832</td>\n",
       "      <td>0.698925</td>\n",
       "    </tr>\n",
       "    <tr>\n",
       "      <th>model_1_results</th>\n",
       "      <td>0.786078</td>\n",
       "      <td>0.782613</td>\n",
       "      <td>0.786078</td>\n",
       "      <td>0.783555</td>\n",
       "    </tr>\n",
       "    <tr>\n",
       "      <th>model_2_results</th>\n",
       "      <td>0.715279</td>\n",
       "      <td>0.716140</td>\n",
       "      <td>0.715279</td>\n",
       "      <td>0.712069</td>\n",
       "    </tr>\n",
       "  </tbody>\n",
       "</table>\n",
       "</div>"
      ],
      "text/plain": [
       "                 accuracy  precision    recall        f1\n",
       "model_0_results  0.721832   0.718647  0.721832  0.698925\n",
       "model_1_results  0.786078   0.782613  0.786078  0.783555\n",
       "model_2_results  0.715279   0.716140  0.715279  0.712069"
      ]
     },
     "execution_count": 56,
     "metadata": {},
     "output_type": "execute_result"
    }
   ],
   "source": [
    "model_2_results = calculate_results(y_true=val_labels_label_encoded, y_pred=model_2_preds)\n",
    "\n",
    "model_results = pd.DataFrame({'model_0_results': model_0_results,\n",
    "                              'model_1_results': model_1_results,\n",
    "                              'model_2_results': model_2_results})\n",
    "model_results.transpose()"
   ]
  },
  {
   "cell_type": "markdown",
   "metadata": {},
   "source": [
    "## Model 3: Conv1D with character embeending\n",
    "\n",
    "The paper  which we're replicationg states they used a combination of token and character-level embeddings.\n",
    "\n",
    "Previously we've token-level embeddings but we'll nedd to do similar steps for characters if we want to use char-level embeddings.\n",
    "\n",
    "see: https://medium.com/@WojtekFulmyk/text-tokenization-and-vectorization-in-nlp-ac5e3eb35b85\n",
    "\n",
    "see: https://www.kaggle.com/code/parulpandey/getting-started-with-nlp-feature-vectors\n"
   ]
  },
  {
   "cell_type": "code",
   "execution_count": 57,
   "metadata": {},
   "outputs": [
    {
     "data": {
      "text/plain": [
       "['to investigate the efficacy of @ weeks of daily low-dose oral prednisolone in improving pain , mobility , and systemic low-grade inflammation in the short term and whether the effect would be sustained at @ weeks in older adults with moderate to severe knee osteoarthritis ( oa ) .',\n",
       " 'a total of @ patients with primary knee oa were randomized @:@ ; @ received @ mg/day of prednisolone and @ received placebo for @ weeks .',\n",
       " 'outcome measures included pain reduction and improvement in function scores and systemic inflammation markers .',\n",
       " 'pain was assessed using the visual analog pain scale ( @-@ mm ) .',\n",
       " 'secondary outcome measures included the western ontario and mcmaster universities osteoarthritis index scores , patient global assessment ( pga ) of the severity of knee oa , and @-min walk distance ( @mwd ) .']"
      ]
     },
     "execution_count": 57,
     "metadata": {},
     "output_type": "execute_result"
    }
   ],
   "source": [
    "train_sentences[:5]"
   ]
  },
  {
   "cell_type": "code",
   "execution_count": 58,
   "metadata": {},
   "outputs": [],
   "source": [
    "# make functions to split sentences into characters\n",
    "def split_chars(text:str):\n",
    "    return ' '.join(list(text))"
   ]
  },
  {
   "cell_type": "code",
   "execution_count": 59,
   "metadata": {},
   "outputs": [],
   "source": [
    "def custom_preprocessor(text):\n",
    "    '''\n",
    "    Make text lowercase, remove text in square brackets,remove links,remove special characters\n",
    "    and remove words containing numbers.\n",
    "    '''\n",
    "    text = text.lower()\n",
    "    text = re.sub('\\[.*?\\]', '', text)\n",
    "    text = re.sub(\"\\\\W\",\" \",text) # remove special chars\n",
    "    text = re.sub('https?://\\S+|www\\.\\S+', '', text)\n",
    "    text = re.sub('<.*?>+', '', text)\n",
    "    text = re.sub('[%s]' % re.escape(string.punctuation), '', text)\n",
    "    text = re.sub('\\n', '', text)\n",
    "    text = re.sub('\\w*\\d\\w*', '', text)\n",
    "    \n",
    "    return text"
   ]
  },
  {
   "cell_type": "code",
   "execution_count": 60,
   "metadata": {},
   "outputs": [
    {
     "data": {
      "text/plain": [
       "'o v e r   t h e   @ - m o n t h   p e r i o d   ,   n o   s t a t i s t i c a l l y   s i g n i f i c a n t   a s s o c i a t i o n s   b e t w e e n   c h a n g e s   i n   t h e   c f q   s u b s c a l e   s c o r e s   a n d   c h a n g e s   i n   c h i l d   b m i   p e r c e n t i l e   w e r e   i d e n t i f i e d   .'"
      ]
     },
     "execution_count": 60,
     "metadata": {},
     "output_type": "execute_result"
    }
   ],
   "source": [
    "# text splitting no-character-level sequence into characteres\n",
    "split_chars(random_train_sentence)"
   ]
  },
  {
   "cell_type": "code",
   "execution_count": 61,
   "metadata": {},
   "outputs": [
    {
     "data": {
      "text/plain": [
       "['t o   i n v e s t i g a t e   t h e   e f f i c a c y   o f   @   w e e k s   o f   d a i l y   l o w - d o s e   o r a l   p r e d n i s o l o n e   i n   i m p r o v i n g   p a i n   ,   m o b i l i t y   ,   a n d   s y s t e m i c   l o w - g r a d e   i n f l a m m a t i o n   i n   t h e   s h o r t   t e r m   a n d   w h e t h e r   t h e   e f f e c t   w o u l d   b e   s u s t a i n e d   a t   @   w e e k s   i n   o l d e r   a d u l t s   w i t h   m o d e r a t e   t o   s e v e r e   k n e e   o s t e o a r t h r i t i s   (   o a   )   .',\n",
       " 'a   t o t a l   o f   @   p a t i e n t s   w i t h   p r i m a r y   k n e e   o a   w e r e   r a n d o m i z e d   @ : @   ;   @   r e c e i v e d   @   m g / d a y   o f   p r e d n i s o l o n e   a n d   @   r e c e i v e d   p l a c e b o   f o r   @   w e e k s   .',\n",
       " 'o u t c o m e   m e a s u r e s   i n c l u d e d   p a i n   r e d u c t i o n   a n d   i m p r o v e m e n t   i n   f u n c t i o n   s c o r e s   a n d   s y s t e m i c   i n f l a m m a t i o n   m a r k e r s   .',\n",
       " 'p a i n   w a s   a s s e s s e d   u s i n g   t h e   v i s u a l   a n a l o g   p a i n   s c a l e   (   @ - @   m m   )   .',\n",
       " 's e c o n d a r y   o u t c o m e   m e a s u r e s   i n c l u d e d   t h e   w e s t e r n   o n t a r i o   a n d   m c m a s t e r   u n i v e r s i t i e s   o s t e o a r t h r i t i s   i n d e x   s c o r e s   ,   p a t i e n t   g l o b a l   a s s e s s m e n t   (   p g a   )   o f   t h e   s e v e r i t y   o f   k n e e   o a   ,   a n d   @ - m i n   w a l k   d i s t a n c e   (   @ m w d   )   .']"
      ]
     },
     "execution_count": 61,
     "metadata": {},
     "output_type": "execute_result"
    }
   ],
   "source": [
    "# split sequence-level data splits into character-level data splits\n",
    "train_chars = [split_chars(sentence) for sentence in train_sentences]\n",
    "val_chars = [split_chars(sentence) for sentence in val_sentences]\n",
    "test_chars = [split_chars(sentence) for sentence in test_sentences]\n",
    "\n",
    "train_chars[:5]"
   ]
  },
  {
   "cell_type": "code",
   "execution_count": 62,
   "metadata": {},
   "outputs": [
    {
     "data": {
      "text/plain": [
       "149.3662574983337"
      ]
     },
     "execution_count": 62,
     "metadata": {},
     "output_type": "execute_result"
    }
   ],
   "source": [
    "# what's the average character length?\n",
    "chars_lens = [len(sentence) for sentence in train_sentences]\n",
    "mean_chars_lens = np.mean(chars_lens)\n",
    "mean_chars_lens"
   ]
  },
  {
   "cell_type": "code",
   "execution_count": 63,
   "metadata": {},
   "outputs": [
    {
     "data": {
      "image/png": "[encoded data removed]",
      "text/plain": [
       "<Figure size 640x480 with 1 Axes>"
      ]
     },
     "metadata": {},
     "output_type": "display_data"
    }
   ],
   "source": [
    "# check the distribution of our sequences at a character-level\n",
    "ax = plt.hist(chars_lens, bins=7)"
   ]
  },
  {
   "cell_type": "code",
   "execution_count": 64,
   "metadata": {},
   "outputs": [
    {
     "data": {
      "text/plain": [
       "290"
      ]
     },
     "execution_count": 64,
     "metadata": {},
     "output_type": "execute_result"
    }
   ],
   "source": [
    "# find what character length cover 95% of sequence\n",
    "output_seq_char_len = int(np.percentile(chars_lens, 95))\n",
    "output_seq_char_len"
   ]
  },
  {
   "cell_type": "code",
   "execution_count": 65,
   "metadata": {},
   "outputs": [
    {
     "data": {
      "text/plain": [
       "'abcdefghijklmnopqrstuvwxyz0123456789!\"#$%&\\'()*+,-./:;<=>?@[\\\\]^_`{|}~'"
      ]
     },
     "execution_count": 65,
     "metadata": {},
     "output_type": "execute_result"
    }
   ],
   "source": [
    "# get all character\n",
    "alphabet = string.ascii_lowercase + string.digits + string.punctuation\n",
    "alphabet"
   ]
  },
  {
   "cell_type": "code",
   "execution_count": 66,
   "metadata": {},
   "outputs": [],
   "source": [
    "NUM_CHAR_TOKENS = len(alphabet) + 2 # add 2 for space and OOV token (OOV = out of vocab, '[UNK]')\n",
    "char_vectorizer = tf.keras.layers.TextVectorization(max_tokens=NUM_CHAR_TOKENS,\n",
    "                                                    output_sequence_length=output_seq_char_len,\n",
    "                                                    # standardize='lower_and_strip_punctuation', # set to None if want to leave punctuation in\n",
    "                                                    name='char_vectorizer')"
   ]
  },
  {
   "cell_type": "code",
   "execution_count": 67,
   "metadata": {},
   "outputs": [],
   "source": [
    "tf_idf_vectorizer = TfidfVectorizer(analyzer='char',\n",
    "                                    ngram_range=(2, 2), \n",
    "                                    strip_accents='ascii',\n",
    "                                    max_features=output_seq_char_len).fit(train_chars)"
   ]
  },
  {
   "cell_type": "code",
   "execution_count": 68,
   "metadata": {},
   "outputs": [
    {
     "data": {
      "text/plain": [
       "array([' !', ' \"', ' #', ' $', ' %'], dtype=object)"
      ]
     },
     "execution_count": 68,
     "metadata": {},
     "output_type": "execute_result"
    }
   ],
   "source": [
    "tf_idf_vectorizer.get_feature_names_out()[:5]"
   ]
  },
  {
   "cell_type": "code",
   "execution_count": 69,
   "metadata": {},
   "outputs": [
    {
     "data": {
      "text/plain": [
       "array([[0.        , 0.        , 0.        , 0.        , 0.        ,\n",
       "        0.        , 0.        , 0.        , 0.        , 0.        ,\n",
       "        0.        , 0.0357378 , 0.        , 0.02116491, 0.        ,\n",
       "        0.        , 0.        , 0.        , 0.        , 0.        ,\n",
       "        0.        , 0.03526898, 0.        , 0.        , 0.        ,\n",
       "        0.        , 0.        , 0.25570156, 0.05793393, 0.0664513 ,\n",
       "        0.02184231, 0.38350761, 0.        , 0.02538523, 0.09256502,\n",
       "        0.256239  , 0.        , 0.        , 0.06685682, 0.07097246,\n",
       "        0.12799004, 0.1287237 , 0.13948263, 0.        , 0.23444127,\n",
       "        0.10682735, 0.23372357, 0.07040048, 0.05558978, 0.07718099,\n",
       "        0.        , 0.05345986, 0.        , 0.        , 0.        ,\n",
       "        0.        , 0.        , 0.        , 0.        , 0.        ,\n",
       "        0.        , 0.        , 0.        , 0.        , 0.        ,\n",
       "        0.        , 0.0357371 , 0.        , 0.        , 0.        ,\n",
       "        0.        , 0.        , 0.        , 0.        , 0.        ,\n",
       "        0.        , 0.03517937, 0.        , 0.        , 0.        ,\n",
       "        0.        , 0.        , 0.25554538, 0.05746252, 0.06634534,\n",
       "        0.0218235 , 0.38345009, 0.        , 0.02534694, 0.1154214 ,\n",
       "        0.25599857, 0.        , 0.        , 0.0668215 , 0.07074115,\n",
       "        0.12776843, 0.12867151, 0.13869351, 0.        , 0.2343918 ,\n",
       "        0.10679413, 0.2334952 , 0.07031364, 0.05550108, 0.07621427,\n",
       "        0.        , 0.0534513 , 0.        , 0.        , 0.        ]])"
      ]
     },
     "execution_count": 69,
     "metadata": {},
     "output_type": "execute_result"
    }
   ],
   "source": [
    "choice = random.choice(train_chars)\n",
    "x = tf_idf_vectorizer.transform([choice]).toarray()\n",
    "x"
   ]
  },
  {
   "cell_type": "code",
   "execution_count": 70,
   "metadata": {},
   "outputs": [
    {
     "data": {
      "text/plain": [
       "CountVectorizer(max_df=0.8, min_df=2, ngram_range=(1, 2),\n",
       "                preprocessor=<function custom_preprocessor at 0x000001FCC1F61D08>,\n",
       "                stop_words=['i', 'me', 'my', 'myself', 'we', 'our', 'ours',\n",
       "                            'ourselves', 'you', \"you're\", \"you've\", \"you'll\",\n",
       "                            \"you'd\", 'your', 'yours', 'yourself', 'yourselves',\n",
       "                            'he', 'him', 'his', 'himself', 'she', \"she's\",\n",
       "                            'her', 'hers', 'herself', 'it', \"it's\", 'its',\n",
       "                            'itself', ...])"
      ]
     },
     "execution_count": 70,
     "metadata": {},
     "output_type": "execute_result"
    }
   ],
   "source": [
    "# World level unigrams and bigrams\n",
    "count_vectorizer = CountVectorizer(stop_words=nltk.corpus.stopwords.words('english'),\n",
    "                                   preprocessor=custom_preprocessor, \n",
    "                                   ngram_range=(1,2),\n",
    "                                   min_df=2,\n",
    "                                   max_df=0.8)\n",
    "count_vectorizer.fit(train_sentences)"
   ]
  },
  {
   "cell_type": "code",
   "execution_count": 71,
   "metadata": {},
   "outputs": [
    {
     "data": {
      "text/plain": [
       "['investigate', 'efficacy', 'weeks', 'daily', 'low']"
      ]
     },
     "execution_count": 71,
     "metadata": {},
     "output_type": "execute_result"
    }
   ],
   "source": [
    "list(count_vectorizer.vocabulary_)[:5]"
   ]
  },
  {
   "cell_type": "code",
   "execution_count": 72,
   "metadata": {},
   "outputs": [],
   "source": [
    "# character level bigrams\n",
    "count_vectorizer = CountVectorizer(preprocessor=custom_preprocessor,\n",
    "                                   stop_words=nltk.corpus.stopwords.words('english'),\n",
    "                                   ngram_range=(2,2),\n",
    "                                   max_features=output_seq_char_len,\n",
    "                                   strip_accents='ascii',\n",
    "                                   analyzer='char_wb')"
   ]
  },
  {
   "cell_type": "code",
   "execution_count": 73,
   "metadata": {},
   "outputs": [
    {
     "data": {
      "text/plain": [
       "array([[12,  3,  9,  8, 23,  6,  1,  3, 12,  1,  8,  6, 11, 17,  4, 10,\n",
       "        11, 15,  7,  3,  2,  3,  1, 12,  3,  9,  8, 23,  6,  1,  3, 12,\n",
       "         1,  8,  6, 11, 17,  4, 10, 11, 15,  7,  3,  2,  3,  1]],\n",
       "      dtype=int64)"
      ]
     },
     "execution_count": 73,
     "metadata": {},
     "output_type": "execute_result"
    }
   ],
   "source": [
    "train_vectors = count_vectorizer.fit_transform([random.choice(train_chars)])\n",
    "train_vectors.toarray()"
   ]
  },
  {
   "cell_type": "code",
   "execution_count": 74,
   "metadata": {},
   "outputs": [],
   "source": [
    "# adapt character vectorizer to training\n",
    "char_vectorizer.adapt(train_chars)\n",
    "# test_vectors = count_vectorizer.transform(train_chars)"
   ]
  },
  {
   "cell_type": "code",
   "execution_count": 75,
   "metadata": {},
   "outputs": [
    {
     "name": "stdout",
     "output_type": "stream",
     "text": [
      "Number of different characters in character vocab: 28\n",
      "5 most common char: ['', '[UNK]', 'e', 't', 'i']\n",
      "5 lear common char: ['k', 'x', 'z', 'q', 'j']\n"
     ]
    }
   ],
   "source": [
    "# check vocab stats\n",
    "char_vocab = char_vectorizer.get_vocabulary()\n",
    "print(f'Number of different characters in character vocab: {len(char_vocab)}')\n",
    "print(f'5 most common char: {char_vocab[:5]}')\n",
    "print(f'5 lear common char: {char_vocab[-5:]}')"
   ]
  },
  {
   "cell_type": "code",
   "execution_count": 76,
   "metadata": {},
   "outputs": [
    {
     "name": "stdout",
     "output_type": "stream",
     "text": [
      "Number of different characters in character vocab: 46\n",
      "5 most common char: [' t', 't ', ' h', 'h ', ' e']\n",
      "5 lear common char: ['w ', ' y', 'y ', ' g', 'g ']\n"
     ]
    }
   ],
   "source": [
    "print(f'Number of different characters in character vocab: {len(list(count_vectorizer.vocabulary_))}')\n",
    "print(f'5 most common char: {list(count_vectorizer.vocabulary_)[:5]}')\n",
    "print(f'5 lear common char: {list(count_vectorizer.vocabulary_)[-5:]}')"
   ]
  },
  {
   "cell_type": "code",
   "execution_count": 77,
   "metadata": {},
   "outputs": [
    {
     "name": "stdout",
     "output_type": "stream",
     "text": [
      "Charified text:\n",
      "t h e   p a r e n t   t r i a l   w a s   a   d o u b l e - b l i n d   ,   r a n d o m i z e d   ,   p l a c e b o - c o n t r o l l e d   ,   p a r a l l e l - g r o u p   t r i a l   d e s i g n e d   t o   t e s t   t h e   e f f e c t s   o f   c a d   s u p p l e m e n t a t i o n   (   @ , @   m g   o f   e l e m e n t a l   c a l c i u m   +   @   i u   o f   v i t a m i n   d @   d a i l y   )   v e r s u s   p l a c e b o   i n   p o s t m e n o p a u s a l   w o m e n   .\n",
      "\n",
      "Length of character: 204\n",
      "\n",
      "Vectorized Vector: [[ 3 13  2 14  5  8  2  6  3  3  8  4  5 12 20  5  9  5 10  7 16 22 12  2\n",
      "  22 12  4  6 10  8  5  6 10  7 15  4 25  2 10 14 12  5 11  2 22  7 11  7\n",
      "   6  3  8  7 12 12  2 10 14  5  8  5 12 12  2 12 18  8  7 16 14  3  8  4\n",
      "   5 12 10  2  9  4 18  6  2 10  3  7  3  2  9  3  3 13  2  2 17 17  2 11\n",
      "   3  9  7 17 11  5 10  9 16 14 14 12  2 15  2  6  3  5  3  4  7  6 15 18\n",
      "   7 17  2 12  2 15  2  6  3  5 12 11  5 12 11  4 16 15  4 16  7 17 21  4\n",
      "   3  5 15  4  6 10 10  5  4 12 19 21  2  8  9 16  9 14 12  5 11  2 22  7\n",
      "   4  6 14  7  9  3 15  2  6  7 14  5 16  9  5 12 20  7 15  2  6  0  0  0\n",
      "   0  0  0  0  0  0  0  0  0  0  0  0  0  0  0  0  0  0  0  0  0  0  0  0\n",
      "   0  0  0  0  0  0  0  0  0  0  0  0  0  0  0  0  0  0  0  0  0  0  0  0\n",
      "   0  0  0  0  0  0  0  0  0  0  0  0  0  0  0  0  0  0  0  0  0  0  0  0\n",
      "   0  0  0  0  0  0  0  0  0  0  0  0  0  0  0  0  0  0  0  0  0  0  0  0\n",
      "   0  0]]\n",
      "\n",
      "Shape of vectorized chars: (1, 290)\n"
     ]
    }
   ],
   "source": [
    "# Test out character vectorizer\n",
    "random_train_chars = random.choice(train_chars)\n",
    "print(f'Charified text:\\n{random_train_chars}')\n",
    "print(f'\\nLength of character: {len(random_train_chars.split())}')\n",
    "\n",
    "vectorized_chars = char_vectorizer([random_train_chars])\n",
    "vectorized_chars_counter = count_vectorizer.fit_transform([random_train_chars])\n",
    "\n",
    "print(f'\\nVectorized Vector: {vectorized_chars}')\n",
    "# print(f'\\nLength of vectorized chars: {len(vectorized_chars[0])}')\n",
    "print(f'\\nShape of vectorized chars: {vectorized_chars.shape}')"
   ]
  },
  {
   "cell_type": "code",
   "execution_count": 78,
   "metadata": {},
   "outputs": [
    {
     "name": "stdout",
     "output_type": "stream",
     "text": [
      "Charified text:\n",
      "t h e   p a r e n t   t r i a l   w a s   a   d o u b l e - b l i n d   ,   r a n d o m i z e d   ,   p l a c e b o - c o n t r o l l e d   ,   p a r a l l e l - g r o u p   t r i a l   d e s i g n e d   t o   t e s t   t h e   e f f e c t s   o f   c a d   s u p p l e m e n t a t i o n   (   @ , @   m g   o f   e l e m e n t a l   c a l c i u m   +   @   i u   o f   v i t a m i n   d @   d a i l y   )   v e r s u s   p l a c e b o   i n   p o s t m e n o p a u s a l   w o m e n   .\n",
      "\n",
      "Length of character: 204\n",
      "\n",
      "Vectorized Counter: [[18.  4.  7. 10. 22.  5.  3.  2. 12. 17.  8. 12. 15.  9.  8.  9. 15.  7.\n",
      "   2.  2.  1.  1. 18.  4.  7. 10. 22.  5.  3.  2. 12. 17.  8. 12. 15.  9.\n",
      "   8.  9. 15.  7.  2.  2.  1.  1.  0.  0.  0.  0.  0.  0.  0.  0.  0.  0.\n",
      "   0.  0.  0.  0.  0.  0.  0.  0.  0.  0.  0.  0.  0.  0.  0.  0.  0.  0.\n",
      "   0.  0.  0.  0.  0.  0.  0.  0.  0.  0.  0.  0.  0.  0.  0.  0.  0.  0.\n",
      "   0.  0.  0.  0.  0.  0.  0.  0.  0.  0.  0.  0.  0.  0.  0.  0.  0.  0.\n",
      "   0.  0.  0.  0.  0.  0.  0.  0.  0.  0.  0.  0.  0.  0.  0.  0.  0.  0.\n",
      "   0.  0.  0.  0.  0.  0.  0.  0.  0.  0.  0.  0.  0.  0.  0.  0.  0.  0.\n",
      "   0.  0.  0.  0.  0.  0.  0.  0.  0.  0.  0.  0.  0.  0.  0.  0.  0.  0.\n",
      "   0.  0.  0.  0.  0.  0.  0.  0.  0.  0.  0.  0.  0.  0.  0.  0.  0.  0.\n",
      "   0.  0.  0.  0.  0.  0.  0.  0.  0.  0.  0.  0.  0.  0.  0.  0.  0.  0.\n",
      "   0.  0.  0.  0.  0.  0.  0.  0.  0.  0.  0.  0.  0.  0.  0.  0.  0.  0.\n",
      "   0.  0.  0.  0.  0.  0.  0.  0.  0.  0.  0.  0.  0.  0.  0.  0.  0.  0.\n",
      "   0.  0.  0.  0.  0.  0.  0.  0.  0.  0.  0.  0.  0.  0.  0.  0.  0.  0.\n",
      "   0.  0.  0.  0.  0.  0.  0.  0.  0.  0.  0.  0.  0.  0.  0.  0.  0.  0.\n",
      "   0.  0.  0.  0.  0.  0.  0.  0.  0.  0.  0.  0.  0.  0.  0.  0.  0.  0.\n",
      "   0.  0.]]\n",
      "\n",
      "Shape of vectorized chars: (1, 290)\n"
     ]
    }
   ],
   "source": [
    "print(f'Charified text:\\n{random_train_chars}')\n",
    "print(f'\\nLength of character: {len(random_train_chars.split())}')\n",
    "vectorized_chars_counter = count_vectorizer.fit_transform([random_train_chars])\n",
    "\n",
    "# https://stackoverflow.com/questions/12668027/good-ways-to-expand-a-numpy-ndarray\n",
    "vectorized_chars_counter_array = np.hstack((vectorized_chars_counter.toarray()[0], \n",
    "                                            np.zeros(output_seq_char_len - len(vectorized_chars_counter.toarray()[0])))).reshape(1, -1)\n",
    "print(f'\\nVectorized Counter: {vectorized_chars_counter_array}')\n",
    "# print(f'\\nLength of vectorized chars: {vectorized_chars_counter.getnnz()}')\n",
    "print(f'\\nShape of vectorized chars: {vectorized_chars_counter_array.shape}')"
   ]
  },
  {
   "cell_type": "code",
   "execution_count": 79,
   "metadata": {},
   "outputs": [
    {
     "data": {
      "text/plain": [
       "297.7325149966674"
      ]
     },
     "execution_count": 79,
     "metadata": {},
     "output_type": "execute_result"
    }
   ],
   "source": [
    "np.mean([len(char) for char in train_chars])"
   ]
  },
  {
   "cell_type": "code",
   "execution_count": 80,
   "metadata": {},
   "outputs": [
    {
     "data": {
      "text/plain": [
       "297.27229999998235"
      ]
     },
     "execution_count": 80,
     "metadata": {},
     "output_type": "execute_result"
    }
   ],
   "source": [
    "np.percentile([len(sentence) for sentence in train_sentences], 95.57)"
   ]
  },
  {
   "cell_type": "code",
   "execution_count": 81,
   "metadata": {},
   "outputs": [
    {
     "data": {
      "text/plain": [
       "28"
      ]
     },
     "execution_count": 81,
     "metadata": {},
     "output_type": "execute_result"
    }
   ],
   "source": [
    "len(char_vocab) # alphabet"
   ]
  },
  {
   "cell_type": "code",
   "execution_count": 82,
   "metadata": {},
   "outputs": [],
   "source": [
    "char_embed_keras = tf.keras.layers.Embedding(input_dim=len(char_vocab), # size of vocabulary\n",
    "                                             output_dim=25, # this is the size of the char embedding in the paper\n",
    "                                             mask_zero=True,\n",
    "                                             name='char_embed_keras')"
   ]
  },
  {
   "cell_type": "code",
   "execution_count": 83,
   "metadata": {},
   "outputs": [
    {
     "name": "stdout",
     "output_type": "stream",
     "text": [
      "Charified text:\n",
      "t h e   p a r e n t   t r i a l   w a s   a   d o u b l e - b l i n d   ,   r a n d o m i z e d   ,   p l a c e b o - c o n t r o l l e d   ,   p a r a l l e l - g r o u p   t r i a l   d e s i g n e d   t o   t e s t   t h e   e f f e c t s   o f   c a d   s u p p l e m e n t a t i o n   (   @ , @   m g   o f   e l e m e n t a l   c a l c i u m   +   @   i u   o f   v i t a m i n   d @   d a i l y   )   v e r s u s   p l a c e b o   i n   p o s t m e n o p a u s a l   w o m e n   .\n",
      "\n",
      "Charified text:204\n",
      "\n",
      "Vectorized Vector: [[[-0.00695201 -0.01390503  0.00889816 ... -0.01239643 -0.01939439\n",
      "    0.00485532]\n",
      "  [ 0.00797755  0.03315431  0.00278876 ... -0.0131636  -0.02265452\n",
      "    0.02500287]\n",
      "  [ 0.0330998  -0.04677064  0.03289716 ... -0.03557215 -0.01017016\n",
      "    0.01530406]\n",
      "  ...\n",
      "  [ 0.0192833   0.04792545  0.02350788 ...  0.01776116  0.01714993\n",
      "   -0.00518112]\n",
      "  [ 0.0192833   0.04792545  0.02350788 ...  0.01776116  0.01714993\n",
      "   -0.00518112]\n",
      "  [ 0.0192833   0.04792545  0.02350788 ...  0.01776116  0.01714993\n",
      "   -0.00518112]]]\n",
      "\n",
      "Shape of vectorized chars: (1, 290, 25)\n"
     ]
    }
   ],
   "source": [
    "print(f'Charified text:\\n{random_train_chars}')\n",
    "\n",
    "print(f'\\nCharified text:{len(random_train_chars.split())}')\n",
    "char_embed_keras_sample = char_embed_keras(char_vectorizer([random_train_chars]))\n",
    "\n",
    "print(f'\\nVectorized Vector: {char_embed_keras_sample}')\n",
    "print(f'\\nShape of vectorized chars: {char_embed_keras_sample.shape}')"
   ]
  },
  {
   "cell_type": "markdown",
   "metadata": {},
   "source": [
    "see: https://towardsdatascience.com/word-embedding-techniques-word2vec-and-tf-idf-explained-c5d02e34d08"
   ]
  },
  {
   "cell_type": "code",
   "execution_count": 84,
   "metadata": {},
   "outputs": [
    {
     "data": {
      "text/plain": [
       "487"
      ]
     },
     "execution_count": 84,
     "metadata": {},
     "output_type": "execute_result"
    }
   ],
   "source": [
    "len(random_train_chars)"
   ]
  },
  {
   "cell_type": "markdown",
   "metadata": {},
   "source": [
    "## Build Conv1D model and fit with character-level"
   ]
  },
  {
   "cell_type": "code",
   "execution_count": 85,
   "metadata": {},
   "outputs": [
    {
     "name": "stdout",
     "output_type": "stream",
     "text": [
      "Model: \"model_3_conv1d_char_embedding\"\n",
      "_________________________________________________________________\n",
      " Layer (type)                Output Shape              Param #   \n",
      "=================================================================\n",
      " input_3 (InputLayer)        [(None, 1)]               0         \n",
      "                                                                 \n",
      " char_vectorizer (TextVector  (None, 290)              0         \n",
      " ization)                                                        \n",
      "                                                                 \n",
      " char_embed_keras (Embedding  (None, 290, 25)          700       \n",
      " )                                                               \n",
      "                                                                 \n",
      " conv1d_1 (Conv1D)           (None, 290, 64)           8064      \n",
      "                                                                 \n",
      " global_max_pooling1d (Globa  (None, 64)               0         \n",
      " lMaxPooling1D)                                                  \n",
      "                                                                 \n",
      " dropout (Dropout)           (None, 64)                0         \n",
      "                                                                 \n",
      " dense_3 (Dense)             (None, 5)                 325       \n",
      "                                                                 \n",
      "=================================================================\n",
      "Total params: 9,089\n",
      "Trainable params: 9,089\n",
      "Non-trainable params: 0\n",
      "_________________________________________________________________\n"
     ]
    }
   ],
   "source": [
    "# Make Conv1D on chars\n",
    "inputs = tf.keras.layers.Input(shape=(1,), \n",
    "                               dtype=tf.string)\n",
    "x = char_vectorizer(inputs)\n",
    "x = char_embed_keras(x)\n",
    "x = tf.keras.layers.Conv1D(filters=64, \n",
    "                           kernel_size=5, \n",
    "                           padding='same', \n",
    "                           activation='relu')(x)\n",
    "# x = tf.keras.layers.GlobalAveragePooling1D()(x)\n",
    "x = tf.keras.layers.GlobalMaxPool1D()(x)\n",
    "x = tf.keras.layers.Dropout(0.1)(x)\n",
    "outputs = tf.keras.layers.Dense(num_classes, \n",
    "                                activation='softmax')(x)\n",
    "model_3 = tf.keras.Model(inputs=inputs, \n",
    "                         outputs=outputs,\n",
    "                         name='model_3_conv1d_char_embedding')\n",
    "\n",
    "model_3.compile(loss=tf.keras.losses.CategoricalCrossentropy(),\n",
    "                optimizer=tf.keras.optimizers.Adam(),\n",
    "                metrics=['accuracy'])\n",
    "model_3.summary()"
   ]
  },
  {
   "cell_type": "code",
   "execution_count": 86,
   "metadata": {},
   "outputs": [
    {
     "data": {
      "text/plain": [
       "<PrefetchDataset element_spec=(TensorSpec(shape=(None,), dtype=tf.string, name=None), TensorSpec(shape=(None, 5), dtype=tf.float64, name=None))>"
      ]
     },
     "execution_count": 86,
     "metadata": {},
     "output_type": "execute_result"
    }
   ],
   "source": [
    "train_char_dataset = tf.data.Dataset.from_tensor_slices((train_chars, \n",
    "                                                         train_labels_one_hot)).batch(32).prefetch(tf.data.AUTOTUNE)\n",
    "val_char_dataset = tf.data.Dataset.from_tensor_slices((val_chars, \n",
    "                                                       val_labels_one_hot)).batch(32).prefetch(tf.data.AUTOTUNE)\n",
    "test_char_dataset = tf.data.Dataset.from_tensor_slices((test_chars, \n",
    "                                                        test_labels_one_hot)).batch(32).prefetch(tf.data.AUTOTUNE)\n",
    "\n",
    "train_char_dataset"
   ]
  },
  {
   "cell_type": "code",
   "execution_count": 87,
   "metadata": {},
   "outputs": [
    {
     "name": "stdout",
     "output_type": "stream",
     "text": [
      "Epoch 1/3\n",
      "562/562 [==============================] - 6s 7ms/step - loss: 1.2893 - accuracy: 0.4694 - val_loss: 1.0574 - val_accuracy: 0.5781\n",
      "Epoch 2/3\n",
      "562/562 [==============================] - 3s 6ms/step - loss: 1.0758 - accuracy: 0.5597 - val_loss: 0.9635 - val_accuracy: 0.6017\n",
      "Epoch 3/3\n",
      "562/562 [==============================] - 3s 5ms/step - loss: 0.9987 - accuracy: 0.5953 - val_loss: 0.9007 - val_accuracy: 0.6466\n"
     ]
    }
   ],
   "source": [
    "# fit the model\n",
    "model_3_history = model_3.fit(train_char_dataset,\n",
    "                              steps_per_epoch=int(0.1 * len(train_char_dataset)),\n",
    "                              epochs=3,\n",
    "                              validation_data=val_char_dataset,\n",
    "                              validation_steps=int(0.1 * len(val_char_dataset)))"
   ]
  },
  {
   "cell_type": "code",
   "execution_count": 88,
   "metadata": {},
   "outputs": [
    {
     "name": "stdout",
     "output_type": "stream",
     "text": [
      "  1/945 [..............................] - ETA: 14s - loss: 1.2559 - accuracy: 0.5000"
     ]
    },
    {
     "name": "stdout",
     "output_type": "stream",
     "text": [
      "945/945 [==============================] - 3s 4ms/step - loss: 0.9221 - accuracy: 0.6427\n"
     ]
    },
    {
     "data": {
      "text/plain": [
       "[0.922123372554779, 0.6426916718482971]"
      ]
     },
     "execution_count": 88,
     "metadata": {},
     "output_type": "execute_result"
    }
   ],
   "source": [
    "model_3.evaluate(val_char_dataset)"
   ]
  },
  {
   "cell_type": "code",
   "execution_count": 89,
   "metadata": {},
   "outputs": [
    {
     "name": "stdout",
     "output_type": "stream",
     "text": [
      "945/945 [==============================] - 3s 3ms/step\n"
     ]
    },
    {
     "data": {
      "text/html": [
       "<div>\n",
       "<style scoped>\n",
       "    .dataframe tbody tr th:only-of-type {\n",
       "        vertical-align: middle;\n",
       "    }\n",
       "\n",
       "    .dataframe tbody tr th {\n",
       "        vertical-align: top;\n",
       "    }\n",
       "\n",
       "    .dataframe thead th {\n",
       "        text-align: right;\n",
       "    }\n",
       "</style>\n",
       "<table border=\"1\" class=\"dataframe\">\n",
       "  <thead>\n",
       "    <tr style=\"text-align: right;\">\n",
       "      <th></th>\n",
       "      <th>accuracy</th>\n",
       "      <th>precision</th>\n",
       "      <th>recall</th>\n",
       "      <th>f1</th>\n",
       "    </tr>\n",
       "  </thead>\n",
       "  <tbody>\n",
       "    <tr>\n",
       "      <th>model_1_results</th>\n",
       "      <td>0.786078</td>\n",
       "      <td>0.782613</td>\n",
       "      <td>0.786078</td>\n",
       "      <td>0.783555</td>\n",
       "    </tr>\n",
       "    <tr>\n",
       "      <th>model_0_results</th>\n",
       "      <td>0.721832</td>\n",
       "      <td>0.718647</td>\n",
       "      <td>0.721832</td>\n",
       "      <td>0.698925</td>\n",
       "    </tr>\n",
       "    <tr>\n",
       "      <th>model_2_results</th>\n",
       "      <td>0.715279</td>\n",
       "      <td>0.716140</td>\n",
       "      <td>0.715279</td>\n",
       "      <td>0.712069</td>\n",
       "    </tr>\n",
       "    <tr>\n",
       "      <th>model_3_results</th>\n",
       "      <td>0.642692</td>\n",
       "      <td>0.637635</td>\n",
       "      <td>0.642692</td>\n",
       "      <td>0.631760</td>\n",
       "    </tr>\n",
       "  </tbody>\n",
       "</table>\n",
       "</div>"
      ],
      "text/plain": [
       "                 accuracy  precision    recall        f1\n",
       "model_1_results  0.786078   0.782613  0.786078  0.783555\n",
       "model_0_results  0.721832   0.718647  0.721832  0.698925\n",
       "model_2_results  0.715279   0.716140  0.715279  0.712069\n",
       "model_3_results  0.642692   0.637635  0.642692  0.631760"
      ]
     },
     "execution_count": 89,
     "metadata": {},
     "output_type": "execute_result"
    }
   ],
   "source": [
    "model_3_preds_prob = model_3.predict(val_char_dataset)\n",
    "model_3_preds = tf.argmax(model_3_preds_prob, \n",
    "                          axis=1)\n",
    "\n",
    "model_3_results = calculate_results(y_true=val_labels_label_encoded, \n",
    "                                    y_pred=model_3_preds)\n",
    "\n",
    "model_results = pd.DataFrame({'model_0_results': model_0_results,\n",
    "                              'model_1_results': model_1_results,\n",
    "                              'model_2_results': model_2_results,\n",
    "                              'model_3_results': model_3_results})\n",
    "\n",
    "model_results.transpose().sort_values(by='accuracy', ascending=False)"
   ]
  },
  {
   "cell_type": "markdown",
   "metadata": {},
   "source": [
    "## Model 4: Combine pretrained token embedding + characteres (hydrid)\n",
    "\n",
    "1. Create a token level embedding (similar model 1)\n",
    "2. create a character-level (similar model 3)\n",
    "3. Combine 1 & 2 model witch concatenate (layers.concatenate)\n",
    "4. Build a series of output layers on top  of 3 similar\n",
    "5. Construct a model which takes token and caracter-level sequences as input and produces sequence label probabilities as output"
   ]
  },
  {
   "cell_type": "code",
   "execution_count": 90,
   "metadata": {},
   "outputs": [],
   "source": [
    "# 1. Setup token inputs/model\n",
    "token_inputs =  tf.keras.layers.Input(shape=(), \n",
    "                                      dtype=tf.string, \n",
    "                                      name='token_input')\n",
    "\n",
    "token_embeddings = sentence_encoder_layer(token_inputs)\n",
    "\n",
    "token_output = tf.keras.layers.Dense(units=128, \n",
    "                                     activation='relu')(token_embeddings)\n",
    "\n",
    "token_model = tf.keras.Model(token_inputs, token_output, name='token_model')\n",
    "\n",
    "# 2. Setup character inputs/model\n",
    "char_inputs = tf.keras.Input(shape=(1,),\n",
    "                              dtype=tf.string,\n",
    "                              name='char_input')\n",
    "\n",
    "char_vectors = char_vectorizer(char_inputs)\n",
    "char_embeddings = char_embed_keras(char_vectors)\n",
    "char_bi_lstm = tf.keras.layers.Bidirectional(tf.keras.layers.LSTM(25))(char_embeddings) # bi-LSTM shown in figure 1 of https://arxiv.org/abs/1710.06071\n",
    "char_model = tf.keras.Model(inputs=char_inputs,\n",
    "                            outputs=char_bi_lstm,\n",
    "                            name='char_model')\n",
    "\n",
    "# 3. Setup concatenate token and char inputs/model\n",
    "token_char_concat = tf.keras.layers.Concatenate(name='token_char_hydrid')([token_model.output, \n",
    "                                                                           char_model.output])\n",
    "\n",
    "# 4. create output layers - adding in Dropout, discussed in section 4.2 of https://arxiv.org/abs/1710.06071\n",
    "combined_dropout = tf.keras.layers.Dropout(0.5)(token_char_concat)\n",
    "combined_dense = tf.keras.layers.Dense(128, \n",
    "                                       activation='relu')(combined_dropout)\n",
    "final_dropout = tf.keras.layers.Dropout(0.6)(combined_dense)\n",
    "output_layer = tf.keras.layers.Dense(num_classes, activation='softmax')(final_dropout)\n",
    "\n",
    "# 5. Construct model with char and token input/model\n",
    "model_4 = tf.keras.Model(inputs=[token_model.input, char_model.input], outputs=output_layer, name='model_4_token_and_char_embeddings')"
   ]
  },
  {
   "cell_type": "code",
   "execution_count": 91,
   "metadata": {},
   "outputs": [
    {
     "name": "stdout",
     "output_type": "stream",
     "text": [
      "Model: \"model_4_token_and_char_embeddings\"\n",
      "__________________________________________________________________________________________________\n",
      " Layer (type)                   Output Shape         Param #     Connected to                     \n",
      "==================================================================================================\n",
      " char_input (InputLayer)        [(None, 1)]          0           []                               \n",
      "                                                                                                  \n",
      " token_input (InputLayer)       [(None,)]            0           []                               \n",
      "                                                                                                  \n",
      " char_vectorizer (TextVectoriza  (None, 290)         0           ['char_input[0][0]']             \n",
      " tion)                                                                                            \n",
      "                                                                                                  \n",
      " USE (KerasLayer)               (None, 512)          256797824   ['token_input[0][0]']            \n",
      "                                                                                                  \n",
      " char_embed_keras (Embedding)   (None, 290, 25)      700         ['char_vectorizer[1][0]']        \n",
      "                                                                                                  \n",
      " dense_4 (Dense)                (None, 128)          65664       ['USE[1][0]']                    \n",
      "                                                                                                  \n",
      " bidirectional (Bidirectional)  (None, 50)           10200       ['char_embed_keras[1][0]']       \n",
      "                                                                                                  \n",
      " token_char_hydrid (Concatenate  (None, 178)         0           ['dense_4[0][0]',                \n",
      " )                                                                'bidirectional[0][0]']          \n",
      "                                                                                                  \n",
      " dropout_1 (Dropout)            (None, 178)          0           ['token_char_hydrid[0][0]']      \n",
      "                                                                                                  \n",
      " dense_5 (Dense)                (None, 128)          22912       ['dropout_1[0][0]']              \n",
      "                                                                                                  \n",
      " dropout_2 (Dropout)            (None, 128)          0           ['dense_5[0][0]']                \n",
      "                                                                                                  \n",
      " dense_6 (Dense)                (None, 5)            645         ['dropout_2[0][0]']              \n",
      "                                                                                                  \n",
      "==================================================================================================\n",
      "Total params: 256,897,945\n",
      "Trainable params: 100,121\n",
      "Non-trainable params: 256,797,824\n",
      "__________________________________________________________________________________________________\n"
     ]
    }
   ],
   "source": [
    "model_4.summary()"
   ]
  },
  {
   "cell_type": "code",
   "execution_count": 92,
   "metadata": {},
   "outputs": [
    {
     "data": {
      "image/png": "[encoded data removed]",
      "text/plain": [
       "<IPython.core.display.Image object>"
      ]
     },
     "execution_count": 92,
     "metadata": {},
     "output_type": "execute_result"
    }
   ],
   "source": [
    "# plot the model\n",
    "plot_model(model_4, show_shapes=True)"
   ]
  },
  {
   "cell_type": "code",
   "execution_count": 93,
   "metadata": {},
   "outputs": [],
   "source": [
    "# compile the model\n",
    "# model_4.compile(loss=tf.keras.losses.CategoricalCrossentropy(), optimizer=tf.keras.optimizers.Adam(), metrics=['accuracy'])\n",
    "model_4.compile(loss=tf.keras.losses.CategoricalCrossentropy(), optimizer=tf.keras.optimizers.SGD(), metrics=['accuracy'])"
   ]
  },
  {
   "cell_type": "markdown",
   "metadata": {},
   "source": [
    "## Combining token and character data into tf.data dataset\n",
    "\n",
    "see: https://www.tensorflow.org/api_docs/python/tf/data/Dataset"
   ]
  },
  {
   "cell_type": "code",
   "execution_count": 94,
   "metadata": {},
   "outputs": [
    {
     "data": {
      "text/plain": [
       "<PrefetchDataset element_spec=((TensorSpec(shape=(None,), dtype=tf.string, name=None), TensorSpec(shape=(None,), dtype=tf.string, name=None)), TensorSpec(shape=(None, 5), dtype=tf.float64, name=None))>"
      ]
     },
     "execution_count": 94,
     "metadata": {},
     "output_type": "execute_result"
    }
   ],
   "source": [
    "# combine chars and token\n",
    "train_char_token_data = tf.data.Dataset.from_tensor_slices((train_sentences, train_chars)) # make data\n",
    "train_char_token_labels = tf.data.Dataset.from_tensor_slices(train_labels_one_hot) # make labels\n",
    "train_char_token_dataset = tf.data.Dataset.zip((train_char_token_data, train_char_token_labels)) # combile data and labels\n",
    "train_char_token_dataset = train_char_token_dataset.batch(32).prefetch(tf.data.AUTOTUNE) # prefetch and batch dataset\n",
    "\n",
    "val_char_token_data = tf.data.Dataset.from_tensor_slices((val_sentences, val_chars))\n",
    "val_char_token_labels = tf.data.Dataset.from_tensor_slices(val_labels_one_hot)\n",
    "val_char_token_dataset = tf.data.Dataset.zip((val_char_token_data, val_char_token_labels))\n",
    "val_char_token_dataset = val_char_token_dataset.batch(32).prefetch(tf.data.AUTOTUNE) # prefetch and batch dataset\n",
    "\n",
    "test_char_token_data = tf.data.Dataset.from_tensor_slices((test_sentences, test_chars))\n",
    "test_char_token_labels = tf.data.Dataset.from_tensor_slices(val_labels_one_hot)\n",
    "test_char_token_dataset = tf.data.Dataset.zip((test_char_token_data, test_char_token_labels))\n",
    "test_char_token_dataset = test_char_token_dataset.batch(32).prefetch(tf.data.AUTOTUNE) # prefetch and batch dataset\n",
    "\n",
    "\n",
    "train_char_token_dataset"
   ]
  },
  {
   "cell_type": "code",
   "execution_count": 95,
   "metadata": {},
   "outputs": [
    {
     "name": "stdout",
     "output_type": "stream",
     "text": [
      "Epoch 1/5\n"
     ]
    },
    {
     "name": "stdout",
     "output_type": "stream",
     "text": [
      "562/562 [==============================] - 52s 75ms/step - loss: 1.4934 - accuracy: 0.3551 - val_loss: 1.4443 - val_accuracy: 0.4378\n",
      "Epoch 2/5\n",
      "562/562 [==============================] - 38s 67ms/step - loss: 1.4347 - accuracy: 0.4021 - val_loss: 1.4001 - val_accuracy: 0.4894\n",
      "Epoch 3/5\n",
      "562/562 [==============================] - 34s 61ms/step - loss: 1.3925 - accuracy: 0.4410 - val_loss: 1.3319 - val_accuracy: 0.5110\n",
      "Epoch 4/5\n",
      "562/562 [==============================] - 39s 70ms/step - loss: 1.3190 - accuracy: 0.4715 - val_loss: 1.2389 - val_accuracy: 0.5180\n",
      "Epoch 5/5\n",
      "562/562 [==============================] - 36s 64ms/step - loss: 1.2468 - accuracy: 0.4893 - val_loss: 1.1457 - val_accuracy: 0.5332\n"
     ]
    }
   ],
   "source": [
    "# fit the model 4\n",
    "# fit the model\n",
    "model_4_history = model_4.fit(train_char_token_dataset,\n",
    "                              steps_per_epoch=int(0.1 * len(train_char_token_dataset)),\n",
    "                              epochs=5,\n",
    "                              validation_data=val_char_token_dataset,\n",
    "                              validation_steps=int(0.1 * len(val_char_token_dataset)))"
   ]
  },
  {
   "cell_type": "code",
   "execution_count": 96,
   "metadata": {},
   "outputs": [
    {
     "name": "stdout",
     "output_type": "stream",
     "text": [
      "945/945 [==============================] - 31s 30ms/step\n"
     ]
    },
    {
     "name": "stderr",
     "output_type": "stream",
     "text": [
      "d:\\projects\\tensorflow_certificate\\.tf\\lib\\site-packages\\sklearn\\metrics\\_classification.py:1318: UndefinedMetricWarning: Precision and F-score are ill-defined and being set to 0.0 in labels with no predicted samples. Use `zero_division` parameter to control this behavior.\n",
      "  _warn_prf(average, modifier, msg_start, len(result))\n"
     ]
    },
    {
     "data": {
      "text/html": [
       "<div>\n",
       "<style scoped>\n",
       "    .dataframe tbody tr th:only-of-type {\n",
       "        vertical-align: middle;\n",
       "    }\n",
       "\n",
       "    .dataframe tbody tr th {\n",
       "        vertical-align: top;\n",
       "    }\n",
       "\n",
       "    .dataframe thead th {\n",
       "        text-align: right;\n",
       "    }\n",
       "</style>\n",
       "<table border=\"1\" class=\"dataframe\">\n",
       "  <thead>\n",
       "    <tr style=\"text-align: right;\">\n",
       "      <th></th>\n",
       "      <th>accuracy</th>\n",
       "      <th>precision</th>\n",
       "      <th>recall</th>\n",
       "      <th>f1</th>\n",
       "    </tr>\n",
       "  </thead>\n",
       "  <tbody>\n",
       "    <tr>\n",
       "      <th>model_1_results</th>\n",
       "      <td>0.786078</td>\n",
       "      <td>0.782613</td>\n",
       "      <td>0.786078</td>\n",
       "      <td>0.783555</td>\n",
       "    </tr>\n",
       "    <tr>\n",
       "      <th>model_0_results</th>\n",
       "      <td>0.721832</td>\n",
       "      <td>0.718647</td>\n",
       "      <td>0.721832</td>\n",
       "      <td>0.698925</td>\n",
       "    </tr>\n",
       "    <tr>\n",
       "      <th>model_2_results</th>\n",
       "      <td>0.715279</td>\n",
       "      <td>0.716140</td>\n",
       "      <td>0.715279</td>\n",
       "      <td>0.712069</td>\n",
       "    </tr>\n",
       "    <tr>\n",
       "      <th>model_3_results</th>\n",
       "      <td>0.642692</td>\n",
       "      <td>0.637635</td>\n",
       "      <td>0.642692</td>\n",
       "      <td>0.631760</td>\n",
       "    </tr>\n",
       "    <tr>\n",
       "      <th>model_4_results</th>\n",
       "      <td>0.541242</td>\n",
       "      <td>0.459700</td>\n",
       "      <td>0.541242</td>\n",
       "      <td>0.446563</td>\n",
       "    </tr>\n",
       "  </tbody>\n",
       "</table>\n",
       "</div>"
      ],
      "text/plain": [
       "                 accuracy  precision    recall        f1\n",
       "model_1_results  0.786078   0.782613  0.786078  0.783555\n",
       "model_0_results  0.721832   0.718647  0.721832  0.698925\n",
       "model_2_results  0.715279   0.716140  0.715279  0.712069\n",
       "model_3_results  0.642692   0.637635  0.642692  0.631760\n",
       "model_4_results  0.541242   0.459700  0.541242  0.446563"
      ]
     },
     "execution_count": 96,
     "metadata": {},
     "output_type": "execute_result"
    }
   ],
   "source": [
    "model_4_preds_prob = model_4.predict(val_char_token_dataset)\n",
    "model_4_preds = tf.argmax(model_4_preds_prob, \n",
    "                          axis=1)\n",
    "\n",
    "model_4_results = calculate_results(y_true=val_labels_label_encoded, \n",
    "                                    y_pred=model_4_preds)\n",
    "\n",
    "model_results = pd.DataFrame({'model_0_results': model_0_results,\n",
    "                              'model_1_results': model_1_results,\n",
    "                              'model_2_results': model_2_results,\n",
    "                              'model_3_results': model_3_results,\n",
    "                              'model_4_results': model_4_results})\n",
    "\n",
    "model_results.transpose().sort_values(by='accuracy', ascending=False)"
   ]
  },
  {
   "cell_type": "markdown",
   "metadata": {},
   "source": [
    "# Model 5: Pretrained token embeddings + character embeddings + positional embeddings\n",
    "\n",
    "## Feature Engineering\n",
    "* Taking `non-obvious features` from the data and encoding them numerically to help our model learn\n",
    "* How can we add extra sources of data to our model?\n",
    "\n",
    "Data augmentation is a form of feature engineering\n",
    "\n",
    "> **Note**: Any engineered features used to train a model need to be available at test time.  \n",
    "> In our case, line numbers and total line are available."
   ]
  },
  {
   "cell_type": "markdown",
   "metadata": {},
   "source": [
    "## Create positional embeddings"
   ]
  },
  {
   "cell_type": "code",
   "execution_count": 97,
   "metadata": {},
   "outputs": [
    {
     "data": {
      "text/plain": [
       "0     15000\n",
       "1     15000\n",
       "2     15000\n",
       "3     15000\n",
       "4     14992\n",
       "5     14949\n",
       "6     14758\n",
       "7     14279\n",
       "8     13346\n",
       "9     11981\n",
       "10    10041\n",
       "11     7892\n",
       "12     5853\n",
       "13     4152\n",
       "14     2835\n",
       "15     1861\n",
       "16     1188\n",
       "17      751\n",
       "18      462\n",
       "19      286\n",
       "20      162\n",
       "21      101\n",
       "22       66\n",
       "23       33\n",
       "24       22\n",
       "25       14\n",
       "26        7\n",
       "27        4\n",
       "28        3\n",
       "29        1\n",
       "30        1\n",
       "Name: number, dtype: int64"
      ]
     },
     "execution_count": 97,
     "metadata": {},
     "output_type": "execute_result"
    }
   ],
   "source": [
    "# how many different line numbers are there?\n",
    "train_df['number'].value_counts()"
   ]
  },
  {
   "cell_type": "code",
   "execution_count": 98,
   "metadata": {},
   "outputs": [
    {
     "data": {
      "text/html": [
       "<div>\n",
       "<style scoped>\n",
       "    .dataframe tbody tr th:only-of-type {\n",
       "        vertical-align: middle;\n",
       "    }\n",
       "\n",
       "    .dataframe tbody tr th {\n",
       "        vertical-align: top;\n",
       "    }\n",
       "\n",
       "    .dataframe thead th {\n",
       "        text-align: right;\n",
       "    }\n",
       "</style>\n",
       "<table border=\"1\" class=\"dataframe\">\n",
       "  <thead>\n",
       "    <tr style=\"text-align: right;\">\n",
       "      <th></th>\n",
       "      <th>target</th>\n",
       "      <th>text</th>\n",
       "      <th>number</th>\n",
       "      <th>total_line</th>\n",
       "    </tr>\n",
       "  </thead>\n",
       "  <tbody>\n",
       "    <tr>\n",
       "      <th>0</th>\n",
       "      <td>OBJECTIVE</td>\n",
       "      <td>to investigate the efficacy of @ weeks of dail...</td>\n",
       "      <td>0</td>\n",
       "      <td>11</td>\n",
       "    </tr>\n",
       "    <tr>\n",
       "      <th>1</th>\n",
       "      <td>METHODS</td>\n",
       "      <td>a total of @ patients with primary knee oa wer...</td>\n",
       "      <td>1</td>\n",
       "      <td>11</td>\n",
       "    </tr>\n",
       "    <tr>\n",
       "      <th>2</th>\n",
       "      <td>METHODS</td>\n",
       "      <td>outcome measures included pain reduction and i...</td>\n",
       "      <td>2</td>\n",
       "      <td>11</td>\n",
       "    </tr>\n",
       "    <tr>\n",
       "      <th>3</th>\n",
       "      <td>METHODS</td>\n",
       "      <td>pain was assessed using the visual analog pain...</td>\n",
       "      <td>3</td>\n",
       "      <td>11</td>\n",
       "    </tr>\n",
       "    <tr>\n",
       "      <th>4</th>\n",
       "      <td>METHODS</td>\n",
       "      <td>secondary outcome measures included the wester...</td>\n",
       "      <td>4</td>\n",
       "      <td>11</td>\n",
       "    </tr>\n",
       "  </tbody>\n",
       "</table>\n",
       "</div>"
      ],
      "text/plain": [
       "      target                                               text  number  \\\n",
       "0  OBJECTIVE  to investigate the efficacy of @ weeks of dail...       0   \n",
       "1    METHODS  a total of @ patients with primary knee oa wer...       1   \n",
       "2    METHODS  outcome measures included pain reduction and i...       2   \n",
       "3    METHODS  pain was assessed using the visual analog pain...       3   \n",
       "4    METHODS  secondary outcome measures included the wester...       4   \n",
       "\n",
       "   total_line  \n",
       "0          11  \n",
       "1          11  \n",
       "2          11  \n",
       "3          11  \n",
       "4          11  "
      ]
     },
     "execution_count": 98,
     "metadata": {},
     "output_type": "execute_result"
    }
   ],
   "source": [
    "train_df.head()"
   ]
  },
  {
   "cell_type": "code",
   "execution_count": 99,
   "metadata": {},
   "outputs": [
    {
     "data": {
      "text/plain": [
       "<AxesSubplot:ylabel='Frequency'>"
      ]
     },
     "execution_count": 99,
     "metadata": {},
     "output_type": "execute_result"
    },
    {
     "data": {
      "image/png": "[encoded data removed]",
      "text/plain": [
       "<Figure size 640x480 with 1 Axes>"
      ]
     },
     "metadata": {},
     "output_type": "display_data"
    }
   ],
   "source": [
    "# check distribution of number\n",
    "train_df.number.plot.hist()"
   ]
  },
  {
   "cell_type": "code",
   "execution_count": 137,
   "metadata": {},
   "outputs": [
    {
     "data": {
      "text/plain": [
       "(<tf.Tensor: shape=(10, 15), dtype=float32, numpy=\n",
       " array([[1., 0., 0., 0., 0., 0., 0., 0., 0., 0., 0., 0., 0., 0., 0.],\n",
       "        [0., 1., 0., 0., 0., 0., 0., 0., 0., 0., 0., 0., 0., 0., 0.],\n",
       "        [0., 0., 1., 0., 0., 0., 0., 0., 0., 0., 0., 0., 0., 0., 0.],\n",
       "        [0., 0., 0., 1., 0., 0., 0., 0., 0., 0., 0., 0., 0., 0., 0.],\n",
       "        [0., 0., 0., 0., 1., 0., 0., 0., 0., 0., 0., 0., 0., 0., 0.],\n",
       "        [0., 0., 0., 0., 0., 1., 0., 0., 0., 0., 0., 0., 0., 0., 0.],\n",
       "        [0., 0., 0., 0., 0., 0., 1., 0., 0., 0., 0., 0., 0., 0., 0.],\n",
       "        [0., 0., 0., 0., 0., 0., 0., 1., 0., 0., 0., 0., 0., 0., 0.],\n",
       "        [0., 0., 0., 0., 0., 0., 0., 0., 1., 0., 0., 0., 0., 0., 0.],\n",
       "        [0., 0., 0., 0., 0., 0., 0., 0., 0., 1., 0., 0., 0., 0., 0.]],\n",
       "       dtype=float32)>,\n",
       " TensorShape([180040, 15]))"
      ]
     },
     "execution_count": 137,
     "metadata": {},
     "output_type": "execute_result"
    }
   ],
   "source": [
    "# use tensorflow one-hot-encoder to create tensors of our number column\n",
    "train_line_numbers_one_hot = tf.one_hot(train_df['number'].to_numpy(), depth=15) # depth=15 to prevent large dimension \n",
    "val_line_numbers_one_hot = tf.one_hot(val_df['number'].to_numpy(), depth=15) # depth=15 to prevent large dimension \n",
    "test_line_numbers_one_hot = tf.one_hot(test_df['number'].to_numpy(), depth=15) # depth=15 to prevent large dimension \n",
    "\n",
    "train_line_numbers_one_hot[:10], train_line_numbers_one_hot.shape"
   ]
  },
  {
   "cell_type": "markdown",
   "metadata": {},
   "source": [
    "Now we've encoded our line numbers feature. let's do the same for our total lines"
   ]
  },
  {
   "cell_type": "code",
   "execution_count": 127,
   "metadata": {},
   "outputs": [
    {
     "data": {
      "text/plain": [
       "11    24468\n",
       "10    23639\n",
       "12    22113\n",
       "9     19400\n",
       "13    18438\n",
       "14    14610\n",
       "8     12285\n",
       "15    10768\n",
       "7      7464\n",
       "16     7429\n",
       "17     5202\n",
       "6      3353\n",
       "18     3344\n",
       "19     2480\n",
       "20     1281\n",
       "5      1146\n",
       "21      770\n",
       "22      759\n",
       "23      264\n",
       "4       215\n",
       "24      200\n",
       "25      182\n",
       "26       81\n",
       "28       58\n",
       "3        32\n",
       "30       31\n",
       "27       28\n",
       "Name: total_line, dtype: int64"
      ]
     },
     "execution_count": 127,
     "metadata": {},
     "output_type": "execute_result"
    }
   ],
   "source": [
    "train_df['total_line'].value_counts()"
   ]
  },
  {
   "cell_type": "code",
   "execution_count": 128,
   "metadata": {},
   "outputs": [
    {
     "data": {
      "text/plain": [
       "<AxesSubplot:ylabel='Frequency'>"
      ]
     },
     "execution_count": 128,
     "metadata": {},
     "output_type": "execute_result"
    },
    {
     "data": {
      "image/png": "[encoded data removed]",
      "text/plain": [
       "<Figure size 640x480 with 1 Axes>"
      ]
     },
     "metadata": {},
     "output_type": "display_data"
    }
   ],
   "source": [
    "# check distribution of total lines\n",
    "\n",
    "train_df['total_line'].plot.hist()"
   ]
  },
  {
   "cell_type": "code",
   "execution_count": 130,
   "metadata": {},
   "outputs": [
    {
     "data": {
      "text/plain": [
       "20.0"
      ]
     },
     "execution_count": 130,
     "metadata": {},
     "output_type": "execute_result"
    }
   ],
   "source": [
    "# check the coverage of a total lines\n",
    "np.percentile(train_df.total_line, 98)"
   ]
  },
  {
   "cell_type": "code",
   "execution_count": 138,
   "metadata": {},
   "outputs": [
    {
     "data": {
      "text/plain": [
       "(TensorShape([180040, 20]),\n",
       " <tf.Tensor: shape=(10, 20), dtype=float32, numpy=\n",
       " array([[0., 0., 0., 0., 0., 0., 0., 0., 0., 0., 0., 1., 0., 0., 0., 0.,\n",
       "         0., 0., 0., 0.],\n",
       "        [0., 0., 0., 0., 0., 0., 0., 0., 0., 0., 0., 1., 0., 0., 0., 0.,\n",
       "         0., 0., 0., 0.],\n",
       "        [0., 0., 0., 0., 0., 0., 0., 0., 0., 0., 0., 1., 0., 0., 0., 0.,\n",
       "         0., 0., 0., 0.],\n",
       "        [0., 0., 0., 0., 0., 0., 0., 0., 0., 0., 0., 1., 0., 0., 0., 0.,\n",
       "         0., 0., 0., 0.],\n",
       "        [0., 0., 0., 0., 0., 0., 0., 0., 0., 0., 0., 1., 0., 0., 0., 0.,\n",
       "         0., 0., 0., 0.],\n",
       "        [0., 0., 0., 0., 0., 0., 0., 0., 0., 0., 0., 1., 0., 0., 0., 0.,\n",
       "         0., 0., 0., 0.],\n",
       "        [0., 0., 0., 0., 0., 0., 0., 0., 0., 0., 0., 1., 0., 0., 0., 0.,\n",
       "         0., 0., 0., 0.],\n",
       "        [0., 0., 0., 0., 0., 0., 0., 0., 0., 0., 0., 1., 0., 0., 0., 0.,\n",
       "         0., 0., 0., 0.],\n",
       "        [0., 0., 0., 0., 0., 0., 0., 0., 0., 0., 0., 1., 0., 0., 0., 0.,\n",
       "         0., 0., 0., 0.],\n",
       "        [0., 0., 0., 0., 0., 0., 0., 0., 0., 0., 0., 1., 0., 0., 0., 0.,\n",
       "         0., 0., 0., 0.]], dtype=float32)>)"
      ]
     },
     "execution_count": 138,
     "metadata": {},
     "output_type": "execute_result"
    }
   ],
   "source": [
    "# use Tensorflow to create one-hot-encoder tensors of our total_line feature\n",
    "train_total_line_one_hot = tf.one_hot(train_df.total_line.to_numpy(), depth=20)\n",
    "val_total_line_one_hot = tf.one_hot(val_df.total_line.to_numpy(), depth=20)\n",
    "test_total_line_one_hot = tf.one_hot(test_df.total_line.to_numpy(), depth=20)\n",
    "\n",
    "train_total_line_one_hot.shape, train_total_line_one_hot[:10]"
   ]
  },
  {
   "cell_type": "markdown",
   "metadata": {},
   "source": [
    "## Building a tribrid embedding model\n",
    "\n",
    "1. create a token-level model\n",
    "2. create a character-level model\n",
    "3. create a model for the line number feature\n",
    "4. create a model for the total line feature\n",
    "5. combine the outputs of 1 and 2 using tf.keras.layers.Concatenate\n",
    "6. combine the outputs of 3, 4, 5 using tf.keras.layers.Concatenate\n",
    "7. create an output layer to accept the tribrided embedding and output label probabilities\n",
    "8. combine the inputs of 1, 2, 3, 4 and outputs of into a tf.keras.Model"
   ]
  },
  {
   "cell_type": "code",
   "execution_count": 140,
   "metadata": {},
   "outputs": [
    {
     "data": {
      "text/plain": [
       "(TensorShape([15]), TensorShape([20]))"
      ]
     },
     "execution_count": 140,
     "metadata": {},
     "output_type": "execute_result"
    }
   ],
   "source": [
    "train_line_numbers_one_hot[0].shape, train_total_line_one_hot[0].shape"
   ]
  },
  {
   "cell_type": "code",
   "execution_count": 147,
   "metadata": {},
   "outputs": [],
   "source": [
    "# 1. Token inputs\n",
    "token_inputs = tf.keras.layers.Input(shape=(), \n",
    "                                     dtype=tf.string, \n",
    "                                     name='token_input')\n",
    "\n",
    "# 1.1 create token embedding with pretrained model\n",
    "token_embeddings = sentence_encoder_layer(token_inputs) # transfer learning - pretrained model \n",
    "\n",
    "# 1.2 token output with activation relu\n",
    "token_outputs = tf.keras.layers.Dense(units=128, \n",
    "                                      activation='relu')(token_embeddings)\n",
    "\n",
    "# 1.3 create token model\n",
    "token_model = tf.keras.Model(inputs=token_inputs,\n",
    "                             outputs=token_outputs,\n",
    "                             name='token_model')\n",
    "\n",
    "# 2. Char inputs\n",
    "char_inputs = tf.keras.layers.Input(shape=(1,), \n",
    "                                    dtype=tf.string, \n",
    "                                    name='char_input')\n",
    "# 2.1 create a character vectorizer\n",
    "char_vectors = char_vectorizer(char_inputs)\n",
    "\n",
    "# 2.2 create a character embeddings with keras Embedding output_dim\n",
    "char_embeddings = char_embed_keras(char_vectors)\n",
    "\n",
    "# 2.3 create bidirectional layer with LSTM\n",
    "char_bi_lstm = tf.keras.layers.Bidirectional(tf.keras.layers.LSTM(24))(char_embeddings) # bi-LSTM shown in figure 1 of https://arxiv.org/abs/1710.06071\n",
    "\n",
    "# 2.3 create a char model\n",
    "char_model = tf.keras.Model(inputs=char_inputs,\n",
    "                            outputs=char_bi_lstm,\n",
    "                            name='char_model')\n",
    "\n",
    "# 3. Line number model\n",
    "line_number_inputs = tf.keras.layers.Input(shape=(15,), # train_line_numbers_one_hot[0].shape\n",
    "                                           dtype=tf.float32,\n",
    "                                           name='line_number_input')\n",
    "\n",
    "# 3.1 create a dense layer with 32 units\n",
    "line_number_outputs = tf.keras.layers.Dense(units=32,\n",
    "                                            activation='relu')(line_number_inputs)\n",
    "\n",
    "# 3.2 create a line model\n",
    "line_number_model = tf.keras.Model(inputs=line_number_inputs,\n",
    "                                   outputs=line_number_outputs,\n",
    "                                   name='line_number_model')\n",
    "# 4. Total lines model\n",
    "total_number_inputs = tf.keras.layers.Input(shape=(20,), # train_total_line_one_hot[0].shape\n",
    "                                            dtype=tf.float32,\n",
    "                                            name='total_number_input')\n",
    "\n",
    "# 4.1 create a dense layer with 32 units and activation relu\n",
    "total_number_outputs = tf.keras.layers.Dense(units=32,\n",
    "                                             activation='relu')(total_number_inputs)\n",
    "\n",
    "# 4.2 create a total model\n",
    "total_number_model = tf.keras.Model(inputs=total_number_inputs,\n",
    "                                    outputs=total_number_outputs,\n",
    "                                    name='total_number_model')\n",
    "\n",
    "# 5. combine token and char embeddings into hydrid embedding\n",
    "combined_embeddings = tf.keras.layers.Concatenate(name='char_token_hydrid_embedding')([token_model.output, \n",
    "                                                                                       char_model.output])\n",
    "# 5.1 create a dense layer with 256 unis and activation relu\n",
    "z = tf.keras.layers.Dense(units=256, \n",
    "                          activation='relu')(combined_embeddings)\n",
    "\n",
    "# 5.2 create a Dropout layer with 0.5\n",
    "z = tf.keras.layers.Dropout(0.5)(z)\n",
    "\n",
    "# 6. combine positional embedding with conbinaed token and char embeddings\n",
    "tribrid_embeddings = tf.keras.layers.Concatenate(name='char_token_possitional_embedding')([line_number_model.output,\n",
    "                                                                                          total_number_model.output,\n",
    "                                                                                          z])\n",
    "\n",
    "# 7. create output layer \n",
    "output_layer = tf.keras.layers.Dense(units=num_classes,\n",
    "                                     activation='softmax',\n",
    "                                     name='output_layer')(tribrid_embeddings)\n",
    "\n",
    "# 8. put together model with all kinds of inputs\n",
    "model_5 = tf.keras.Model(inputs=[line_number_model.input,\n",
    "                                 total_number_model.input,\n",
    "                                 token_model.input,\n",
    "                                 char_model.input],\n",
    "                                 outputs=output_layer,\n",
    "                                 name='model_5_tribrid')"
   ]
  },
  {
   "cell_type": "code",
   "execution_count": 148,
   "metadata": {},
   "outputs": [
    {
     "name": "stdout",
     "output_type": "stream",
     "text": [
      "Model: \"model_5_tribrid\"\n",
      "__________________________________________________________________________________________________\n",
      " Layer (type)                   Output Shape         Param #     Connected to                     \n",
      "==================================================================================================\n",
      " char_input (InputLayer)        [(None, 1)]          0           []                               \n",
      "                                                                                                  \n",
      " token_input (InputLayer)       [(None,)]            0           []                               \n",
      "                                                                                                  \n",
      " char_vectorizer (TextVectoriza  (None, 290)         0           ['char_input[0][0]']             \n",
      " tion)                                                                                            \n",
      "                                                                                                  \n",
      " USE (KerasLayer)               (None, 512)          256797824   ['token_input[0][0]']            \n",
      "                                                                                                  \n",
      " char_embed_keras (Embedding)   (None, 290, 25)      700         ['char_vectorizer[5][0]']        \n",
      "                                                                                                  \n",
      " dense_16 (Dense)               (None, 128)          65664       ['USE[5][0]']                    \n",
      "                                                                                                  \n",
      " bidirectional_4 (Bidirectional  (None, 48)          9600        ['char_embed_keras[5][0]']       \n",
      " )                                                                                                \n",
      "                                                                                                  \n",
      " char_token_hydrid_embedding (C  (None, 176)         0           ['dense_16[0][0]',               \n",
      " oncatenate)                                                      'bidirectional_4[0][0]']        \n",
      "                                                                                                  \n",
      " line_number_input (InputLayer)  [(None, 15)]        0           []                               \n",
      "                                                                                                  \n",
      " total_number_input (InputLayer  [(None, 20)]        0           []                               \n",
      " )                                                                                                \n",
      "                                                                                                  \n",
      " dense_19 (Dense)               (None, 256)          45312       ['char_token_hydrid_embedding[0][\n",
      "                                                                 0]']                             \n",
      "                                                                                                  \n",
      " dense_17 (Dense)               (None, 32)           512         ['line_number_input[0][0]']      \n",
      "                                                                                                  \n",
      " dense_18 (Dense)               (None, 32)           672         ['total_number_input[0][0]']     \n",
      "                                                                                                  \n",
      " dropout_5 (Dropout)            (None, 256)          0           ['dense_19[0][0]']               \n",
      "                                                                                                  \n",
      " char_token_possitional_embeddi  (None, 320)         0           ['dense_17[0][0]',               \n",
      " ng (Concatenate)                                                 'dense_18[0][0]',               \n",
      "                                                                  'dropout_5[0][0]']              \n",
      "                                                                                                  \n",
      " output_layer (Dense)           (None, 5)            1605        ['char_token_possitional_embeddin\n",
      "                                                                 g[0][0]']                        \n",
      "                                                                                                  \n",
      "==================================================================================================\n",
      "Total params: 256,921,889\n",
      "Trainable params: 124,065\n",
      "Non-trainable params: 256,797,824\n",
      "__________________________________________________________________________________________________\n"
     ]
    }
   ],
   "source": [
    "model_5.summary()"
   ]
  },
  {
   "cell_type": "code",
   "execution_count": 149,
   "metadata": {},
   "outputs": [
    {
     "data": {
      "image/png": "[encoded data removed]",
      "text/plain": [
       "<IPython.core.display.Image object>"
      ]
     },
     "execution_count": 149,
     "metadata": {},
     "output_type": "execute_result"
    }
   ],
   "source": [
    "# plot model 5 to explore visualize\n",
    "plot_model(model_5, show_shapes=True)"
   ]
  },
  {
   "cell_type": "code",
   "execution_count": 150,
   "metadata": {},
   "outputs": [],
   "source": [
    "# compile the model\n",
    "model_5.compile(loss=tf.keras.losses.CategoricalCrossentropy(label_smoothing=0.2), # helps to prevent overfitting\n",
    "optimizer=tf.keras.optimizers.Adam(),\n",
    "metrics=['accuracy'])"
   ]
  },
  {
   "cell_type": "markdown",
   "metadata": {},
   "source": [
    "## Create tribrid embedding datasets using tf.data"
   ]
  },
  {
   "cell_type": "code",
   "execution_count": 101,
   "metadata": {},
   "outputs": [
    {
     "data": {
      "text/plain": [
       "array([[18.,  4.,  7., 10., 22.,  5.,  3.,  2., 12., 17.,  8., 12., 15.,\n",
       "         9.,  8.,  9., 15.,  7.,  2.,  2.,  1.,  1., 18.,  4.,  7., 10.,\n",
       "        22.,  5.,  3.,  2., 12., 17.,  8., 12., 15.,  9.,  8.,  9., 15.,\n",
       "         7.,  2.,  2.,  1.,  1.,  0.,  0.,  0.,  0.,  0.,  0.,  0.,  0.,\n",
       "         0.,  0.,  0.,  0.,  0.,  0.,  0.,  0.,  0.,  0.,  0.,  0.,  0.,\n",
       "         0.,  0.,  0.,  0.,  0.,  0.,  0.,  0.,  0.,  0.,  0.,  0.,  0.,\n",
       "         0.,  0.,  0.,  0.,  0.,  0.,  0.,  0.,  0.,  0.,  0.,  0.,  0.,\n",
       "         0.,  0.,  0.,  0.,  0.,  0.,  0.,  0.,  0.,  0.,  0.,  0.,  0.,\n",
       "         0.,  0.,  0.,  0.,  0.,  0.,  0.,  0.,  0.,  0.,  0.,  0.,  0.,\n",
       "         0.,  0.,  0.,  0.,  0.,  0.,  0.,  0.,  0.,  0.,  0.,  0.,  0.,\n",
       "         0.,  0.,  0.,  0.,  0.,  0.,  0.,  0.,  0.,  0.,  0.,  0.,  0.,\n",
       "         0.,  0.,  0.,  0.,  0.,  0.,  0.,  0.,  0.,  0.,  0.,  0.,  0.,\n",
       "         0.,  0.,  0.,  0.,  0.,  0.,  0.,  0.,  0.,  0.,  0.,  0.,  0.,\n",
       "         0.,  0.,  0.,  0.,  0.,  0.,  0.,  0.,  0.,  0.,  0.,  0.,  0.,\n",
       "         0.,  0.,  0.,  0.,  0.,  0.,  0.,  0.,  0.,  0.,  0.,  0.,  0.,\n",
       "         0.,  0.,  0.,  0.,  0.,  0.,  0.,  0.,  0.,  0.,  0.,  0.,  0.,\n",
       "         0.,  0.,  0.,  0.,  0.,  0.,  0.,  0.,  0.,  0.,  0.,  0.,  0.,\n",
       "         0.,  0.,  0.,  0.,  0.,  0.,  0.,  0.,  0.,  0.,  0.,  0.,  0.,\n",
       "         0.,  0.,  0.,  0.,  0.,  0.,  0.,  0.,  0.,  0.,  0.,  0.,  0.,\n",
       "         0.,  0.,  0.,  0.,  0.,  0.,  0.,  0.,  0.,  0.,  0.,  0.,  0.,\n",
       "         0.,  0.,  0.,  0.,  0.,  0.,  0.,  0.,  0.,  0.,  0.,  0.,  0.,\n",
       "         0.,  0.,  0.,  0.,  0.,  0.,  0.,  0.,  0.,  0.,  0.,  0.,  0.,\n",
       "         0.,  0.,  0.,  0.]])"
      ]
     },
     "execution_count": 101,
     "metadata": {},
     "output_type": "execute_result"
    }
   ],
   "source": [
    "cores = multiprocessing.cpu_count()\n",
    "tf_idf_vectorizer = TfidfVectorizer(max_features=25)\n",
    "vectorized_chars_counter = count_vectorizer.fit_transform([random_train_chars])\n",
    "vectorized_chars_counter_array = np.hstack((vectorized_chars_counter.toarray()[0], \n",
    "                                            np.zeros(output_seq_char_len - len(vectorized_chars_counter.toarray()[0])))).reshape(1, -1)\n",
    "\n",
    "vectorized_chars_counter_array"
   ]
  },
  {
   "cell_type": "code",
   "execution_count": 102,
   "metadata": {},
   "outputs": [],
   "source": [
    "tf_idf_vectorizer = TfidfVectorizer(max_features=25,\n",
    "                                    stop_words=nltk.corpus.stopwords.words('english'),\n",
    "                                    strip_accents='ascii',\n",
    "                                    analyzer='char_wb')\n",
    "char_embed_tf_idf = tf_idf_vectorizer.fit_transform(np.hstack((random_train_chars.split(), \n",
    "                                                               np.zeros(output_seq_char_len - len(random_train_chars.split())))))"
   ]
  },
  {
   "cell_type": "code",
   "execution_count": 103,
   "metadata": {},
   "outputs": [
    {
     "data": {
      "text/plain": [
       "<290x25 sparse matrix of type '<class 'numpy.float64'>'\n",
       "\twith 659 stored elements in Compressed Sparse Row format>"
      ]
     },
     "execution_count": 103,
     "metadata": {},
     "output_type": "execute_result"
    }
   ],
   "source": [
    "char_embed_tf_idf"
   ]
  },
  {
   "cell_type": "code",
   "execution_count": 104,
   "metadata": {},
   "outputs": [
    {
     "name": "stderr",
     "output_type": "stream",
     "text": [
      "WARNING:gensim.models.word2vec:Each 'sentences' item should be a list of words (usually unicode strings). First item here is instead plain <class 'numpy.str_'>.\n"
     ]
    },
    {
     "data": {
      "text/plain": [
       "(6023, 46200)"
      ]
     },
     "execution_count": 104,
     "metadata": {},
     "output_type": "execute_result"
    }
   ],
   "source": [
    "cores = multiprocessing.cpu_count()\n",
    "vocabs = np.hstack((random_train_chars.split(),\n",
    "                    np.zeros(output_seq_char_len - len(random_train_chars.split()))))\n",
    "w2v_model = Word2Vec(min_count=4,\n",
    "                     window=4,\n",
    "                     vector_size=len(vocabs),\n",
    "                     alpha=0.03, \n",
    "                     min_alpha=0.0007, \n",
    "                     sg = 1,\n",
    "                     workers=cores-1)\n",
    "w2v_model.build_vocab(vocabs, progress_per=10000)\n",
    "w2v_model.train(vocabs, total_examples=w2v_model.corpus_count, epochs=100, report_delay=1)"
   ]
  },
  {
   "cell_type": "code",
   "execution_count": 105,
   "metadata": {},
   "outputs": [
    {
     "data": {
      "text/plain": [
       "(20, 290)"
      ]
     },
     "execution_count": 105,
     "metadata": {},
     "output_type": "execute_result"
    }
   ],
   "source": [
    "w2v_model.wv.vectors.shape"
   ]
  },
  {
   "cell_type": "code",
   "execution_count": 106,
   "metadata": {},
   "outputs": [],
   "source": [
    "# with open('D:/txt/cbow_s1000.txt', 'r', encoding='utf-8') as f:\n",
    "#     lines = f.readlines()"
   ]
  },
  {
   "cell_type": "code",
   "execution_count": 107,
   "metadata": {},
   "outputs": [],
   "source": [
    "# for line in lines[1:10]:\n",
    "#     print(line.split())"
   ]
  },
  {
   "cell_type": "code",
   "execution_count": 108,
   "metadata": {},
   "outputs": [],
   "source": [
    "# parser = argparse.ArgumentParser()\n",
    "# parser.add_argument('input', help='Single embedding txt file')\n",
    "# parser.add_argument('output', help='Output basename without extension')\n",
    "# args = parser.parse_args()\n",
    "\n",
    "# embedding_cbow_file = args.ouput + '.npy'\n",
    "# vocabulary_cbow_file = args.output + '.txt'\n",
    "\n",
    "# https://blog.ekbana.com/loading-glove-pre-trained-word-embedding-model-from-text-file-faster-5d3e8f2b8455\n",
    "# https://gist.github.com/erickrf/e54cd0f3d917ec61b3ae758a5e47b883\n",
    "# https://machinelearningmastery.com/develop-word-embeddings-python-gensim/\n",
    "# https://medium.com/@zafaralibagh6/a-simple-word2vec-tutorial-61e64e38a6a1\n",
    "# https://github.com/deeplearning4j\n",
    "# https://medium.com/@erkajalkumari/step-by-step-guide-to-word2vec-with-gensim-2c4cd9dde01f\n",
    "\n",
    "# vocabs = []\n",
    "# words_vector = []\n",
    "# for line in lines[1:100]:\n",
    "#     splitlines = line.split()\n",
    "#     vocabs.append(splitlines[0].strip())\n",
    "#     words_vector.append(np.fromiter((np.float32(x.replace(',', '.')) for x in splitlines[1:]), dtype=np.float32))"
   ]
  },
  {
   "cell_type": "code",
   "execution_count": 109,
   "metadata": {},
   "outputs": [],
   "source": [
    "# np.save('D:/txt/cbow_1000.npy', np.array(words_vector))\n",
    "# with open('D:/txt/cbow_1000.vocab', 'w', encoding='utf-8') as f:\n",
    "#     for vocab in vocabs:\n",
    "#         f.write(vocab)\n",
    "#         f.write('\\n')"
   ]
  },
  {
   "cell_type": "code",
   "execution_count": 110,
   "metadata": {},
   "outputs": [],
   "source": [
    "def convert_to_binary(input_txt, output_vocab, output_binary):\n",
    "    \"\"\"\n",
    "    :param input_txt - takes path of embedding which is in text format\n",
    "    :param output_vocab - output vocabulary\n",
    "    :param output_binary - output numpy array binary \n",
    "    :return a binary file Numpy .npy format\n",
    "    \"\"\"\n",
    "    with open(input_txt, 'r', encoding='utf-8') as read_file:\n",
    "        lines = read_file.readlines()\n",
    "        word_vector = []\n",
    "        with open(output_vocab, 'w', encoding='utf-8') as write_file:\n",
    "            for line in lines[1:100]:\n",
    "                splitlines = line.split()\n",
    "                write_file.write(splitlines[0].strip().encode('utf-8'))\n",
    "                write_file.write(\"\\n\")\n",
    "                word_vector.append(np.fromiter((np.float32(x.replace(',', '.')) for x in splitlines[1:]), dtype=np.float32))\n",
    "    np.save(output_binary, np.array(word_vector))"
   ]
  },
  {
   "cell_type": "code",
   "execution_count": 111,
   "metadata": {},
   "outputs": [],
   "source": [
    "def load_embeddings_binary():\n",
    "    \"\"\"\n",
    "    encoding='cp1252'\n",
    "    It loads embedding provided by glove which is saved as binary file. Loading of this model is\n",
    "    about  second faster than that of loading of txt glove file as model.\n",
    "    :param embeddings_path: path of glove file.\n",
    "    :return: glove model\n",
    "    \"\"\"\n",
    "    model = {}\n",
    "\n",
    "    with open('D:/txt/cbow_1000.vocab', 'r', encoding='utf-8') as file:\n",
    "        words = [line.strip() for line in file]\n",
    "    \n",
    "    wv = np.load('D:/txt/cbow_1000.npy')\n",
    "    \n",
    "    for i, w in enumerate(words):\n",
    "        model[w] = wv[i]\n",
    "    \n",
    "    return model"
   ]
  },
  {
   "cell_type": "code",
   "execution_count": 112,
   "metadata": {},
   "outputs": [],
   "source": [
    "def build_phrases(sentences):\n",
    "    phrases = Phrases(sentences,\n",
    "                      min_count=5,\n",
    "                      threshold=7,\n",
    "                      progress_per=1000)\n",
    "    return Phraser(phrases)"
   ]
  },
  {
   "cell_type": "code",
   "execution_count": 113,
   "metadata": {},
   "outputs": [],
   "source": [
    "result = build_phrases([\"hoje é bonito\", \"amanhã será feito\"])"
   ]
  },
  {
   "cell_type": "code",
   "execution_count": 114,
   "metadata": {},
   "outputs": [],
   "source": [
    "# dict_w2v = load_embeddings_binary()\n",
    "# embedding_df = pd.DataFrame(dict_w2v)\n",
    "# embedding_df"
   ]
  },
  {
   "cell_type": "code",
   "execution_count": 115,
   "metadata": {},
   "outputs": [],
   "source": [
    "def get_w2v(sentence, model):\n",
    "    \"\"\"\n",
    "    :param sentence: inputs a single sentences whose word embedding is to be extracted.\n",
    "    :param model: inputs glove model.\n",
    "    :return: returns numpy array containing word embedding of all words    in input sentence.\n",
    "    \"\"\"\n",
    "    return np.array([model.get(val, np.zeros(1000)) for val in sentence.split()], dtype=np.float64)"
   ]
  },
  {
   "cell_type": "code",
   "execution_count": 116,
   "metadata": {},
   "outputs": [],
   "source": [
    "w2v_sentences = [\"oi me ferrei!\"]\n",
    "model_w2v = Word2Vec(sentences=[sentence.split() for sentence in w2v_sentences], \n",
    "                     vector_size=1000,\n",
    "                     min_count=1)"
   ]
  },
  {
   "cell_type": "code",
   "execution_count": 117,
   "metadata": {},
   "outputs": [
    {
     "name": "stderr",
     "output_type": "stream",
     "text": [
      "WARNING:gensim.models.keyedvectors:sorting after vectors have been allocated is expensive & error-prone\n"
     ]
    }
   ],
   "source": [
    "model_w2v.build_vocab([sentence.split() for sentence in w2v_sentences])"
   ]
  },
  {
   "cell_type": "code",
   "execution_count": 118,
   "metadata": {},
   "outputs": [
    {
     "data": {
      "text/plain": [
       "array([[ 0.01410555,  0.00464589, -0.01393688, ..., -0.04186802,\n",
       "        -0.0317688 ,  0.00677336],\n",
       "       [ 0.03794698, -0.00839328,  0.04254368, ...,  0.0391486 ,\n",
       "         0.02925768,  0.04951321],\n",
       "       [-0.00294314,  0.00129767,  0.02801025, ...,  0.03203147,\n",
       "         0.05154461,  0.01924811]], dtype=float32)"
      ]
     },
     "execution_count": 118,
     "metadata": {},
     "output_type": "execute_result"
    }
   ],
   "source": [
    "model_w2v.wv.get_normed_vectors()"
   ]
  },
  {
   "cell_type": "code",
   "execution_count": 119,
   "metadata": {},
   "outputs": [
    {
     "data": {
      "text/plain": [
       "array([ 2.57017615e-04,  8.46529001e-05, -2.53944163e-04,  9.35766671e-04,\n",
       "        2.75750877e-04,  4.09564731e-04, -1.18293523e-04,  9.04502886e-05,\n",
       "        6.62430772e-04, -7.26501967e-05,  3.34150798e-04, -6.72020906e-05,\n",
       "        5.24839619e-04,  3.63993400e-04,  2.58252869e-04, -5.30989433e-04,\n",
       "       -4.70810162e-04,  4.30802116e-04, -5.90717071e-04, -1.80206298e-05,\n",
       "       -6.33516320e-05,  3.49324226e-04, -8.44226626e-04,  8.81723419e-04,\n",
       "       -1.44874575e-04, -5.33092709e-04,  4.05446772e-04, -1.93549160e-04,\n",
       "       -7.76548404e-04, -4.49679850e-04, -3.87728214e-05, -8.94647383e-04,\n",
       "        5.70561897e-05,  2.44179246e-04, -3.22527398e-04,  2.57040025e-04,\n",
       "        2.48079770e-04,  9.98821459e-04,  1.43050434e-04,  2.02053780e-04,\n",
       "        2.77956016e-04, -2.07787278e-04, -8.69861629e-04,  8.02317401e-04,\n",
       "       -1.97469708e-04, -9.69231362e-04, -6.55200507e-04, -3.94586095e-04,\n",
       "        3.95434618e-04,  5.03858086e-04,  6.08601084e-04, -6.77026052e-04,\n",
       "        6.88836590e-05, -2.77528277e-04, -5.20919799e-04,  6.98127260e-04,\n",
       "        3.95196665e-04, -3.10650823e-04, -8.27690819e-04, -5.14078594e-04,\n",
       "       -6.49535650e-05,  7.81176321e-04,  6.04418514e-04, -8.45165749e-04,\n",
       "       -9.56353673e-04,  7.13383430e-04, -2.32756618e-04, -3.69230984e-04,\n",
       "        5.74983133e-04, -5.84430702e-04,  5.09395381e-04, -2.42426395e-05,\n",
       "       -6.87516469e-04, -3.31637857e-05,  6.35899079e-04,  9.29393747e-04,\n",
       "        2.22091199e-04,  5.05009200e-04, -4.97452507e-04, -7.97553075e-05,\n",
       "       -5.31763537e-04,  1.18896249e-04, -1.79321534e-04, -3.63263593e-04,\n",
       "       -7.01437937e-04,  9.65443149e-04,  2.97582621e-04, -2.28122473e-04,\n",
       "       -4.18409123e-04,  7.71378749e-04, -6.48185494e-04,  3.12154298e-04,\n",
       "        7.87355893e-05,  8.32288002e-04,  6.83617603e-04, -2.90864700e-04,\n",
       "        2.53509992e-04, -1.66607380e-04, -9.45466280e-04, -2.61346111e-04,\n",
       "        1.33252383e-04,  6.54085656e-04,  9.98460338e-04,  9.06245492e-04,\n",
       "       -8.01536080e-04,  6.49138470e-04, -5.71473851e-04, -9.71574773e-05,\n",
       "        4.82821451e-05,  6.58193370e-04,  4.47014318e-04,  4.60372685e-04,\n",
       "        9.48312285e-04,  3.82664221e-05, -6.03871362e-04, -6.33010175e-04,\n",
       "        6.43178937e-04, -5.24258125e-04, -2.84981244e-04,  4.07528394e-04,\n",
       "       -2.29023688e-04, -6.02521410e-04, -2.32365608e-04,  1.20691773e-04,\n",
       "        2.18335874e-04,  6.08377217e-04, -5.21400187e-04,  3.07795999e-04,\n",
       "        7.24067446e-04,  2.19511276e-04,  5.39748929e-04, -4.84533317e-04,\n",
       "        6.15261088e-04, -7.60128256e-04,  3.49286565e-04, -9.32180381e-04,\n",
       "       -2.60431058e-04, -9.07320005e-04, -1.58826835e-04, -5.36475156e-04,\n",
       "       -3.94392002e-04,  1.15365270e-04,  2.80034787e-04, -1.52639623e-04,\n",
       "       -8.17051623e-04, -5.91802353e-04,  8.19294437e-05, -3.94625909e-04,\n",
       "       -9.43044899e-04, -7.74974833e-05,  6.63326762e-04,  5.97884413e-04,\n",
       "       -9.91725945e-04,  3.11858166e-04, -5.98730112e-04, -9.18189064e-04,\n",
       "        1.70211788e-05, -3.69620320e-05, -6.97200070e-04, -6.28005771e-04,\n",
       "       -2.42608541e-04,  7.09665532e-04, -7.54587876e-04,  7.69808306e-04,\n",
       "       -4.75444795e-05,  1.09329223e-04,  9.48266010e-04,  4.72815998e-04,\n",
       "       -3.57276673e-04,  3.73561867e-04,  3.51928466e-04,  6.33669610e-04,\n",
       "        6.93392758e-06, -4.42368735e-04,  1.31827110e-04, -5.41423564e-04,\n",
       "        1.41175740e-04,  4.92618070e-04,  5.15484833e-04,  9.18163802e-04,\n",
       "       -7.51266489e-04, -5.40364475e-04,  6.46937115e-04,  1.35547874e-04,\n",
       "       -6.61180238e-04,  8.84389883e-05,  2.67704017e-04, -2.52883678e-04,\n",
       "       -4.96016000e-04,  5.00475406e-04,  9.62182065e-04, -7.36467366e-04,\n",
       "       -1.15323064e-05, -2.56445899e-04, -6.36514160e-04, -1.37865543e-04,\n",
       "       -5.25078562e-04,  9.05999448e-04, -5.79076994e-04,  3.68607522e-04,\n",
       "       -2.37486365e-05,  4.21917677e-04,  2.11414575e-04,  9.99582000e-04,\n",
       "        6.29479910e-05, -5.46442752e-04, -1.17969277e-04,  2.07053177e-04,\n",
       "       -3.37306963e-04, -7.84676813e-04, -5.59926266e-04, -6.75006886e-04,\n",
       "        6.35332603e-04,  3.92255548e-04,  8.21553462e-04,  6.51966839e-04,\n",
       "       -6.12784119e-04,  2.71594996e-04,  8.47212563e-04,  1.59565694e-04,\n",
       "        3.06822767e-04,  5.81261411e-04, -8.83937115e-04,  9.12474643e-04,\n",
       "        6.81948208e-04,  8.51044198e-04, -8.22626345e-04,  6.17553946e-04,\n",
       "        6.62907143e-04, -1.35764363e-04, -6.29386690e-04,  5.32667851e-04,\n",
       "       -6.85957901e-04, -5.32335544e-04,  3.51168885e-04,  8.08097131e-04,\n",
       "        8.69269366e-04, -4.40531498e-04, -9.18877136e-04,  9.60769423e-04,\n",
       "        6.29030692e-04, -3.96633637e-04, -8.45973031e-04, -4.71833453e-04,\n",
       "       -3.95722862e-04, -3.27345129e-04,  8.19091802e-05, -2.97162533e-05,\n",
       "       -3.11237818e-04, -5.99598861e-04,  9.42051876e-04, -4.72553744e-04,\n",
       "       -7.26209895e-04,  7.68472906e-04,  2.51769554e-04,  8.62639456e-04,\n",
       "       -4.46511753e-04, -6.89240464e-04,  9.84902363e-05, -1.17297648e-04,\n",
       "       -9.39706573e-04, -1.60307405e-04,  3.05059919e-04,  6.56578050e-04,\n",
       "        6.84524071e-04,  3.20827734e-04, -4.44327365e-04, -1.83916811e-04,\n",
       "       -3.94025788e-04,  5.77391358e-04, -6.35870907e-04,  2.10301878e-04,\n",
       "       -1.34523390e-04, -5.81277825e-04, -7.24621292e-04,  5.85256086e-04,\n",
       "       -8.35820450e-04, -6.87251086e-05,  2.82742491e-04,  7.73901003e-04,\n",
       "       -7.29790947e-04,  3.30457202e-04,  9.80849727e-04, -6.97707874e-04,\n",
       "       -3.53485812e-04,  5.13351173e-04,  5.23838506e-04,  1.62411452e-04,\n",
       "        7.97113404e-04,  8.31587313e-05,  1.87131649e-04, -1.60525087e-04,\n",
       "       -8.16627755e-04,  3.25780391e-04,  1.96636436e-04, -8.73420504e-04,\n",
       "       -6.75008268e-05,  7.66706489e-06, -5.96046448e-07,  8.71013384e-04,\n",
       "       -2.50876677e-04, -5.90265729e-04,  7.48333696e-04, -7.25973339e-04,\n",
       "       -8.96611949e-04, -1.78959366e-04, -8.36743857e-04,  3.90207751e-05,\n",
       "        1.94573397e-04, -2.46948475e-04, -6.44801126e-04, -3.21180814e-05,\n",
       "       -1.09850407e-04,  3.49336158e-04,  8.12701241e-04,  5.85556962e-04,\n",
       "        8.44098802e-04, -8.96817190e-04,  9.44248692e-04, -2.36575608e-04,\n",
       "        8.69705225e-04,  2.38461740e-04,  3.58524092e-04, -9.58168763e-04,\n",
       "       -9.48645349e-04,  8.98391940e-04, -2.89676915e-04,  2.81641725e-04,\n",
       "        6.41944178e-04, -2.99928197e-05,  9.72189649e-04, -1.03371618e-04,\n",
       "       -9.67287517e-04, -7.05484883e-04, -1.04315761e-04, -8.67490075e-04,\n",
       "        7.42144824e-04,  3.61933227e-04, -8.74694611e-04,  8.47972173e-04,\n",
       "        8.92963901e-04,  5.84736816e-04,  6.90985180e-04, -9.57091339e-04,\n",
       "        4.92467880e-05, -9.22063133e-04, -3.66601715e-04,  2.53169528e-05,\n",
       "       -2.80406475e-05,  1.46528240e-04,  3.27754271e-04,  2.12692743e-04,\n",
       "        5.31984551e-04,  7.52049440e-04, -5.88568917e-04,  7.95731554e-04,\n",
       "        5.99150662e-04,  9.78588825e-04,  4.62385651e-04, -3.32727679e-04,\n",
       "       -3.74640716e-04, -6.29124625e-05, -1.65519959e-04,  9.87258391e-04,\n",
       "        1.12320420e-04,  4.00725374e-04,  3.41855513e-04, -8.85130430e-04,\n",
       "        6.72061695e-04,  8.19102977e-04, -1.66584257e-04,  2.33345272e-04,\n",
       "       -6.47921581e-04, -6.12575503e-04,  8.21604510e-04, -3.04542074e-04,\n",
       "        6.74003153e-04,  1.55318499e-04, -1.98156355e-04,  3.05532682e-04,\n",
       "       -4.02105565e-04, -1.78543094e-04,  1.38072966e-04,  4.88718040e-04,\n",
       "       -1.40522476e-04,  6.56528500e-05, -7.93245097e-04,  9.49515554e-04,\n",
       "       -8.76255042e-04,  7.06991937e-04,  3.90513655e-04, -6.99806900e-04,\n",
       "       -5.29517885e-04, -7.93824671e-04, -5.13027888e-04,  7.07059167e-04,\n",
       "        9.64061765e-04,  2.15461259e-04,  6.40404251e-05,  9.52446950e-04,\n",
       "       -4.97356639e-04, -1.28330474e-04,  3.28063732e-04, -6.41403429e-04,\n",
       "       -9.70159075e-04, -9.26023466e-04,  9.02069558e-04,  5.37169224e-04,\n",
       "       -4.78822709e-04, -8.32964201e-04,  1.29395004e-04,  2.87806266e-04,\n",
       "       -1.24528407e-04,  1.27087114e-04, -4.32130328e-04,  4.79136477e-04,\n",
       "        1.47518396e-04,  8.87782313e-04, -9.97651368e-04, -5.26957039e-04,\n",
       "       -9.10284289e-04, -3.47919449e-05, -7.85730605e-04,  5.03123971e-04,\n",
       "       -6.39685604e-04, -5.95283753e-04,  5.07091056e-04, -8.15976877e-04,\n",
       "        1.45520215e-04, -7.23954174e-04,  9.86242085e-04,  8.63375899e-04,\n",
       "        1.76895148e-04,  5.78850275e-04,  4.59621428e-04, -5.99178311e-04,\n",
       "        9.75694682e-04, -9.68220702e-04,  8.04925687e-04,  2.75637867e-04,\n",
       "       -3.05512192e-04, -3.56186385e-04,  9.07195325e-04, -5.44090988e-04,\n",
       "        8.18687200e-04, -6.00888743e-04,  8.39137530e-04, -5.55493825e-05,\n",
       "        7.94259773e-04, -3.15497164e-04,  5.97921375e-04,  8.80434527e-04,\n",
       "        2.54383805e-04,  1.31774897e-04,  5.03919146e-04,  8.00252194e-04,\n",
       "        8.56801285e-04,  8.49277247e-04,  7.05252634e-04,  8.00264825e-04,\n",
       "        8.59973894e-04, -3.30924991e-06, -1.00373269e-04,  1.66579004e-04,\n",
       "        3.27348715e-07,  6.85176856e-05, -8.60093860e-04, -9.59473138e-04,\n",
       "       -2.31467726e-04,  8.92819895e-04, -3.64758744e-04, -6.97819458e-04,\n",
       "        4.87938174e-04,  1.06911662e-04,  1.85101992e-04,  3.65295651e-04,\n",
       "        3.52067233e-04,  5.72612043e-04,  1.23430014e-04,  8.44461902e-05,\n",
       "        9.04525048e-04,  2.78221618e-04, -4.70285653e-04,  6.54218660e-04,\n",
       "        5.21331094e-04,  2.87056697e-04, -3.13783414e-04,  3.33683478e-04,\n",
       "        6.36429759e-04,  7.08103878e-04,  9.41164471e-05, -8.53176811e-04,\n",
       "        2.57761476e-05,  3.70419039e-05,  3.94298084e-04, -9.46896093e-04,\n",
       "        9.70787019e-04, -6.97227719e-04,  5.76143968e-04, -9.42987215e-04,\n",
       "        9.64852807e-04,  7.32482935e-04,  1.26165629e-04, -3.40523722e-04,\n",
       "       -4.50661173e-05,  4.22623161e-05, -6.40920654e-04,  5.74515841e-04,\n",
       "        2.37140179e-04,  3.77793564e-04, -7.25501799e-04,  8.52628960e-04,\n",
       "        5.08253579e-05, -2.03926556e-05, -9.07160749e-04,  4.04875522e-04,\n",
       "        6.76343450e-04,  7.35509151e-04, -6.41752500e-04, -7.85606157e-04,\n",
       "       -5.52371494e-04, -6.02898581e-05, -8.33798142e-04, -8.24011571e-04,\n",
       "       -1.91756961e-04,  1.13928560e-04, -9.50654736e-04, -3.73293413e-04,\n",
       "        6.44779211e-05,  6.80996396e-04,  1.73499109e-04, -6.32383817e-05,\n",
       "       -7.48139631e-04, -6.74209616e-04, -6.94429909e-05,  7.46758247e-04,\n",
       "        5.44286973e-04, -1.48269173e-04,  1.17230891e-04, -9.60577745e-04,\n",
       "       -1.38449672e-04, -4.62622411e-04,  5.80930966e-04, -2.33801358e-04,\n",
       "       -4.76406567e-04, -9.47511406e-04, -1.20031596e-04, -7.19777134e-04,\n",
       "       -1.68521874e-04, -4.06982435e-04, -2.37413638e-04, -3.24833643e-04,\n",
       "       -8.15647363e-04, -1.24841215e-04,  1.69094317e-04, -4.04764403e-04,\n",
       "       -7.64145399e-04, -3.58663558e-04, -9.04713408e-04, -7.58426177e-05,\n",
       "        5.88300463e-04, -2.96134705e-04,  3.16175690e-04,  4.99571790e-04,\n",
       "        8.46842770e-04,  5.62141417e-04,  9.50854563e-04, -9.64668288e-04,\n",
       "       -7.96267530e-04, -6.75815565e-04, -7.46770878e-04, -7.96361943e-04,\n",
       "       -7.78816931e-04, -2.94262660e-04,  1.39616008e-04, -2.87478935e-04,\n",
       "       -8.81625165e-04,  4.98586160e-04,  9.00890809e-05,  4.59040166e-04,\n",
       "        7.19533709e-04,  7.64829398e-04, -8.04648371e-05,  3.65995889e-04,\n",
       "       -5.12357685e-04,  1.91068175e-04,  4.53826913e-04,  9.88666317e-04,\n",
       "       -3.18748964e-04,  2.83933390e-04, -5.73635101e-04, -2.21056704e-04,\n",
       "        8.12509563e-04, -3.90465750e-04, -1.18858101e-04, -9.28497524e-04,\n",
       "       -9.47677589e-04,  8.88276554e-04, -5.70292235e-04,  5.05279051e-04,\n",
       "       -6.96360832e-04, -2.45851290e-04, -8.02293769e-04,  7.50052684e-04,\n",
       "        6.12741453e-04,  5.25846961e-04,  8.37785716e-04, -6.96532734e-05,\n",
       "       -9.31272982e-04,  9.11566487e-04, -4.92853636e-04,  7.84798875e-04,\n",
       "        5.53385995e-04, -1.07907770e-04, -7.66421552e-04, -1.45980361e-04,\n",
       "        6.25353598e-04, -6.96608331e-04,  1.44209625e-04, -7.95185799e-04,\n",
       "        8.72134697e-04, -2.85578979e-04,  9.43730120e-04, -5.70807431e-04,\n",
       "       -9.71772417e-04, -8.62790330e-04, -4.07483574e-04,  4.70959436e-04,\n",
       "       -2.41940015e-05,  9.22351144e-04,  3.10921430e-04,  3.74776602e-04,\n",
       "        2.99634936e-04,  8.14864878e-04, -2.39671470e-04,  7.40733871e-04,\n",
       "       -9.53671464e-04,  2.92108540e-04, -6.81669699e-05,  4.52256209e-05,\n",
       "        6.84300903e-04, -2.84197333e-04, -2.35677959e-04, -1.00476746e-05,\n",
       "       -4.97691617e-05, -3.57496261e-04,  6.24448294e-04, -6.55866868e-04,\n",
       "        7.89199839e-04, -9.34600848e-06,  2.60884059e-04,  3.22314969e-04,\n",
       "       -2.81653411e-05,  1.70630214e-04, -3.14065459e-04,  4.75645531e-04,\n",
       "        2.43010527e-05, -3.28059687e-04, -8.71457567e-04, -9.99808079e-04,\n",
       "        3.12776574e-05, -5.74681035e-04, -1.10965964e-04, -4.20609460e-04,\n",
       "       -8.63882538e-04,  1.06209518e-04,  5.91109041e-04, -2.21096998e-04,\n",
       "       -7.17081770e-04,  3.15343612e-04, -3.84685991e-05, -5.52114274e-04,\n",
       "       -1.10563036e-04, -6.39655555e-05, -3.18309059e-04, -9.95507697e-04,\n",
       "        7.63859251e-04,  3.72600800e-04, -2.52921338e-04,  7.30717438e-04,\n",
       "        4.54590336e-05,  7.17315183e-04, -1.54756301e-04,  7.49366765e-04,\n",
       "       -4.26316274e-06, -6.07736118e-04, -4.71585023e-04,  9.62842489e-04,\n",
       "        5.81061831e-05,  1.02740050e-04,  8.45028611e-04, -6.28840469e-04,\n",
       "       -1.76385875e-04, -8.17892083e-04, -6.67475455e-04, -8.58048676e-04,\n",
       "        3.93060909e-04,  2.73934595e-04,  5.61541296e-04,  2.57175678e-04,\n",
       "        2.11351391e-04,  5.73515426e-04, -2.11640829e-04,  3.17229744e-04,\n",
       "        8.44376103e-04,  3.88071530e-05,  6.29458169e-04, -6.74356939e-04,\n",
       "        6.57582073e-04,  4.68947663e-04,  5.08034718e-04, -9.91878565e-04,\n",
       "       -4.29444299e-05,  3.20611231e-04, -5.82598906e-04, -6.69378729e-04,\n",
       "        6.36390469e-04, -6.82375219e-04, -5.18249988e-04,  8.12183833e-04,\n",
       "       -7.02029676e-04,  8.54537473e-04,  6.54621108e-05,  4.40570584e-04,\n",
       "       -3.01244028e-04, -5.42773458e-04, -8.94753437e-04, -6.12473523e-05,\n",
       "       -5.10223850e-04, -3.07603594e-04,  8.11145292e-04, -7.64791039e-04,\n",
       "       -6.30928029e-04, -5.26367920e-04, -6.60374179e-04, -8.84062261e-04,\n",
       "       -1.11004112e-04,  9.44597705e-04,  8.03653733e-04, -5.27409778e-04,\n",
       "       -8.13750725e-04, -2.25739481e-04, -9.26678185e-04, -5.06773940e-04,\n",
       "       -5.94780664e-04,  3.02512170e-04, -7.56904366e-04,  1.25058417e-04,\n",
       "        2.28690144e-04,  5.31331520e-04, -2.02039722e-04, -9.77166230e-04,\n",
       "        5.22166723e-04, -5.90649375e-04,  4.88575432e-04,  1.97475427e-04,\n",
       "        8.81741988e-04,  1.53133631e-04, -1.82746415e-04,  6.48876885e-04,\n",
       "       -7.06992170e-04, -8.38906271e-04,  3.78916971e-04, -2.57695210e-04,\n",
       "       -4.18384065e-04, -1.92487962e-04, -9.87509266e-04,  2.60536672e-05,\n",
       "       -1.05665444e-04, -2.97141785e-04,  2.50064360e-04,  4.69339371e-04,\n",
       "        6.34260650e-04, -7.91374710e-04, -4.98899433e-04, -8.78746971e-04,\n",
       "       -8.94903671e-04, -3.73006100e-04, -1.27370600e-04, -8.21263297e-04,\n",
       "       -5.37631975e-04, -2.15177541e-04,  6.34268741e-04,  1.56860828e-04,\n",
       "        8.31468846e-04, -8.31620942e-04, -4.57587477e-04, -8.04083320e-05,\n",
       "        8.80017760e-04,  1.10635039e-04,  1.53997666e-04,  1.29078384e-04,\n",
       "        2.92262092e-04, -9.39594756e-04,  3.25440167e-04,  5.46468480e-04,\n",
       "        5.28632663e-04,  4.43988800e-04, -8.08636891e-04, -4.05977713e-04,\n",
       "        8.34891107e-04, -5.73091493e-05, -9.43677907e-04,  4.78363741e-04,\n",
       "       -6.04513858e-04,  6.68149209e-04,  5.37377840e-04, -5.04567404e-04,\n",
       "        2.56942760e-04,  5.41664136e-04, -3.58530524e-04, -1.51603454e-04,\n",
       "        9.16957157e-04,  9.06320813e-04, -9.39296500e-04,  7.56730791e-04,\n",
       "        9.88804852e-04, -2.84017093e-04,  2.45934498e-04, -2.80335196e-04,\n",
       "        8.64544418e-04, -2.83284189e-05,  5.63630834e-04,  9.21289437e-04,\n",
       "        4.11024579e-04, -7.12039007e-04, -1.92583087e-04,  9.78024036e-05,\n",
       "        2.03407530e-04,  2.95421371e-04,  9.44935775e-04,  4.40109958e-04,\n",
       "        9.91389970e-04, -8.65770329e-04, -5.75441576e-04,  1.98630572e-04,\n",
       "        3.65617278e-04, -9.91179913e-05, -6.91164983e-04, -3.21166270e-04,\n",
       "       -8.52757192e-04,  9.41071252e-04,  3.72443435e-04, -7.87941914e-04,\n",
       "        3.18696751e-04,  4.17383446e-04, -5.63898589e-04, -5.91279240e-04,\n",
       "        1.03836537e-04,  8.96204496e-04, -9.64628241e-04,  6.28948214e-07,\n",
       "       -6.86494575e-04, -9.32250041e-05,  3.04100045e-04, -5.02996671e-04,\n",
       "       -2.77600513e-04,  6.75587653e-05, -6.36222132e-04,  7.28657702e-04,\n",
       "        4.37842129e-04, -8.55853548e-04, -2.14897154e-04,  3.16452992e-04,\n",
       "       -8.32759368e-04, -7.06891296e-04, -8.45374132e-04, -5.49859309e-04,\n",
       "        8.85609654e-04,  7.07704807e-04,  2.88571347e-04, -8.55457096e-04,\n",
       "        5.74323174e-04,  4.63341712e-04,  1.18975640e-05, -8.84293811e-04,\n",
       "       -1.88373087e-04,  1.90863611e-05, -7.75794266e-04,  2.47015967e-04,\n",
       "        4.83765616e-05, -7.06002931e-04, -8.26940988e-04,  6.04218978e-04,\n",
       "       -8.35049141e-04, -5.57978638e-04,  5.58012514e-04, -4.86352437e-05,\n",
       "       -3.05436610e-04, -5.19437774e-04, -1.19794844e-04,  5.27171593e-04,\n",
       "       -5.94644051e-04, -4.97717352e-04, -4.94862325e-04, -4.75634821e-04,\n",
       "       -7.98009394e-04, -9.75646486e-04,  7.58216600e-04,  7.99675006e-04,\n",
       "       -4.28431755e-04, -9.32806230e-04, -1.87251571e-04, -3.70827212e-04,\n",
       "        9.09860828e-04,  2.94014229e-04, -5.97814564e-04, -3.35828547e-04,\n",
       "       -9.90248402e-04,  1.94411987e-04, -3.98836855e-04, -2.70870456e-04,\n",
       "        5.17648936e-04,  7.59902236e-04,  4.38382616e-04, -6.82041631e-04,\n",
       "        6.69864181e-04, -9.63179336e-04, -6.98728778e-04, -8.00600043e-04,\n",
       "       -2.26293094e-04,  4.79838855e-05, -3.77228251e-04,  1.84537173e-04,\n",
       "        9.20718419e-04,  6.67805434e-04, -1.05482577e-04,  9.09295806e-04,\n",
       "        1.55689471e-04, -1.97391273e-04, -6.59495126e-04,  6.47390145e-04,\n",
       "       -9.06960224e-04, -1.89660554e-04,  7.69239676e-04, -2.58686079e-04,\n",
       "        1.60619253e-04, -7.34611531e-04,  4.97807981e-04,  7.37306604e-04,\n",
       "       -9.30854061e-04, -3.27785499e-04,  7.89273763e-04,  2.93382182e-04,\n",
       "        1.45411491e-06,  3.43308457e-05, -9.86542902e-04,  9.93674970e-04,\n",
       "       -2.00134033e-04, -4.88732127e-04,  2.74924038e-04,  1.02997066e-04,\n",
       "       -5.93158940e-04,  5.79264422e-04, -2.50346668e-04, -6.17838115e-04,\n",
       "        7.23570818e-04,  6.46347529e-04,  8.82028078e-04,  1.16339448e-04,\n",
       "        5.10001191e-05, -7.92962092e-04,  4.64888348e-04,  9.36113356e-04,\n",
       "       -6.79640798e-05, -1.76296948e-04, -3.81316902e-04, -4.91876599e-05,\n",
       "       -7.61743519e-04,  5.68924414e-04,  1.49088621e-04,  9.29274538e-04,\n",
       "       -6.42440573e-04, -5.08923025e-04, -6.23465050e-04, -7.27669219e-04,\n",
       "        2.75656697e-04,  4.89461643e-04,  1.34196991e-04,  3.54074960e-04,\n",
       "       -9.38827521e-04, -1.06959102e-04, -7.74288666e-04,  2.95213686e-04,\n",
       "       -2.68613570e-04,  8.88299954e-04, -3.43434105e-04,  6.83821912e-04,\n",
       "        4.11486864e-04,  1.36439325e-04, -4.04620187e-06,  8.17253371e-04,\n",
       "        2.36173626e-04,  8.25822819e-04,  3.33538541e-04,  5.42311172e-04,\n",
       "        5.10191196e-04, -7.62878160e-04, -5.78860054e-04,  1.23417616e-04],\n",
       "      dtype=float32)"
      ]
     },
     "execution_count": 119,
     "metadata": {},
     "output_type": "execute_result"
    }
   ],
   "source": [
    "model_w2v.wv.get_vector('ferrei!')"
   ]
  },
  {
   "cell_type": "code",
   "execution_count": 120,
   "metadata": {},
   "outputs": [
    {
     "data": {
      "text/plain": [
       "[('oi', 1.0000001192092896),\n",
       " ('me', 0.026572521775960922),\n",
       " ('ferrei!', -0.022045189514756203)]"
      ]
     },
     "execution_count": 120,
     "metadata": {},
     "output_type": "execute_result"
    }
   ],
   "source": [
    "model_w2v.wv.similar_by_vector(model_w2v.wv.get_vector('oi'))"
   ]
  },
  {
   "cell_type": "code",
   "execution_count": 121,
   "metadata": {},
   "outputs": [],
   "source": [
    "# w2v = KeyedVectors.load_word2vec_format('D:/txt/cbow_s1000.txt')"
   ]
  },
  {
   "cell_type": "code",
   "execution_count": 122,
   "metadata": {},
   "outputs": [],
   "source": [
    "# w2v.add_vector(\"ferrei!\", model_w2v.wv.get_vector('ferrei!'))"
   ]
  },
  {
   "cell_type": "code",
   "execution_count": 123,
   "metadata": {},
   "outputs": [],
   "source": [
    "# [ [w2v.get_vector(w) for w in sentence.split()] for sentence in [\"hoje é um bom dia\"] ]"
   ]
  },
  {
   "cell_type": "code",
   "execution_count": 124,
   "metadata": {},
   "outputs": [],
   "source": [
    "# dict_w2v.update({'ferrei!': model_w2v.wv.get_vector('ferrei!')})\n",
    "# result = get_w2v(\"eu me ferrei!\", dict_w2v)\n",
    "# result.shape, result[2]"
   ]
  },
  {
   "cell_type": "code",
   "execution_count": 125,
   "metadata": {},
   "outputs": [],
   "source": [
    "# convert_to_binary('D:/txt/cbow_s1000.txt', 'D:/txt/cbow_1000.vocab', 'D:/txt/cbow_1000.npy')"
   ]
  }
 ],
 "metadata": {
  "kernelspec": {
   "display_name": ".tf",
   "language": "python",
   "name": "python3"
  },
  "language_info": {
   "codemirror_mode": {
    "name": "ipython",
    "version": 3
   },
   "file_extension": ".py",
   "mimetype": "text/x-python",
   "name": "python",
   "nbconvert_exporter": "python",
   "pygments_lexer": "ipython3",
   "version": "3.7.3"
  }
 },
 "nbformat": 4,
 "nbformat_minor": 2
}
