{
 "cells": [
  {
   "cell_type": "markdown",
   "metadata": {},
   "source": [
    "# Natural Language Processing (NLP) with Tensorflow\n",
    "\n",
    "## What we're goint to cover?\n",
    "\n",
    "- Downloading and preparing a text dataset\n",
    "- How to prepare text dataset for modelling (`tokenization embedding`)\n",
    "- Setting up multiple modelling experiments with recurrent neural networking (RNNs)\n",
    "- Build a text `feature extraction model using Tensorflow Hub`\n",
    "- Finding the most wrong predictions examples\n",
    "- Using a model we've built to make predictions on text from the wild\n",
    "\n",
    "see: https://en.wikipedia.org/wiki/Recurrent_neural_network  \n",
    "see: https://awari.com.br/deep-learning-rnn-utilizando-redes-rnn-recurrent-neural-networks-no-deep-learning/\n",
    "\n",
    "RNN - Recurrent Neural Network  \n",
    "LSTM - Long short-term memory\n",
    "\n",
    "\n",
    "how to add deep learning model in android application: https://www.youtube.com/watch?v=tySgZ1rEbW4&t=987s"
   ]
  },
  {
   "cell_type": "markdown",
   "metadata": {},
   "source": [
    "| Hyperparameter/Layer Type | What does it do?                                               | Typical Value                                                                        |\n",
    "| ------------------------- | -------------------------------------------------------------- | ------------------------------------------------------------------------------------ |\n",
    "| Input (txt)               | Target text/sequencial you'd like to discover pattern in       | whatever you can represent as text or a sequence                                     |\n",
    "| Input Layer               | Takes target in sequence                                       | input_shape = [batch_size, embedding_size] or [batch_size, sequence_shape]           |\n",
    "| Text Vectorization Layer  | Maps input sequences to number                                 | tf.keras.layer.experimental.preprocessing.TextVectorization                          |\n",
    "| Embedding                 | mapping of text vectors to embedding matrix (how words relate) | tf.keras.layers.Embedding                                                            |\n",
    "| RNN                       | Finds patterns in sequence                                     | SimpleRNN, LSTM, GRU                                                                 |\n",
    "| Hidden activation         | Adds non-linearity to learned features (non-streigh-line)      | Usually Tanh (hyperbolic tangent) tf.keras.activations.tanh                          |\n",
    "| Pooling Layer             | Reduces the dimensionality of learned sequence (ConvD1)        | tf.keras.layers.GlobalAlveragePooling1D or tf.keras.layers.GlobalMaxPool1D           |\n",
    "| Full connected Layer      | Futher refines learned features from recurrent layers          | tf.keras.layers.Dense                                                                |\n",
    "| Output Layer              | Takes learned features outputs them in shape of target labels  | output_shape = number_of_classes                                                     |\n",
    "| Output Activation         | Adds non-linearities to output layer                           | tf.keras.activations.sigmoid (binary classification) or tf.keras.activations.softmax |\n"
   ]
  },
  {
   "cell_type": "markdown",
   "metadata": {},
   "source": [
    "```python\n",
    "from tensorflow.keras import layers\n",
    "\n",
    "# create LSTM Model\n",
    "inputs = layers.Input(shape=(1,), dtype='string')\n",
    "x = text_vectorizer(inputs) # turn input sequence to number\n",
    "x = embedding(x) # create embedding matrix\n",
    "x = layers.LSTM(64, activation='tanh')(x) # return vector for whole sequence\n",
    "outputs = layers.Dense(1, activation='sigmoid')(x)\n",
    "model = tf.keras.Model(inputs, outputs)\n",
    "\n",
    "# compile the model\n",
    "model.compile(loss=tf.keras.losses.BinaryCrossentropy(),\n",
    "                optimizer=tf.keras.optimizers.Adam(),\n",
    "                metrics=['accuracy'])\n",
    "\n",
    "# fit the model\n",
    "history = model.fit(train_sequences, train_labels, epochs=5)\n",
    "```\n"
   ]
  },
  {
   "cell_type": "markdown",
   "metadata": {},
   "source": [
    "## Check GPU\n"
   ]
  },
  {
   "cell_type": "code",
   "execution_count": 1,
   "metadata": {},
   "outputs": [
    {
     "name": "stdout",
     "output_type": "stream",
     "text": [
      "GPU 0: NVIDIA GeForce GTX 1650 Ti (UUID: GPU-396e0d2a-a22a-a57f-bd25-8f6297e10119)\n"
     ]
    }
   ],
   "source": [
    "!nvidia-smi -L"
   ]
  },
  {
   "cell_type": "code",
   "execution_count": 2,
   "metadata": {},
   "outputs": [],
   "source": [
    "import os\n",
    "import sys\n",
    "\n",
    "# add path root project to read helper fuctions\n",
    "sys.path.append(os.path.join('../'))"
   ]
  },
  {
   "cell_type": "markdown",
   "metadata": {},
   "source": [
    "## Helper Functions\n",
    "\n",
    "In past modules, we've created a brunch of helper functions to do small task required for our notebooks. Rather than rewrite all these, we can import a script and load them in from threre. The script we've got available can be found on github: https://raw.githubusercontent.com/mrdbourke/tensorflow-deep-learning/main/extras/helper_functions.py\n"
   ]
  },
  {
   "cell_type": "code",
   "execution_count": 6,
   "metadata": {},
   "outputs": [],
   "source": [
    "# import urllib.request as ur\n",
    "# uncomment this line below and run it to download helper_functions file\n",
    "# ur.urlretrieve('https://raw.githubusercontent.com/mrdbourke/tensorflow-deep-learning/main/extras/helper_functions.py', filename='helper_functions.py')\n",
    "from helper_functions import create_tensorboard_callback, plot_loss_curves, walk_through_dir, compare_historys"
   ]
  },
  {
   "cell_type": "markdown",
   "metadata": {},
   "source": [
    "## Kaggle Dataset\n",
    "\n",
    "The dataset we're going to be using is Kaggle's introduction to NLP dataset\n",
    "\n",
    "see: https://www.kaggle.com/competitions/nlp-getting-started  \n",
    "see: https://storage.googleapis.com/ztm_tf_course/nlp_getting_started.zip\n"
   ]
  },
  {
   "cell_type": "code",
   "execution_count": 6,
   "metadata": {},
   "outputs": [],
   "source": [
    "STORAGE = os.path.join('../../', 'storage')\n",
    "IMAGE_PATH = f'{STORAGE}/images'\n",
    "ZIP_PATH = f'{STORAGE}/zip'\n",
    "MODEL_PATH = f'{STORAGE}/models'\n",
    "NLP = f'{STORAGE}/nlp'\n",
    "\n",
    "# concat paths\n",
    "LIST_PATHS = [IMAGE_PATH, ZIP_PATH, MODEL_PATH, NLP]"
   ]
  },
  {
   "cell_type": "code",
   "execution_count": 7,
   "metadata": {},
   "outputs": [
    {
     "data": {
      "text/plain": [
       "['binary_classification',\n",
       " 'datasets',\n",
       " 'images',\n",
       " 'models',\n",
       " 'multi_class_classification',\n",
       " 'nlp',\n",
       " 'transfer_learning',\n",
       " 'zip']"
      ]
     },
     "execution_count": 7,
     "metadata": {},
     "output_type": "execute_result"
    }
   ],
   "source": [
    "# confirm dir create\n",
    "os.listdir(STORAGE)"
   ]
  },
  {
   "cell_type": "code",
   "execution_count": 8,
   "metadata": {},
   "outputs": [],
   "source": [
    "for dir in LIST_PATHS:\n",
    "    if not os.path.exists(dir):\n",
    "        os.mkdir(dir)"
   ]
  },
  {
   "cell_type": "code",
   "execution_count": 9,
   "metadata": {},
   "outputs": [],
   "source": [
    "import zipfile\n",
    "import urllib.request as ur\n",
    "import shutil\n",
    "\n",
    "filename = 'nlp_getting_started.zip'\n",
    "url = f'https://storage.googleapis.com/ztm_tf_course/{filename}'\n",
    "\n",
    "if not os.path.exists(f'{ZIP_PATH}/{filename}'):\n",
    "    # download zip file\n",
    "    ur.urlretrieve(url, filename)\n",
    "    shutil.move(filename, f'{ZIP_PATH}')\n",
    "\n",
    "# unzip the download file\n",
    "zip_ref = zipfile.ZipFile(f'{ZIP_PATH}/{filename}', 'r')\n",
    "\n",
    "# remove folder if exist\n",
    "folder = filename.split('.')[0]\n",
    "if os.path.isdir(f'{NLP}/{folder}'):\n",
    "    shutil.rmtree(f'{NLP}/{folder}')\n",
    "\n",
    "zip_ref.extractall(f'{NLP}')\n",
    "zip_ref.close()"
   ]
  },
  {
   "cell_type": "markdown",
   "metadata": {},
   "source": [
    "## Visualizing a text dataset\n",
    "\n",
    "see: https://www.w3schools.com/python/python_file_open.asp  \n",
    "see: https://www.tensorflow.org/tutorials/load_data/text?hl=pt-br\n",
    "\n",
    "To visualize our text samples, we first have to read them in, one way to do would be to use python read, but we prefer to get visual straight away. So another way to do this is to sue pandas library.\n"
   ]
  },
  {
   "cell_type": "code",
   "execution_count": 10,
   "metadata": {},
   "outputs": [],
   "source": [
    "import pandas as pd\n",
    "\n",
    "train_df = pd.read_csv(f'{NLP}/train.csv')\n",
    "test_df = pd.read_csv(f'{NLP}/test.csv')"
   ]
  },
  {
   "cell_type": "code",
   "execution_count": 12,
   "metadata": {},
   "outputs": [
    {
     "data": {
      "text/html": [
       "<div>\n",
       "<style scoped>\n",
       "    .dataframe tbody tr th:only-of-type {\n",
       "        vertical-align: middle;\n",
       "    }\n",
       "\n",
       "    .dataframe tbody tr th {\n",
       "        vertical-align: top;\n",
       "    }\n",
       "\n",
       "    .dataframe thead th {\n",
       "        text-align: right;\n",
       "    }\n",
       "</style>\n",
       "<table border=\"1\" class=\"dataframe\">\n",
       "  <thead>\n",
       "    <tr style=\"text-align: right;\">\n",
       "      <th></th>\n",
       "      <th>id</th>\n",
       "      <th>keyword</th>\n",
       "      <th>location</th>\n",
       "      <th>text</th>\n",
       "      <th>target</th>\n",
       "    </tr>\n",
       "  </thead>\n",
       "  <tbody>\n",
       "    <tr>\n",
       "      <th>0</th>\n",
       "      <td>1</td>\n",
       "      <td>NaN</td>\n",
       "      <td>NaN</td>\n",
       "      <td>Our Deeds are the Reason of this #earthquake M...</td>\n",
       "      <td>1</td>\n",
       "    </tr>\n",
       "    <tr>\n",
       "      <th>1</th>\n",
       "      <td>4</td>\n",
       "      <td>NaN</td>\n",
       "      <td>NaN</td>\n",
       "      <td>Forest fire near La Ronge Sask. Canada</td>\n",
       "      <td>1</td>\n",
       "    </tr>\n",
       "    <tr>\n",
       "      <th>2</th>\n",
       "      <td>5</td>\n",
       "      <td>NaN</td>\n",
       "      <td>NaN</td>\n",
       "      <td>All residents asked to 'shelter in place' are ...</td>\n",
       "      <td>1</td>\n",
       "    </tr>\n",
       "    <tr>\n",
       "      <th>3</th>\n",
       "      <td>6</td>\n",
       "      <td>NaN</td>\n",
       "      <td>NaN</td>\n",
       "      <td>13,000 people receive #wildfires evacuation or...</td>\n",
       "      <td>1</td>\n",
       "    </tr>\n",
       "    <tr>\n",
       "      <th>4</th>\n",
       "      <td>7</td>\n",
       "      <td>NaN</td>\n",
       "      <td>NaN</td>\n",
       "      <td>Just got sent this photo from Ruby #Alaska as ...</td>\n",
       "      <td>1</td>\n",
       "    </tr>\n",
       "  </tbody>\n",
       "</table>\n",
       "</div>"
      ],
      "text/plain": [
       "   id keyword location                                               text  \\\n",
       "0   1     NaN      NaN  Our Deeds are the Reason of this #earthquake M...   \n",
       "1   4     NaN      NaN             Forest fire near La Ronge Sask. Canada   \n",
       "2   5     NaN      NaN  All residents asked to 'shelter in place' are ...   \n",
       "3   6     NaN      NaN  13,000 people receive #wildfires evacuation or...   \n",
       "4   7     NaN      NaN  Just got sent this photo from Ruby #Alaska as ...   \n",
       "\n",
       "   target  \n",
       "0       1  \n",
       "1       1  \n",
       "2       1  \n",
       "3       1  \n",
       "4       1  "
      ]
     },
     "metadata": {},
     "output_type": "display_data"
    }
   ],
   "source": [
    "display(train_df.head())"
   ]
  },
  {
   "cell_type": "code",
   "execution_count": 14,
   "metadata": {},
   "outputs": [
    {
     "data": {
      "text/html": [
       "<div>\n",
       "<style scoped>\n",
       "    .dataframe tbody tr th:only-of-type {\n",
       "        vertical-align: middle;\n",
       "    }\n",
       "\n",
       "    .dataframe tbody tr th {\n",
       "        vertical-align: top;\n",
       "    }\n",
       "\n",
       "    .dataframe thead th {\n",
       "        text-align: right;\n",
       "    }\n",
       "</style>\n",
       "<table border=\"1\" class=\"dataframe\">\n",
       "  <thead>\n",
       "    <tr style=\"text-align: right;\">\n",
       "      <th></th>\n",
       "      <th>id</th>\n",
       "      <th>keyword</th>\n",
       "      <th>location</th>\n",
       "      <th>text</th>\n",
       "      <th>target</th>\n",
       "    </tr>\n",
       "  </thead>\n",
       "  <tbody>\n",
       "    <tr>\n",
       "      <th>2644</th>\n",
       "      <td>3796</td>\n",
       "      <td>destruction</td>\n",
       "      <td>NaN</td>\n",
       "      <td>So you have a new weapon that can cause un-ima...</td>\n",
       "      <td>1</td>\n",
       "    </tr>\n",
       "    <tr>\n",
       "      <th>2227</th>\n",
       "      <td>3185</td>\n",
       "      <td>deluge</td>\n",
       "      <td>NaN</td>\n",
       "      <td>The f$&amp;amp;@ing things I do for #GISHWHES Just...</td>\n",
       "      <td>0</td>\n",
       "    </tr>\n",
       "    <tr>\n",
       "      <th>5448</th>\n",
       "      <td>7769</td>\n",
       "      <td>police</td>\n",
       "      <td>UK</td>\n",
       "      <td>DT @georgegalloway: RT @Galloway4Mayor: ÛÏThe...</td>\n",
       "      <td>1</td>\n",
       "    </tr>\n",
       "    <tr>\n",
       "      <th>132</th>\n",
       "      <td>191</td>\n",
       "      <td>aftershock</td>\n",
       "      <td>NaN</td>\n",
       "      <td>Aftershock back to school kick off was great. ...</td>\n",
       "      <td>0</td>\n",
       "    </tr>\n",
       "    <tr>\n",
       "      <th>6845</th>\n",
       "      <td>9810</td>\n",
       "      <td>trauma</td>\n",
       "      <td>Montgomery County, MD</td>\n",
       "      <td>in response to trauma Children of Addicts deve...</td>\n",
       "      <td>0</td>\n",
       "    </tr>\n",
       "  </tbody>\n",
       "</table>\n",
       "</div>"
      ],
      "text/plain": [
       "        id      keyword               location  \\\n",
       "2644  3796  destruction                    NaN   \n",
       "2227  3185       deluge                    NaN   \n",
       "5448  7769       police                     UK   \n",
       "132    191   aftershock                    NaN   \n",
       "6845  9810       trauma  Montgomery County, MD   \n",
       "\n",
       "                                                   text  target  \n",
       "2644  So you have a new weapon that can cause un-ima...       1  \n",
       "2227  The f$&amp;@ing things I do for #GISHWHES Just...       0  \n",
       "5448  DT @georgegalloway: RT @Galloway4Mayor: ÛÏThe...       1  \n",
       "132   Aftershock back to school kick off was great. ...       0  \n",
       "6845  in response to trauma Children of Addicts deve...       0  "
      ]
     },
     "execution_count": 14,
     "metadata": {},
     "output_type": "execute_result"
    }
   ],
   "source": [
    "# shuffle training dataframe\n",
    "train_df_shuffled = train_df.sample(frac=1, random_state=42)\n",
    "train_df_shuffled.head()"
   ]
  },
  {
   "cell_type": "code",
   "execution_count": 15,
   "metadata": {},
   "outputs": [
    {
     "data": {
      "text/plain": [
       "0    4342\n",
       "1    3271\n",
       "Name: target, dtype: int64"
      ]
     },
     "execution_count": 15,
     "metadata": {},
     "output_type": "execute_result"
    }
   ],
   "source": [
    "# how many examples of each class?\n",
    "train_df.target.value_counts()"
   ]
  },
  {
   "cell_type": "markdown",
   "metadata": {},
   "source": [
    "### classification when data is imbalanced\n",
    "\n",
    "see: https://www.tensorflow.org/tutorials/structured_data/imbalanced_data?hl=pt-br\n"
   ]
  },
  {
   "cell_type": "code",
   "execution_count": 16,
   "metadata": {},
   "outputs": [
    {
     "data": {
      "text/plain": [
       "(7613, 3263)"
      ]
     },
     "execution_count": 16,
     "metadata": {},
     "output_type": "execute_result"
    }
   ],
   "source": [
    "# how many total samples\n",
    "train_df.shape[0], test_df.shape[0]"
   ]
  },
  {
   "cell_type": "code",
   "execution_count": 19,
   "metadata": {},
   "outputs": [
    {
     "name": "stdout",
     "output_type": "stream",
     "text": [
      "Target: 0 (not real disaster)\n",
      "Text: @chikislizeth08 you're not injured anymore? ??\n",
      "----\n",
      "\n",
      "Target: 0 (not real disaster)\n",
      "Text: WRAPUP 2-U.S. cable TV companies' shares crushed after Disney disappoints http://t.co/jFJLbF40To\n",
      "----\n",
      "\n",
      "Target: 0 (not real disaster)\n",
      "Text: What the fuck was that. There was a loud bang and a flash of light outside. I'm pretty sure I'm not dead but what the hell??\n",
      "----\n",
      "\n",
      "Target: 1 (real disaster)\n",
      "Text: 'Three #people were #killed when a severe #rainstorm in the #Italian #Alps caused a #landslide' http://t.co/hAXJ6Go2ac\n",
      "----\n",
      "\n",
      "Target: 1 (real disaster)\n",
      "Text: RÌ©union Debris Is Almost Surely From Flight 370 Officials Say - New York Times http://t.co/VFbW3NyO9L\n",
      "----\n",
      "\n"
     ]
    }
   ],
   "source": [
    "# let's visualize some random training examples\n",
    "import random\n",
    "\n",
    "random_index = random.randint(0, train_df.shape[0] - 5) # create random indexes not higher than total of samples\n",
    "for row in train_df_shuffled[['text', 'target']][random_index:random_index+5].itertuples():\n",
    "    _, text, target = row\n",
    "    print(f'Target: {target}', '(real disaster)' if target > 0 else '(not real disaster)')\n",
    "    print(f'Text: {text}')\n",
    "    print('----\\n')"
   ]
  },
  {
   "cell_type": "markdown",
   "metadata": {},
   "source": [
    "## Split data into training and validation sets\n",
    "\n",
    "see: https://scikit-learn.org/stable/modules/generated/sklearn.model_selection.train_test_split.html\n"
   ]
  },
  {
   "cell_type": "code",
   "execution_count": 152,
   "metadata": {},
   "outputs": [],
   "source": [
    "from sklearn.model_selection import train_test_split\n",
    "\n",
    "# use train_test_split to split training data and validation sets\n",
    "train_sequences, val_sequences, train_labels, val_labels = train_test_split(train_df_shuffled['text'].to_numpy(),\n",
    "                                                                           train_df_shuffled['target'].to_numpy(),\n",
    "                                                                           test_size=0.1, # use 10% of training data validation\n",
    "                                                                           random_state=42)"
   ]
  },
  {
   "cell_type": "code",
   "execution_count": 153,
   "metadata": {},
   "outputs": [
    {
     "data": {
      "text/plain": [
       "(6851, 6851, 762, 762)"
      ]
     },
     "execution_count": 153,
     "metadata": {},
     "output_type": "execute_result"
    }
   ],
   "source": [
    "# check the lengh\n",
    "train_sequences.shape[0], train_labels.shape[0], val_sequences.shape[0], val_labels.shape[0]"
   ]
  },
  {
   "cell_type": "code",
   "execution_count": 25,
   "metadata": {},
   "outputs": [
    {
     "data": {
      "text/plain": [
       "(array(['@mogacola @zamtriossu i screamed after hitting tweet',\n",
       "        'Imagine getting flattened by Kurt Zouma',\n",
       "        '@Gurmeetramrahim #MSGDoing111WelfareWorks Green S welfare force ke appx 65000 members har time disaster victim ki help ke liye tyar hai....',\n",
       "        \"@shakjn @C7 @Magnums im shaking in fear he's gonna hack the planet\",\n",
       "        'Somehow find you and I collide http://t.co/Ee8RpOahPk'],\n",
       "       dtype=object),\n",
       " array([0, 0, 1, 0, 0], dtype=int64))"
      ]
     },
     "execution_count": 25,
     "metadata": {},
     "output_type": "execute_result"
    }
   ],
   "source": [
    "# check the first 5 samples\n",
    "train_sequences[:5], train_labels[:5]"
   ]
  },
  {
   "cell_type": "markdown",
   "metadata": {},
   "source": [
    "## Converting text into numbers\n",
    "\n",
    "see: https://www.tensorflow.org/text/guide/word_embeddings?hl=pt-br\n",
    "\n",
    "When dealing with a text problem, one of the first things you'll have to do before you can build a model is to convert your text to numbers.\n",
    "\n",
    "There are a few ways to do this, namely:\n",
    "\n",
    "- `Tokenization`: - direct mapping of token (a token could be a word or a character) to number\n",
    "\n",
    "- `Embedding`: create a matrix of feature vector for each token (the size of the feature vector can be defined and this embedding can be learned)\n",
    "\n",
    "```python\n",
    "\n",
    "# I Love Tensorflow\n",
    "\n",
    "                [[1, 0, 0],\n",
    "OneHotEncoder = [0, 1, 0],\n",
    "                [0, 0, 1]]\n",
    "\n",
    "            [[0.234, 0.2323, 0.34],\n",
    "Embedding = [0.343, 0.222, 0.333],\n",
    "            [0.111, 0.343, 0.999]]\n",
    "```\n",
    "\n",
    "`Tokenization`: straight mapping from token to number (can be modelled but quick get too big)  \n",
    "`Embedding`: richer representation of relationship between tokens (can limit size + can be learned)\n",
    "\n",
    "```mermaid\n",
    "graph TD;\n",
    "    A[I Love Tensorflow] -->  Number[0 1 2]\n",
    "    A[I Love Tensorflow] --> OneHotEncoder[1, 0, 0\n",
    "                                0, 1, 0\n",
    "                                0, 0, 1 ]\n",
    "    A[I Love Tensorflow] --> Embedding[0.234, 0.2323, 0.34\n",
    "                                0.343, 0.222, 0.333,\n",
    "                                0.111, 0.343, 0.999]\n",
    "```\n"
   ]
  },
  {
   "cell_type": "code",
   "execution_count": 29,
   "metadata": {},
   "outputs": [],
   "source": [
    "import tensorflow as tf\n",
    "\n",
    "# use the default TextVectorization parameters\n",
    "text_vectorizer = tf.keras.layers.experimental.preprocessing.TextVectorization(max_tokens=None, # how many words in the vocabulary (automatically add <OOV>)\n",
    "                                                                               standardize='lower_and_strip_punctuation',\n",
    "                                                                               split='whitespace',\n",
    "                                                                               ngrams=None, # create groups of n-words?\n",
    "                                                                               output_mode='int', # how to map tokens to number\n",
    "                                                                               output_sequence_length=None, # how long do you want your sequence to be\n",
    "                                                                               pad_to_max_tokens=False)"
   ]
  },
  {
   "cell_type": "markdown",
   "metadata": {},
   "source": [
    "## Text Vectorization (Tokenization)\n",
    "\n",
    "see: https://www.tensorflow.org/api_docs/python/tf/keras/layers/TextVectorization  \n",
    "see: https://keras.io/api/layers/preprocessing_layers/text/text_vectorization/  \n",
    "see: https://en.wikipedia.org/wiki/Tf%E2%80%93idf  \n",
    "see: https://monkeylearn.com/blog/what-is-tf-idf/\n"
   ]
  },
  {
   "cell_type": "code",
   "execution_count": 197,
   "metadata": {},
   "outputs": [
    {
     "data": {
      "text/plain": [
       "20"
      ]
     },
     "execution_count": 197,
     "metadata": {},
     "output_type": "execute_result"
    }
   ],
   "source": [
    "len(train_sequences[2].split())"
   ]
  },
  {
   "cell_type": "code",
   "execution_count": 34,
   "metadata": {},
   "outputs": [
    {
     "data": {
      "text/plain": [
       "102087"
      ]
     },
     "execution_count": 34,
     "metadata": {},
     "output_type": "execute_result"
    }
   ],
   "source": [
    "round(sum([len(i.split()) for i in train_sequences]))"
   ]
  },
  {
   "cell_type": "code",
   "execution_count": 33,
   "metadata": {},
   "outputs": [
    {
     "data": {
      "text/plain": [
       "15"
      ]
     },
     "execution_count": 33,
     "metadata": {},
     "output_type": "execute_result"
    }
   ],
   "source": [
    "# Find the average number of tokens (words) in the training tweets\n",
    "# WARNING:\n",
    "# this value is very important to final of processing\n",
    "round(sum([len(i.split()) for i in train_sequences])/len(train_sequences))"
   ]
  },
  {
   "cell_type": "code",
   "execution_count": 35,
   "metadata": {},
   "outputs": [],
   "source": [
    "# setup text vectorization variables\n",
    "max_vocab_length = 10000 # max number of words to have in our vacabulary\n",
    "max_length = 15 # max length our sequences will be (e.g how many words from a Tweet does a model see?)"
   ]
  },
  {
   "cell_type": "code",
   "execution_count": 36,
   "metadata": {},
   "outputs": [],
   "source": [
    "text_vectorizer = tf.keras.layers.experimental.preprocessing.TextVectorization(max_tokens=max_vocab_length,\n",
    "                                                                               standardize='lower_and_strip_punctuation',\n",
    "                                                                               split='whitespace',\n",
    "                                                                               ngrams=None,\n",
    "                                                                               output_mode='int',\n",
    "                                                                               output_sequence_length=max_length,\n",
    "                                                                               pad_to_max_tokens=True)"
   ]
  },
  {
   "cell_type": "code",
   "execution_count": 37,
   "metadata": {},
   "outputs": [],
   "source": [
    "# Fit the text vectorizer to the training text\n",
    "text_vectorizer.adapt(train_sequences)"
   ]
  },
  {
   "cell_type": "code",
   "execution_count": 43,
   "metadata": {},
   "outputs": [
    {
     "data": {
      "text/plain": [
       "<tf.Tensor: shape=(1, 15), dtype=int64, numpy=\n",
       "array([[264,   3, 232,   4,  13, 698,   0,   0,   0,   0,   0,   0,   0,\n",
       "          0,   0]], dtype=int64)>"
      ]
     },
     "execution_count": 43,
     "metadata": {},
     "output_type": "execute_result"
    }
   ],
   "source": [
    "# create a sample sequence and tokenize it\n",
    "sample_sequence = \"There's a flood in my street!\"\n",
    "text_vectorizer([sample_sequence])"
   ]
  },
  {
   "cell_type": "code",
   "execution_count": 50,
   "metadata": {},
   "outputs": [
    {
     "name": "stdout",
     "output_type": "stream",
     "text": [
      "Original Text:\n",
      "kou is like [CASH REGISTER] [BUILDINGS BURNING]\n",
      "\n",
      "Vectorized: [   1    9   25 6019 2322   95   86    0    0    0    0    0    0    0\n",
      "    0]\n"
     ]
    }
   ],
   "source": [
    "# choose random sentence from the training dataset and tokenize it \n",
    "random_sentence = random.choice(train_sequences)\n",
    "print(f'Original Text:\\n{random_sentence}\\n\\nVectorized: {text_vectorizer(random_sentence)}')"
   ]
  },
  {
   "cell_type": "code",
   "execution_count": 51,
   "metadata": {},
   "outputs": [
    {
     "name": "stdout",
     "output_type": "stream",
     "text": [
      "Number of words in vocabulary: 10000\n",
      "5 most common words: ['', '[UNK]', 'the', 'a', 'in']\n",
      "5 least common words: ['pages', 'paeds', 'pads', 'padres', 'paddytomlinson1']\n"
     ]
    }
   ],
   "source": [
    "# get the unique words in the vocabulary\n",
    "words_in_vocab = text_vectorizer.get_vocabulary() # get all the unique words in \n",
    "top_5_words = words_in_vocab[:5] # get the most common  words\n",
    "bottom_5_words = words_in_vocab[-5:]  # get the least common words\n",
    "\n",
    "print(f'Number of words in vocabulary: {len(words_in_vocab)}')\n",
    "print(f'5 most common words: {top_5_words}')\n",
    "print(f'5 least common words: {bottom_5_words}')"
   ]
  },
  {
   "cell_type": "markdown",
   "metadata": {},
   "source": [
    "## Creating an Embedding using an Embedding Layer\n",
    "\n",
    "To make our embedding we going to use tensorflow's embedding layer: https://www.tensorflow.org/api_docs/python/tf/keras/layers/Embedding\n",
    "\n",
    "The parameters we care most about for our embedding layer:\n",
    "\n",
    "- `input_dim`: the size of our vocabulary\n",
    "- `output_dim`: the size of the output embedding vector for example, a value fo 100 would mean each token gets represented by a vector 100 long\n",
    "- `input_length`: length of the sequences being passed to the embedding layer\n"
   ]
  },
  {
   "cell_type": "code",
   "execution_count": 58,
   "metadata": {},
   "outputs": [
    {
     "data": {
      "text/plain": [
       "<keras.layers.core.embedding.Embedding at 0x1ed447ce7f0>"
      ]
     },
     "execution_count": 58,
     "metadata": {},
     "output_type": "execute_result"
    }
   ],
   "source": [
    "embedding = tf.keras.layers.Embedding(input_dim=max_vocab_length, # set input shape\n",
    "                                      output_dim=128,\n",
    "                                      embeddings_initializer='uniform',\n",
    "                                      input_length=max_length, # how long is each input\n",
    "                                      )\n",
    "embedding"
   ]
  },
  {
   "cell_type": "code",
   "execution_count": 56,
   "metadata": {},
   "outputs": [
    {
     "name": "stdout",
     "output_type": "stream",
     "text": [
      "Original Text:\n",
      "City of Calgary activates Municipal Emergency Plan - 660 NEWS http://t.co/KFBjVJiVQB http://t.co/BN7Xpzqdm0\n",
      "\n",
      "Embedding:\n",
      "[[[-0.00648278  0.01337972 -0.01433364 ...  0.00690647 -0.02951211\n",
      "   -0.02901908]\n",
      "  [-0.04939894 -0.03808736 -0.00597149 ...  0.0353103  -0.01542674\n",
      "    0.01706082]\n",
      "  [-0.02199901  0.00479995 -0.03400421 ... -0.02642218  0.031021\n",
      "    0.02360031]\n",
      "  ...\n",
      "  [-0.02232008 -0.02389628 -0.04893912 ... -0.00577093  0.0222831\n",
      "    0.04473752]\n",
      "  [-0.02232008 -0.02389628 -0.04893912 ... -0.00577093  0.0222831\n",
      "    0.04473752]\n",
      "  [-0.02232008 -0.02389628 -0.04893912 ... -0.00577093  0.0222831\n",
      "    0.04473752]]]\n"
     ]
    }
   ],
   "source": [
    "# choose random sentence from the training dataset and tokenize it \n",
    "random_sentence = random.choice(train_sequences)\n",
    "print(f'Original Text:\\n{random_sentence}\\n\\nEmbedding:\\n{embedding(text_vectorizer([random_sentence]))}')"
   ]
  },
  {
   "cell_type": "code",
   "execution_count": 59,
   "metadata": {},
   "outputs": [
    {
     "data": {
      "text/plain": [
       "<tf.Tensor: shape=(1, 15, 128), dtype=float32, numpy=\n",
       "array([[[-0.04640205,  0.00171908, -0.03961884, ..., -0.04194402,\n",
       "          0.04199127,  0.02135679],\n",
       "        [-0.01387553,  0.01867838, -0.00582208, ...,  0.0170106 ,\n",
       "          0.03363771,  0.03008801],\n",
       "        [ 0.04845527, -0.0147807 ,  0.01513132, ..., -0.00106633,\n",
       "          0.0464595 ,  0.03556531],\n",
       "        ...,\n",
       "        [-0.04297487,  0.04677823,  0.01795694, ...,  0.03392654,\n",
       "         -0.00842122,  0.0277623 ],\n",
       "        [-0.04297487,  0.04677823,  0.01795694, ...,  0.03392654,\n",
       "         -0.00842122,  0.0277623 ],\n",
       "        [-0.04297487,  0.04677823,  0.01795694, ...,  0.03392654,\n",
       "         -0.00842122,  0.0277623 ]]], dtype=float32)>"
      ]
     },
     "execution_count": 59,
     "metadata": {},
     "output_type": "execute_result"
    }
   ],
   "source": [
    "sample_embedding = embedding(text_vectorizer([random_sentence]))\n",
    "sample_embedding"
   ]
  },
  {
   "cell_type": "code",
   "execution_count": 62,
   "metadata": {},
   "outputs": [
    {
     "data": {
      "text/plain": [
       "(<tf.Tensor: shape=(128,), dtype=float32, numpy=\n",
       " array([-4.6402048e-02,  1.7190799e-03, -3.9618839e-02,  4.8778508e-02,\n",
       "        -1.4259994e-02,  4.9060073e-02,  8.7298453e-05, -4.8830178e-02,\n",
       "         9.7618699e-03,  4.4864416e-03,  3.3057522e-02, -3.7397552e-02,\n",
       "         4.4677854e-03,  2.5168072e-02,  9.6130855e-03,  2.2334542e-02,\n",
       "         6.5403581e-03, -4.5781817e-02,  2.4690758e-02, -2.4229145e-02,\n",
       "         2.0585645e-02,  2.1276500e-02,  2.2293832e-02, -3.1096149e-02,\n",
       "         4.6419073e-02,  6.8682916e-03, -2.4764612e-04, -1.5066911e-02,\n",
       "         3.4228329e-02,  3.4954917e-02,  4.6412397e-02,  4.5008671e-02,\n",
       "         1.6224612e-02,  3.2790009e-02,  6.4618699e-03, -1.9150902e-02,\n",
       "         1.0181166e-02,  1.5592996e-02,  2.5926899e-02, -9.3286261e-03,\n",
       "        -1.0728098e-02, -6.5713748e-03, -6.9539621e-04, -3.0418063e-02,\n",
       "         2.2396017e-02,  6.4811334e-03, -2.0963192e-02, -4.3181431e-02,\n",
       "         3.9815012e-02,  1.1992704e-02,  2.4409581e-02, -3.5525076e-03,\n",
       "        -1.0038067e-02, -2.7583933e-02, -1.1409320e-02,  2.1670032e-02,\n",
       "        -7.2892532e-03, -2.5514556e-02,  3.4138467e-02,  3.8040075e-02,\n",
       "        -2.8584683e-02,  2.3420844e-02, -1.6177047e-02,  2.0581830e-02,\n",
       "        -3.7350882e-02, -4.1007031e-02,  3.0614067e-02, -2.6449336e-02,\n",
       "        -3.6982514e-02,  3.2679405e-02,  2.8676394e-02, -4.7208417e-02,\n",
       "         1.7372776e-02,  9.2166290e-03,  1.2199260e-02, -2.7339494e-02,\n",
       "         4.3056656e-02, -4.7487486e-02,  1.8812407e-02,  7.5306892e-03,\n",
       "        -4.5259345e-02,  8.2768425e-03, -3.6313951e-02, -4.7138572e-02,\n",
       "        -4.3071881e-03,  3.3399213e-02,  3.2839391e-02, -1.7955791e-02,\n",
       "        -1.2905002e-02,  2.9755559e-02,  1.2950327e-02, -9.2507601e-03,\n",
       "        -3.0077470e-02, -4.4062901e-02,  7.5862035e-03, -5.2389875e-03,\n",
       "         1.1336755e-02,  2.5443796e-02,  2.2710931e-02,  3.3326272e-02,\n",
       "        -2.6920153e-02,  3.1831753e-02, -1.9482290e-02,  3.3751164e-02,\n",
       "        -1.7530274e-02,  2.0531062e-02, -1.1653207e-02, -4.5511153e-02,\n",
       "        -1.3253998e-02, -4.7193002e-02,  3.1059358e-02, -1.0966539e-02,\n",
       "         2.3328077e-02, -2.8968453e-02, -1.9382490e-02, -4.4987321e-02,\n",
       "         1.9259904e-02, -3.7784446e-02, -5.3513050e-03,  2.8136838e-02,\n",
       "        -1.5427493e-02,  1.7773006e-02, -4.6362877e-02, -2.0203805e-02,\n",
       "        -4.5710873e-02, -4.1944016e-02,  4.1991267e-02,  2.1356788e-02],\n",
       "       dtype=float32)>,\n",
       " 'City of Calgary activates Municipal Emergency Plan - 660 NEWS http://t.co/KFBjVJiVQB http://t.co/BN7Xpzqdm0')"
      ]
     },
     "execution_count": 62,
     "metadata": {},
     "output_type": "execute_result"
    }
   ],
   "source": [
    "sample_embedding[0][0], random_sentence"
   ]
  },
  {
   "cell_type": "markdown",
   "metadata": {},
   "source": [
    "## Modelling a text dataset (running a series of experiments)\n",
    "\n",
    "see: https://scikit-learn.org/stable/tutorial/machine_learning_map/index.html\n",
    "\n",
    "0. Model: Naive Bayes with `TF-IDF` encoder (baseline)\n",
    "1. Model: Feed Forward Neural Network (dense model)\n",
    "2. Model: `LTSM` (RNN) Long-Short Term Memory Recurrent Neural Network\n",
    "3. Model: `GRU` (RNN) Gated Recurrent Unit\n",
    "4. Model: Bidirection `LTSM` (RNN)\n",
    "5. Model: 1D Convolutional Neural Network\n",
    "6. Model: Tensorflow Hub Pretrained Feature Extractor\n",
    "7. Model: Tensorflow Hub Pretrained Feature Extractor (10% of data)\n",
    "\n",
    "Now we've a got way to turn our text sequences into numbers, it's time to start building a series of modelling experiments. We'll start with a baseline and move on from here.\n",
    "\n",
    "How are we going to approach all of these?\n",
    "\n",
    "- Create a model\n",
    "- Build a model\n",
    "- Fit a model\n",
    "- Evaluate a model\n"
   ]
  },
  {
   "cell_type": "markdown",
   "metadata": {},
   "source": [
    "## Model 0: Getting a baseline\n",
    "\n",
    "As with all machine learning modelling experiments, it's important to create a baseline model so you've got a benchmark for future experiments to build upon.\n",
    "\n",
    "To create our baseline, we'll use Sklearn's Multinomial Naive Bayes using the TF-IDF formula to convert our words to numbers.\n",
    "\n",
    "> **Note**: It's common practice to use non-DL (non-deep-learning) algorithms as a baseline because of their speed and then later using DL to see if you can improve upon them.\n"
   ]
  },
  {
   "cell_type": "code",
   "execution_count": 63,
   "metadata": {},
   "outputs": [],
   "source": [
    "from sklearn.feature_extraction.text import TfidfVectorizer\n",
    "from sklearn.naive_bayes import MultinomialNB\n",
    "from sklearn.pipeline import Pipeline"
   ]
  },
  {
   "cell_type": "code",
   "execution_count": 64,
   "metadata": {},
   "outputs": [
    {
     "data": {
      "text/plain": [
       "Pipeline(steps=[('tfidf', TfidfVectorizer()), ('clf', MultinomialNB())])"
      ]
     },
     "execution_count": 64,
     "metadata": {},
     "output_type": "execute_result"
    }
   ],
   "source": [
    "# create tokenization and modelling pipeline\n",
    "model_0 = Pipeline([ \n",
    "    ('tfidf', TfidfVectorizer()),  # convert words to number using tf-idf\n",
    "    ('clf', MultinomialNB()) # model text\n",
    "])\n",
    "\n",
    "# Fit the pipeline to training data\n",
    "model_0.fit(train_sequences, train_labels)"
   ]
  },
  {
   "cell_type": "code",
   "execution_count": 66,
   "metadata": {},
   "outputs": [
    {
     "name": "stdout",
     "output_type": "stream",
     "text": [
      "Our baseline model achieves an accuracy of: 79.27%\n"
     ]
    }
   ],
   "source": [
    "# Evaluate our baseline model\n",
    "baseline_score = model_0.score(val_sequences, val_labels)\n",
    "print(f'Our baseline model achieves an accuracy of: {baseline_score*100:.2f}%')"
   ]
  },
  {
   "cell_type": "code",
   "execution_count": 68,
   "metadata": {},
   "outputs": [
    {
     "data": {
      "text/plain": [
       "array([1, 1, 1, 0, 0, 1, 1, 1, 1, 0], dtype=int64)"
      ]
     },
     "execution_count": 68,
     "metadata": {},
     "output_type": "execute_result"
    }
   ],
   "source": [
    "# make predictions\n",
    "baseline_preds = model_0.predict(val_sequences)\n",
    "baseline_preds[:10]"
   ]
  },
  {
   "cell_type": "code",
   "execution_count": 130,
   "metadata": {},
   "outputs": [],
   "source": [
    "# create function to evaluate: accuracy, precision, recall, f1-score\n",
    "# see: https://stackoverflow.com/questions/3490738/how-to-sum-dict-elements\n",
    "from sklearn.metrics import accuracy_score, precision_recall_fscore_support\n",
    "from functools import reduce\n",
    "\n",
    "def calculate_results(y_true, y_pred):\n",
    "    \"\"\"\n",
    "    Calculate Model accuracy, precision, recal and f1-score of a binary classification model.\n",
    "    \"\"\"\n",
    "    # calculate accuracy\n",
    "    m_accuracy = accuracy_score(y_true, y_pred)\n",
    "\n",
    "    # calculate model precision, recall and f1-score using 'weighted' average\n",
    "    m_precision, m_recall, m_f1_score, _ = precision_recall_fscore_support(y_true, y_pred, average='weighted')\n",
    "    \n",
    "    results = {\n",
    "        'accuracy':     m_accuracy,\n",
    "        'precision':    m_precision,\n",
    "        'recall':       m_recall,\n",
    "        'f1':           m_f1_score}\n",
    "    \n",
    "    return reduce(lambda x, y: dict((k, v * 100) for k, v in results.items()), results)     "
   ]
  },
  {
   "cell_type": "code",
   "execution_count": 131,
   "metadata": {},
   "outputs": [
    {
     "data": {
      "text/plain": [
       "{'accuracy': 79.26509186351706,\n",
       " 'precision': 81.11390004213173,\n",
       " 'recall': 79.26509186351706,\n",
       " 'f1': 78.6218975804955}"
      ]
     },
     "execution_count": 131,
     "metadata": {},
     "output_type": "execute_result"
    }
   ],
   "source": [
    "# get baseline results\n",
    "baseline_results = calculate_results(y_true=val_labels, y_pred=baseline_preds)\n",
    "baseline_results"
   ]
  },
  {
   "cell_type": "markdown",
   "metadata": {},
   "source": [
    "## Model 1: A simple dense model"
   ]
  },
  {
   "cell_type": "code",
   "execution_count": 181,
   "metadata": {},
   "outputs": [],
   "source": [
    "# build model with functional api\n",
    "inputs = tf.keras.layers.Input(shape=(1,), dtype=tf.string) # inputs are 1-dimensional strings\n",
    "x = text_vectorizer(inputs) # turn the input text into numbers\n",
    "x = embedding(x) # create an embedding of the numberzed inputs\n",
    "# x = tf.keras.layers.GlobalAveragePooling1D()(x) # condense the feature vector for each token to one vector\n",
    "x = tf.keras.layers.GlobalMaxPooling1D()(x)\n",
    "# x = tf.keras.layers.GlobalAvgPool1D()(x)\n",
    "outputs = tf.keras.layers.Dense(1, activation='sigmoid')(x) # create the output layer, want binary outputs so use sigmoid activation functions\n",
    "model_1 = tf.keras.Model(inputs, outputs, name='mode_1_dense')"
   ]
  },
  {
   "cell_type": "code",
   "execution_count": 182,
   "metadata": {},
   "outputs": [
    {
     "name": "stdout",
     "output_type": "stream",
     "text": [
      "Model: \"mode_1_dense\"\n",
      "_________________________________________________________________\n",
      " Layer (type)                Output Shape              Param #   \n",
      "=================================================================\n",
      " input_8 (InputLayer)        [(None, 1)]               0         \n",
      "                                                                 \n",
      " text_vectorization_2 (TextV  (None, 15)               0         \n",
      " ectorization)                                                   \n",
      "                                                                 \n",
      " embedding_1 (Embedding)     (None, 15, 128)           1280000   \n",
      "                                                                 \n",
      " global_max_pooling1d_1 (Glo  (None, 128)              0         \n",
      " balMaxPooling1D)                                                \n",
      "                                                                 \n",
      " dense_7 (Dense)             (None, 1)                 129       \n",
      "                                                                 \n",
      "=================================================================\n",
      "Total params: 1,280,129\n",
      "Trainable params: 1,280,129\n",
      "Non-trainable params: 0\n",
      "_________________________________________________________________\n"
     ]
    }
   ],
   "source": [
    "model_1.summary()"
   ]
  },
  {
   "cell_type": "code",
   "execution_count": 183,
   "metadata": {},
   "outputs": [],
   "source": [
    "# compile the model\n",
    "model_1.compile(loss=tf.keras.losses.BinaryCrossentropy(),\n",
    "            optimizer=tf.keras.optimizers.Adam(),\n",
    "            metrics=['accuracy'])"
   ]
  },
  {
   "cell_type": "code",
   "execution_count": 184,
   "metadata": {},
   "outputs": [],
   "source": [
    "# create a tensorflow callback (need to create a new one for each model)\n",
    "from helper_functions import create_tensorboard_callback\n",
    "\n",
    "# create a directory to save tensorboard logs\n",
    "tensorboard_logs = f'{NLP}/tensorboard/logs'"
   ]
  },
  {
   "cell_type": "code",
   "execution_count": 185,
   "metadata": {},
   "outputs": [
    {
     "name": "stdout",
     "output_type": "stream",
     "text": [
      "Saving TensorBoard log files to: ../../storage/nlp/tensorboard/logs/model_1_dense/20240408-223551\n",
      "Epoch 1/5\n",
      "215/215 [==============================] - 2s 8ms/step - loss: 0.3714 - accuracy: 0.9149 - val_loss: 0.4750 - val_accuracy: 0.7992\n",
      "Epoch 2/5\n",
      "215/215 [==============================] - 1s 6ms/step - loss: 0.2047 - accuracy: 0.9394 - val_loss: 0.5078 - val_accuracy: 0.8045\n",
      "Epoch 3/5\n",
      "215/215 [==============================] - 1s 5ms/step - loss: 0.1618 - accuracy: 0.9470 - val_loss: 0.5417 - val_accuracy: 0.8058\n",
      "Epoch 4/5\n",
      "215/215 [==============================] - 1s 5ms/step - loss: 0.1365 - accuracy: 0.9549 - val_loss: 0.5706 - val_accuracy: 0.8058\n",
      "Epoch 5/5\n",
      "215/215 [==============================] - 1s 5ms/step - loss: 0.1180 - accuracy: 0.9612 - val_loss: 0.5995 - val_accuracy: 0.8084\n"
     ]
    }
   ],
   "source": [
    "model_1_history = model_1.fit(x=train_sequences,\n",
    "                              y=train_labels,\n",
    "                              epochs=5,\n",
    "                              validation_data=(val_sequences, val_labels),\n",
    "                              callbacks=[create_tensorboard_callback(dir_name=tensorboard_logs, experiment_name='model_1_dense')])"
   ]
  },
  {
   "cell_type": "code",
   "execution_count": 186,
   "metadata": {},
   "outputs": [
    {
     "name": "stdout",
     "output_type": "stream",
     "text": [
      "24/24 [==============================] - 0s 3ms/step - loss: 0.5995 - accuracy: 0.8084\n"
     ]
    },
    {
     "data": {
      "text/plain": [
       "[0.5994751453399658, 0.808398962020874]"
      ]
     },
     "execution_count": 186,
     "metadata": {},
     "output_type": "execute_result"
    }
   ],
   "source": [
    "# check the results\n",
    "# GlobalAveragePooling1D    ===>>>      [0.491241455078125, 0.7900262475013733]\n",
    "# GlobalMaxPooling1D        ===>>>      [0.536510705947876, 0.7952755689620972]\n",
    "# GlobalAvgPool1D           ===>>>      [0.48092105984687805, 0.7821522355079651]\n",
    "model_1.evaluate(val_sequences, val_labels)"
   ]
  },
  {
   "cell_type": "code",
   "execution_count": 188,
   "metadata": {},
   "outputs": [
    {
     "name": "stdout",
     "output_type": "stream",
     "text": [
      "24/24 [==============================] - 0s 3ms/step\n"
     ]
    },
    {
     "data": {
      "text/plain": [
       "(762, 1)"
      ]
     },
     "execution_count": 188,
     "metadata": {},
     "output_type": "execute_result"
    }
   ],
   "source": [
    "model_1_pred_probs = model_1.predict(val_sequences)\n",
    "model_1_pred_probs.shape"
   ]
  },
  {
   "cell_type": "code",
   "execution_count": 189,
   "metadata": {},
   "outputs": [
    {
     "data": {
      "text/plain": [
       "array([0.6496586], dtype=float32)"
      ]
     },
     "execution_count": 189,
     "metadata": {},
     "output_type": "execute_result"
    }
   ],
   "source": [
    "# look at a single prediction\n",
    "model_1_pred_probs[0]"
   ]
  },
  {
   "cell_type": "code",
   "execution_count": 190,
   "metadata": {},
   "outputs": [
    {
     "data": {
      "text/plain": [
       "array([[0.6496586 ],\n",
       "       [0.8561691 ],\n",
       "       [0.99309194],\n",
       "       [0.03033629],\n",
       "       [0.09752803]], dtype=float32)"
      ]
     },
     "execution_count": 190,
     "metadata": {},
     "output_type": "execute_result"
    }
   ],
   "source": [
    "# look at the first 5\n",
    "model_1_pred_probs[:5]"
   ]
  },
  {
   "cell_type": "code",
   "execution_count": 192,
   "metadata": {},
   "outputs": [
    {
     "data": {
      "text/plain": [
       "<tf.Tensor: shape=(5,), dtype=float32, numpy=array([1., 1., 1., 0., 0.], dtype=float32)>"
      ]
     },
     "execution_count": 192,
     "metadata": {},
     "output_type": "execute_result"
    }
   ],
   "source": [
    "# convert model prediction probabilities to label format\n",
    "model_1_preds = tf.squeeze(tf.round(model_1_pred_probs))\n",
    "model_1_preds[:5]"
   ]
  },
  {
   "cell_type": "code",
   "execution_count": 193,
   "metadata": {},
   "outputs": [
    {
     "data": {
      "text/plain": [
       "{'accuracy': 80.83989501312337,\n",
       " 'precision': 81.01190494960657,\n",
       " 'recall': 80.83989501312337,\n",
       " 'f1': 80.69722254427087}"
      ]
     },
     "execution_count": 193,
     "metadata": {},
     "output_type": "execute_result"
    }
   ],
   "source": [
    "# calculate our mode_1 results\n",
    "model_1_results = calculate_results(y_true=val_labels, y_pred=model_1_preds)\n",
    "model_1_results"
   ]
  },
  {
   "cell_type": "code",
   "execution_count": 194,
   "metadata": {},
   "outputs": [
    {
     "data": {
      "text/plain": [
       "array([ True, False,  True,  True])"
      ]
     },
     "execution_count": 194,
     "metadata": {},
     "output_type": "execute_result"
    }
   ],
   "source": [
    "import numpy as np\n",
    "\n",
    "np.array(list(model_1_results.values())) > np.array(list(baseline_results.values()))"
   ]
  },
  {
   "cell_type": "markdown",
   "metadata": {},
   "source": [
    "## Visualizing learned embedding"
   ]
  },
  {
   "cell_type": "code",
   "execution_count": 198,
   "metadata": {},
   "outputs": [
    {
     "data": {
      "text/plain": [
       "(10000, ['', '[UNK]', 'the', 'a', 'in', 'to', 'of', 'and', 'i', 'is'])"
      ]
     },
     "execution_count": 198,
     "metadata": {},
     "output_type": "execute_result"
    }
   ],
   "source": [
    "# get the vocabulary from the text vectorization layer\n",
    "words_in_vocab = text_vectorizer.get_vocabulary()\n",
    "len(words_in_vocab), words_in_vocab[:10]"
   ]
  },
  {
   "cell_type": "code",
   "execution_count": 200,
   "metadata": {},
   "outputs": [
    {
     "name": "stdout",
     "output_type": "stream",
     "text": [
      "Model: \"mode_1_dense\"\n",
      "_________________________________________________________________\n",
      " Layer (type)                Output Shape              Param #   \n",
      "=================================================================\n",
      " input_8 (InputLayer)        [(None, 1)]               0         \n",
      "                                                                 \n",
      " text_vectorization_2 (TextV  (None, 15)               0         \n",
      " ectorization)                                                   \n",
      "                                                                 \n",
      " embedding_1 (Embedding)     (None, 15, 128)           1280000   \n",
      "                                                                 \n",
      " global_max_pooling1d_1 (Glo  (None, 128)              0         \n",
      " balMaxPooling1D)                                                \n",
      "                                                                 \n",
      " dense_7 (Dense)             (None, 1)                 129       \n",
      "                                                                 \n",
      "=================================================================\n",
      "Total params: 1,280,129\n",
      "Trainable params: 1,280,129\n",
      "Non-trainable params: 0\n",
      "_________________________________________________________________\n"
     ]
    }
   ],
   "source": [
    "model_1.summary()"
   ]
  },
  {
   "cell_type": "code",
   "execution_count": 202,
   "metadata": {},
   "outputs": [
    {
     "name": "stdout",
     "output_type": "stream",
     "text": [
      "(10000, 128)\n"
     ]
    }
   ],
   "source": [
    "# get the weight matrix of embedding layer\n",
    "# (these are the numerical representations of each token in our training data)\n",
    "embed_weights = model_1.get_layer('embedding_1').get_weights()\n",
    "print(embed_weights[0].shape) # same size as vocab size and embedding_dim (output_dim of our embedding layer)"
   ]
  },
  {
   "cell_type": "code",
   "execution_count": 204,
   "metadata": {},
   "outputs": [],
   "source": [
    "# create embedding files (we got this from tensorflow's word embedding documentation)\n",
    "# see: https://www.tensorflow.org/text/guide/word_embeddings?hl=pt-br\n",
    "import io\n",
    "\n",
    "out_v = io.open(f'{NLP}/vectors.tsv', 'w', encoding='utf-8')\n",
    "out_m = io.open(f'{NLP}/metadata.tsv', 'w', encoding='utf-8')\n",
    "\n",
    "for index, word in enumerate(words_in_vocab):\n",
    "  if index == 0:\n",
    "    continue  # skip 0, it's padding.\n",
    "  vec = embed_weights[0][index]\n",
    "  out_v.write('\\t'.join([str(x) for x in vec]) + \"\\n\")\n",
    "  out_m.write(word + \"\\n\")\n",
    "\n",
    "out_v.close()\n",
    "out_m.close()"
   ]
  },
  {
   "cell_type": "markdown",
   "metadata": {},
   "source": [
    "## Recurrent Neural Network (RNN's)\n",
    "\n",
    "RNN's are useful for sequence data. The promise of a recurrent neural network is to use the representation of a previous input to aid the representation of a later input.\n",
    "\n",
    "* MIT's sequence modelling lecture: https://www.youtube.com/watch?v=qjrad0V0uJE  \n",
    "* Chris Olah's intro to LSTM:  https://colah.github.io/posts/2015-08-Understanding-LSTMs/\n",
    "* Andrej Karpathy's the unreasonable effectiveness of recurrent neural network:  https://karpathy.github.io/2015/05/21/rnn-effectiveness/\n",
    "\n",
    "<div style=\"width: 720px; height:450px\">\n",
    "    <img src='https://miro.medium.com/v2/resize:fit:1400/1*3ltsv1uzGR6UBjZ6CUs04A.jpeg' style=\"width:100%\">\n",
    "<div>"
   ]
  },
  {
   "cell_type": "markdown",
   "metadata": {},
   "source": [
    "## Model_2: LSTM\n",
    "\n",
    "LSTM - Long Short Term Memory (one of the most popular LSTM Cell)"
   ]
  },
  {
   "cell_type": "code",
   "execution_count": 207,
   "metadata": {},
   "outputs": [
    {
     "name": "stdout",
     "output_type": "stream",
     "text": [
      "(None, 15, 128)\n",
      "(None, 15, 64)\n",
      "(None, 64)\n"
     ]
    }
   ],
   "source": [
    "# create an LSTM model\n",
    "inputs = tf.keras.layers.Input(shape=(1,), dtype=tf.string)\n",
    "x = text_vectorizer(inputs)\n",
    "x = embedding(x)\n",
    "print(x.shape)\n",
    "x = tf.keras.layers.LSTM(units=64, return_sequences=True)(x)\n",
    "print(x.shape)\n",
    "x = tf.keras.layers.LSTM(units=64)(x)\n",
    "print(x.shape)\n",
    "x = tf.keras.layers.Dense(64, activation='relu')(x)\n",
    "outputs = tf.keras.layers.Dense(1, activation='sigmoid')(x)\n",
    "model_2 = tf.keras.Model(inputs, outputs, name='model_2_LSTM')\n"
   ]
  }
 ],
 "metadata": {
  "kernelspec": {
   "display_name": ".tf",
   "language": "python",
   "name": "python3"
  },
  "language_info": {
   "codemirror_mode": {
    "name": "ipython",
    "version": 3
   },
   "file_extension": ".py",
   "mimetype": "text/x-python",
   "name": "python",
   "nbconvert_exporter": "python",
   "pygments_lexer": "ipython3",
   "version": "3.7.3"
  }
 },
 "nbformat": 4,
 "nbformat_minor": 2
}
