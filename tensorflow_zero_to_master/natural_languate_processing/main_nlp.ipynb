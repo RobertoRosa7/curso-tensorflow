{
 "cells": [
  {
   "cell_type": "markdown",
   "metadata": {},
   "source": [
    "# Natural Language Processing (NLP) with Tensorflow\n",
    "\n",
    "## What we're goint to cover?\n",
    "\n",
    "- Downloading and preparing a text dataset\n",
    "- How to prepare text dataset for modelling (`tokenization embedding`)\n",
    "- Setting up multiple modelling experiments with recurrent neural networking (RNNs)\n",
    "- Build a text `feature extraction model using Tensorflow Hub`\n",
    "- Finding the most wrong predictions examples\n",
    "- Using a model we've built to make predictions on text from the wild\n",
    "\n",
    "see: https://en.wikipedia.org/wiki/Recurrent_neural_network  \n",
    "see: https://awari.com.br/deep-learning-rnn-utilizando-redes-rnn-recurrent-neural-networks-no-deep-learning/\n",
    "\n",
    "RNN - Recurrent Neural Network  \n",
    "LSTM - Long short-term memory\n",
    "\n",
    "how to add deep learning model in android application: https://www.youtube.com/watch?v=tySgZ1rEbW4&t=987s\n"
   ]
  },
  {
   "cell_type": "markdown",
   "metadata": {},
   "source": [
    "| Hyperparameter/Layer Type | What does it do?                                               | Typical Value                                                                        |\n",
    "| ------------------------- | -------------------------------------------------------------- | ------------------------------------------------------------------------------------ |\n",
    "| Input (txt)               | Target text/sequencial you'd like to discover pattern in       | whatever you can represent as text or a sequence                                     |\n",
    "| Input Layer               | Takes target in sequence                                       | input_shape = [batch_size, embedding_size] or [batch_size, sequence_shape]           |\n",
    "| Text Vectorization Layer  | Maps input sequences to number                                 | tf.keras.layer.experimental.preprocessing.TextVectorization                          |\n",
    "| Embedding                 | mapping of text vectors to embedding matrix (how words relate) | tf.keras.layers.Embedding                                                            |\n",
    "| RNN                       | Finds patterns in sequence                                     | SimpleRNN, LSTM, GRU                                                                 |\n",
    "| Hidden activation         | Adds non-linearity to learned features (non-streigh-line)      | Usually Tanh (hyperbolic tangent) tf.keras.activations.tanh                          |\n",
    "| Pooling Layer             | Reduces the dimensionality of learned sequence (ConvD1)        | tf.keras.layers.GlobalAlveragePooling1D or tf.keras.layers.GlobalMaxPool1D           |\n",
    "| Full connected Layer      | Futher refines learned features from recurrent layers          | tf.keras.layers.Dense                                                                |\n",
    "| Output Layer              | Takes learned features outputs them in shape of target labels  | output_shape = number_of_classes                                                     |\n",
    "| Output Activation         | Adds non-linearities to output layer                           | tf.keras.activations.sigmoid (binary classification) or tf.keras.activations.softmax |\n"
   ]
  },
  {
   "cell_type": "markdown",
   "metadata": {},
   "source": [
    "```python\n",
    "from tensorflow.keras import layers\n",
    "\n",
    "# create LSTM Model\n",
    "inputs = layers.Input(shape=(1,), dtype='string')\n",
    "x = text_vectorizer(inputs) # turn input sequence to number\n",
    "x = embedding(x) # create embedding matrix\n",
    "x = layers.LSTM(64, activation='tanh')(x) # return vector for whole sequence\n",
    "outputs = layers.Dense(1, activation='sigmoid')(x)\n",
    "model = tf.keras.Model(inputs, outputs)\n",
    "\n",
    "# compile the model\n",
    "model.compile(loss=tf.keras.losses.BinaryCrossentropy(),\n",
    "                optimizer=tf.keras.optimizers.Adam(),\n",
    "                metrics=['accuracy'])\n",
    "\n",
    "# fit the model\n",
    "history = model.fit(train_sequences, train_labels, epochs=5)\n",
    "```\n"
   ]
  },
  {
   "cell_type": "markdown",
   "metadata": {},
   "source": [
    "## Check GPU\n"
   ]
  },
  {
   "cell_type": "code",
   "execution_count": null,
   "metadata": {},
   "outputs": [],
   "source": [
    "!nvidia-smi -L"
   ]
  },
  {
   "cell_type": "code",
   "execution_count": 2,
   "metadata": {},
   "outputs": [],
   "source": [
    "import os\n",
    "import sys\n",
    "\n",
    "# add path root project to read helper fuctions\n",
    "sys.path.append(os.path.join('../'))"
   ]
  },
  {
   "cell_type": "code",
   "execution_count": null,
   "metadata": {},
   "outputs": [],
   "source": [
    "import tensorflow_hub as hub\n",
    "import tensorflow as tf\n",
    "tfhub_url = 'https://www.kaggle.com/models/google/universal-sentence-encoder/TensorFlow2/universal-sentence-encoder/2'\n",
    "\n",
    "# create a Keras Layer using the pretrained layer from tensorflow hub\n",
    "sentence_encoder_layer = hub.KerasLayer(tfhub_url, \n",
    "                                        input_shape=[], \n",
    "                                        dtype=tf.string,\n",
    "                                        trainable=False, \n",
    "                                        name='USE')"
   ]
  },
  {
   "cell_type": "markdown",
   "metadata": {},
   "source": [
    "## Helper Functions\n",
    "\n",
    "In past modules, we've created a brunch of helper functions to do small task required for our notebooks. Rather than rewrite all these, we can import a script and load them in from threre. The script we've got available can be found on github: https://raw.githubusercontent.com/mrdbourke/tensorflow-deep-learning/main/extras/helper_functions.py\n"
   ]
  },
  {
   "cell_type": "code",
   "execution_count": null,
   "metadata": {},
   "outputs": [],
   "source": [
    "# import urllib.request as ur\n",
    "# uncomment this line below and run it to download helper_functions file\n",
    "# ur.urlretrieve('https://raw.githubusercontent.com/mrdbourke/tensorflow-deep-learning/main/extras/helper_functions.py', filename='helper_functions.py')\n",
    "from helper_functions import create_tensorboard_callback"
   ]
  },
  {
   "cell_type": "markdown",
   "metadata": {},
   "source": [
    "## Kaggle Dataset\n",
    "\n",
    "The dataset we're going to be using is Kaggle's introduction to NLP dataset\n",
    "\n",
    "see: https://www.kaggle.com/competitions/nlp-getting-started  \n",
    "see: https://storage.googleapis.com/ztm_tf_course/nlp_getting_started.zip\n"
   ]
  },
  {
   "cell_type": "code",
   "execution_count": 3,
   "metadata": {},
   "outputs": [],
   "source": [
    "STORAGE = os.path.join('../../', 'storage')\n",
    "IMAGE_PATH = f'{STORAGE}/images'\n",
    "ZIP_PATH = f'{STORAGE}/zip'\n",
    "MODEL_PATH = f'{STORAGE}/models'\n",
    "NLP = f'{STORAGE}/nlp'\n",
    "\n",
    "# concat paths\n",
    "LIST_PATHS = [IMAGE_PATH, ZIP_PATH, MODEL_PATH, NLP]\n",
    "\n",
    "# create a directory to save tensorboard logs\n",
    "tensorboard_logs = f'{NLP}/tensorboard/logs'"
   ]
  },
  {
   "cell_type": "code",
   "execution_count": null,
   "metadata": {},
   "outputs": [],
   "source": [
    "# confirm dir create\n",
    "os.listdir(STORAGE)"
   ]
  },
  {
   "cell_type": "code",
   "execution_count": null,
   "metadata": {},
   "outputs": [],
   "source": [
    "for dir in LIST_PATHS:\n",
    "    if not os.path.exists(dir):\n",
    "        os.mkdir(dir)"
   ]
  },
  {
   "cell_type": "code",
   "execution_count": null,
   "metadata": {},
   "outputs": [],
   "source": [
    "filename = 'nlp_getting_started.zip'\n",
    "url = f'https://storage.googleapis.com/ztm_tf_course/{filename}'\n",
    "folder = filename.split('.')[0]\n",
    "\n",
    "# unzip_data(url, filename, ZIP_PATH, NLP)"
   ]
  },
  {
   "cell_type": "markdown",
   "metadata": {},
   "source": [
    "## Visualizing a text dataset\n",
    "\n",
    "see: https://www.w3schools.com/python/python_file_open.asp  \n",
    "see: https://www.tensorflow.org/tutorials/load_data/text?hl=pt-br\n",
    "\n",
    "To visualize our text samples, we first have to read them in, one way to do would be to use python read, but we prefer to get visual straight away. So another way to do this is to sue pandas library.\n"
   ]
  },
  {
   "cell_type": "code",
   "execution_count": 7,
   "metadata": {},
   "outputs": [],
   "source": [
    "import pandas as pd\n",
    "\n",
    "train_df = pd.read_csv(f'{NLP}/train.csv')\n",
    "test_df = pd.read_csv(f'{NLP}/test.csv')"
   ]
  },
  {
   "cell_type": "code",
   "execution_count": null,
   "metadata": {},
   "outputs": [],
   "source": [
    "display(train_df.head())"
   ]
  },
  {
   "cell_type": "code",
   "execution_count": 8,
   "metadata": {},
   "outputs": [],
   "source": [
    "# shuffle training dataframe\n",
    "train_df_shuffled = train_df.sample(frac=1, random_state=42)"
   ]
  },
  {
   "cell_type": "code",
   "execution_count": null,
   "metadata": {},
   "outputs": [],
   "source": [
    "# how many examples of each class?\n",
    "train_df.target.value_counts()"
   ]
  },
  {
   "cell_type": "markdown",
   "metadata": {},
   "source": [
    "### classification when data is imbalanced\n",
    "\n",
    "see: https://www.tensorflow.org/tutorials/structured_data/imbalanced_data?hl=pt-br\n"
   ]
  },
  {
   "cell_type": "code",
   "execution_count": null,
   "metadata": {},
   "outputs": [],
   "source": [
    "# how many total samples\n",
    "train_df.shape[0], test_df.shape[0]"
   ]
  },
  {
   "cell_type": "code",
   "execution_count": null,
   "metadata": {},
   "outputs": [],
   "source": [
    "# let's visualize some random training examples\n",
    "import random\n",
    "\n",
    "random_index = random.randint(0, train_df.shape[0] - 5) # create random indexes not higher than total of samples\n",
    "for row in train_df_shuffled[['text', 'target']][random_index:random_index+5].itertuples():\n",
    "    _, text, target = row\n",
    "    print(f'Target: {target}', '(real disaster)' if target > 0 else '(not real disaster)')\n",
    "    print(f'Text: {text}')\n",
    "    print('----\\n')"
   ]
  },
  {
   "cell_type": "markdown",
   "metadata": {},
   "source": [
    "## Split data into training and validation sets\n",
    "\n",
    "see: https://scikit-learn.org/stable/modules/generated/sklearn.model_selection.train_test_split.html\n"
   ]
  },
  {
   "cell_type": "code",
   "execution_count": 9,
   "metadata": {},
   "outputs": [],
   "source": [
    "from sklearn.model_selection import train_test_split\n",
    "train_df_shuffled = train_df.sample(frac=1, random_state=42)\n",
    "\n",
    "# use train_test_split to split training data and validation sets\n",
    "train_sequences, val_sequences, train_labels, val_labels = train_test_split(train_df_shuffled['text'].to_numpy(),\n",
    "                                                                           train_df_shuffled['target'].to_numpy(),\n",
    "                                                                           test_size=0.1, # use 10% of training data validation\n",
    "                                                                           random_state=42)"
   ]
  },
  {
   "cell_type": "code",
   "execution_count": null,
   "metadata": {},
   "outputs": [],
   "source": [
    "# check the lengh\n",
    "train_sequences.shape[0], train_labels.shape[0], val_sequences.shape[0], val_labels.shape[0]"
   ]
  },
  {
   "cell_type": "code",
   "execution_count": null,
   "metadata": {},
   "outputs": [],
   "source": [
    "# check the first 5 samples\n",
    "train_sequences[:5], train_labels[:5]"
   ]
  },
  {
   "cell_type": "markdown",
   "metadata": {},
   "source": [
    "## Converting text into numbers\n",
    "\n",
    "see: https://www.tensorflow.org/text/guide/word_embeddings?hl=pt-br\n",
    "\n",
    "When dealing with a text problem, one of the first things you'll have to do before you can build a model is to convert your text to numbers.\n",
    "\n",
    "There are a few ways to do this, namely:\n",
    "\n",
    "- `Tokenization`: - direct mapping of token (a token could be a word or a character) to number\n",
    "\n",
    "- `Embedding`: create a matrix of feature vector for each token (the size of the feature vector can be defined and this embedding can be learned)\n",
    "\n",
    "```python\n",
    "\n",
    "# I Love Tensorflow\n",
    "\n",
    "                [[1, 0, 0],\n",
    "OneHotEncoder = [0, 1, 0],\n",
    "                [0, 0, 1]]\n",
    "\n",
    "            [[0.234, 0.2323, 0.34],\n",
    "Embedding = [0.343, 0.222, 0.333],\n",
    "            [0.111, 0.343, 0.999]]\n",
    "```\n",
    "\n",
    "`Tokenization`: straight mapping from token to number (can be modelled but quick get too big)  \n",
    "`Embedding`: richer representation of relationship between tokens (can limit size + can be learned)\n",
    "\n",
    "```mermaid\n",
    "graph TD;\n",
    "    A[I Love Tensorflow] -->  Number[0 1 2]\n",
    "    A[I Love Tensorflow] --> OneHotEncoder[1, 0, 0\n",
    "                                0, 1, 0\n",
    "                                0, 0, 1 ]\n",
    "    A[I Love Tensorflow] --> Embedding[0.234, 0.2323, 0.34\n",
    "                                0.343, 0.222, 0.333,\n",
    "                                0.111, 0.343, 0.999]\n",
    "```\n"
   ]
  },
  {
   "cell_type": "code",
   "execution_count": null,
   "metadata": {},
   "outputs": [],
   "source": [
    "import tensorflow as tf\n",
    "\n",
    "# use the default TextVectorization parameters\n",
    "text_vectorizer = tf.keras.layers.experimental.preprocessing.TextVectorization(max_tokens=None, # how many words in the vocabulary (automatically add <OOV>)\n",
    "                                                                               standardize='lower_and_strip_punctuation',\n",
    "                                                                               split='whitespace',\n",
    "                                                                               ngrams=None, # create groups of n-words?\n",
    "                                                                               output_mode='int', # how to map tokens to number\n",
    "                                                                               output_sequence_length=None, # how long do you want your sequence to be\n",
    "                                                                               pad_to_max_tokens=False)"
   ]
  },
  {
   "cell_type": "markdown",
   "metadata": {},
   "source": [
    "## Text Vectorization (Tokenization)\n",
    "\n",
    "see: https://www.tensorflow.org/api_docs/python/tf/keras/layers/TextVectorization  \n",
    "see: https://keras.io/api/layers/preprocessing_layers/text/text_vectorization/  \n",
    "see: https://en.wikipedia.org/wiki/Tf%E2%80%93idf  \n",
    "see: https://monkeylearn.com/blog/what-is-tf-idf/\n"
   ]
  },
  {
   "cell_type": "code",
   "execution_count": null,
   "metadata": {},
   "outputs": [],
   "source": [
    "len(train_sequences[2].split())"
   ]
  },
  {
   "cell_type": "code",
   "execution_count": null,
   "metadata": {},
   "outputs": [],
   "source": [
    "round(sum([len(i.split()) for i in train_sequences]))"
   ]
  },
  {
   "cell_type": "code",
   "execution_count": null,
   "metadata": {},
   "outputs": [],
   "source": [
    "# Find the average number of tokens (words) in the training tweets\n",
    "# WARNING:\n",
    "# this value is very important to final of processing\n",
    "round(sum([len(i.split()) for i in train_sequences])/len(train_sequences))"
   ]
  },
  {
   "cell_type": "code",
   "execution_count": 32,
   "metadata": {},
   "outputs": [],
   "source": [
    "# setup text vectorization variables\n",
    "max_vocab_length = 10000 # max number of words to have in our vacabulary\n",
    "max_length = 15 # max length our sequences will be (e.g how many words from a Tweet does a model see?)"
   ]
  },
  {
   "cell_type": "code",
   "execution_count": 33,
   "metadata": {},
   "outputs": [],
   "source": [
    "text_vectorizer = tf.keras.layers.experimental.preprocessing.TextVectorization(max_tokens=max_vocab_length,\n",
    "                                                                               standardize='lower_and_strip_punctuation',\n",
    "                                                                               split='whitespace',\n",
    "                                                                               ngrams=None,\n",
    "                                                                               output_mode='int',\n",
    "                                                                               output_sequence_length=max_length,\n",
    "                                                                               pad_to_max_tokens=True)"
   ]
  },
  {
   "cell_type": "code",
   "execution_count": 34,
   "metadata": {},
   "outputs": [],
   "source": [
    "# Fit the text vectorizer to the training text\n",
    "text_vectorizer.adapt(train_sequences)"
   ]
  },
  {
   "cell_type": "code",
   "execution_count": null,
   "metadata": {},
   "outputs": [],
   "source": [
    "# create a sample sequence and tokenize it\n",
    "sample_sequence = \"There's a flood in my street!\"\n",
    "text_vectorizer([sample_sequence])"
   ]
  },
  {
   "cell_type": "code",
   "execution_count": null,
   "metadata": {},
   "outputs": [],
   "source": [
    "# choose random sentence from the training dataset and tokenize it \n",
    "random_sentence = random.choice(train_sequences)\n",
    "print(f'Original Text:\\n{random_sentence}\\n\\nVectorized: {text_vectorizer(random_sentence)}')"
   ]
  },
  {
   "cell_type": "code",
   "execution_count": null,
   "metadata": {},
   "outputs": [],
   "source": [
    "# get the unique words in the vocabulary\n",
    "words_in_vocab = text_vectorizer.get_vocabulary() # get all the unique words in \n",
    "top_5_words = words_in_vocab[:5] # get the most common  words\n",
    "bottom_5_words = words_in_vocab[-5:]  # get the least common words\n",
    "\n",
    "print(f'Number of words in vocabulary: {len(words_in_vocab)}')\n",
    "print(f'5 most common words: {top_5_words}')\n",
    "print(f'5 least common words: {bottom_5_words}')"
   ]
  },
  {
   "cell_type": "markdown",
   "metadata": {},
   "source": [
    "## Creating an Embedding using an Embedding Layer\n",
    "\n",
    "To make our embedding we going to use tensorflow's embedding layer: https://www.tensorflow.org/api_docs/python/tf/keras/layers/Embedding\n",
    "\n",
    "The parameters we care most about for our embedding layer:\n",
    "\n",
    "- `input_dim`: the size of our vocabulary\n",
    "- `output_dim`: the size of the output embedding vector for example, a value fo 100 would mean each token gets represented by a vector 100 long\n",
    "- `input_length`: length of the sequences being passed to the embedding layer\n"
   ]
  },
  {
   "cell_type": "code",
   "execution_count": 35,
   "metadata": {},
   "outputs": [
    {
     "data": {
      "text/plain": [
       "<keras.layers.core.embedding.Embedding at 0x2c5fd410a58>"
      ]
     },
     "execution_count": 35,
     "metadata": {},
     "output_type": "execute_result"
    }
   ],
   "source": [
    "embedding = tf.keras.layers.Embedding(input_dim=max_vocab_length, # set input shape\n",
    "                                      output_dim=128,\n",
    "                                      embeddings_initializer='uniform',\n",
    "                                      input_length=max_length, # how long is each input\n",
    "                                      )\n",
    "embedding"
   ]
  },
  {
   "cell_type": "code",
   "execution_count": null,
   "metadata": {},
   "outputs": [],
   "source": [
    "# choose random sentence from the training dataset and tokenize it \n",
    "random_sentence = random.choice(train_sequences)\n",
    "print(f'Original Text:\\n{random_sentence}\\n\\nEmbedding:\\n{embedding(text_vectorizer([random_sentence]))}')"
   ]
  },
  {
   "cell_type": "code",
   "execution_count": null,
   "metadata": {},
   "outputs": [],
   "source": [
    "sample_embedding = embedding(text_vectorizer([random_sentence]))\n",
    "sample_embedding"
   ]
  },
  {
   "cell_type": "code",
   "execution_count": null,
   "metadata": {},
   "outputs": [],
   "source": [
    "sample_embedding[0][0], random_sentence"
   ]
  },
  {
   "cell_type": "markdown",
   "metadata": {},
   "source": [
    "## Modelling a text dataset (running a series of experiments)\n",
    "\n",
    "see: https://scikit-learn.org/stable/tutorial/machine_learning_map/index.html\n",
    "\n",
    "0. Model: Naive Bayes with `TF-IDF` encoder (baseline)\n",
    "1. Model: Feed Forward Neural Network (dense model)\n",
    "2. Model: `LTSM` (RNN) Long-Short Term Memory Recurrent Neural Network\n",
    "3. Model: `GRU` (RNN) Gated Recurrent Unit\n",
    "4. Model: Bidirection `LTSM` (RNN)\n",
    "5. Model: 1D Convolutional Neural Network\n",
    "6. Model: Tensorflow Hub Pretrained Feature Extractor\n",
    "7. Model: Tensorflow Hub Pretrained Feature Extractor (10% of data)\n",
    "\n",
    "Now we've a got way to turn our text sequences into numbers, it's time to start building a series of modelling experiments. We'll start with a baseline and move on from here.\n",
    "\n",
    "How are we going to approach all of these?\n",
    "\n",
    "- Create a model\n",
    "- Build a model\n",
    "- Fit a model\n",
    "- Evaluate a model\n"
   ]
  },
  {
   "cell_type": "markdown",
   "metadata": {},
   "source": [
    "## Model 0: Getting a baseline\n",
    "\n",
    "As with all machine learning modelling experiments, it's important to create a baseline model so you've got a benchmark for future experiments to build upon.\n",
    "\n",
    "To create our baseline, we'll use Sklearn's Multinomial Naive Bayes using the TF-IDF formula to convert our words to numbers.\n",
    "\n",
    "> **Note**: It's common practice to use non-DL (non-deep-learning) algorithms as a baseline because of their speed and then later using DL to see if you can improve upon them.\n"
   ]
  },
  {
   "cell_type": "code",
   "execution_count": 36,
   "metadata": {},
   "outputs": [],
   "source": [
    "from sklearn.feature_extraction.text import TfidfVectorizer\n",
    "from sklearn.naive_bayes import MultinomialNB\n",
    "from sklearn.pipeline import Pipeline"
   ]
  },
  {
   "cell_type": "code",
   "execution_count": 37,
   "metadata": {},
   "outputs": [
    {
     "data": {
      "text/plain": [
       "Pipeline(steps=[('tfidf', TfidfVectorizer()), ('clf', MultinomialNB())])"
      ]
     },
     "execution_count": 37,
     "metadata": {},
     "output_type": "execute_result"
    }
   ],
   "source": [
    "# create tokenization and modelling pipeline\n",
    "model_0 = Pipeline([ \n",
    "    ('tfidf', TfidfVectorizer()),  # convert words to number using tf-idf\n",
    "    ('clf', MultinomialNB()) # model text\n",
    "])\n",
    "\n",
    "# Fit the pipeline to training data\n",
    "model_0.fit(train_sequences, train_labels)"
   ]
  },
  {
   "cell_type": "code",
   "execution_count": 39,
   "metadata": {},
   "outputs": [
    {
     "name": "stdout",
     "output_type": "stream",
     "text": [
      "Our baseline model achieves an accuracy of: 79.27%\n"
     ]
    }
   ],
   "source": [
    "# Evaluate our baseline model\n",
    "baseline_score = model_0.score(val_sequences, val_labels)\n",
    "print(f'Our baseline model achieves an accuracy of: {baseline_score*100:.2f}%')"
   ]
  },
  {
   "cell_type": "code",
   "execution_count": 40,
   "metadata": {},
   "outputs": [
    {
     "data": {
      "text/plain": [
       "array([1, 1, 1, 0, 0, 1, 1, 1, 1, 0], dtype=int64)"
      ]
     },
     "execution_count": 40,
     "metadata": {},
     "output_type": "execute_result"
    }
   ],
   "source": [
    "# make predictions\n",
    "baseline_preds = model_0.predict(val_sequences)\n",
    "baseline_preds[:10]"
   ]
  },
  {
   "cell_type": "code",
   "execution_count": 44,
   "metadata": {},
   "outputs": [],
   "source": [
    "# create function to evaluate: accuracy, precision, recall, f1-score\n",
    "# see: https://stackoverflow.com/questions/3490738/how-to-sum-dict-elements\n",
    "from sklearn.metrics import accuracy_score, precision_recall_fscore_support\n",
    "from functools import reduce\n",
    "\n",
    "def calculate_results(y_true, y_pred):\n",
    "    \"\"\"\n",
    "    Calculate Model accuracy, precision, recal and f1-score of a binary classification model.\n",
    "    \"\"\"\n",
    "    # calculate accuracy\n",
    "    m_accuracy = accuracy_score(y_true, y_pred)\n",
    "\n",
    "    # calculate model precision, recall and f1-score using 'weighted' average\n",
    "    m_precision, m_recall, m_f1_score, _ = precision_recall_fscore_support(y_true, y_pred, average='weighted')\n",
    "    \n",
    "    results = {\n",
    "        'accuracy':     m_accuracy,\n",
    "        'precision':    m_precision,\n",
    "        'recall':       m_recall,\n",
    "        'f1':           m_f1_score}\n",
    "    \n",
    "    return reduce(lambda x, y: dict((k, v * 100) for k, v in results.items()), results)     "
   ]
  },
  {
   "cell_type": "code",
   "execution_count": 50,
   "metadata": {},
   "outputs": [],
   "source": [
    "# get baseline results\n",
    "baseline_results = calculate_results(y_true=val_labels, y_pred=baseline_preds)"
   ]
  },
  {
   "cell_type": "code",
   "execution_count": 46,
   "metadata": {},
   "outputs": [
    {
     "data": {
      "text/html": [
       "<div>\n",
       "<style scoped>\n",
       "    .dataframe tbody tr th:only-of-type {\n",
       "        vertical-align: middle;\n",
       "    }\n",
       "\n",
       "    .dataframe tbody tr th {\n",
       "        vertical-align: top;\n",
       "    }\n",
       "\n",
       "    .dataframe thead th {\n",
       "        text-align: right;\n",
       "    }\n",
       "</style>\n",
       "<table border=\"1\" class=\"dataframe\">\n",
       "  <thead>\n",
       "    <tr style=\"text-align: right;\">\n",
       "      <th></th>\n",
       "      <th>accuracy</th>\n",
       "      <th>f1</th>\n",
       "      <th>precision</th>\n",
       "      <th>recall</th>\n",
       "    </tr>\n",
       "  </thead>\n",
       "  <tbody>\n",
       "    <tr>\n",
       "      <th>model_0_results</th>\n",
       "      <td>79.265092</td>\n",
       "      <td>78.621898</td>\n",
       "      <td>81.1139</td>\n",
       "      <td>79.265092</td>\n",
       "    </tr>\n",
       "  </tbody>\n",
       "</table>\n",
       "</div>"
      ],
      "text/plain": [
       "                  accuracy         f1  precision     recall\n",
       "model_0_results  79.265092  78.621898    81.1139  79.265092"
      ]
     },
     "execution_count": 46,
     "metadata": {},
     "output_type": "execute_result"
    }
   ],
   "source": [
    "model_results = pd.DataFrame({'model_0_results': baseline_results})\n",
    "model_results.transpose()"
   ]
  },
  {
   "cell_type": "markdown",
   "metadata": {},
   "source": [
    "## Model 1: A simple dense model\n"
   ]
  },
  {
   "cell_type": "code",
   "execution_count": null,
   "metadata": {},
   "outputs": [],
   "source": [
    "# build model with functional api\n",
    "inputs = tf.keras.layers.Input(shape=(1,), dtype=tf.string) # inputs are 1-dimensional strings\n",
    "x = text_vectorizer(inputs) # turn the input text into numbers\n",
    "x = embedding(x) # create an embedding of the numberzed inputs\n",
    "# x = tf.keras.layers.GlobalAveragePooling1D()(x) # condense the feature vector for each token to one vector\n",
    "x = tf.keras.layers.GlobalMaxPooling1D()(x)\n",
    "# x = tf.keras.layers.GlobalAvgPool1D()(x)\n",
    "outputs = tf.keras.layers.Dense(1, activation='sigmoid')(x) # create the output layer, want binary outputs so use sigmoid activation functions\n",
    "model_1 = tf.keras.Model(inputs, outputs, name='mode_1_dense')"
   ]
  },
  {
   "cell_type": "code",
   "execution_count": null,
   "metadata": {},
   "outputs": [],
   "source": [
    "model_1.summary()"
   ]
  },
  {
   "cell_type": "code",
   "execution_count": null,
   "metadata": {},
   "outputs": [],
   "source": [
    "# compile the model\n",
    "model_1.compile(loss=tf.keras.losses.BinaryCrossentropy(),\n",
    "                optimizer=tf.keras.optimizers.Adam(),\n",
    "                metrics=['accuracy'])"
   ]
  },
  {
   "cell_type": "code",
   "execution_count": null,
   "metadata": {},
   "outputs": [],
   "source": [
    "model_1_history = model_1.fit(x=train_sequences,\n",
    "                              y=train_labels,\n",
    "                              epochs=5,\n",
    "                              validation_data=(val_sequences, val_labels),\n",
    "                              callbacks=[create_tensorboard_callback(dir_name=tensorboard_logs, experiment_name='model_1_dense')])"
   ]
  },
  {
   "cell_type": "code",
   "execution_count": null,
   "metadata": {},
   "outputs": [],
   "source": [
    "# check the results\n",
    "# GlobalAveragePooling1D    ===>>>      [0.491241455078125, 0.7900262475013733]\n",
    "# GlobalMaxPooling1D        ===>>>      [0.536510705947876, 0.7952755689620972]\n",
    "# GlobalAvgPool1D           ===>>>      [0.48092105984687805, 0.7821522355079651]\n",
    "model_1.evaluate(val_sequences, val_labels)\n",
    "model_1_pred_probs = model_1.predict(val_sequences)\n"
   ]
  },
  {
   "cell_type": "code",
   "execution_count": null,
   "metadata": {},
   "outputs": [],
   "source": [
    "# look at a single prediction\n",
    "model_1_pred_probs[0]"
   ]
  },
  {
   "cell_type": "code",
   "execution_count": null,
   "metadata": {},
   "outputs": [],
   "source": [
    "# look at the first 5\n",
    "model_1_pred_probs[:5]"
   ]
  },
  {
   "cell_type": "code",
   "execution_count": null,
   "metadata": {},
   "outputs": [],
   "source": [
    "# convert model prediction probabilities to label format\n",
    "model_1_preds = tf.squeeze(tf.round(model_1_pred_probs))\n",
    "model_1_preds[:5]"
   ]
  },
  {
   "cell_type": "code",
   "execution_count": null,
   "metadata": {},
   "outputs": [],
   "source": [
    "# calculate our mode_1 results\n",
    "model_1_results = calculate_results(y_true=val_labels, y_pred=model_1_preds)"
   ]
  },
  {
   "cell_type": "code",
   "execution_count": null,
   "metadata": {},
   "outputs": [],
   "source": [
    "model_results = pd.DataFrame({'model_0_results': baseline_results,\n",
    "                              'model_1_results': model_1_results})\n",
    "\n",
    "model_results.transpose().sort_values(by='f1', ascending=False)"
   ]
  },
  {
   "cell_type": "markdown",
   "metadata": {},
   "source": [
    "## Visualizing learned embedding\n"
   ]
  },
  {
   "cell_type": "code",
   "execution_count": null,
   "metadata": {},
   "outputs": [],
   "source": [
    "# get the vocabulary from the text vectorization layer\n",
    "words_in_vocab = text_vectorizer.get_vocabulary()\n",
    "len(words_in_vocab), words_in_vocab[:10]"
   ]
  },
  {
   "cell_type": "code",
   "execution_count": null,
   "metadata": {},
   "outputs": [],
   "source": [
    "model_1.summary()"
   ]
  },
  {
   "cell_type": "code",
   "execution_count": null,
   "metadata": {},
   "outputs": [],
   "source": [
    "# get the weight matrix of embedding layer\n",
    "# (these are the numerical representations of each token in our training data)\n",
    "embed_weights = model_1.get_layer('embedding').get_weights()\n",
    "print(embed_weights[0].shape) # same size as vocab size and embedding_dim (output_dim of our embedding layer)"
   ]
  },
  {
   "cell_type": "code",
   "execution_count": null,
   "metadata": {},
   "outputs": [],
   "source": [
    "# create embedding files (we got this from tensorflow's word embedding documentation)\n",
    "# see: https://www.tensorflow.org/text/guide/word_embeddings?hl=pt-br\n",
    "import io\n",
    "\n",
    "out_v = io.open(f'{NLP}/vectors.tsv', 'w', encoding='utf-8')\n",
    "out_m = io.open(f'{NLP}/metadata.tsv', 'w', encoding='utf-8')\n",
    "\n",
    "for index, word in enumerate(words_in_vocab):\n",
    "  if index == 0:\n",
    "    continue  # skip 0, it's padding.\n",
    "  vec = embed_weights[0][index]\n",
    "  out_v.write('\\t'.join([str(x) for x in vec]) + \"\\n\")\n",
    "  out_m.write(word + \"\\n\")\n",
    "\n",
    "out_v.close()\n",
    "out_m.close()"
   ]
  },
  {
   "cell_type": "markdown",
   "metadata": {},
   "source": [
    "## Recurrent Neural Network (RNN's)\n",
    "\n",
    "RNN's are useful for sequence data. The promise of a recurrent neural network is to use the representation of a previous input to aid the representation of a later input.\n",
    "\n",
    "- MIT's sequence modelling lecture: https://www.youtube.com/watch?v=qjrad0V0uJE\n",
    "- Chris Olah's intro to LSTM: https://colah.github.io/posts/2015-08-Understanding-LSTMs/\n",
    "- Andrej Karpathy's the unreasonable effectiveness of recurrent neural network: https://karpathy.github.io/2015/05/21/rnn-effectiveness/\n",
    "\n",
    "<div style=\"width: 720px; height:450px\">\n",
    "    <img src='https://miro.medium.com/v2/resize:fit:1400/1*3ltsv1uzGR6UBjZ6CUs04A.jpeg' style=\"width:100%\">\n",
    "<div>\n"
   ]
  },
  {
   "cell_type": "markdown",
   "metadata": {},
   "source": [
    "## Model_2: LSTM\n",
    "\n",
    "LSTM - Long Short Term Memory (one of the most popular LSTM Cell)\n"
   ]
  },
  {
   "cell_type": "code",
   "execution_count": null,
   "metadata": {},
   "outputs": [],
   "source": [
    "# create an LSTM model\n",
    "inputs = tf.keras.layers.Input(shape=(1,), dtype=tf.string)\n",
    "x = text_vectorizer(inputs)\n",
    "x = embedding(x)\n",
    "x = tf.keras.layers.LSTM(units=64, return_sequences=True)(x)\n",
    "x = tf.keras.layers.LSTM(units=64)(x)\n",
    "x = tf.keras.layers.Dense(64, activation='relu')(x)\n",
    "outputs = tf.keras.layers.Dense(1, activation='sigmoid')(x) # binary classification model (0 or 1)\n",
    "model_2 = tf.keras.Model(inputs, outputs, name='model_2_LSTM')"
   ]
  },
  {
   "cell_type": "code",
   "execution_count": null,
   "metadata": {},
   "outputs": [],
   "source": [
    "model_2.summary()"
   ]
  },
  {
   "cell_type": "code",
   "execution_count": null,
   "metadata": {},
   "outputs": [],
   "source": [
    "# compile the model\n",
    "model_2.compile(loss=tf.keras.losses.BinaryCrossentropy(),\n",
    "                optimizer=tf.keras.optimizers.Adam(),\n",
    "                metrics=['accuracy'])"
   ]
  },
  {
   "cell_type": "code",
   "execution_count": null,
   "metadata": {},
   "outputs": [],
   "source": [
    "# Fit the model\n",
    "model_2_history = model_2.fit(x=train_sequences,\n",
    "                              y=train_labels,\n",
    "                              epochs=5,\n",
    "                              validation_data=(val_sequences, val_labels),\n",
    "                              callbacks=[create_tensorboard_callback(dir_name=tensorboard_logs, experiment_name='model_2_LSTM')])"
   ]
  },
  {
   "cell_type": "code",
   "execution_count": null,
   "metadata": {},
   "outputs": [],
   "source": [
    "# evaluate the model\n",
    "model_2.evaluate(val_sequences, val_labels)\n",
    "\n",
    "# make predictions with LSTM Model 2\n",
    "model_2_pred_probs = model_2.predict(val_sequences)\n",
    "\n",
    "# convert model prediction probabilities to label format\n",
    "model_2_preds = tf.squeeze(tf.round(model_2_pred_probs))\n",
    "model_2_results = calculate_results(y_true=val_labels, y_pred=model_2_preds)"
   ]
  },
  {
   "cell_type": "code",
   "execution_count": null,
   "metadata": {},
   "outputs": [],
   "source": [
    "model_results = pd.DataFrame({'model_0_results': baseline_results,\n",
    "                              'model_1_results': model_1_results,\n",
    "                              'model_2_results': model_2_results})\n",
    "\n",
    "model_results.transpose().sort_values(by='f1', ascending=False)"
   ]
  },
  {
   "cell_type": "markdown",
   "metadata": {},
   "source": [
    "## Model 3: GRU (Gated Recurrent Unit)"
   ]
  },
  {
   "cell_type": "code",
   "execution_count": null,
   "metadata": {},
   "outputs": [],
   "source": [
    "inputs = tf.keras.layers.Input(shape=(1,), dtype=tf.string)\n",
    "x = text_vectorizer(inputs)\n",
    "x = embedding(x)\n",
    "x = tf.keras.layers.GRU(units=64, return_sequences=True)(x) # if you want to stack recurrent layer on top of each other, you need return sequences = True\n",
    "x = tf.keras.layers.GRU(units=64)(x)\n",
    "x = tf.keras.layers.Dense(64, activation='relu')(x)\n",
    "# x = tf.keras.layers.GlobalAveragePooling1D()(x)\n",
    "outputs = tf.keras.layers.Dense(1, activation='sigmoid')(x) # binary classification model (0 or 1)\n",
    "model_3 = tf.keras.Model(inputs, outputs, name='model_3_GRU')"
   ]
  },
  {
   "cell_type": "code",
   "execution_count": null,
   "metadata": {},
   "outputs": [],
   "source": [
    "model_3.summary()"
   ]
  },
  {
   "cell_type": "code",
   "execution_count": null,
   "metadata": {},
   "outputs": [],
   "source": [
    "# compile the model\n",
    "model_3.compile(loss=tf.keras.losses.BinaryCrossentropy(),\n",
    "                optimizer=tf.keras.optimizers.Adam(),\n",
    "                metrics=['accuracy'])"
   ]
  },
  {
   "cell_type": "code",
   "execution_count": null,
   "metadata": {},
   "outputs": [],
   "source": [
    "\n",
    "model_3_history = model_3.fit(x=train_sequences,\n",
    "                              y=train_labels,\n",
    "                              epochs=5,\n",
    "                              validation_data=(val_sequences, val_labels),\n",
    "                              callbacks=[create_tensorboard_callback(dir_name=tensorboard_logs, experiment_name='model_3_GRU')])"
   ]
  },
  {
   "cell_type": "code",
   "execution_count": null,
   "metadata": {},
   "outputs": [],
   "source": [
    "# evaluate the model\n",
    "model_3.evaluate(val_sequences, val_labels)\n",
    "model_3_pred_probs = model_3.predict(val_sequences)\n",
    "\n",
    "# convert model prediction probabilities to label format\n",
    "model_3_preds = tf.squeeze(tf.round(model_3_pred_probs))\n",
    "\n",
    "model_3_results = calculate_results(y_true=val_labels, y_pred=model_3_preds)"
   ]
  },
  {
   "cell_type": "code",
   "execution_count": null,
   "metadata": {},
   "outputs": [],
   "source": [
    "model_results = pd.DataFrame({'model_0_results': baseline_results,\n",
    "                                  'model_1_results': model_1_results,\n",
    "                                  'model_2_results': model_2_results,\n",
    "                                  'model_3_results': model_3_results})\n",
    "model_results.transpose().sort_values(by='f1', ascending=False)"
   ]
  },
  {
   "cell_type": "markdown",
   "metadata": {},
   "source": [
    "## Model 4: Bidirectional LSTM"
   ]
  },
  {
   "cell_type": "code",
   "execution_count": null,
   "metadata": {},
   "outputs": [],
   "source": [
    "inputs = tf.keras.layers.Input(shape=(1,), dtype=tf.string)\n",
    "x = text_vectorizer(inputs)\n",
    "x = embedding(x)\n",
    "x = tf.keras.layers.Bidirectional(tf.keras.layers.LSTM(units=64, return_sequences=True))(x) # if you want to stack recurrent layer on top of each other, you need return sequences = True\n",
    "x = tf.keras.layers.Bidirectional(tf.keras.layers.GRU(units=64))(x)\n",
    "x = tf.keras.layers.Dense(64, activation='relu')(x)\n",
    "outputs = tf.keras.layers.Dense(1, activation='sigmoid')(x) # binary classification model (0 or 1)\n",
    "model_4 = tf.keras.Model(inputs, outputs, name='model_4_bidirectional')"
   ]
  },
  {
   "cell_type": "code",
   "execution_count": null,
   "metadata": {},
   "outputs": [],
   "source": [
    "model_4.summary()"
   ]
  },
  {
   "cell_type": "code",
   "execution_count": null,
   "metadata": {},
   "outputs": [],
   "source": [
    "# compile the model\n",
    "model_4.compile(loss=tf.keras.losses.BinaryCrossentropy(),\n",
    "                optimizer=tf.keras.optimizers.Adam(),\n",
    "                metrics=['accuracy'])"
   ]
  },
  {
   "cell_type": "code",
   "execution_count": null,
   "metadata": {},
   "outputs": [],
   "source": [
    "model_4_history = model_4.fit(x=train_sequences,\n",
    "                              y=train_labels,\n",
    "                              epochs=5,\n",
    "                              validation_data=(val_sequences, val_labels),\n",
    "                              callbacks=[create_tensorboard_callback(dir_name=tensorboard_logs, experiment_name='model_4_bidirectional')])"
   ]
  },
  {
   "cell_type": "code",
   "execution_count": null,
   "metadata": {},
   "outputs": [],
   "source": [
    "# evaluate the model\n",
    "model_4.evaluate(val_sequences, val_labels)\n",
    "\n",
    "# make predictions\n",
    "model_4_pred_probs = model_4.predict(val_sequences)\n",
    "\n",
    "# convert model prediction probabilities to label format\n",
    "model_4_preds = tf.squeeze(tf.round(model_4_pred_probs))\n",
    "\n",
    "# calculate\n",
    "model_4_results = calculate_results(y_true=val_labels, y_pred=model_4_preds)"
   ]
  },
  {
   "cell_type": "code",
   "execution_count": null,
   "metadata": {},
   "outputs": [],
   "source": [
    "model_results = pd.DataFrame({'model_0_results': baseline_results,\n",
    "                                  'model_1_results': model_1_results,\n",
    "                                  'model_2_results': model_2_results,\n",
    "                                  'model_3_results': model_3_results,\n",
    "                                  'model_4_results': model_4_results})\n",
    "model_results.transpose().sort_values(by='f1', ascending=False)"
   ]
  },
  {
   "cell_type": "markdown",
   "metadata": {},
   "source": [
    "## Convolutional Neural Networks for Text (and other type sequences)\n",
    "\n",
    "We've used CNNs for images but images are typically 2D (height vs width)... however, out text data is 1D.  \n",
    "Previously we've Conv2D for our image data but now we're going to use Conv1D.\n",
    "\n",
    "### Model 5: Conv1D\n",
    "\n",
    "see: https://poloclub.github.io/cnn-explainer/"
   ]
  },
  {
   "cell_type": "code",
   "execution_count": null,
   "metadata": {},
   "outputs": [],
   "source": [
    "# Test out our embedding layer, Conv1D layer and max pooling\n",
    "embedding_test = embedding(text_vectorizer(['this is a test sentences'])) # turn target\n",
    "conv_1d = tf.keras.layers.Conv1D(filters=32,\n",
    "                                 kernel_size=5, # this is also referred to as an ngram of 5 (meaning it looks at 5 words at a time)\n",
    "                                 strides=1, # default\n",
    "                                 activation='relu',\n",
    "                                 padding='valid',   # tensorshape is (1, 11, 32) with the use of the same would be (1, 15, 32)\n",
    "                                                    # default = \"valid\", the output is smaller than input shape, \"same\" means output is same shape as input\n",
    "                                 )\n",
    "\n",
    "conv_1d_output = conv_1d(embedding_test) # pass test embedding through conv1d layer\n",
    "max_pool = tf.keras.layers.GlobalMaxPool1D()\n",
    "max_pool_output = max_pool(conv_1d_output) # equivalent to get the most important feature or get the feature with the highest value\n",
    "\n",
    "embedding_test.shape, conv_1d_output.shape, max_pool_output.shape"
   ]
  },
  {
   "cell_type": "code",
   "execution_count": null,
   "metadata": {},
   "outputs": [],
   "source": [
    "inputs = tf.keras.layers.Input(shape=(1,), dtype=tf.string)\n",
    "x = text_vectorizer(inputs)\n",
    "x = embedding(x)\n",
    "x = tf.keras.layers.Conv1D(filters=64, kernel_size=5, strides=1, activation='relu', padding='valid')(x)\n",
    "x = tf.keras.layers.GlobalMaxPool1D()(x)\n",
    "# x = tf.keras.layers.Dense(64, activation='relu')(x) \n",
    "outputs = tf.keras.layers.Dense(1, activation='sigmoid')(x) # binary classification model (0 or 1)\n",
    "model_5 = tf.keras.Model(inputs, outputs, name='model_5_conv1D')"
   ]
  },
  {
   "cell_type": "code",
   "execution_count": null,
   "metadata": {},
   "outputs": [],
   "source": [
    "model_5.summary()"
   ]
  },
  {
   "cell_type": "code",
   "execution_count": null,
   "metadata": {},
   "outputs": [],
   "source": [
    "# compile the model\n",
    "model_5.compile(loss=tf.keras.losses.BinaryCrossentropy(),\n",
    "                optimizer=tf.keras.optimizers.Adam(),\n",
    "                metrics=['accuracy'])"
   ]
  },
  {
   "cell_type": "code",
   "execution_count": null,
   "metadata": {},
   "outputs": [],
   "source": [
    "model_5_history = model_5.fit(x=train_sequences,\n",
    "                              y=train_labels,\n",
    "                              epochs=5,\n",
    "                              validation_data=(val_sequences, val_labels),\n",
    "                              callbacks=[create_tensorboard_callback(dir_name=tensorboard_logs, experiment_name='model_5_conv1d')])"
   ]
  },
  {
   "cell_type": "code",
   "execution_count": null,
   "metadata": {},
   "outputs": [],
   "source": [
    "# evaluate the model\n",
    "model_5.evaluate(val_sequences, val_labels)\n",
    "\n",
    "# make predictions\n",
    "model_5_pred_probs = model_5.predict(val_sequences)\n",
    "\n",
    "# convert model prediction probabilities to label format\n",
    "model_5_preds = tf.squeeze(tf.round(model_5_pred_probs))\n",
    "\n",
    "# calculate\n",
    "model_5_results = calculate_results(y_true=val_labels, y_pred=model_5_preds)"
   ]
  },
  {
   "cell_type": "code",
   "execution_count": null,
   "metadata": {},
   "outputs": [],
   "source": [
    "model_results = pd.DataFrame({'model_0_results': baseline_results,\n",
    "                                  'model_1_results': model_1_results,\n",
    "                                  'model_2_results': model_2_results,\n",
    "                                  'model_3_results': model_3_results,\n",
    "                                  'model_4_results': model_4_results,\n",
    "                                  'model_5_results': model_5_results})\n",
    "model_results.transpose().sort_values(by='f1', ascending=False)"
   ]
  },
  {
   "cell_type": "markdown",
   "metadata": {},
   "source": [
    "## Model 6: Tensorflow Hub Pretrained Sentence Encoder\n",
    "\n",
    "Now we've built a few of our own models, let's try and use transfer learning for NLP\n",
    "\n",
    "\n",
    "see: https://www.tensorflow.org/hub/tutorials/semantic_similarity_with_tf_hub_universal_encoder?hl=pt-br  \n",
    "see: https://arxiv.org/abs/1803.11175  \n",
    "see: https://huggingface.co/"
   ]
  },
  {
   "cell_type": "code",
   "execution_count": null,
   "metadata": {},
   "outputs": [],
   "source": [
    "# create a model using sequencial api\n",
    "model_6 = tf.keras.Sequential([\n",
    "    sentence_encoder_layer,\n",
    "    tf.keras.layers.Dense(64, activation='relu'),\n",
    "    tf.keras.layers.Dense(1, activation='sigmoid')\n",
    "], name='model_6_USE')\n",
    "\n",
    "\n",
    "# compile the model\n",
    "model_6.compile(loss=tf.keras.losses.BinaryCrossentropy(),\n",
    "                optimizer=tf.keras.optimizers.Adam(),\n",
    "                metrics=['accuracy'])"
   ]
  },
  {
   "cell_type": "code",
   "execution_count": null,
   "metadata": {},
   "outputs": [],
   "source": [
    "model_6.summary()"
   ]
  },
  {
   "cell_type": "code",
   "execution_count": null,
   "metadata": {},
   "outputs": [],
   "source": [
    "# fit the model\n",
    "model_6_history = model_6.fit(x=train_sequences,\n",
    "                              y=train_labels,\n",
    "                              epochs=6,\n",
    "                              validation_data=(val_sequences, val_labels),\n",
    "                              callbacks=[create_tensorboard_callback(dir_name=tensorboard_logs, \n",
    "                                                                     experiment_name='model_6_USE')])"
   ]
  },
  {
   "cell_type": "code",
   "execution_count": null,
   "metadata": {},
   "outputs": [],
   "source": [
    "# evaluate the model\n",
    "model_6.evaluate(val_sequences, val_labels)\n",
    "\n",
    "# make predictions\n",
    "model_6_pred_probs = model_6.predict(val_sequences)\n",
    "\n",
    "# convert model prediction probabilities to label format\n",
    "model_6_preds = tf.squeeze(tf.round(model_6_pred_probs))\n",
    "\n",
    "# calculate\n",
    "model_6_results = calculate_results(y_true=val_labels, y_pred=model_6_preds)"
   ]
  },
  {
   "cell_type": "code",
   "execution_count": null,
   "metadata": {},
   "outputs": [],
   "source": [
    "model_results = pd.DataFrame({'model_0_results': baseline_results,\n",
    "                                  'model_1_results': model_1_results,\n",
    "                                  'model_2_results': model_2_results,\n",
    "                                  'model_3_results': model_3_results,\n",
    "                                  'model_4_results': model_4_results,\n",
    "                                  'model_5_results': model_5_results,\n",
    "                                  'model_6_results': model_6_results})\n",
    "model_results.transpose().sort_values(by='f1', ascending=False)"
   ]
  },
  {
   "cell_type": "markdown",
   "metadata": {},
   "source": [
    "## Model 7: Tensorflow hub pretrained with 10% of dataset"
   ]
  },
  {
   "cell_type": "code",
   "execution_count": null,
   "metadata": {},
   "outputs": [],
   "source": [
    "## NOTE: Making data splits like below leads to data leakage (model_7 trained on 10% data)\n",
    "## DO NOT MAKE DATA SPLITS WHICH LEAK DATA FROM VALIDATION/TEST SET INTO TRAINING SET\n",
    "\n",
    "# create subset of 10% of the training data\n",
    "# train_10_percent = train_df_shuffled[['text', 'target']].sample(frac=0.1, random_state=42)\n",
    "# train_sentences_10_percent = train_10_percent['text'].to_list()\n",
    "# train_labels_10_percent = train_10_percent['target'].to_list()\n",
    "\n",
    "# len(train_sentences_10_percent), len(train_labels_10_percent)"
   ]
  },
  {
   "cell_type": "code",
   "execution_count": null,
   "metadata": {},
   "outputs": [],
   "source": [
    "# Making a better dataset split\n",
    "train_10_percent_split = int(0.1 * len(train_sequences))\n",
    "train_sentences_10_percent = train_sequences[:train_10_percent_split]\n",
    "train_labels_10_percent = train_labels[:train_10_percent_split]"
   ]
  },
  {
   "cell_type": "code",
   "execution_count": null,
   "metadata": {},
   "outputs": [],
   "source": [
    "# create a model using sequencial api\n",
    "model_7 = tf.keras.Sequential([\n",
    "    sentence_encoder_layer,\n",
    "    tf.keras.layers.Dense(64, activation='relu'),\n",
    "    tf.keras.layers.Dense(1, activation='sigmoid')\n",
    "], name='model_6_USE')\n",
    "\n",
    "\n",
    "# compile the model\n",
    "model_7.compile(loss=tf.keras.losses.BinaryCrossentropy(),\n",
    "                optimizer=tf.keras.optimizers.Adam(),\n",
    "                metrics=['accuracy'])\n",
    "\n",
    "# fit the model\n",
    "model_7_history = model_7.fit(x=train_sequences,\n",
    "                              y=train_labels,\n",
    "                              epochs=6,\n",
    "                              validation_data=(val_sequences, val_labels),\n",
    "                              callbacks=[create_tensorboard_callback(dir_name=tensorboard_logs, \n",
    "                                                                     experiment_name='model_7_USE')])"
   ]
  },
  {
   "cell_type": "code",
   "execution_count": null,
   "metadata": {},
   "outputs": [],
   "source": [
    "# evaluate the model\n",
    "model_7.evaluate(val_sequences, val_labels)\n",
    "\n",
    "# make predictions\n",
    "model_7_pred_probs = model_7.predict(val_sequences)\n",
    "\n",
    "# convert model prediction probabilities to label format\n",
    "model_7_preds = tf.squeeze(tf.round(model_7_pred_probs))\n",
    "\n",
    "# calculate\n",
    "model_7_results = calculate_results(y_true=val_labels, y_pred=model_7_preds)"
   ]
  },
  {
   "cell_type": "code",
   "execution_count": null,
   "metadata": {},
   "outputs": [],
   "source": [
    "model_results = pd.DataFrame({'model_0_results': baseline_results,\n",
    "                                  'model_1_results': model_1_results,\n",
    "                                  'model_2_results': model_2_results,\n",
    "                                  'model_3_results': model_3_results,\n",
    "                                  'model_4_results': model_4_results,\n",
    "                                  'model_5_results': model_5_results,\n",
    "                                  'model_6_results': model_6_results,\n",
    "                                  'model_7_results': model_7_results})\n",
    "\n",
    "model_results = model_results.transpose().sort_values(by='accuracy', ascending=False)\n",
    "model_results"
   ]
  },
  {
   "cell_type": "code",
   "execution_count": null,
   "metadata": {},
   "outputs": [],
   "source": [
    "model_results.plot(kind='bar', figsize=(20, 6)).legend(bbox_to_anchor=(1.0, 1.0))"
   ]
  },
  {
   "cell_type": "markdown",
   "metadata": {},
   "source": [
    "## Saving and loading a trained Model\n",
    "\n",
    "There are two main formats to save a model in Tensorflow\n",
    "1. HDF5 formats\n",
    "2. The `savedModel` format (this is default when using tensorflow)"
   ]
  },
  {
   "cell_type": "code",
   "execution_count": null,
   "metadata": {},
   "outputs": [],
   "source": [
    "model_6.save(f'{MODEL_PATH}/tfhub_nlp_model.h5')"
   ]
  },
  {
   "cell_type": "code",
   "execution_count": 5,
   "metadata": {},
   "outputs": [
    {
     "name": "stdout",
     "output_type": "stream",
     "text": [
      "WARNING:tensorflow:SavedModel saved prior to TF 2.5 detected when loading Keras model. Please ensure that you are saving the model with model.save() or tf.keras.models.save_model(), *NOT* tf.saved_model.save(). To confirm, there should be a file named \"keras_metadata.pb\" in the SavedModel directory.\n"
     ]
    }
   ],
   "source": [
    "import tensorflow as tf\n",
    "# import tensorflow_hub as hub\n",
    "\n",
    "# Load model with custom Hub Layer (required HDF5 format)\n",
    "# model_6_loaded = tf.keras.models.load_model(f'{MODEL_PATH}/tfhub_nlp_model.h5', custom_objects={'KerasLayer': hub.KerasLayer})\n",
    "model_6_loaded = tf.keras.models.load_model(f'{MODEL_PATH}/08_model_6_USE_feature_extractor')"
   ]
  },
  {
   "cell_type": "code",
   "execution_count": 10,
   "metadata": {},
   "outputs": [
    {
     "name": "stdout",
     "output_type": "stream",
     "text": [
      "24/24 [==============================] - 14s 25ms/step - loss: 0.4272 - accuracy: 0.8163\n"
     ]
    },
    {
     "data": {
      "text/plain": [
       "[0.42723122239112854, 0.8162729740142822]"
      ]
     },
     "execution_count": 10,
     "metadata": {},
     "output_type": "execute_result"
    }
   ],
   "source": [
    "model_6_loaded.evaluate(val_sequences, val_labels)"
   ]
  },
  {
   "cell_type": "code",
   "execution_count": null,
   "metadata": {},
   "outputs": [],
   "source": [
    "# Save TF Hub Sentence Encoder Model to SavedModel format (default)\n",
    "# model_6.save(f'{MODEL_PATH}/tfhub_nlp_model')"
   ]
  },
  {
   "cell_type": "code",
   "execution_count": null,
   "metadata": {},
   "outputs": [],
   "source": [
    "# model_6_saved_model = tf.keras.models.load_model(f'{MODEL_PATH}/tfhub_nlp_model')"
   ]
  },
  {
   "cell_type": "markdown",
   "metadata": {},
   "source": [
    "## Finding the most wrong examples\n",
    "\n",
    "* if our best model still isn't perfect, what examples is it getting wrong?\n",
    "* and of these wrong examples which ones is it getting **most wrong** (those will prediction probabilities closet to the oposite class)\n",
    "\n",
    "for example if a sample should have a label 0 but our model predict a prediction probability of 0.999 (really close 1) and vice versa."
   ]
  },
  {
   "cell_type": "code",
   "execution_count": 4,
   "metadata": {},
   "outputs": [],
   "source": [
    "# download a pretrained model from google storage\n",
    "from helper_functions import download_unzip_data\n",
    "\n",
    "filename = '08_model_6_USE_feature_extractor.zip'\n",
    "url = f'https://storage.googleapis.com/ztm_tf_course/{filename}'\n",
    "\n",
    "# download_unzip_data(url, filename, ZIP_PATH, MODEL_PATH)"
   ]
  },
  {
   "cell_type": "code",
   "execution_count": 47,
   "metadata": {},
   "outputs": [
    {
     "name": "stdout",
     "output_type": "stream",
     "text": [
      "24/24 [==============================] - 0s 14ms/step\n"
     ]
    }
   ],
   "source": [
    "# make predictions with the loaded model\n",
    "model_6_loaded_preds_prob = model_6_loaded.predict(val_sequences)\n",
    "model_6_loaded_preds = tf.squeeze(tf.round(model_6_loaded_preds_prob))\n",
    "\n",
    "model_6_loaded_results = calculate_results(y_true=val_labels, y_pred=model_6_loaded_preds)"
   ]
  },
  {
   "cell_type": "code",
   "execution_count": 18,
   "metadata": {},
   "outputs": [],
   "source": [
    "# create dataframe with validation sentences and best performing model predictions\n",
    "val_df = pd.DataFrame({'text': val_sequences,\n",
    "                       'target': val_labels,\n",
    "                       'prediction': model_6_loaded_preds,\n",
    "                       'prediction_probability': tf.squeeze(model_6_loaded_preds_prob)})"
   ]
  },
  {
   "cell_type": "code",
   "execution_count": 20,
   "metadata": {},
   "outputs": [
    {
     "data": {
      "text/html": [
       "<div>\n",
       "<style scoped>\n",
       "    .dataframe tbody tr th:only-of-type {\n",
       "        vertical-align: middle;\n",
       "    }\n",
       "\n",
       "    .dataframe tbody tr th {\n",
       "        vertical-align: top;\n",
       "    }\n",
       "\n",
       "    .dataframe thead th {\n",
       "        text-align: right;\n",
       "    }\n",
       "</style>\n",
       "<table border=\"1\" class=\"dataframe\">\n",
       "  <thead>\n",
       "    <tr style=\"text-align: right;\">\n",
       "      <th></th>\n",
       "      <th>text</th>\n",
       "      <th>target</th>\n",
       "      <th>prediction</th>\n",
       "      <th>prediction_probability</th>\n",
       "    </tr>\n",
       "  </thead>\n",
       "  <tbody>\n",
       "    <tr>\n",
       "      <th>0</th>\n",
       "      <td>DFR EP016 Monthly Meltdown - On Dnbheaven 2015...</td>\n",
       "      <td>0</td>\n",
       "      <td>0.0</td>\n",
       "      <td>0.159757</td>\n",
       "    </tr>\n",
       "    <tr>\n",
       "      <th>1</th>\n",
       "      <td>FedEx no longer to transport bioterror germs i...</td>\n",
       "      <td>0</td>\n",
       "      <td>1.0</td>\n",
       "      <td>0.747162</td>\n",
       "    </tr>\n",
       "    <tr>\n",
       "      <th>2</th>\n",
       "      <td>Gunmen kill four in El Salvador bus attack: Su...</td>\n",
       "      <td>1</td>\n",
       "      <td>1.0</td>\n",
       "      <td>0.988749</td>\n",
       "    </tr>\n",
       "    <tr>\n",
       "      <th>3</th>\n",
       "      <td>@camilacabello97 Internally and externally scr...</td>\n",
       "      <td>1</td>\n",
       "      <td>0.0</td>\n",
       "      <td>0.196229</td>\n",
       "    </tr>\n",
       "    <tr>\n",
       "      <th>4</th>\n",
       "      <td>Radiation emergency #preparedness starts with ...</td>\n",
       "      <td>1</td>\n",
       "      <td>1.0</td>\n",
       "      <td>0.707808</td>\n",
       "    </tr>\n",
       "  </tbody>\n",
       "</table>\n",
       "</div>"
      ],
      "text/plain": [
       "                                                text  target  prediction  \\\n",
       "0  DFR EP016 Monthly Meltdown - On Dnbheaven 2015...       0         0.0   \n",
       "1  FedEx no longer to transport bioterror germs i...       0         1.0   \n",
       "2  Gunmen kill four in El Salvador bus attack: Su...       1         1.0   \n",
       "3  @camilacabello97 Internally and externally scr...       1         0.0   \n",
       "4  Radiation emergency #preparedness starts with ...       1         1.0   \n",
       "\n",
       "   prediction_probability  \n",
       "0                0.159757  \n",
       "1                0.747162  \n",
       "2                0.988749  \n",
       "3                0.196229  \n",
       "4                0.707808  "
      ]
     },
     "execution_count": 20,
     "metadata": {},
     "output_type": "execute_result"
    }
   ],
   "source": [
    "val_df.head()"
   ]
  },
  {
   "cell_type": "code",
   "execution_count": 26,
   "metadata": {},
   "outputs": [
    {
     "data": {
      "text/html": [
       "<div>\n",
       "<style scoped>\n",
       "    .dataframe tbody tr th:only-of-type {\n",
       "        vertical-align: middle;\n",
       "    }\n",
       "\n",
       "    .dataframe tbody tr th {\n",
       "        vertical-align: top;\n",
       "    }\n",
       "\n",
       "    .dataframe thead th {\n",
       "        text-align: right;\n",
       "    }\n",
       "</style>\n",
       "<table border=\"1\" class=\"dataframe\">\n",
       "  <thead>\n",
       "    <tr style=\"text-align: right;\">\n",
       "      <th></th>\n",
       "      <th>text</th>\n",
       "      <th>target</th>\n",
       "      <th>prediction</th>\n",
       "      <th>prediction_probability</th>\n",
       "    </tr>\n",
       "  </thead>\n",
       "  <tbody>\n",
       "    <tr>\n",
       "      <th>31</th>\n",
       "      <td>? High Skies - Burning Buildings ? http://t.co...</td>\n",
       "      <td>0</td>\n",
       "      <td>1.0</td>\n",
       "      <td>0.910196</td>\n",
       "    </tr>\n",
       "    <tr>\n",
       "      <th>759</th>\n",
       "      <td>FedEx will no longer transport bioterror patho...</td>\n",
       "      <td>0</td>\n",
       "      <td>1.0</td>\n",
       "      <td>0.876982</td>\n",
       "    </tr>\n",
       "    <tr>\n",
       "      <th>628</th>\n",
       "      <td>@noah_anyname That's where the concentration c...</td>\n",
       "      <td>0</td>\n",
       "      <td>1.0</td>\n",
       "      <td>0.852300</td>\n",
       "    </tr>\n",
       "    <tr>\n",
       "      <th>209</th>\n",
       "      <td>Ashes 2015: AustraliaÛªs collapse at Trent Br...</td>\n",
       "      <td>0</td>\n",
       "      <td>1.0</td>\n",
       "      <td>0.835454</td>\n",
       "    </tr>\n",
       "    <tr>\n",
       "      <th>251</th>\n",
       "      <td>@AshGhebranious civil rights continued in the ...</td>\n",
       "      <td>0</td>\n",
       "      <td>1.0</td>\n",
       "      <td>0.827213</td>\n",
       "    </tr>\n",
       "  </tbody>\n",
       "</table>\n",
       "</div>"
      ],
      "text/plain": [
       "                                                  text  target  prediction  \\\n",
       "31   ? High Skies - Burning Buildings ? http://t.co...       0         1.0   \n",
       "759  FedEx will no longer transport bioterror patho...       0         1.0   \n",
       "628  @noah_anyname That's where the concentration c...       0         1.0   \n",
       "209  Ashes 2015: AustraliaÛªs collapse at Trent Br...       0         1.0   \n",
       "251  @AshGhebranious civil rights continued in the ...       0         1.0   \n",
       "\n",
       "     prediction_probability  \n",
       "31                 0.910196  \n",
       "759                0.876982  \n",
       "628                0.852300  \n",
       "209                0.835454  \n",
       "251                0.827213  "
      ]
     },
     "execution_count": 26,
     "metadata": {},
     "output_type": "execute_result"
    }
   ],
   "source": [
    "# Find the wrong predictions and sort by prediction probabilities\n",
    "most_wrong = val_df[val_df['target'] != val_df['prediction']].sort_values(by='prediction_probability', ascending=False)\n",
    "most_wrong.head(5) # these are false positives"
   ]
  },
  {
   "cell_type": "code",
   "execution_count": 27,
   "metadata": {},
   "outputs": [
    {
     "data": {
      "text/html": [
       "<div>\n",
       "<style scoped>\n",
       "    .dataframe tbody tr th:only-of-type {\n",
       "        vertical-align: middle;\n",
       "    }\n",
       "\n",
       "    .dataframe tbody tr th {\n",
       "        vertical-align: top;\n",
       "    }\n",
       "\n",
       "    .dataframe thead th {\n",
       "        text-align: right;\n",
       "    }\n",
       "</style>\n",
       "<table border=\"1\" class=\"dataframe\">\n",
       "  <thead>\n",
       "    <tr style=\"text-align: right;\">\n",
       "      <th></th>\n",
       "      <th>text</th>\n",
       "      <th>target</th>\n",
       "      <th>prediction</th>\n",
       "      <th>prediction_probability</th>\n",
       "    </tr>\n",
       "  </thead>\n",
       "  <tbody>\n",
       "    <tr>\n",
       "      <th>411</th>\n",
       "      <td>@SoonerMagic_ I mean I'm a fan but I don't nee...</td>\n",
       "      <td>1</td>\n",
       "      <td>0.0</td>\n",
       "      <td>0.043918</td>\n",
       "    </tr>\n",
       "    <tr>\n",
       "      <th>233</th>\n",
       "      <td>I get to smoke my shit in peace</td>\n",
       "      <td>1</td>\n",
       "      <td>0.0</td>\n",
       "      <td>0.042087</td>\n",
       "    </tr>\n",
       "    <tr>\n",
       "      <th>38</th>\n",
       "      <td>Why are you deluged with low self-image? Take ...</td>\n",
       "      <td>1</td>\n",
       "      <td>0.0</td>\n",
       "      <td>0.038998</td>\n",
       "    </tr>\n",
       "    <tr>\n",
       "      <th>244</th>\n",
       "      <td>Reddit Will Now QuarantineÛ_ http://t.co/pkUA...</td>\n",
       "      <td>1</td>\n",
       "      <td>0.0</td>\n",
       "      <td>0.038949</td>\n",
       "    </tr>\n",
       "    <tr>\n",
       "      <th>23</th>\n",
       "      <td>Ron &amp;amp; Fez - Dave's High School Crush https...</td>\n",
       "      <td>1</td>\n",
       "      <td>0.0</td>\n",
       "      <td>0.037186</td>\n",
       "    </tr>\n",
       "  </tbody>\n",
       "</table>\n",
       "</div>"
      ],
      "text/plain": [
       "                                                  text  target  prediction  \\\n",
       "411  @SoonerMagic_ I mean I'm a fan but I don't nee...       1         0.0   \n",
       "233                    I get to smoke my shit in peace       1         0.0   \n",
       "38   Why are you deluged with low self-image? Take ...       1         0.0   \n",
       "244  Reddit Will Now QuarantineÛ_ http://t.co/pkUA...       1         0.0   \n",
       "23   Ron &amp; Fez - Dave's High School Crush https...       1         0.0   \n",
       "\n",
       "     prediction_probability  \n",
       "411                0.043918  \n",
       "233                0.042087  \n",
       "38                 0.038998  \n",
       "244                0.038949  \n",
       "23                 0.037186  "
      ]
     },
     "execution_count": 27,
     "metadata": {},
     "output_type": "execute_result"
    }
   ],
   "source": [
    "most_wrong.tail(5) # these are false negatives"
   ]
  },
  {
   "cell_type": "code",
   "execution_count": 28,
   "metadata": {},
   "outputs": [
    {
     "data": {
      "text/html": [
       "<div>\n",
       "<style scoped>\n",
       "    .dataframe tbody tr th:only-of-type {\n",
       "        vertical-align: middle;\n",
       "    }\n",
       "\n",
       "    .dataframe tbody tr th {\n",
       "        vertical-align: top;\n",
       "    }\n",
       "\n",
       "    .dataframe thead th {\n",
       "        text-align: right;\n",
       "    }\n",
       "</style>\n",
       "<table border=\"1\" class=\"dataframe\">\n",
       "  <thead>\n",
       "    <tr style=\"text-align: right;\">\n",
       "      <th></th>\n",
       "      <th>id</th>\n",
       "      <th>keyword</th>\n",
       "      <th>location</th>\n",
       "      <th>text</th>\n",
       "    </tr>\n",
       "  </thead>\n",
       "  <tbody>\n",
       "    <tr>\n",
       "      <th>0</th>\n",
       "      <td>0</td>\n",
       "      <td>NaN</td>\n",
       "      <td>NaN</td>\n",
       "      <td>Just happened a terrible car crash</td>\n",
       "    </tr>\n",
       "    <tr>\n",
       "      <th>1</th>\n",
       "      <td>2</td>\n",
       "      <td>NaN</td>\n",
       "      <td>NaN</td>\n",
       "      <td>Heard about #earthquake is different cities, s...</td>\n",
       "    </tr>\n",
       "    <tr>\n",
       "      <th>2</th>\n",
       "      <td>3</td>\n",
       "      <td>NaN</td>\n",
       "      <td>NaN</td>\n",
       "      <td>there is a forest fire at spot pond, geese are...</td>\n",
       "    </tr>\n",
       "    <tr>\n",
       "      <th>3</th>\n",
       "      <td>9</td>\n",
       "      <td>NaN</td>\n",
       "      <td>NaN</td>\n",
       "      <td>Apocalypse lighting. #Spokane #wildfires</td>\n",
       "    </tr>\n",
       "    <tr>\n",
       "      <th>4</th>\n",
       "      <td>11</td>\n",
       "      <td>NaN</td>\n",
       "      <td>NaN</td>\n",
       "      <td>Typhoon Soudelor kills 28 in China and Taiwan</td>\n",
       "    </tr>\n",
       "    <tr>\n",
       "      <th>...</th>\n",
       "      <td>...</td>\n",
       "      <td>...</td>\n",
       "      <td>...</td>\n",
       "      <td>...</td>\n",
       "    </tr>\n",
       "    <tr>\n",
       "      <th>3258</th>\n",
       "      <td>10861</td>\n",
       "      <td>NaN</td>\n",
       "      <td>NaN</td>\n",
       "      <td>EARTHQUAKE SAFETY LOS ANGELES ÛÒ SAFETY FASTE...</td>\n",
       "    </tr>\n",
       "    <tr>\n",
       "      <th>3259</th>\n",
       "      <td>10865</td>\n",
       "      <td>NaN</td>\n",
       "      <td>NaN</td>\n",
       "      <td>Storm in RI worse than last hurricane. My city...</td>\n",
       "    </tr>\n",
       "    <tr>\n",
       "      <th>3260</th>\n",
       "      <td>10868</td>\n",
       "      <td>NaN</td>\n",
       "      <td>NaN</td>\n",
       "      <td>Green Line derailment in Chicago http://t.co/U...</td>\n",
       "    </tr>\n",
       "    <tr>\n",
       "      <th>3261</th>\n",
       "      <td>10874</td>\n",
       "      <td>NaN</td>\n",
       "      <td>NaN</td>\n",
       "      <td>MEG issues Hazardous Weather Outlook (HWO) htt...</td>\n",
       "    </tr>\n",
       "    <tr>\n",
       "      <th>3262</th>\n",
       "      <td>10875</td>\n",
       "      <td>NaN</td>\n",
       "      <td>NaN</td>\n",
       "      <td>#CityofCalgary has activated its Municipal Eme...</td>\n",
       "    </tr>\n",
       "  </tbody>\n",
       "</table>\n",
       "<p>3263 rows × 4 columns</p>\n",
       "</div>"
      ],
      "text/plain": [
       "         id keyword location  \\\n",
       "0         0     NaN      NaN   \n",
       "1         2     NaN      NaN   \n",
       "2         3     NaN      NaN   \n",
       "3         9     NaN      NaN   \n",
       "4        11     NaN      NaN   \n",
       "...     ...     ...      ...   \n",
       "3258  10861     NaN      NaN   \n",
       "3259  10865     NaN      NaN   \n",
       "3260  10868     NaN      NaN   \n",
       "3261  10874     NaN      NaN   \n",
       "3262  10875     NaN      NaN   \n",
       "\n",
       "                                                   text  \n",
       "0                    Just happened a terrible car crash  \n",
       "1     Heard about #earthquake is different cities, s...  \n",
       "2     there is a forest fire at spot pond, geese are...  \n",
       "3              Apocalypse lighting. #Spokane #wildfires  \n",
       "4         Typhoon Soudelor kills 28 in China and Taiwan  \n",
       "...                                                 ...  \n",
       "3258  EARTHQUAKE SAFETY LOS ANGELES ÛÒ SAFETY FASTE...  \n",
       "3259  Storm in RI worse than last hurricane. My city...  \n",
       "3260  Green Line derailment in Chicago http://t.co/U...  \n",
       "3261  MEG issues Hazardous Weather Outlook (HWO) htt...  \n",
       "3262  #CityofCalgary has activated its Municipal Eme...  \n",
       "\n",
       "[3263 rows x 4 columns]"
      ]
     },
     "execution_count": 28,
     "metadata": {},
     "output_type": "execute_result"
    }
   ],
   "source": [
    "test_df"
   ]
  },
  {
   "cell_type": "markdown",
   "metadata": {},
   "source": [
    "## The speed/score tradeoff"
   ]
  },
  {
   "cell_type": "code",
   "execution_count": 29,
   "metadata": {},
   "outputs": [],
   "source": [
    "# let's make a function to measure the time of prediction\n",
    "import time\n",
    "\n",
    "def pred_timer(model, samples):\n",
    "    \"\"\"\n",
    "    Times how long a model takes to make predictions on samples\n",
    "    \"\"\"\n",
    "    # get start time\n",
    "    start_time = time.perf_counter()\n",
    "    \n",
    "    # make predictions\n",
    "    model.predict(samples)\n",
    "    \n",
    "    # get finish time\n",
    "    end_time = time.perf_counter()\n",
    "\n",
    "    # calculate how long prediction took to make\n",
    "    total_time = end_time - start_time\n",
    "    \n",
    "    time_per_pred = total_time/len(samples)\n",
    "    return total_time, time_per_pred"
   ]
  },
  {
   "cell_type": "code",
   "execution_count": 30,
   "metadata": {},
   "outputs": [
    {
     "name": "stdout",
     "output_type": "stream",
     "text": [
      "24/24 [==============================] - 0s 15ms/step\n"
     ]
    },
    {
     "data": {
      "text/plain": [
       "(0.5327792999996745, 0.0006991854330704391)"
      ]
     },
     "execution_count": 30,
     "metadata": {},
     "output_type": "execute_result"
    }
   ],
   "source": [
    "model_6_loaded_total_time, model_6_loaded_per_pred = pred_timer(model=model_6_loaded, \n",
    "                                                                samples=val_sequences)\n",
    "model_6_loaded_total_time, model_6_loaded_per_pred"
   ]
  },
  {
   "cell_type": "code",
   "execution_count": 38,
   "metadata": {},
   "outputs": [
    {
     "data": {
      "text/plain": [
       "(0.07200689999990573, 9.449724409436447e-05)"
      ]
     },
     "execution_count": 38,
     "metadata": {},
     "output_type": "execute_result"
    }
   ],
   "source": [
    "model_0_loaded_total_time, model_0_loaded_per_pred = pred_timer(model=model_0, \n",
    "                                                                samples=val_sequences)\n",
    "model_0_loaded_total_time, model_0_loaded_per_pred"
   ]
  },
  {
   "cell_type": "code",
   "execution_count": 49,
   "metadata": {},
   "outputs": [
    {
     "data": {
      "text/html": [
       "<div>\n",
       "<style scoped>\n",
       "    .dataframe tbody tr th:only-of-type {\n",
       "        vertical-align: middle;\n",
       "    }\n",
       "\n",
       "    .dataframe tbody tr th {\n",
       "        vertical-align: top;\n",
       "    }\n",
       "\n",
       "    .dataframe thead th {\n",
       "        text-align: right;\n",
       "    }\n",
       "</style>\n",
       "<table border=\"1\" class=\"dataframe\">\n",
       "  <thead>\n",
       "    <tr style=\"text-align: right;\">\n",
       "      <th></th>\n",
       "      <th>model_0_results</th>\n",
       "    </tr>\n",
       "  </thead>\n",
       "  <tbody>\n",
       "    <tr>\n",
       "      <th>accuracy</th>\n",
       "      <td>79.265092</td>\n",
       "    </tr>\n",
       "    <tr>\n",
       "      <th>f1</th>\n",
       "      <td>78.621898</td>\n",
       "    </tr>\n",
       "    <tr>\n",
       "      <th>precision</th>\n",
       "      <td>81.113900</td>\n",
       "    </tr>\n",
       "    <tr>\n",
       "      <th>recall</th>\n",
       "      <td>79.265092</td>\n",
       "    </tr>\n",
       "  </tbody>\n",
       "</table>\n",
       "</div>"
      ],
      "text/plain": [
       "           model_0_results\n",
       "accuracy         79.265092\n",
       "f1               78.621898\n",
       "precision        81.113900\n",
       "recall           79.265092"
      ]
     },
     "execution_count": 49,
     "metadata": {},
     "output_type": "execute_result"
    }
   ],
   "source": [
    "model_results"
   ]
  },
  {
   "cell_type": "code",
   "execution_count": 52,
   "metadata": {},
   "outputs": [
    {
     "data": {
      "image/png": "[encoded data removed]",
      "text/plain": [
       "<Figure size 2000x600 with 1 Axes>"
      ]
     },
     "metadata": {},
     "output_type": "display_data"
    }
   ],
   "source": [
    "import matplotlib.pyplot as plt\n",
    "\n",
    "plt.figure(figsize=(20, 6))\n",
    "plt.scatter(model_0_loaded_per_pred, baseline_results['f1'], label='baseline')\n",
    "plt.scatter(model_6_loaded_per_pred, model_6_loaded_results['f1'], label='tfhub_sequence_encoder')\n",
    "plt.legend()\n",
    "plt.title('F1-score versus time per prediction')\n",
    "plt.xlabel('Time per prediction')\n",
    "plt.ylabel('F1-score');"
   ]
  }
 ],
 "metadata": {
  "kernelspec": {
   "display_name": ".tf",
   "language": "python",
   "name": "python3"
  },
  "language_info": {
   "codemirror_mode": {
    "name": "ipython",
    "version": 3
   },
   "file_extension": ".py",
   "mimetype": "text/x-python",
   "name": "python",
   "nbconvert_exporter": "python",
   "pygments_lexer": "ipython3",
   "version": "3.7.3"
  }
 },
 "nbformat": 4,
 "nbformat_minor": 2
}
