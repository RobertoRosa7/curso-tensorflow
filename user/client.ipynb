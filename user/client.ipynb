{
 "cells": [
  {
   "cell_type": "code",
   "execution_count": 1,
   "metadata": {},
   "outputs": [],
   "source": [
    "import os, sys\n",
    "import pandas as pd\n",
    "import json\n",
    "import csv\n",
    "from unicodedata import normalize\n",
    "from urllib import request\n",
    "from datetime import datetime\n",
    "\n",
    "sys.path.append(os.path.abspath(os.path.join('..')))"
   ]
  },
  {
   "cell_type": "code",
   "execution_count": 3,
   "metadata": {},
   "outputs": [],
   "source": [
    "from services.version_service import VersionService\n",
    "from keys.client_key import ClientKey as key\n",
    "ver_service = VersionService()"
   ]
  },
  {
   "cell_type": "code",
   "execution_count": 4,
   "metadata": {},
   "outputs": [],
   "source": [
    "STORAGE = os.path.join('..', 'storage')"
   ]
  },
  {
   "cell_type": "code",
   "execution_count": 5,
   "metadata": {},
   "outputs": [],
   "source": [
    "FILENAME_TB_CLIENT = ver_service.get_last_version(key.FILENAME_TB_CLIENT, key.EXT_CSV, STORAGE)"
   ]
  },
  {
   "cell_type": "code",
   "execution_count": 6,
   "metadata": {},
   "outputs": [],
   "source": [
    "df_client = pd.read_csv(os.path.join(STORAGE, FILENAME_TB_CLIENT), sep=',', encoding='utf-8', low_memory=False, dtype=str)"
   ]
  },
  {
   "cell_type": "code",
   "execution_count": 7,
   "metadata": {},
   "outputs": [
    {
     "data": {
      "text/plain": [
       "(563633, 8)"
      ]
     },
     "execution_count": 7,
     "metadata": {},
     "output_type": "execute_result"
    }
   ],
   "source": [
    "df_client.shape"
   ]
  },
  {
   "cell_type": "code",
   "execution_count": 8,
   "metadata": {},
   "outputs": [
    {
     "data": {
      "text/html": [
       "<div>\n",
       "<style scoped>\n",
       "    .dataframe tbody tr th:only-of-type {\n",
       "        vertical-align: middle;\n",
       "    }\n",
       "\n",
       "    .dataframe tbody tr th {\n",
       "        vertical-align: top;\n",
       "    }\n",
       "\n",
       "    .dataframe thead th {\n",
       "        text-align: right;\n",
       "    }\n",
       "</style>\n",
       "<table border=\"1\" class=\"dataframe\">\n",
       "  <thead>\n",
       "    <tr style=\"text-align: right;\">\n",
       "      <th></th>\n",
       "      <th>ID</th>\n",
       "      <th>CPF</th>\n",
       "      <th>NAME</th>\n",
       "      <th>CELL_PHONE</th>\n",
       "      <th>EMAIL</th>\n",
       "      <th>PENUMPER</th>\n",
       "      <th>CREATE_DATE</th>\n",
       "      <th>UPDATE_DATE</th>\n",
       "    </tr>\n",
       "  </thead>\n",
       "  <tbody>\n",
       "    <tr>\n",
       "      <th>0</th>\n",
       "      <td>1782</td>\n",
       "      <td>14800087708</td>\n",
       "      <td>João Carlos da Silva adriao</td>\n",
       "      <td>11952901445</td>\n",
       "      <td>nathalia.nunes@prservicos.com.br</td>\n",
       "      <td>NaN</td>\n",
       "      <td>NaN</td>\n",
       "      <td>NaN</td>\n",
       "    </tr>\n",
       "    <tr>\n",
       "      <th>1</th>\n",
       "      <td>1783</td>\n",
       "      <td>17838922771</td>\n",
       "      <td>Ana kecya freire de Andrade</td>\n",
       "      <td>11952901445</td>\n",
       "      <td>nathalia.nunes@prservicos.com.br</td>\n",
       "      <td>NaN</td>\n",
       "      <td>NaN</td>\n",
       "      <td>NaN</td>\n",
       "    </tr>\n",
       "    <tr>\n",
       "      <th>2</th>\n",
       "      <td>1785</td>\n",
       "      <td>85963169577</td>\n",
       "      <td>Ismael Dias de Araújo</td>\n",
       "      <td>11981016089</td>\n",
       "      <td>josanesouza7@gmail.com</td>\n",
       "      <td>NaN</td>\n",
       "      <td>NaN</td>\n",
       "      <td>2022-08-04 15:33:04.291</td>\n",
       "    </tr>\n",
       "    <tr>\n",
       "      <th>3</th>\n",
       "      <td>1786</td>\n",
       "      <td>17232470738</td>\n",
       "      <td>Amanda Ferreira de Lima</td>\n",
       "      <td>11952901445</td>\n",
       "      <td>nathalia.nunes@prservicos.com.br</td>\n",
       "      <td>NaN</td>\n",
       "      <td>NaN</td>\n",
       "      <td>NaN</td>\n",
       "    </tr>\n",
       "    <tr>\n",
       "      <th>4</th>\n",
       "      <td>1787</td>\n",
       "      <td>12648131981</td>\n",
       "      <td>milena</td>\n",
       "      <td>11952901445</td>\n",
       "      <td>nathalia.nunes@prservicos.com.br</td>\n",
       "      <td>NaN</td>\n",
       "      <td>NaN</td>\n",
       "      <td>NaN</td>\n",
       "    </tr>\n",
       "  </tbody>\n",
       "</table>\n",
       "</div>"
      ],
      "text/plain": [
       "     ID          CPF                         NAME   CELL_PHONE  \\\n",
       "0  1782  14800087708  João Carlos da Silva adriao  11952901445   \n",
       "1  1783  17838922771  Ana kecya freire de Andrade  11952901445   \n",
       "2  1785  85963169577        Ismael Dias de Araújo  11981016089   \n",
       "3  1786  17232470738      Amanda Ferreira de Lima  11952901445   \n",
       "4  1787  12648131981                       milena  11952901445   \n",
       "\n",
       "                              EMAIL PENUMPER CREATE_DATE  \\\n",
       "0  nathalia.nunes@prservicos.com.br      NaN         NaN   \n",
       "1  nathalia.nunes@prservicos.com.br      NaN         NaN   \n",
       "2            josanesouza7@gmail.com      NaN         NaN   \n",
       "3  nathalia.nunes@prservicos.com.br      NaN         NaN   \n",
       "4  nathalia.nunes@prservicos.com.br      NaN         NaN   \n",
       "\n",
       "               UPDATE_DATE  \n",
       "0                      NaN  \n",
       "1                      NaN  \n",
       "2  2022-08-04 15:33:04.291  \n",
       "3                      NaN  \n",
       "4                      NaN  "
      ]
     },
     "execution_count": 8,
     "metadata": {},
     "output_type": "execute_result"
    }
   ],
   "source": [
    "df_client.head()"
   ]
  },
  {
   "cell_type": "code",
   "execution_count": 11,
   "metadata": {},
   "outputs": [
    {
     "data": {
      "text/plain": [
       "CPF\n",
       "19258717970    2\n",
       "78059270907    2\n",
       "66422478410    2\n",
       "42570966592    2\n",
       "14800087708    1\n",
       "              ..\n",
       "00175429       1\n",
       "00175428       1\n",
       "00175427       1\n",
       "00175426       1\n",
       "76748378400    1\n",
       "Name: count, Length: 563629, dtype: int64"
      ]
     },
     "execution_count": 11,
     "metadata": {},
     "output_type": "execute_result"
    }
   ],
   "source": [
    "df_client['CPF'].value_counts()"
   ]
  }
 ],
 "metadata": {
  "interpreter": {
   "hash": "37d749834043cc8bcf9500ddac590bcfc07020a4e948b1c7aab57c3f0cf1e0ef"
  },
  "kernelspec": {
   "display_name": "Python 3.9.5 ('.venv': venv)",
   "language": "python",
   "name": "python3"
  },
  "language_info": {
   "codemirror_mode": {
    "name": "ipython",
    "version": 3
   },
   "file_extension": ".py",
   "mimetype": "text/x-python",
   "name": "python",
   "nbconvert_exporter": "python",
   "pygments_lexer": "ipython3",
   "version": "3.9.5"
  },
  "orig_nbformat": 4
 },
 "nbformat": 4,
 "nbformat_minor": 2
}
