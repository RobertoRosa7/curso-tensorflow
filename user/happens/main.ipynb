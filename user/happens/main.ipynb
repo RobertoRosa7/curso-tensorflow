{
 "cells": [
  {
   "cell_type": "code",
   "execution_count": 1,
   "metadata": {},
   "outputs": [],
   "source": [
    "import os \n",
    "import sys\n",
    "import pandas as pd\n",
    "import numpy as np\n",
    "import operator\n",
    "import random\n",
    "from functools import reduce\n",
    "\n",
    "from bson import ObjectId\n",
    "\n",
    "sys.path.append(os.path.abspath(os.path.join('..', '..')))\n",
    "\n",
    "from services.pandas.pandas_service import PandasService\n",
    "from services.database.database_service import Environment"
   ]
  },
  {
   "cell_type": "code",
   "execution_count": 22,
   "metadata": {},
   "outputs": [
    {
     "name": "stderr",
     "output_type": "stream",
     "text": [
      "2024-05-24 17:24:27,301 INFO root : Environment (__init__): making connection\n",
      "2024-05-24 17:24:27,308 INFO root : Environment (get_db): access database\n",
      "2024-05-24 17:24:27,312 INFO root : Environment (get_db): access database\n"
     ]
    }
   ],
   "source": [
    "env = Environment().get_instance()\n",
    "pd_services = PandasService()\n",
    "db_daily = env.get_db().get('daily')\n",
    "db_users = env.get_db().get('users')"
   ]
  },
  {
   "cell_type": "code",
   "execution_count": 25,
   "metadata": {},
   "outputs": [],
   "source": [
    "wh_collection = db_daily.get_collection('WhatHappenCollection')\n",
    "fs_collection = db_daily.get_collection('SentimentCollection')\n",
    "ts_collection = db_daily.get_collection('TrashHappenCollection')\n",
    "fl_collection = db_users.get_collection('FollowsCollection')\n",
    "cs_collection = db_daily.get_collection('CommentsCollection')"
   ]
  },
  {
   "cell_type": "code",
   "execution_count": 6,
   "metadata": {},
   "outputs": [
    {
     "data": {
      "text/plain": [
       "[{'total': 22}]"
      ]
     },
     "execution_count": 6,
     "metadata": {},
     "output_type": "execute_result"
    }
   ],
   "source": [
    "list(wh_collection.aggregate([\n",
    "    {'$match': {'user_id': ObjectId(\"65ae90883470eb010f5f1104\")}},\n",
    "    {'$group': {'_id': None, 'total': {'$sum': 1 } } },\n",
    "    {'$project': { '_id': 0 } }\n",
    "] ))\n"
   ]
  },
  {
   "cell_type": "code",
   "execution_count": 11,
   "metadata": {},
   "outputs": [
    {
     "data": {
      "text/plain": [
       "[{'_id': ObjectId('664fb194766e30ff52bf61cb'),\n",
       "  'created_at': datetime.datetime(2024, 5, 23, 18, 13, 56, 896000),\n",
       "  'updated_at': datetime.datetime(2024, 5, 23, 18, 13, 56, 896000),\n",
       "  'text': 'teste edite and create',\n",
       "  'sentiment': 'negative',\n",
       "  'name_model': 'logistic_regression',\n",
       "  'model_version': '1.0.2',\n",
       "  'accuracy_score': 0.8870849160642078,\n",
       "  'score_positive': 0.4873570721523508,\n",
       "  'score_negative': 0.5126429278476492,\n",
       "  'user_id': ObjectId('6644c4eeff47ba18dd110294'),\n",
       "  'what_happen_id': ObjectId('664fb194766e30ff52bf61ca')}]"
      ]
     },
     "execution_count": 11,
     "metadata": {},
     "output_type": "execute_result"
    }
   ],
   "source": [
    "list(fs_collection.aggregate([\n",
    "    {'$match': {'user_id': ObjectId('6644c4eeff47ba18dd110294')}},\n",
    "]))"
   ]
  },
  {
   "cell_type": "code",
   "execution_count": 20,
   "metadata": {},
   "outputs": [
    {
     "data": {
      "text/plain": [
       "[{'_id': ObjectId('6650f24d3f010385da26228c'),\n",
       "  'created_at': datetime.datetime(2024, 5, 24, 17, 2, 21, 223000),\n",
       "  'updated_at': datetime.datetime(2024, 5, 24, 17, 2, 21, 223000),\n",
       "  'user_id': ObjectId('661f2d5e30ee4c696a1d15fd'),\n",
       "  'happen_id': ObjectId('664fb432766e30ff52bf6310'),\n",
       "  'owner_happen_id': ObjectId('663ed74204ba683d9499b0a6')}]"
      ]
     },
     "execution_count": 20,
     "metadata": {},
     "output_type": "execute_result"
    }
   ],
   "source": [
    "list(ts_collection.find())"
   ]
  },
  {
   "cell_type": "code",
   "execution_count": 19,
   "metadata": {},
   "outputs": [
    {
     "data": {
      "text/plain": [
       "[{'_id': ObjectId('664ce32d089c4c2e6bd9589c'),\n",
       "  'created_at': datetime.datetime(2024, 5, 24, 15, 49, 57, 836000),\n",
       "  'updated_at': datetime.datetime(2024, 5, 24, 15, 49, 57, 836000),\n",
       "  'what_happen': 'Tive um ótimo dia! que pena, apesar de tudo ter dado certo, nem tudo é o que parece. No entando acredito eu que no final do dia tudo pode se resolve.\\n\\nPreciso saber que um dia tudo vai ficar bem - mesmo sabendo que as pessas são ruins por natureza. Sem pensar nas coisas simplesmente acontece quando tem que acontecer - isso é verdade, pois eu acredito em Deus no final das contas.\\n\\nUm dia tudo vai se resolver!',\n",
       "  'user_id': ObjectId('661f2d5e30ee4c696a1d15fd'),\n",
       "  'name_id': 'root@daily',\n",
       "  'visibility': 'PRIVATE',\n",
       "  'likes': None,\n",
       "  'feelings': [{'_id': ObjectId('664ce32d089c4c2e6bd9589d'),\n",
       "    'created_at': datetime.datetime(2024, 5, 24, 15, 49, 57, 850000),\n",
       "    'updated_at': datetime.datetime(2024, 5, 24, 15, 49, 57, 850000),\n",
       "    'text': 'Tive um ótimo dia! que pena, apesar de tudo ter dado certo, nem tudo é o que parece. No entando acredito eu que no final do dia tudo pode se resolve.\\n\\nPreciso saber que um dia tudo vai ficar bem - mesmo sabendo que as pessas são ruins por natureza. Sem pensar nas coisas simplesmente acontece quando tem que acontecer - isso é verdade, pois eu acredito em Deus no final das contas.\\n\\nUm dia tudo vai se resolver!',\n",
       "    'sentiment': 'positive',\n",
       "    'name_model': 'logistic_regression',\n",
       "    'model_version': '1.0.2',\n",
       "    'accuracy_score': 0.8870849160642078,\n",
       "    'score_positive': 0.873716054408198,\n",
       "    'score_negative': 0.126283945591802,\n",
       "    'user_id': ObjectId('661f2d5e30ee4c696a1d15fd'),\n",
       "    'what_happen_id': ObjectId('664ce32d089c4c2e6bd9589c')}],\n",
       "  'nickname': None,\n",
       "  'trash': []},\n",
       " {'_id': ObjectId('664d38cf089c4c2e6bd97e41'),\n",
       "  'created_at': datetime.datetime(2024, 5, 24, 15, 24, 0, 479000),\n",
       "  'updated_at': datetime.datetime(2024, 5, 24, 15, 24, 0, 480000),\n",
       "  'what_happen': 'Toffoli anula decisões da Lava Jato contra Marcelo Odebrecht\\nMinistro determinou também o trancamento de todos os procedimentos penais contra o empresário. Anulação não abarca o acordo de delação premiada firmado por ele durante a operação — que continua válido.',\n",
       "  'user_id': ObjectId('661f2d5e30ee4c696a1d15fd'),\n",
       "  'name_id': 'root@daily',\n",
       "  'visibility': 'PRIVATE',\n",
       "  'likes': None,\n",
       "  'feelings': [{'_id': ObjectId('664d38cf089c4c2e6bd97e42'),\n",
       "    'created_at': datetime.datetime(2024, 5, 24, 15, 24, 0, 548000),\n",
       "    'updated_at': datetime.datetime(2024, 5, 24, 15, 24, 0, 548000),\n",
       "    'text': 'Toffoli anula decisões da Lava Jato contra Marcelo Odebrecht\\nMinistro determinou também o trancamento de todos os procedimentos penais contra o empresário. Anulação não abarca o acordo de delação premiada firmado por ele durante a operação — que continua válido.',\n",
       "    'sentiment': 'positive',\n",
       "    'name_model': 'logistic_regression',\n",
       "    'model_version': '1.0.2',\n",
       "    'accuracy_score': 0.8870849160642078,\n",
       "    'score_positive': 0.5177707312104577,\n",
       "    'score_negative': 0.4822292687895423,\n",
       "    'user_id': ObjectId('661f2d5e30ee4c696a1d15fd'),\n",
       "    'what_happen_id': ObjectId('664d38cf089c4c2e6bd97e41')}],\n",
       "  'nickname': None,\n",
       "  'trash': []},\n",
       " {'_id': ObjectId('664d38f0089c4c2e6bd97e47'),\n",
       "  'created_at': datetime.datetime(2024, 5, 23, 14, 45, 34, 860000),\n",
       "  'updated_at': datetime.datetime(2024, 5, 23, 14, 45, 34, 861000),\n",
       "  'what_happen': 'Venâncio Aires confirma morte de morador por leptospirose após enchente\\nVítima é homem de 33 anos que manteve contato com água da cheia na cidade. Na segunda (20), governo do RS confirmou morte de idoso em Travesseiro.',\n",
       "  'user_id': ObjectId('661f2d5e30ee4c696a1d15fd'),\n",
       "  'name_id': 'root@daily',\n",
       "  'visibility': 'PRIVATE',\n",
       "  'likes': None,\n",
       "  'feelings': [{'_id': ObjectId('664d38f0089c4c2e6bd97e48'),\n",
       "    'created_at': datetime.datetime(2024, 5, 23, 14, 45, 34, 878000),\n",
       "    'updated_at': datetime.datetime(2024, 5, 23, 14, 45, 34, 878000),\n",
       "    'text': 'Venâncio Aires confirma morte de morador por leptospirose após enchente\\nVítima é homem de 33 anos que manteve contato com água da cheia na cidade. Na segunda (20), governo do RS confirmou morte de idoso em Travesseiro.',\n",
       "    'sentiment': 'positive',\n",
       "    'name_model': 'logistic_regression',\n",
       "    'model_version': '1.0.2',\n",
       "    'accuracy_score': 0.8870849160642078,\n",
       "    'score_positive': 0.7292430981720127,\n",
       "    'score_negative': 0.2707569018279873,\n",
       "    'user_id': ObjectId('661f2d5e30ee4c696a1d15fd'),\n",
       "    'what_happen_id': ObjectId('664d38f0089c4c2e6bd97e47')}],\n",
       "  'trash': []},\n",
       " {'_id': ObjectId('664d3d78089c4c2e6bd97fd4'),\n",
       "  'created_at': datetime.datetime(2024, 5, 22, 18, 39, 23, 180000),\n",
       "  'updated_at': datetime.datetime(2024, 5, 22, 18, 39, 23, 180000),\n",
       "  'what_happen': 'Mega-Sena, concurso 2.727: prêmio acumula e vai a R$ 42 milhões\\nVeja as dezenas sorteadas: 04 - 32 - 39 - 48 - 51 - 57. Quina teve 58 apostas ganhadoras; cada uma vai levar R$ 47,8 mil.',\n",
       "  'user_id': ObjectId('661f2d5e30ee4c696a1d15fd'),\n",
       "  'name_id': 'root@daily',\n",
       "  'visibility': 'FOLLOWERS',\n",
       "  'likes': None,\n",
       "  'feelings': [{'_id': ObjectId('664d3d78089c4c2e6bd97fd5'),\n",
       "    'created_at': datetime.datetime(2024, 5, 22, 18, 39, 23, 240000),\n",
       "    'updated_at': datetime.datetime(2024, 5, 22, 18, 39, 23, 240000),\n",
       "    'text': 'Mega-Sena, concurso 2.727: prêmio acumula e vai a R$ 42 milhões\\nVeja as dezenas sorteadas: 04 - 32 - 39 - 48 - 51 - 57. Quina teve 58 apostas ganhadoras; cada uma vai levar R$ 47,8 mil.',\n",
       "    'sentiment': 'positive',\n",
       "    'name_model': 'logistic_regression',\n",
       "    'model_version': '1.0.2',\n",
       "    'accuracy_score': 0.8870849160642078,\n",
       "    'score_positive': 0.7021409242068255,\n",
       "    'score_negative': 0.2978590757931745,\n",
       "    'user_id': ObjectId('661f2d5e30ee4c696a1d15fd'),\n",
       "    'what_happen_id': ObjectId('664d3d78089c4c2e6bd97fd4')}],\n",
       "  'trash': []},\n",
       " {'_id': ObjectId('664d3e2a089c4c2e6bd97fec'),\n",
       "  'created_at': datetime.datetime(2024, 5, 23, 19, 46, 36, 437000),\n",
       "  'updated_at': datetime.datetime(2024, 5, 23, 19, 46, 36, 437000),\n",
       "  'what_happen': 'Escrever uma frase por dia pode te deixar mais feliz\\nManter um diário toma um tempo que, muitas vezes, não temos. Mas há indícios de que escrever uma frase por dia pode te deixar mais otimista sobre sua vida',\n",
       "  'user_id': ObjectId('661f2d5e30ee4c696a1d15fd'),\n",
       "  'name_id': 'root@daily',\n",
       "  'visibility': 'PRIVATE',\n",
       "  'likes': None,\n",
       "  'feelings': [{'_id': ObjectId('664d3e2a089c4c2e6bd97fed'),\n",
       "    'created_at': datetime.datetime(2024, 5, 23, 19, 46, 36, 513000),\n",
       "    'updated_at': datetime.datetime(2024, 5, 23, 19, 46, 36, 513000),\n",
       "    'text': 'Escrever uma frase por dia pode te deixar mais feliz\\nManter um diário toma um tempo que, muitas vezes, não temos. Mas há indícios de que escrever uma frase por dia pode te deixar mais otimista sobre sua vida',\n",
       "    'sentiment': 'positive',\n",
       "    'name_model': 'logistic_regression',\n",
       "    'model_version': '1.0.2',\n",
       "    'accuracy_score': 0.8870849160642078,\n",
       "    'score_positive': 0.7968535762912108,\n",
       "    'score_negative': 0.20314642370878921,\n",
       "    'user_id': ObjectId('661f2d5e30ee4c696a1d15fd'),\n",
       "    'what_happen_id': ObjectId('664d3e2a089c4c2e6bd97fec')}],\n",
       "  'trash': []},\n",
       " {'_id': ObjectId('664d3e58089c4c2e6bd97ff2'),\n",
       "  'created_at': datetime.datetime(2024, 5, 22, 14, 12, 48, 621000),\n",
       "  'updated_at': datetime.datetime(2024, 5, 22, 14, 12, 48, 621000),\n",
       "  'what_happen': 'Viver cada dia como se fosse o último é uma ótima oportunidade para aprender a amar cada segundo do seu dia.\\nViver cada dia como se fosse um só.',\n",
       "  'user_id': ObjectId('661f2d5e30ee4c696a1d15fd'),\n",
       "  'name_id': 'root@daily',\n",
       "  'visibility': 'PRIVATE',\n",
       "  'likes': None,\n",
       "  'feelings': [{'_id': ObjectId('664d3e58089c4c2e6bd97ff3'),\n",
       "    'created_at': datetime.datetime(2024, 5, 22, 14, 12, 48, 634000),\n",
       "    'updated_at': datetime.datetime(2024, 5, 22, 14, 12, 48, 634000),\n",
       "    'text': 'Viver cada dia como se fosse o último é uma ótima oportunidade para aprender a amar cada segundo do seu dia.\\nViver cada dia como se fosse um só.',\n",
       "    'sentiment': 'positive',\n",
       "    'name_model': 'logistic_regression',\n",
       "    'model_version': '1.0.2',\n",
       "    'accuracy_score': 0.8870849160642078,\n",
       "    'score_positive': 0.9731057460139204,\n",
       "    'score_negative': 0.026894253986079586,\n",
       "    'user_id': ObjectId('661f2d5e30ee4c696a1d15fd'),\n",
       "    'what_happen_id': ObjectId('664d3e58089c4c2e6bd97ff2')}],\n",
       "  'trash': []},\n",
       " {'_id': ObjectId('664e71e967bd53c304567a70'),\n",
       "  'created_at': datetime.datetime(2024, 5, 22, 19, 30, 1, 149000),\n",
       "  'updated_at': datetime.datetime(2024, 5, 22, 19, 30, 1, 149000),\n",
       "  'what_happen': 'Novo card de detalhes feito',\n",
       "  'user_id': ObjectId('661f2d5e30ee4c696a1d15fd'),\n",
       "  'name_id': 'root@daily',\n",
       "  'visibility': 'PRIVATE',\n",
       "  'likes': None,\n",
       "  'feelings': [{'_id': ObjectId('664e71e967bd53c304567a71'),\n",
       "    'created_at': datetime.datetime(2024, 5, 22, 19, 30, 1, 161000),\n",
       "    'updated_at': datetime.datetime(2024, 5, 22, 19, 30, 1, 161000),\n",
       "    'text': 'Novo card de detalhes feito',\n",
       "    'sentiment': 'positive',\n",
       "    'name_model': 'logistic_regression',\n",
       "    'model_version': '1.0.2',\n",
       "    'accuracy_score': 0.8870849160642078,\n",
       "    'score_positive': 0.6247572907335167,\n",
       "    'score_negative': 0.3752427092664833,\n",
       "    'user_id': ObjectId('661f2d5e30ee4c696a1d15fd'),\n",
       "    'what_happen_id': ObjectId('664e71e967bd53c304567a70')}],\n",
       "  'trash': []}]"
      ]
     },
     "execution_count": 19,
     "metadata": {},
     "output_type": "execute_result"
    }
   ],
   "source": [
    "matches = {'user_id': ObjectId('661f2d5e30ee4c696a1d15fd')}\n",
    "trash_lookup = {'as': 'trash', 'from': 'TrashHappenCollection', 'localField': '_id', 'foreignField': 'happen_id'}\n",
    "feeling_lookup = {'as': 'feelings', 'from': 'SentimentCollection', 'localField': '_id', 'foreignField': 'what_happen_id'}\n",
    "\n",
    "list(wh_collection.aggregate([\n",
    "    {'$match': matches},\n",
    "    {'$lookup': trash_lookup},\n",
    "    {'$lookup': feeling_lookup}\n",
    "]))"
   ]
  },
  {
   "cell_type": "code",
   "execution_count": 28,
   "metadata": {},
   "outputs": [
    {
     "data": {
      "text/plain": [
       "[]"
      ]
     },
     "execution_count": 28,
     "metadata": {},
     "output_type": "execute_result"
    }
   ],
   "source": [
    "list(wh_collection.find({'_id': ObjectId('661f2d5e30ee4c696a1d15fd')}))"
   ]
  },
  {
   "cell_type": "code",
   "execution_count": 29,
   "metadata": {},
   "outputs": [
    {
     "data": {
      "text/plain": [
       "[]"
      ]
     },
     "execution_count": 29,
     "metadata": {},
     "output_type": "execute_result"
    }
   ],
   "source": [
    "list(fs_collection.find({'what_happen_id': '661f2d5e30ee4c696a1d15fd'}))"
   ]
  },
  {
   "cell_type": "code",
   "execution_count": 37,
   "metadata": {},
   "outputs": [
    {
     "data": {
      "text/plain": [
       "[{'_id': ObjectId('6650f24d3f010385da26228c'),\n",
       "  'created_at': datetime.datetime(2024, 5, 24, 17, 2, 21, 223000),\n",
       "  'updated_at': datetime.datetime(2024, 5, 24, 17, 2, 21, 223000),\n",
       "  'user_id': ObjectId('661f2d5e30ee4c696a1d15fd'),\n",
       "  'happen_id': ObjectId('664fb432766e30ff52bf6310'),\n",
       "  'owner_happen_id': ObjectId('663ed74204ba683d9499b0a6')}]"
      ]
     },
     "execution_count": 37,
     "metadata": {},
     "output_type": "execute_result"
    }
   ],
   "source": [
    "list(ts_collection.find())"
   ]
  },
  {
   "cell_type": "code",
   "execution_count": 168,
   "metadata": {},
   "outputs": [
    {
     "data": {
      "text/plain": [
       "[{'_id': ObjectId('664fb194766e30ff52bf61ca'),\n",
       "  'created_at': datetime.datetime(2024, 5, 23, 18, 13, 56, 875000),\n",
       "  'updated_at': datetime.datetime(2024, 5, 23, 18, 13, 56, 875000),\n",
       "  'what_happen': 'teste edite and create',\n",
       "  'user_id': ObjectId('6644c4eeff47ba18dd110294'),\n",
       "  'name_id': 'joao@daily',\n",
       "  'visibility': 'PUBLIC',\n",
       "  'likes': None,\n",
       "  'feelings': [{'_id': ObjectId('664fb194766e30ff52bf61cb'),\n",
       "    'created_at': datetime.datetime(2024, 5, 23, 18, 13, 56, 896000),\n",
       "    'updated_at': datetime.datetime(2024, 5, 23, 18, 13, 56, 896000),\n",
       "    'text': 'teste edite and create',\n",
       "    'sentiment': 'negative',\n",
       "    'name_model': 'logistic_regression',\n",
       "    'model_version': '1.0.2',\n",
       "    'accuracy_score': 0.8870849160642078,\n",
       "    'score_positive': 0.4873570721523508,\n",
       "    'score_negative': 0.5126429278476492,\n",
       "    'user_id': ObjectId('6644c4eeff47ba18dd110294'),\n",
       "    'what_happen_id': ObjectId('664fb194766e30ff52bf61ca')}]}]"
      ]
     },
     "execution_count": 168,
     "metadata": {},
     "output_type": "execute_result"
    }
   ],
   "source": [
    "results = list(map(lambda x: x.get('following_id'),\n",
    "                        list(fl_collection.find({'user_id': ObjectId('661f2d5e30ee4c696a1d15fd'), 'status': {'$eq': 'FOLLOWING'}}))))\n",
    "\n",
    "trash_results = list(map(lambda x: x.get('happen_id'), list(ts_collection.find({'user_id': ObjectId('661f2d5e30ee4c696a1d15fd')}))))\n",
    "\n",
    "ids = [ObjectId('6648b90dd13f9dcdb632f759')] + results\n",
    "\n",
    "def query(id):\n",
    "        trash_lookup = {'as': 'trash', 'from': 'TrashHappenCollection', 'localField': '_id', 'foreignField': 'happen_id'}\n",
    "        lookup = {'as': 'feelings', 'from': 'SentimentCollection', 'localField': '_id', 'foreignField': 'what_happen_id'}\n",
    "        return [\n",
    "                {'$match': {'user_id': id}},\n",
    "                {'$lookup': trash_lookup},\n",
    "                {'$lookup': lookup},\n",
    "                {'$match': {'_id': {'$nin': trash_results} }},\n",
    "                {'$unset': ['trash']}\n",
    "                ]\n",
    "\n",
    "results = reduce(operator.concat, [list(wh_collection.aggregate(query(id))) for id in ids ])\n",
    "\n",
    "results"
   ]
  },
  {
   "cell_type": "code",
   "execution_count": null,
   "metadata": {},
   "outputs": [],
   "source": [
    "    # for doc in self.collection.find():\n",
    "    #     doc['name_id'] = \"beto@daily.com\"\n",
    "    #     # doc['name'] = 'beto'\n",
    "    #     doc['likes'] = None\n",
    "    #     doc['visibility'] = 'PRIVATE'\n",
    "    #     doc['updated_at'] = datetime.datetime.now()\n",
    "    #     self.collection.replace_one({Var.ID.value: doc[Var.ID.value]}, doc)"
   ]
  },
  {
   "cell_type": "code",
   "execution_count": 44,
   "metadata": {},
   "outputs": [],
   "source": [
    "# for doc in wh_collection.find():\n",
    "#     doc['user_id'] = ObjectId(doc['user_id'])\n",
    "#     wh_collection.replace_one({'_id':doc['_id']}, doc)\n",
    "\n",
    "# for doc in fs_collection.find():\n",
    "#     doc['user_id'] = ObjectId(doc['user_id'])\n",
    "#     doc['what_happen_id'] = ObjectId(doc['what_happen_id'])\n",
    "#     fs_collection.replace_one({'_id': doc['_id']}, doc)"
   ]
  }
 ],
 "metadata": {
  "kernelspec": {
   "display_name": ".tf",
   "language": "python",
   "name": "python3"
  },
  "language_info": {
   "codemirror_mode": {
    "name": "ipython",
    "version": 3
   },
   "file_extension": ".py",
   "mimetype": "text/x-python",
   "name": "python",
   "nbconvert_exporter": "python",
   "pygments_lexer": "ipython3",
   "version": "3.7.3"
  }
 },
 "nbformat": 4,
 "nbformat_minor": 2
}
