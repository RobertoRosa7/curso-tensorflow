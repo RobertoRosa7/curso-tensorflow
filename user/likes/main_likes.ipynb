{
 "cells": [
  {
   "cell_type": "code",
   "execution_count": null,
   "metadata": {},
   "outputs": [],
   "source": [
    "import os \n",
    "import sys\n",
    "import pandas as pd\n",
    "\n",
    "sys.path.append(os.path.abspath(os.path.join('..', '..')))\n",
    "\n",
    "from services.database.database_service import Environment"
   ]
  },
  {
   "cell_type": "code",
   "execution_count": null,
   "metadata": {},
   "outputs": [],
   "source": [
    "conn = Environment().get_instance()\n",
    "db = conn.get_db()\n",
    "\n",
    "likes_collection = db.get_collection(\"LikesCollection\")"
   ]
  },
  {
   "cell_type": "code",
   "execution_count": null,
   "metadata": {},
   "outputs": [],
   "source": [
    "df = pd.DataFrame.from_records(likes_collection.find({'is_liked': True}))\n",
    "df"
   ]
  },
  {
   "cell_type": "code",
   "execution_count": null,
   "metadata": {},
   "outputs": [],
   "source": [
    "pd.DataFrame.from_records(likes_collection.find())"
   ]
  },
  {
   "cell_type": "markdown",
   "metadata": {},
   "source": [
    "see: https://www.mongodb.com/docs/manual/reference/operator/aggregation/count/\n"
   ]
  },
  {
   "cell_type": "code",
   "execution_count": null,
   "metadata": {},
   "outputs": [],
   "source": [
    "\n",
    "\n",
    "list(likes_collection.aggregate([\n",
    "    {'$match': {'is_liked': True}},\n",
    "    {'$group': {'_id': '661f2d5e30ee4c696a1d15fd', 'detail': { '$first': '$$ROOT' },'count': {'$sum': 1}}},\n",
    "    {'$replaceRoot': { 'newRoot': { '$mergeObjects': [{ 'count': '$count' }, '$detail'] }}},\n",
    "    ]))"
   ]
  },
  {
   "cell_type": "code",
   "execution_count": null,
   "metadata": {},
   "outputs": [],
   "source": [
    "list(likes_collection.aggregate([\n",
    "    {'$match': {'is_liked': True}},\n",
    "    {'$group': {'_id': {'user_id': '$$ROOT.user_id'}, 'like_count': {'$sum': 1}} },\n",
    "    ]))"
   ]
  },
  {
   "cell_type": "code",
   "execution_count": null,
   "metadata": {},
   "outputs": [],
   "source": [
    "# { $count: \"passing_scores\" }\n",
    "result = likes_collection.aggregate([\n",
    "    {'$match': {'is_liked': True, 'user_id': '661f2d5e30ee4c696a1d15fd'}},\n",
    "    {'$count': \"liked_count\" },\n",
    "    ])\n",
    "list(result)"
   ]
  },
  {
   "cell_type": "code",
   "execution_count": null,
   "metadata": {},
   "outputs": [],
   "source": [
    "list(likes_collection.aggregate([\n",
    "    {'$match':{'is_liked': True, 'user_id':'661f2d5e30ee4c696a1d15fd'}},\n",
    "    {\"$group\" :{\"_id\":\"$name\", \"data\" : {\"$first\":\"$$ROOT\"}, 'count': {'$sum': 1}}},\n",
    "    {\"$project\":{ \"happen_id\":\"$data.happen_id\", \"user_id\" : \"$data.user_id\", \"count\" : \"$count\", \"_id\" : \"$data._id\"}}\n",
    "    ]))"
   ]
  },
  {
   "cell_type": "code",
   "execution_count": null,
   "metadata": {},
   "outputs": [],
   "source": [
    "list(likes_collection.aggregate([\n",
    "    {'$match':{'$and': [{'is_liked': True, 'user_id':'661f2d5e30ee4c696a1d15fd'}]}},\n",
    "    \n",
    "    {\"$group\" :{\"_id\":\"$name\", \"data\" : {\"$first\":\"$$ROOT\"}, 'count': {'$sum': 1}}},\n",
    "    {\"$project\":{ \"happen_id\":\"$data.happen_id\", \"user_id\" : \"$data.user_id\", \"like_count\" : \"$count\", \"_id\" : \"$data._id\"}},\n",
    "\n",
    "    ]))"
   ]
  },
  {
   "cell_type": "markdown",
   "metadata": {},
   "source": [
    "see: https://www.mongodb.com/community/forums/t/how-to-use-multiple-conditions-in-match-and-sum-in-group/191477/3\n"
   ]
  },
  {
   "cell_type": "code",
   "execution_count": null,
   "metadata": {},
   "outputs": [],
   "source": [
    "list(likes_collection.aggregate([\n",
    "    {'$match': { '$and': [ { 'createdAt': {'$gte': ('2022-09-15'), '$lt':('2022-09-16') }} ]}},\n",
    "    {'$group':{ '_id': {'createdAt': {'$last': \"$createdAt\"}}, 'totalAmount': { '$sum': \"$postBalance\" }}}\n",
    "    ]))"
   ]
  },
  {
   "cell_type": "code",
   "execution_count": null,
   "metadata": {},
   "outputs": [],
   "source": [
    "list(likes_collection.aggregate([\n",
    "  {\n",
    "    '$lookup': {\n",
    "      'from': \"LikesCollection\",\n",
    "      'let': {\n",
    "        'liked': \"$is_liked\",\n",
    "        'disliked': \"$is_disliked\"\n",
    "      },\n",
    "      'pipeline': [\n",
    "        {\n",
    "          '$match': {\n",
    "            '$expr': {\n",
    "              '$and': [\n",
    "                {\n",
    "                  'is_liked': True, 'user_id':'661f2d5e30ee4c696a1d15fd'\n",
    "                },\n",
    "                # {\n",
    "                #   '$eq': [ \"$disliked\", False]\n",
    "                # }\n",
    "              ]\n",
    "            }\n",
    "          }\n",
    "        },\n",
    "        {\n",
    "            \"$group\" : {\n",
    "                \"_id\": \"$name\", \n",
    "                \"data\": { \"$first\":\"$$ROOT\" }, \n",
    "                'count': {'$sum': 1}}\n",
    "        },\n",
    "      ],\n",
    "      'as': \"joined_results\"\n",
    "    }\n",
    "  },\n",
    "  {\n",
    "    '$unwind': { 'path': \"$joined_results\" }\n",
    "  }\n",
    "]))"
   ]
  },
  {
   "cell_type": "code",
   "execution_count": null,
   "metadata": {},
   "outputs": [],
   "source": [
    "pipeline = [\n",
    "  # first, group ids of buyers and sellers\n",
    "  {\n",
    "    '$group': {\n",
    "      '_id': None,\n",
    "      'userId': {\n",
    "        '$addToSet': '$user_id',\n",
    "      },\n",
    "      'happenId': {\n",
    "        '$addToSet': '$happen_id',\n",
    "      },\n",
    "    },\n",
    "  },\n",
    "  {\n",
    "      '$group': {\n",
    "          '_id': None,\n",
    "          'liked': {\n",
    "            '$addToSet': '$userId'\n",
    "          },\n",
    "        'disliked': {\n",
    "            '$addToSet': '$is_disliked'\n",
    "        }\n",
    "      }\n",
    "  },\n",
    "  # then, concat grouped ids into single array \n",
    "  # to fetch users with one single $lookup\n",
    "  # ids in the array will not be unique, \n",
    "  # but that does not matter for $lookup\n",
    " \n",
    "  # PS: you can $unwind 'userIsds' \n",
    "  # and then $group them like we did with 'like_id' above,\n",
    "  # if unique values in 'usersIds' bother you :)\n",
    "  {\n",
    "    '$project': {\n",
    "      'userId': {\n",
    "        '$concatArrays': ['$userId', '$happenId'],\n",
    "      },\n",
    "      'liked_count': {\n",
    "          '$concatArrays': ['$liked']\n",
    "      },\n",
    "      'disliked_count': {\n",
    "          '$concatArrays': ['$disliked']\n",
    "        }\n",
    "    },\n",
    "  },\n",
    "  # use $lookup to join users by ids from accumulated array\n",
    "  {\n",
    "    '$lookup': {\n",
    "      'from': 'LikesCollection',\n",
    "      'localField': 'liked_count',\n",
    "      'foreignField': '_id',\n",
    "      'as': 'likes',\n",
    "    },\n",
    "  },\n",
    "  # unwind 'users' to be bring out each user to upper level\n",
    "  # {\n",
    "  #   '$unwind': '$users',\n",
    "  # },\n",
    "  # # make each user a root object in the pipeline array\n",
    "  # {\n",
    "  #   '$replaceRoot': {\n",
    "  #     'newRoot': '$users',\n",
    "  #   },\n",
    "  # },\n",
    "  # sort user objects, like you want\n",
    "  # {\n",
    "  #   '$sort': {\n",
    "  #     'name': 1,\n",
    "  #   },\n",
    "  # },\n",
    "]\n",
    "\n",
    "list(likes_collection.aggregate(pipeline))"
   ]
  },
  {
   "cell_type": "code",
   "execution_count": 212,
   "metadata": {},
   "outputs": [
    {
     "data": {
      "text/html": [
       "<div>\n",
       "<style scoped>\n",
       "    .dataframe tbody tr th:only-of-type {\n",
       "        vertical-align: middle;\n",
       "    }\n",
       "\n",
       "    .dataframe tbody tr th {\n",
       "        vertical-align: top;\n",
       "    }\n",
       "\n",
       "    .dataframe thead th {\n",
       "        text-align: right;\n",
       "    }\n",
       "</style>\n",
       "<table border=\"1\" class=\"dataframe\">\n",
       "  <thead>\n",
       "    <tr style=\"text-align: right;\">\n",
       "      <th></th>\n",
       "      <th>happen_id</th>\n",
       "      <th>user_id</th>\n",
       "      <th>is_liked</th>\n",
       "      <th>is_disliked</th>\n",
       "    </tr>\n",
       "  </thead>\n",
       "  <tbody>\n",
       "    <tr>\n",
       "      <th>0</th>\n",
       "      <td>65fe4fc0aa58ed17295fa3bf</td>\n",
       "      <td>661f2d5e30ee4c696a1d15fd</td>\n",
       "      <td>True</td>\n",
       "      <td>False</td>\n",
       "    </tr>\n",
       "    <tr>\n",
       "      <th>1</th>\n",
       "      <td>66208de37b852a12bbe1b311</td>\n",
       "      <td>661f2d5e30ee4c696a1d15fd</td>\n",
       "      <td>True</td>\n",
       "      <td>False</td>\n",
       "    </tr>\n",
       "    <tr>\n",
       "      <th>2</th>\n",
       "      <td>66208de37b852a12bbe1b311</td>\n",
       "      <td>6621effacf09c02f9a9590d9</td>\n",
       "      <td>True</td>\n",
       "      <td>False</td>\n",
       "    </tr>\n",
       "  </tbody>\n",
       "</table>\n",
       "</div>"
      ],
      "text/plain": [
       "                  happen_id                   user_id  is_liked  is_disliked\n",
       "0  65fe4fc0aa58ed17295fa3bf  661f2d5e30ee4c696a1d15fd      True        False\n",
       "1  66208de37b852a12bbe1b311  661f2d5e30ee4c696a1d15fd      True        False\n",
       "2  66208de37b852a12bbe1b311  6621effacf09c02f9a9590d9      True        False"
      ]
     },
     "execution_count": 212,
     "metadata": {},
     "output_type": "execute_result"
    }
   ],
   "source": [
    "df = pd.DataFrame.from_records(likes_collection.find({'is_liked': True}), columns=['happen_id', 'user_id', 'is_liked', 'is_disliked'])\n",
    "df"
   ]
  },
  {
   "cell_type": "code",
   "execution_count": 213,
   "metadata": {},
   "outputs": [
    {
     "data": {
      "text/plain": [
       "[{'liked_count': 2, 'disliked_count': 0}]"
      ]
     },
     "execution_count": 213,
     "metadata": {},
     "output_type": "execute_result"
    }
   ],
   "source": [
    "# https://stackoverflow.com/questions/55097226/mongodb-count-fi-true-in-aggregate-group\n",
    "list(likes_collection.aggregate([\n",
    "    {\"$match\": {\"happen_id\": \"66208de37b852a12bbe1b311\"}},\n",
    "    {\"$group\": {\"_id\": \"$name\", \"data\": { \"$first\": \"$$ROOT\"},\n",
    "                \"liked\": { \"$sum\": {\"$cond\": [{\"$eq\": [\"$$ROOT.is_liked\",True]},1,0]}},\n",
    "                \"disliked\": {\"$sum\": {\"$cond\": [{\"$eq\": [\"$$ROOT.is_disliked\",True]},1,0]}}}},\n",
    "    {\"$project\": {\"liked_count\": \"$liked\",\"disliked_count\": \"$disliked\"}},\n",
    "    {'$unset': ['_id']}]))"
   ]
  },
  {
   "cell_type": "code",
   "execution_count": null,
   "metadata": {},
   "outputs": [],
   "source": [
    "# db.orders.aggregate([\n",
    "#   {\n",
    "#     $group: {\n",
    "#       _id: {\n",
    "#         country: '$data.nested.country',\n",
    "#         product: '$data.product',\n",
    "#       },\n",
    "#       productCodes: {\n",
    "#         $push: '$data.latest.sub.code',\n",
    "#       },\n",
    "#       uniqueCodes: {\n",
    "#         $addToSet: '$data.latest.sub.code',\n",
    "#       }\n",
    "#     }\n",
    "#   },\n",
    "#   {\n",
    "#     $group: {\n",
    "#       _id: '$_id.country',\n",
    "#       country: {\n",
    "#         $first: '$_id.country',\n",
    "#       },\n",
    "#       products: {\n",
    "#         $push: {\n",
    "#           product: '$_id.product',\n",
    "#           codes: {\n",
    "#             $map: {\n",
    "#               // run $filter+$size operations per each code\n",
    "#               input: '$uniqueCodes',\n",
    "#               as: 'code',\n",
    "#               in: {\n",
    "#                 code: '$$code',\n",
    "#                 count: {\n",
    "#                   $size: {\n",
    "#                     $filter: {\n",
    "#                       // collect same codes into one array\n",
    "#                       // to be able to count them per product \n",
    "#                       input: '$productCodes',\n",
    "#                       cond: {\n",
    "#                         $eq: ['$$code', '$$this'],\n",
    "#                       },\n",
    "#                     },\n",
    "#                   },\n",
    "#                 },\n",
    "#               },\n",
    "#             },\n",
    "#           },\n",
    "#         },\n",
    "#       },\n",
    "#     },\n",
    "#   },\n",
    "#   // cleanup\n",
    "#   {\n",
    "#     $unset: ['_id'],\n",
    "#   }\n",
    "# ]);"
   ]
  }
 ],
 "metadata": {
  "kernelspec": {
   "display_name": ".tf",
   "language": "python",
   "name": "python3"
  },
  "language_info": {
   "codemirror_mode": {
    "name": "ipython",
    "version": 3
   },
   "file_extension": ".py",
   "mimetype": "text/x-python",
   "name": "python",
   "nbconvert_exporter": "python",
   "pygments_lexer": "ipython3",
   "version": "3.7.3"
  }
 },
 "nbformat": 4,
 "nbformat_minor": 2
}
