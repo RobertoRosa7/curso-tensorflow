{
 "cells": [
  {
   "cell_type": "code",
   "execution_count": 1,
   "metadata": {},
   "outputs": [],
   "source": [
    "import os \n",
    "import sys\n",
    "import pandas as pd\n",
    "import numpy as np\n",
    "\n",
    "from bson import ObjectId\n",
    "\n",
    "sys.path.append(os.path.abspath(os.path.join('..', '..')))\n",
    "\n",
    "from services.pandas.pandas_service import PandasService\n",
    "from services.database.database_service import Environment\n",
    "from models.profile.profile_model import ProfileCollection"
   ]
  },
  {
   "cell_type": "code",
   "execution_count": 2,
   "metadata": {},
   "outputs": [
    {
     "name": "stderr",
     "output_type": "stream",
     "text": [
      "2024-05-28 19:47:29,429 INFO root : Environment (__init__): making connection\n",
      "2024-05-28 19:47:29,747 INFO root : Environment (__init__): making connection\n",
      "2024-05-28 19:47:29,751 INFO root : Environment (get_db): access database\n",
      "2024-05-28 19:47:29,752 INFO root : Environment (get_db): access database\n"
     ]
    }
   ],
   "source": [
    "env = Environment().get_instance()\n",
    "pd_services = PandasService()\n",
    "db_users = env.get_db().get('users')\n",
    "db_daily = env.get_db().get('daily')"
   ]
  },
  {
   "cell_type": "code",
   "execution_count": 3,
   "metadata": {},
   "outputs": [],
   "source": [
    "user_collection = db_users.get_collection('UserCollection')\n",
    "follow_collection = db_users.get_collection('FollowsCollection')\n",
    "wh_collection = db_daily.get_collection('WhatHappenCollection')\n",
    "auth_collection = db_users.get_collection('AuthCollection')"
   ]
  },
  {
   "cell_type": "code",
   "execution_count": 8,
   "metadata": {},
   "outputs": [],
   "source": [
    "# for user in user_collection.find():\n",
    "#     for happen in wh_collection.find({'user_id': user['_id']}):\n",
    "#         happen['nickname'] = user['name']\n",
    "#         wh_collection.replace_one({'_id': happen['_id']}, happen)"
   ]
  },
  {
   "cell_type": "code",
   "execution_count": 47,
   "metadata": {},
   "outputs": [],
   "source": [
    "# for doc in user_collection.find():\n",
    "#     doc['auth_id'] = ObjectId(doc['auth_id'])\n",
    "#     user_collection.replace_one({'_id':doc['_id']}, doc)"
   ]
  },
  {
   "cell_type": "code",
   "execution_count": 43,
   "metadata": {},
   "outputs": [
    {
     "data": {
      "text/plain": [
       "[]"
      ]
     },
     "execution_count": 43,
     "metadata": {},
     "output_type": "execute_result"
    }
   ],
   "source": [
    "list(follow_collection.find())"
   ]
  },
  {
   "cell_type": "code",
   "execution_count": 23,
   "metadata": {},
   "outputs": [
    {
     "data": {
      "text/plain": [
       "[{'_id': ObjectId('64f74f6e54d0ba6c4b532786'),\n",
       "  'email': 'kakashi.kisura7@gmail.com',\n",
       "  'created_at': datetime.datetime(2023, 9, 5, 12, 55, 25, 8000),\n",
       "  'updated_at': datetime.datetime(2024, 5, 10, 23, 16, 51, 337000),\n",
       "  'auth_id': '663ed51204ba683d9499b096',\n",
       "  'name_id': 'kakashi@daily',\n",
       "  'name': 'kakashi',\n",
       "  'profile_public': True,\n",
       "  'genre': 'M',\n",
       "  'phone': 5511941616008}]"
      ]
     },
     "execution_count": 23,
     "metadata": {},
     "output_type": "execute_result"
    }
   ],
   "source": [
    "list(user_collection.find({'_id': ObjectId('64f74f6e54d0ba6c4b532786')}))"
   ]
  },
  {
   "cell_type": "code",
   "execution_count": 40,
   "metadata": {},
   "outputs": [
    {
     "data": {
      "text/plain": [
       "[]"
      ]
     },
     "execution_count": 40,
     "metadata": {},
     "output_type": "execute_result"
    }
   ],
   "source": [
    "list(follow_collection.find({'user_id': ObjectId('64f74f6e54d0ba6c4b532786')}))"
   ]
  },
  {
   "cell_type": "code",
   "execution_count": 39,
   "metadata": {},
   "outputs": [
    {
     "data": {
      "text/plain": [
       "[]"
      ]
     },
     "execution_count": 39,
     "metadata": {},
     "output_type": "execute_result"
    }
   ],
   "source": [
    "list(wh_collection.aggregate([\n",
    "    {'$match': {'user_id': ObjectId('663ed74204ba683d9499b0a6')}},\n",
    "    {'$lookup': {\n",
    "        'as': 'feelings',\n",
    "        'from': 'SentimentCollection',\n",
    "        'localField': '_id',\n",
    "        'foreignField': 'what_happen_id'\n",
    "    }},\n",
    "]))"
   ]
  },
  {
   "cell_type": "code",
   "execution_count": 63,
   "metadata": {},
   "outputs": [
    {
     "data": {
      "text/plain": [
       "[{'_id': ObjectId('64f74f6e54d0ba6c4b532786'),\n",
       "  'email': 'kakashi.kisura7@gmail.com',\n",
       "  'created_at': datetime.datetime(2023, 9, 5, 12, 55, 25, 8000),\n",
       "  'updated_at': datetime.datetime(2024, 5, 10, 23, 16, 51, 337000),\n",
       "  'auth_id': '663ed51204ba683d9499b096',\n",
       "  'name_id': 'kakashi@daily',\n",
       "  'name': 'kakashi',\n",
       "  'profile_public': True,\n",
       "  'genre': 'M',\n",
       "  'phone': 5511941616008},\n",
       " {'_id': ObjectId('65ae90883470eb010f5f1104'),\n",
       "  'email': 'roberto.rosa7@gmail.com',\n",
       "  'created_at': datetime.datetime(2024, 1, 22, 12, 58, 0, 736000),\n",
       "  'updated_at': datetime.datetime(2024, 5, 7, 19, 10, 1, 134000),\n",
       "  'auth_id': '663aa6b8dca08f4513232d7c',\n",
       "  'name_id': 'beto@daily',\n",
       "  'name': 'Beto',\n",
       "  'profile_public': False,\n",
       "  'genre': 'M',\n",
       "  'phone': 5511941616008},\n",
       " {'_id': ObjectId('661f2d5e30ee4c696a1d15fd'),\n",
       "  'email': 'root@gmail.com',\n",
       "  'created_at': datetime.datetime(2024, 4, 17, 2, 1, 2, 908000),\n",
       "  'updated_at': datetime.datetime(2024, 5, 4, 18, 44, 42, 291000),\n",
       "  'auth_id': '6636ac49dca08f4513232d75',\n",
       "  'name_id': 'root@daily',\n",
       "  'name': 'Teste edited 9',\n",
       "  'profile_public': True,\n",
       "  'genre': 'M',\n",
       "  'phone': 5511941616008,\n",
       "  '_class': 'innovatenet.com.br.document.UserDocument'},\n",
       " {'_id': ObjectId('6621effacf09c02f9a9590d9'),\n",
       "  'email': 'amanda@gmail.com',\n",
       "  'created_at': datetime.datetime(2024, 4, 19, 4, 15, 54, 348000),\n",
       "  'updated_at': datetime.datetime(2024, 4, 19, 4, 15, 54, 348000),\n",
       "  'auth_id': '6621effacf09c02f9a9590d8',\n",
       "  'name_id': 'am@daily',\n",
       "  'name': 'Amanda',\n",
       "  'profile_public': True,\n",
       "  '_class': 'innovatenet.com.br.document.UserDocument'},\n",
       " {'_id': ObjectId('663a8f8ddca08f4513232d7a'),\n",
       "  'email': 'victorsalome41@hotmail.com',\n",
       "  'name': 'victor Sousa',\n",
       "  'profile_public': True,\n",
       "  'name_id': 'Victorss@daily',\n",
       "  'auth_id': '663a8f8cdca08f4513232d79',\n",
       "  'created_at': datetime.datetime(2024, 5, 7, 20, 31, 9, 11000),\n",
       "  'updated_at': datetime.datetime(2024, 5, 7, 20, 31, 9, 11000),\n",
       "  '_class': 'innovatenet.com.br.document.UserDocument'},\n",
       " {'_id': ObjectId('663ed5f504ba683d9499b09d'),\n",
       "  'email': 'test@gmail.com',\n",
       "  'name': 'teste',\n",
       "  'profile_public': True,\n",
       "  'name_id': 'teste@daily',\n",
       "  'auth_id': '6636ab40dca08f4513232d72',\n",
       "  'created_at': datetime.datetime(2024, 5, 11, 2, 20, 37, 642000),\n",
       "  'updated_at': datetime.datetime(2024, 5, 11, 2, 20, 37, 642000),\n",
       "  '_class': 'innovatenet.com.br.document.UserDocument'},\n",
       " {'_id': ObjectId('663ed74204ba683d9499b0a6'),\n",
       "  'email': 'bruna@gmail.com',\n",
       "  'name': 'Bruninha',\n",
       "  'profile_public': True,\n",
       "  'name_id': 'br@daily',\n",
       "  'auth_id': '663ed74204ba683d9499b0a5',\n",
       "  'created_at': datetime.datetime(2024, 5, 11, 2, 26, 10, 359000),\n",
       "  'updated_at': datetime.datetime(2024, 5, 10, 23, 27, 8, 297000),\n",
       "  '_class': 'innovatenet.com.br.document.UserDocument',\n",
       "  'genre': 'M',\n",
       "  'phone': '5511941616008'},\n",
       " {'_id': ObjectId('6644c4eeff47ba18dd110294'),\n",
       "  'email': 'joao@gmail.com',\n",
       "  'name': 'jojo',\n",
       "  'profile_public': True,\n",
       "  'name_id': 'joao@daily',\n",
       "  'auth_id': '6644c4eeff47ba18dd110293',\n",
       "  'created_at': datetime.datetime(2024, 5, 15, 14, 21, 34, 980000),\n",
       "  'updated_at': datetime.datetime(2024, 5, 15, 14, 21, 34, 980000),\n",
       "  '_class': 'innovatenet.com.br.document.UserDocument'}]"
      ]
     },
     "execution_count": 63,
     "metadata": {},
     "output_type": "execute_result"
    }
   ],
   "source": [
    "list(user_collection.find())"
   ]
  },
  {
   "cell_type": "code",
   "execution_count": 58,
   "metadata": {},
   "outputs": [
    {
     "name": "stderr",
     "output_type": "stream",
     "text": [
      "2024-05-16 00:12:40,983 INFO root : Environment (get_db): access database\n"
     ]
    }
   ],
   "source": [
    "db_daily = env.get_db().get('daily')\n",
    "sent_collection = db_daily.get_collection('SentimentCollection')"
   ]
  },
  {
   "cell_type": "code",
   "execution_count": null,
   "metadata": {},
   "outputs": [],
   "source": [
    "list(user_collection.find({ '$or': [ {'name_id': 'root@daily'}, {'email': 'root@gmail.com'} ], '$and': [{'profile_public': True}] } ))"
   ]
  },
  {
   "cell_type": "code",
   "execution_count": null,
   "metadata": {},
   "outputs": [],
   "source": [
    "\n",
    "        # one = self.collection.find_one(ObjectId('65ae90883470eb010f5f1104'))\n",
    "        # del one['roles']\n",
    "        # one['updated_at'] = datetime.now()\n",
    "        # one['auth_id'] = '661f2d5e30ee4c696a1d15fc'\n",
    "        # one['name_id'] = 'beto@daily'\n",
    "        # one['name'] = 'Beto'\n",
    "        # one['profile_public'] = True\n",
    "        # one['genre'] = 'M'\n",
    "        # one['phone'] = '5511941616008'\n",
    "        # print(one)\n",
    "        # self.collection.replace_one({'_id': ObjectId('65ae90883470eb010f5f1104')}, one)\n"
   ]
  },
  {
   "cell_type": "code",
   "execution_count": null,
   "metadata": {},
   "outputs": [],
   "source": [
    "show_columns = ['_id', 'email', 'name_id', 'profile_public', 'genre', 'phone', 'created_at', 'updated_at']\n",
    "# dateparse = lambda x: datetime.strptime(x, '%Y/%m/%d %H:%M:%f.0000')\n",
    "df_users = pd.DataFrame.from_records(user_collection.find(), columns=show_columns)\n",
    "df_users"
   ]
  },
  {
   "cell_type": "code",
   "execution_count": null,
   "metadata": {},
   "outputs": [],
   "source": [
    "df_users.info()"
   ]
  },
  {
   "cell_type": "code",
   "execution_count": 59,
   "metadata": {},
   "outputs": [
    {
     "data": {
      "text/html": [
       "<div>\n",
       "<style scoped>\n",
       "    .dataframe tbody tr th:only-of-type {\n",
       "        vertical-align: middle;\n",
       "    }\n",
       "\n",
       "    .dataframe tbody tr th {\n",
       "        vertical-align: top;\n",
       "    }\n",
       "\n",
       "    .dataframe thead th {\n",
       "        text-align: right;\n",
       "    }\n",
       "</style>\n",
       "<table border=\"1\" class=\"dataframe\">\n",
       "  <thead>\n",
       "    <tr style=\"text-align: right;\">\n",
       "      <th></th>\n",
       "      <th>created_at</th>\n",
       "      <th>text</th>\n",
       "      <th>score_positive</th>\n",
       "      <th>score_negative</th>\n",
       "      <th>sentiment</th>\n",
       "      <th>_id</th>\n",
       "      <th>what_happen_id</th>\n",
       "      <th>user_id</th>\n",
       "    </tr>\n",
       "  </thead>\n",
       "  <tbody>\n",
       "    <tr>\n",
       "      <th>0</th>\n",
       "      <td>2024-03-23 00:56:03.696</td>\n",
       "      <td>retomando aplicativo de diário</td>\n",
       "      <td>0.504341</td>\n",
       "      <td>0.495659</td>\n",
       "      <td>positive</td>\n",
       "      <td>65fe52d3aa58ed17295fa3d7</td>\n",
       "      <td>65fe52d3aa58ed17295fa3d6</td>\n",
       "      <td>65ae90883470eb010f5f1104</td>\n",
       "    </tr>\n",
       "    <tr>\n",
       "      <th>1</th>\n",
       "      <td>2024-03-23 08:37:46.714</td>\n",
       "      <td>Café da manhã no point dos amigos - rotina diá...</td>\n",
       "      <td>0.674941</td>\n",
       "      <td>0.325059</td>\n",
       "      <td>positive</td>\n",
       "      <td>65febf0aaa58ed17295fa3fb</td>\n",
       "      <td>65febf0aaa58ed17295fa3fa</td>\n",
       "      <td>65ae90883470eb010f5f1104</td>\n",
       "    </tr>\n",
       "    <tr>\n",
       "      <th>2</th>\n",
       "      <td>2024-03-23 11:55:57.605</td>\n",
       "      <td>tedsy</td>\n",
       "      <td>0.500758</td>\n",
       "      <td>0.499242</td>\n",
       "      <td>positive</td>\n",
       "      <td>65feed7daa58ed17295fa4bf</td>\n",
       "      <td>65feed7daa58ed17295fa4be</td>\n",
       "      <td>65ae90883470eb010f5f1104</td>\n",
       "    </tr>\n",
       "    <tr>\n",
       "      <th>3</th>\n",
       "      <td>2024-03-23 13:54:17.095</td>\n",
       "      <td>feito teste com tablet - sucesso</td>\n",
       "      <td>0.597084</td>\n",
       "      <td>0.402916</td>\n",
       "      <td>positive</td>\n",
       "      <td>65ff0939aa58ed17295fa509</td>\n",
       "      <td>65ff0938aa58ed17295fa508</td>\n",
       "      <td>65ae90883470eb010f5f1104</td>\n",
       "    </tr>\n",
       "    <tr>\n",
       "      <th>4</th>\n",
       "      <td>2024-03-23 16:32:58.342</td>\n",
       "      <td>mais um Dev fazendo coisa errada no projeto</td>\n",
       "      <td>0.214928</td>\n",
       "      <td>0.785072</td>\n",
       "      <td>negative</td>\n",
       "      <td>65ff2e6a2306ca0842f7cfff</td>\n",
       "      <td>65ff2e692306ca0842f7cffe</td>\n",
       "      <td>65ae90883470eb010f5f1104</td>\n",
       "    </tr>\n",
       "  </tbody>\n",
       "</table>\n",
       "</div>"
      ],
      "text/plain": [
       "               created_at                                               text  \\\n",
       "0 2024-03-23 00:56:03.696                    retomando aplicativo de diário    \n",
       "1 2024-03-23 08:37:46.714  Café da manhã no point dos amigos - rotina diá...   \n",
       "2 2024-03-23 11:55:57.605                                              tedsy   \n",
       "3 2024-03-23 13:54:17.095                  feito teste com tablet - sucesso    \n",
       "4 2024-03-23 16:32:58.342       mais um Dev fazendo coisa errada no projeto    \n",
       "\n",
       "   score_positive  score_negative sentiment                       _id  \\\n",
       "0        0.504341        0.495659  positive  65fe52d3aa58ed17295fa3d7   \n",
       "1        0.674941        0.325059  positive  65febf0aaa58ed17295fa3fb   \n",
       "2        0.500758        0.499242  positive  65feed7daa58ed17295fa4bf   \n",
       "3        0.597084        0.402916  positive  65ff0939aa58ed17295fa509   \n",
       "4        0.214928        0.785072  negative  65ff2e6a2306ca0842f7cfff   \n",
       "\n",
       "             what_happen_id                   user_id  \n",
       "0  65fe52d3aa58ed17295fa3d6  65ae90883470eb010f5f1104  \n",
       "1  65febf0aaa58ed17295fa3fa  65ae90883470eb010f5f1104  \n",
       "2  65feed7daa58ed17295fa4be  65ae90883470eb010f5f1104  \n",
       "3  65ff0938aa58ed17295fa508  65ae90883470eb010f5f1104  \n",
       "4  65ff2e692306ca0842f7cffe  65ae90883470eb010f5f1104  "
      ]
     },
     "execution_count": 59,
     "metadata": {},
     "output_type": "execute_result"
    }
   ],
   "source": [
    "sents_columns = ['created_at', 'text', 'score_positive', 'score_negative', 'sentiment', '_id', 'what_happen_id', 'user_id', ]\n",
    "df_sents = pd.DataFrame.from_records(sent_collection.find(),  columns=sents_columns)\n",
    "df_sents.head()"
   ]
  },
  {
   "cell_type": "code",
   "execution_count": null,
   "metadata": {},
   "outputs": [],
   "source": [
    "# df_users['created_at'] = pd.to_datetime(df_users['created_at'], format = '%Y-%m-%d %H:%M:%S.%f.000')\n",
    "# df_users['updated_at'] = pd.to_datetime(df_users['updated_at'], format = '%Y-%m-%d %H:%M:%S.%f.000')\n",
    "df_users"
   ]
  },
  {
   "cell_type": "code",
   "execution_count": null,
   "metadata": {},
   "outputs": [],
   "source": [
    "df_sents.info()"
   ]
  },
  {
   "cell_type": "code",
   "execution_count": null,
   "metadata": {},
   "outputs": [],
   "source": [
    "# df_sents.query(\"user_id == '65ae90883470eb010f5f1104'\")\n",
    "df_sents.query(\"sentiment == 'positive'\").shape[0]"
   ]
  },
  {
   "cell_type": "code",
   "execution_count": 60,
   "metadata": {},
   "outputs": [
    {
     "data": {
      "text/html": [
       "<div>\n",
       "<style scoped>\n",
       "    .dataframe tbody tr th:only-of-type {\n",
       "        vertical-align: middle;\n",
       "    }\n",
       "\n",
       "    .dataframe tbody tr th {\n",
       "        vertical-align: top;\n",
       "    }\n",
       "\n",
       "    .dataframe thead th {\n",
       "        text-align: right;\n",
       "    }\n",
       "</style>\n",
       "<table border=\"1\" class=\"dataframe\">\n",
       "  <thead>\n",
       "    <tr style=\"text-align: right;\">\n",
       "      <th></th>\n",
       "      <th>created_at</th>\n",
       "      <th>text</th>\n",
       "      <th>score_positive</th>\n",
       "      <th>score_negative</th>\n",
       "      <th>sentiment</th>\n",
       "      <th>_id</th>\n",
       "      <th>what_happen_id</th>\n",
       "      <th>user_id</th>\n",
       "    </tr>\n",
       "  </thead>\n",
       "  <tbody>\n",
       "  </tbody>\n",
       "</table>\n",
       "</div>"
      ],
      "text/plain": [
       "Empty DataFrame\n",
       "Columns: [created_at, text, score_positive, score_negative, sentiment, _id, what_happen_id, user_id]\n",
       "Index: []"
      ]
     },
     "execution_count": 60,
     "metadata": {},
     "output_type": "execute_result"
    }
   ],
   "source": [
    "df_sents = pd.DataFrame.from_records(sent_collection.find({'user_id': '663ed5f504ba683d9499b09d'}),  columns=sents_columns)\n",
    "df_sents.head()"
   ]
  },
  {
   "cell_type": "markdown",
   "metadata": {},
   "source": [
    "https://konfuzio.com/en/nan-python-circumvent-with-nan-values-in-python/"
   ]
  },
  {
   "cell_type": "code",
   "execution_count": null,
   "metadata": {},
   "outputs": [],
   "source": [
    "df_sents.value_counts().count()"
   ]
  },
  {
   "cell_type": "code",
   "execution_count": null,
   "metadata": {},
   "outputs": [],
   "source": [
    "df_sents['sentiment'].value_counts().mean()"
   ]
  },
  {
   "cell_type": "code",
   "execution_count": null,
   "metadata": {},
   "outputs": [],
   "source": [
    "profile = {}\n",
    "\n",
    "name = 'sentiment'\n",
    "\n",
    "profile['total_registers'] = df_sents.value_counts().count()\n",
    "profile['total_positive'] = df_sents.query(f\"{name} == 'positive'\").shape[0]\n",
    "profile['total_negative'] = df_sents.query(f\"{name} == 'negative'\").shape[0]\n",
    "profile['total_score_negative'] = df_sents['score_negative'].sum()\n",
    "profile['total_score_positive'] = df_sents['score_positive'].sum()\n",
    "profile['mean_feeling'] = df_sents[name].value_counts().mean()\n",
    "profile['std_feeling'] = 0 if np.isnan(df_sents[name].value_counts().std()) else df_sents[name].value_counts().std() \n",
    "profile['chart'] = df_sents[name].value_counts().map(lambda x: (x / df_sents.value_counts().count()) * 100).to_dict()\n",
    "profile"
   ]
  },
  {
   "cell_type": "code",
   "execution_count": null,
   "metadata": {},
   "outputs": [],
   "source": [
    "df_sents['score_negative'].sum()"
   ]
  },
  {
   "cell_type": "code",
   "execution_count": null,
   "metadata": {},
   "outputs": [],
   "source": [
    "profile = vars((ProfileCollection()\n",
    " .set_chart(df_sents[name].value_counts().map(lambda x: (x / df_sents.value_counts().count()) * 100).to_dict())\n",
    " .set_std_feeling(0 if np.isnan(df_sents[name].value_counts().std()) else df_sents[name].value_counts().std())\n",
    " .set_mean_feeling(df_sents[name].value_counts().mean())\n",
    " .set_total_score_negetive(df_sents['score_negative'].sum())\n",
    " .set_total_score_positive(df_sents['score_positive'].sum())\n",
    " .set_total_negative(df_sents.query(f\"{name} == 'negative'\").value_counts().count())\n",
    " .set_total_positive(df_sents.query(f\"{name} == 'positive'\").value_counts().count())\n",
    " .set_total_registers(df_sents.value_counts().count())))\n",
    "\n",
    "profile"
   ]
  },
  {
   "cell_type": "code",
   "execution_count": null,
   "metadata": {},
   "outputs": [],
   "source": [
    "list(follow_collection.find())"
   ]
  },
  {
   "cell_type": "code",
   "execution_count": 98,
   "metadata": {},
   "outputs": [
    {
     "data": {
      "text/plain": [
       "[{'total_following': 2, 'total_followers': 3}]"
      ]
     },
     "execution_count": 98,
     "metadata": {},
     "output_type": "execute_result"
    }
   ],
   "source": [
    "list(follow_collection.aggregate([\n",
    "    {\"$group\": {\"_id\": \"$name\", \"data\": { \"$first\": \"$$ROOT\"},\n",
    "                \"following\": { \"$sum\": {\"$cond\": [{\"$eq\": [\"$$ROOT.user_id\",'661f2d5e30ee4c696a1d15fd']},1,0]}},\n",
    "                \"followers\": {\"$sum\": {\"$cond\": [{\"$eq\": [\"$$ROOT.following_id\",'661f2d5e30ee4c696a1d15fd']},1,0]}}}},\n",
    "    {\"$project\": {\"total_following\": \"$following\",\"total_followers\": \"$followers\"}},\n",
    "    {'$unset': ['_id']}]))"
   ]
  },
  {
   "cell_type": "code",
   "execution_count": 113,
   "metadata": {},
   "outputs": [
    {
     "data": {
      "text/plain": [
       "[{'following': 2, 'followers': 3, 'reject': 0, 'request': 0, 'cancel': 0}]"
      ]
     },
     "execution_count": 113,
     "metadata": {},
     "output_type": "execute_result"
    }
   ],
   "source": [
    "list(follow_collection.aggregate([\n",
    "    {\"$group\": {\"_id\": \"$name\", \"data\": { \"$first\": \"$$ROOT\"},\n",
    "                \"reject\": {\"$sum\":{\"$cond\": [ {'$and':[{'$eq': ['$$ROOT.user_id','661f2d5e30ee4c696a1d15fd']}, {'$eq': ['$$ROOT.status', 'REJECT']}]},1,0 ]}},\n",
    "                \"request\": {\"$sum\":{\"$cond\": [ {'$and':[{'$eq': ['$$ROOT.user_id','661f2d5e30ee4c696a1d15fd']}, {'$eq': ['$$ROOT.status', 'REQUESTED']}]},1,0 ]}},\n",
    "                \"cancel\": {\"$sum\":{\"$cond\": [ {'$and':[{'$eq': ['$$ROOT.user_id','661f2d5e30ee4c696a1d15fd']}, {'$eq': ['$$ROOT.status', 'CANCEL_REQUEST']}]},1,0 ]}},\n",
    "                \"following\": {\"$sum\":{\"$cond\": [ {'$and':[{'$eq': ['$$ROOT.user_id','661f2d5e30ee4c696a1d15fd']}, {'$eq': ['$$ROOT.status', 'FOLLOWING']}]},1,0 ]}},\n",
    "                \"followers\": {\"$sum\":{\"$cond\": [ {'$and':[{'$eq': ['$$ROOT.following_id','661f2d5e30ee4c696a1d15fd']}, {'$eq': ['$$ROOT.status', 'FOLLOWING']}]},1,0 ]}}}},\n",
    "    {\"$project\": {\"following\": \"$following\",\"followers\": \"$followers\", 'reject': '$reject', 'request': '$request', 'cancel': '$cancel', 'follow':'$follow'}},\n",
    "    {'$unset': ['_id']}]))"
   ]
  },
  {
   "cell_type": "code",
   "execution_count": 56,
   "metadata": {},
   "outputs": [
    {
     "data": {
      "text/plain": [
       "[{'_id': ObjectId('664411eaff47ba18dd110275'),\n",
       "  'user_id': '64f74f6e54d0ba6c4b532786',\n",
       "  'following_id': '663ed5f504ba683d9499b09d',\n",
       "  'created_at': datetime.datetime(2024, 5, 15, 1, 37, 46, 472000),\n",
       "  '_class': 'innovatenet.com.br.document.FollowsDocument',\n",
       "  'status': 'FOLLOW'}]"
      ]
     },
     "execution_count": 56,
     "metadata": {},
     "output_type": "execute_result"
    }
   ],
   "source": [
    "list(follow_collection.find({\"user_id\": \"64f74f6e54d0ba6c4b532786\", 'following_id': '663ed5f504ba683d9499b09d'}))"
   ]
  },
  {
   "cell_type": "code",
   "execution_count": 33,
   "metadata": {},
   "outputs": [
    {
     "data": {
      "text/plain": [
       "[{'_id': ObjectId('64f74f6e54d0ba6c4b532786'),\n",
       "  'email': 'kakashi.kisura7@gmail.com',\n",
       "  'created_at': datetime.datetime(2023, 9, 5, 12, 55, 25, 8000),\n",
       "  'updated_at': datetime.datetime(2024, 5, 10, 23, 16, 51, 337000),\n",
       "  'auth_id': '663ed51204ba683d9499b096',\n",
       "  'name_id': 'kakashi@daily',\n",
       "  'name': 'kakashi',\n",
       "  'profile_public': True,\n",
       "  'genre': 'M',\n",
       "  'phone': 5511941616008,\n",
       "  'custom_auth': []},\n",
       " {'_id': ObjectId('65ae90883470eb010f5f1104'),\n",
       "  'email': 'roberto.rosa7@gmail.com',\n",
       "  'created_at': datetime.datetime(2024, 1, 22, 12, 58, 0, 736000),\n",
       "  'updated_at': datetime.datetime(2024, 5, 7, 19, 10, 1, 134000),\n",
       "  'auth_id': '663aa6b8dca08f4513232d7c',\n",
       "  'name_id': 'beto@daily',\n",
       "  'name': 'Beto',\n",
       "  'profile_public': False,\n",
       "  'genre': 'M',\n",
       "  'phone': 5511941616008,\n",
       "  'custom_auth': []},\n",
       " {'_id': ObjectId('661f2d5e30ee4c696a1d15fd'),\n",
       "  'email': 'root@gmail.com',\n",
       "  'created_at': datetime.datetime(2024, 4, 17, 2, 1, 2, 908000),\n",
       "  'updated_at': datetime.datetime(2024, 5, 4, 18, 44, 42, 291000),\n",
       "  'auth_id': '6636ac49dca08f4513232d75',\n",
       "  'name_id': 'root@daily',\n",
       "  'name': 'Teste edited 9',\n",
       "  'profile_public': True,\n",
       "  'genre': 'M',\n",
       "  'phone': 5511941616008,\n",
       "  '_class': 'innovatenet.com.br.document.UserDocument',\n",
       "  'custom_auth': []},\n",
       " {'_id': ObjectId('6621effacf09c02f9a9590d9'),\n",
       "  'email': 'amanda@gmail.com',\n",
       "  'created_at': datetime.datetime(2024, 4, 19, 4, 15, 54, 348000),\n",
       "  'updated_at': datetime.datetime(2024, 4, 19, 4, 15, 54, 348000),\n",
       "  'auth_id': '6621effacf09c02f9a9590d8',\n",
       "  'name_id': 'am@daily',\n",
       "  'name': 'Amanda',\n",
       "  'profile_public': True,\n",
       "  '_class': 'innovatenet.com.br.document.UserDocument',\n",
       "  'custom_auth': []},\n",
       " {'_id': ObjectId('663a8f8ddca08f4513232d7a'),\n",
       "  'email': 'victorsalome41@hotmail.com',\n",
       "  'name': 'victor Sousa',\n",
       "  'profile_public': True,\n",
       "  'name_id': 'Victorss@daily',\n",
       "  'auth_id': '663a8f8cdca08f4513232d79',\n",
       "  'created_at': datetime.datetime(2024, 5, 7, 20, 31, 9, 11000),\n",
       "  'updated_at': datetime.datetime(2024, 5, 7, 20, 31, 9, 11000),\n",
       "  '_class': 'innovatenet.com.br.document.UserDocument',\n",
       "  'custom_auth': []},\n",
       " {'_id': ObjectId('663ed5f504ba683d9499b09d'),\n",
       "  'email': 'test@gmail.com',\n",
       "  'name': 'teste',\n",
       "  'profile_public': True,\n",
       "  'name_id': 'teste@daily',\n",
       "  'auth_id': '6636ab40dca08f4513232d72',\n",
       "  'created_at': datetime.datetime(2024, 5, 11, 2, 20, 37, 642000),\n",
       "  'updated_at': datetime.datetime(2024, 5, 11, 2, 20, 37, 642000),\n",
       "  '_class': 'innovatenet.com.br.document.UserDocument',\n",
       "  'custom_auth': []},\n",
       " {'_id': ObjectId('663ed74204ba683d9499b0a6'),\n",
       "  'email': 'bruna@gmail.com',\n",
       "  'name': 'Bruninha',\n",
       "  'profile_public': True,\n",
       "  'name_id': 'br@daily',\n",
       "  'auth_id': '663ed74204ba683d9499b0a5',\n",
       "  'created_at': datetime.datetime(2024, 5, 11, 2, 26, 10, 359000),\n",
       "  'updated_at': datetime.datetime(2024, 5, 10, 23, 27, 8, 297000),\n",
       "  '_class': 'innovatenet.com.br.document.UserDocument',\n",
       "  'genre': 'M',\n",
       "  'phone': '5511941616008',\n",
       "  'custom_auth': []},\n",
       " {'_id': ObjectId('6644c4eeff47ba18dd110294'),\n",
       "  'email': 'joao@gmail.com',\n",
       "  'name': 'jojo',\n",
       "  'profile_public': True,\n",
       "  'name_id': 'joao@daily',\n",
       "  'auth_id': '6644c4eeff47ba18dd110293',\n",
       "  'created_at': datetime.datetime(2024, 5, 15, 14, 21, 34, 980000),\n",
       "  'updated_at': datetime.datetime(2024, 5, 15, 14, 21, 34, 980000),\n",
       "  '_class': 'innovatenet.com.br.document.UserDocument',\n",
       "  'custom_auth': []}]"
      ]
     },
     "execution_count": 33,
     "metadata": {},
     "output_type": "execute_result"
    }
   ],
   "source": [
    "list(user_collection.aggregate([\n",
    "    { '$lookup': { 'from': \"FollowsCollection\", 'localField': \"_id\", 'foreignField': \"user_id\", 'as': \"custom_auth\"} },\n",
    "    # { '$unwind': \"$custom_auth\" }\n",
    "]))"
   ]
  }
 ],
 "metadata": {
  "kernelspec": {
   "display_name": ".tf",
   "language": "python",
   "name": "python3"
  },
  "language_info": {
   "codemirror_mode": {
    "name": "ipython",
    "version": 3
   },
   "file_extension": ".py",
   "mimetype": "text/x-python",
   "name": "python",
   "nbconvert_exporter": "python",
   "pygments_lexer": "ipython3",
   "version": "3.7.3"
  }
 },
 "nbformat": 4,
 "nbformat_minor": 2
}
