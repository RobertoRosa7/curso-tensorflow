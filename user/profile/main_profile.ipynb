{
 "cells": [
  {
   "cell_type": "code",
   "execution_count": 1,
   "metadata": {},
   "outputs": [],
   "source": [
    "import os \n",
    "import sys\n",
    "import pandas as pd\n",
    "import numpy as np\n",
    "\n",
    "sys.path.append(os.path.abspath(os.path.join('..', '..')))\n",
    "\n",
    "from services.pandas.pandas_service import PandasService\n",
    "from services.database.database_service import Environment\n",
    "from models.profile.profile_model import ProfileCollection"
   ]
  },
  {
   "cell_type": "code",
   "execution_count": 2,
   "metadata": {},
   "outputs": [
    {
     "name": "stderr",
     "output_type": "stream",
     "text": [
      "2024-05-07 21:32:45,064 INFO root : Environment: started: access database\n"
     ]
    }
   ],
   "source": [
    "env_instance = Environment().get_instance()\n",
    "pd_services = PandasService()\n",
    "db = env_instance.get_db()"
   ]
  },
  {
   "cell_type": "code",
   "execution_count": 10,
   "metadata": {},
   "outputs": [],
   "source": [
    "token_collection = db.get_collection(\"TokenCollection\")\n",
    "user_collection = db.get_collection('UserCollection')\n",
    "sent_collection = db.get_collection(\"SentimentCollection\")\n",
    "follow_collection = db.get_collection('FollowsCollection')"
   ]
  },
  {
   "cell_type": "code",
   "execution_count": 4,
   "metadata": {},
   "outputs": [],
   "source": [
    "profile = {}"
   ]
  },
  {
   "cell_type": "code",
   "execution_count": 5,
   "metadata": {},
   "outputs": [
    {
     "data": {
      "text/html": [
       "<div>\n",
       "<style scoped>\n",
       "    .dataframe tbody tr th:only-of-type {\n",
       "        vertical-align: middle;\n",
       "    }\n",
       "\n",
       "    .dataframe tbody tr th {\n",
       "        vertical-align: top;\n",
       "    }\n",
       "\n",
       "    .dataframe thead th {\n",
       "        text-align: right;\n",
       "    }\n",
       "</style>\n",
       "<table border=\"1\" class=\"dataframe\">\n",
       "  <thead>\n",
       "    <tr style=\"text-align: right;\">\n",
       "      <th></th>\n",
       "      <th>_id</th>\n",
       "      <th>email</th>\n",
       "      <th>name_id</th>\n",
       "      <th>profile_public</th>\n",
       "      <th>genre</th>\n",
       "      <th>phone</th>\n",
       "      <th>created_at</th>\n",
       "      <th>updated_at</th>\n",
       "    </tr>\n",
       "  </thead>\n",
       "  <tbody>\n",
       "    <tr>\n",
       "      <th>0</th>\n",
       "      <td>64f74f6e54d0ba6c4b532786</td>\n",
       "      <td>kakashi.kisura7@gmail.com</td>\n",
       "      <td>kakashi@daily</td>\n",
       "      <td>True</td>\n",
       "      <td>M</td>\n",
       "      <td>5.511942e+12</td>\n",
       "      <td>2023-09-05 12:55:25.008</td>\n",
       "      <td>2024-04-19 00:57:00.723</td>\n",
       "    </tr>\n",
       "    <tr>\n",
       "      <th>1</th>\n",
       "      <td>65ae90883470eb010f5f1104</td>\n",
       "      <td>roberto.rosa7@gmail.com</td>\n",
       "      <td>beto@daily</td>\n",
       "      <td>True</td>\n",
       "      <td>M</td>\n",
       "      <td>5.511942e+12</td>\n",
       "      <td>2024-01-22 12:58:00.736</td>\n",
       "      <td>2024-05-07 19:10:01.134</td>\n",
       "    </tr>\n",
       "    <tr>\n",
       "      <th>2</th>\n",
       "      <td>661f2d5e30ee4c696a1d15fd</td>\n",
       "      <td>root@gmail.com</td>\n",
       "      <td>root@daily</td>\n",
       "      <td>True</td>\n",
       "      <td>M</td>\n",
       "      <td>5.511942e+12</td>\n",
       "      <td>2024-04-17 02:01:02.908</td>\n",
       "      <td>2024-05-04 18:44:42.291</td>\n",
       "    </tr>\n",
       "    <tr>\n",
       "      <th>3</th>\n",
       "      <td>6621effacf09c02f9a9590d9</td>\n",
       "      <td>amanda@gmail.com</td>\n",
       "      <td>am@daily</td>\n",
       "      <td>True</td>\n",
       "      <td>NaN</td>\n",
       "      <td>NaN</td>\n",
       "      <td>2024-04-19 04:15:54.348</td>\n",
       "      <td>2024-04-19 04:15:54.348</td>\n",
       "    </tr>\n",
       "    <tr>\n",
       "      <th>4</th>\n",
       "      <td>663a8f8ddca08f4513232d7a</td>\n",
       "      <td>victorsalome41@hotmail.com</td>\n",
       "      <td>Victorss@daily</td>\n",
       "      <td>True</td>\n",
       "      <td>NaN</td>\n",
       "      <td>NaN</td>\n",
       "      <td>2024-05-07 20:31:09.011</td>\n",
       "      <td>2024-05-07 20:31:09.011</td>\n",
       "    </tr>\n",
       "  </tbody>\n",
       "</table>\n",
       "</div>"
      ],
      "text/plain": [
       "                        _id                       email         name_id  \\\n",
       "0  64f74f6e54d0ba6c4b532786   kakashi.kisura7@gmail.com   kakashi@daily   \n",
       "1  65ae90883470eb010f5f1104     roberto.rosa7@gmail.com      beto@daily   \n",
       "2  661f2d5e30ee4c696a1d15fd              root@gmail.com      root@daily   \n",
       "3  6621effacf09c02f9a9590d9            amanda@gmail.com        am@daily   \n",
       "4  663a8f8ddca08f4513232d7a  victorsalome41@hotmail.com  Victorss@daily   \n",
       "\n",
       "   profile_public genre         phone              created_at  \\\n",
       "0            True     M  5.511942e+12 2023-09-05 12:55:25.008   \n",
       "1            True     M  5.511942e+12 2024-01-22 12:58:00.736   \n",
       "2            True     M  5.511942e+12 2024-04-17 02:01:02.908   \n",
       "3            True   NaN           NaN 2024-04-19 04:15:54.348   \n",
       "4            True   NaN           NaN 2024-05-07 20:31:09.011   \n",
       "\n",
       "               updated_at  \n",
       "0 2024-04-19 00:57:00.723  \n",
       "1 2024-05-07 19:10:01.134  \n",
       "2 2024-05-04 18:44:42.291  \n",
       "3 2024-04-19 04:15:54.348  \n",
       "4 2024-05-07 20:31:09.011  "
      ]
     },
     "execution_count": 5,
     "metadata": {},
     "output_type": "execute_result"
    }
   ],
   "source": [
    "show_columns = ['_id', 'email', 'name_id', 'profile_public', 'genre', 'phone', 'created_at', 'updated_at']\n",
    "# dateparse = lambda x: datetime.strptime(x, '%Y/%m/%d %H:%M:%f.0000')\n",
    "\n",
    "df_users = pd.DataFrame.from_records(user_collection.find(), columns=show_columns)\n",
    "df_users"
   ]
  },
  {
   "cell_type": "code",
   "execution_count": null,
   "metadata": {},
   "outputs": [],
   "source": [
    "df_users.info()"
   ]
  },
  {
   "cell_type": "code",
   "execution_count": 5,
   "metadata": {},
   "outputs": [
    {
     "data": {
      "text/html": [
       "<div>\n",
       "<style scoped>\n",
       "    .dataframe tbody tr th:only-of-type {\n",
       "        vertical-align: middle;\n",
       "    }\n",
       "\n",
       "    .dataframe tbody tr th {\n",
       "        vertical-align: top;\n",
       "    }\n",
       "\n",
       "    .dataframe thead th {\n",
       "        text-align: right;\n",
       "    }\n",
       "</style>\n",
       "<table border=\"1\" class=\"dataframe\">\n",
       "  <thead>\n",
       "    <tr style=\"text-align: right;\">\n",
       "      <th></th>\n",
       "      <th>created_at</th>\n",
       "      <th>text</th>\n",
       "      <th>score_positive</th>\n",
       "      <th>score_negative</th>\n",
       "      <th>sentiment</th>\n",
       "      <th>_id</th>\n",
       "      <th>what_happen_id</th>\n",
       "      <th>user_id</th>\n",
       "    </tr>\n",
       "  </thead>\n",
       "  <tbody>\n",
       "    <tr>\n",
       "      <th>0</th>\n",
       "      <td>2024-03-23 00:56:03.696</td>\n",
       "      <td>retomando aplicativo de diário</td>\n",
       "      <td>0.504341</td>\n",
       "      <td>0.495659</td>\n",
       "      <td>positive</td>\n",
       "      <td>65fe52d3aa58ed17295fa3d7</td>\n",
       "      <td>65fe52d3aa58ed17295fa3d6</td>\n",
       "      <td>65ae90883470eb010f5f1104</td>\n",
       "    </tr>\n",
       "    <tr>\n",
       "      <th>1</th>\n",
       "      <td>2024-03-23 08:37:46.714</td>\n",
       "      <td>Café da manhã no point dos amigos - rotina diá...</td>\n",
       "      <td>0.674941</td>\n",
       "      <td>0.325059</td>\n",
       "      <td>positive</td>\n",
       "      <td>65febf0aaa58ed17295fa3fb</td>\n",
       "      <td>65febf0aaa58ed17295fa3fa</td>\n",
       "      <td>65ae90883470eb010f5f1104</td>\n",
       "    </tr>\n",
       "    <tr>\n",
       "      <th>2</th>\n",
       "      <td>2024-03-23 11:55:57.605</td>\n",
       "      <td>tedsy</td>\n",
       "      <td>0.500758</td>\n",
       "      <td>0.499242</td>\n",
       "      <td>positive</td>\n",
       "      <td>65feed7daa58ed17295fa4bf</td>\n",
       "      <td>65feed7daa58ed17295fa4be</td>\n",
       "      <td>65ae90883470eb010f5f1104</td>\n",
       "    </tr>\n",
       "    <tr>\n",
       "      <th>3</th>\n",
       "      <td>2024-03-23 13:54:17.095</td>\n",
       "      <td>feito teste com tablet - sucesso</td>\n",
       "      <td>0.597084</td>\n",
       "      <td>0.402916</td>\n",
       "      <td>positive</td>\n",
       "      <td>65ff0939aa58ed17295fa509</td>\n",
       "      <td>65ff0938aa58ed17295fa508</td>\n",
       "      <td>65ae90883470eb010f5f1104</td>\n",
       "    </tr>\n",
       "    <tr>\n",
       "      <th>4</th>\n",
       "      <td>2024-03-23 16:32:58.342</td>\n",
       "      <td>mais um Dev fazendo coisa errada no projeto</td>\n",
       "      <td>0.214928</td>\n",
       "      <td>0.785072</td>\n",
       "      <td>negative</td>\n",
       "      <td>65ff2e6a2306ca0842f7cfff</td>\n",
       "      <td>65ff2e692306ca0842f7cffe</td>\n",
       "      <td>65ae90883470eb010f5f1104</td>\n",
       "    </tr>\n",
       "  </tbody>\n",
       "</table>\n",
       "</div>"
      ],
      "text/plain": [
       "               created_at                                               text  \\\n",
       "0 2024-03-23 00:56:03.696                    retomando aplicativo de diário    \n",
       "1 2024-03-23 08:37:46.714  Café da manhã no point dos amigos - rotina diá...   \n",
       "2 2024-03-23 11:55:57.605                                              tedsy   \n",
       "3 2024-03-23 13:54:17.095                  feito teste com tablet - sucesso    \n",
       "4 2024-03-23 16:32:58.342       mais um Dev fazendo coisa errada no projeto    \n",
       "\n",
       "   score_positive  score_negative sentiment                       _id  \\\n",
       "0        0.504341        0.495659  positive  65fe52d3aa58ed17295fa3d7   \n",
       "1        0.674941        0.325059  positive  65febf0aaa58ed17295fa3fb   \n",
       "2        0.500758        0.499242  positive  65feed7daa58ed17295fa4bf   \n",
       "3        0.597084        0.402916  positive  65ff0939aa58ed17295fa509   \n",
       "4        0.214928        0.785072  negative  65ff2e6a2306ca0842f7cfff   \n",
       "\n",
       "             what_happen_id                   user_id  \n",
       "0  65fe52d3aa58ed17295fa3d6  65ae90883470eb010f5f1104  \n",
       "1  65febf0aaa58ed17295fa3fa  65ae90883470eb010f5f1104  \n",
       "2  65feed7daa58ed17295fa4be  65ae90883470eb010f5f1104  \n",
       "3  65ff0938aa58ed17295fa508  65ae90883470eb010f5f1104  \n",
       "4  65ff2e692306ca0842f7cffe  65ae90883470eb010f5f1104  "
      ]
     },
     "execution_count": 5,
     "metadata": {},
     "output_type": "execute_result"
    }
   ],
   "source": [
    "sents_columns = ['created_at', 'text', 'score_positive', 'score_negative', 'sentiment', '_id', 'what_happen_id', 'user_id', ]\n",
    "df_sents = pd.DataFrame.from_records(sent_collection.find(),  columns=sents_columns)\n",
    "df_sents.head()"
   ]
  },
  {
   "cell_type": "code",
   "execution_count": 6,
   "metadata": {},
   "outputs": [
    {
     "data": {
      "text/html": [
       "<div>\n",
       "<style scoped>\n",
       "    .dataframe tbody tr th:only-of-type {\n",
       "        vertical-align: middle;\n",
       "    }\n",
       "\n",
       "    .dataframe tbody tr th {\n",
       "        vertical-align: top;\n",
       "    }\n",
       "\n",
       "    .dataframe thead th {\n",
       "        text-align: right;\n",
       "    }\n",
       "</style>\n",
       "<table border=\"1\" class=\"dataframe\">\n",
       "  <thead>\n",
       "    <tr style=\"text-align: right;\">\n",
       "      <th></th>\n",
       "      <th>_id</th>\n",
       "      <th>email</th>\n",
       "      <th>name_id</th>\n",
       "      <th>profile_public</th>\n",
       "      <th>genre</th>\n",
       "      <th>phone</th>\n",
       "      <th>created_at</th>\n",
       "      <th>updated_at</th>\n",
       "    </tr>\n",
       "  </thead>\n",
       "  <tbody>\n",
       "    <tr>\n",
       "      <th>0</th>\n",
       "      <td>64f74f6e54d0ba6c4b532786</td>\n",
       "      <td>kakashi.kisura7@gmail.com</td>\n",
       "      <td>None</td>\n",
       "      <td>None</td>\n",
       "      <td>NaN</td>\n",
       "      <td>NaN</td>\n",
       "      <td>2023-09-05 12:55:25.008</td>\n",
       "      <td>NaT</td>\n",
       "    </tr>\n",
       "    <tr>\n",
       "      <th>1</th>\n",
       "      <td>65ae90883470eb010f5f1104</td>\n",
       "      <td>roberto.rosa7@gmail.com</td>\n",
       "      <td>NaN</td>\n",
       "      <td>None</td>\n",
       "      <td>NaN</td>\n",
       "      <td>NaN</td>\n",
       "      <td>2024-01-22 12:58:00.736</td>\n",
       "      <td>NaT</td>\n",
       "    </tr>\n",
       "    <tr>\n",
       "      <th>2</th>\n",
       "      <td>661f2d5e30ee4c696a1d15fd</td>\n",
       "      <td>root@gmail.com</td>\n",
       "      <td>root@daily</td>\n",
       "      <td>True</td>\n",
       "      <td>M</td>\n",
       "      <td>5511941616008</td>\n",
       "      <td>2024-04-17 02:01:02.908</td>\n",
       "      <td>2024-04-16 23:01:42.781</td>\n",
       "    </tr>\n",
       "  </tbody>\n",
       "</table>\n",
       "</div>"
      ],
      "text/plain": [
       "                        _id                      email     name_id  \\\n",
       "0  64f74f6e54d0ba6c4b532786  kakashi.kisura7@gmail.com        None   \n",
       "1  65ae90883470eb010f5f1104    roberto.rosa7@gmail.com         NaN   \n",
       "2  661f2d5e30ee4c696a1d15fd             root@gmail.com  root@daily   \n",
       "\n",
       "  profile_public genre          phone              created_at  \\\n",
       "0           None   NaN            NaN 2023-09-05 12:55:25.008   \n",
       "1           None   NaN            NaN 2024-01-22 12:58:00.736   \n",
       "2           True     M  5511941616008 2024-04-17 02:01:02.908   \n",
       "\n",
       "               updated_at  \n",
       "0                     NaT  \n",
       "1                     NaT  \n",
       "2 2024-04-16 23:01:42.781  "
      ]
     },
     "execution_count": 6,
     "metadata": {},
     "output_type": "execute_result"
    }
   ],
   "source": [
    "# df_users['created_at'] = pd.to_datetime(df_users['created_at'], format = '%Y-%m-%d %H:%M:%S.%f.000')\n",
    "# df_users['updated_at'] = pd.to_datetime(df_users['updated_at'], format = '%Y-%m-%d %H:%M:%S.%f.000')\n",
    "df_users"
   ]
  },
  {
   "cell_type": "code",
   "execution_count": null,
   "metadata": {},
   "outputs": [],
   "source": [
    "df_sents.info()"
   ]
  },
  {
   "cell_type": "code",
   "execution_count": null,
   "metadata": {},
   "outputs": [],
   "source": [
    "# df_sents.query(\"user_id == '65ae90883470eb010f5f1104'\")\n",
    "df_sents.query(\"sentiment == 'positive'\").shape[0]"
   ]
  },
  {
   "cell_type": "code",
   "execution_count": 9,
   "metadata": {},
   "outputs": [
    {
     "data": {
      "text/html": [
       "<div>\n",
       "<style scoped>\n",
       "    .dataframe tbody tr th:only-of-type {\n",
       "        vertical-align: middle;\n",
       "    }\n",
       "\n",
       "    .dataframe tbody tr th {\n",
       "        vertical-align: top;\n",
       "    }\n",
       "\n",
       "    .dataframe thead th {\n",
       "        text-align: right;\n",
       "    }\n",
       "</style>\n",
       "<table border=\"1\" class=\"dataframe\">\n",
       "  <thead>\n",
       "    <tr style=\"text-align: right;\">\n",
       "      <th></th>\n",
       "      <th>created_at</th>\n",
       "      <th>text</th>\n",
       "      <th>score_positive</th>\n",
       "      <th>score_negative</th>\n",
       "      <th>sentiment</th>\n",
       "      <th>_id</th>\n",
       "      <th>what_happen_id</th>\n",
       "      <th>user_id</th>\n",
       "    </tr>\n",
       "  </thead>\n",
       "  <tbody>\n",
       "    <tr>\n",
       "      <th>0</th>\n",
       "      <td>2024-04-17 22:37:25.805</td>\n",
       "      <td>tive um péssimo dia</td>\n",
       "      <td>0.518169</td>\n",
       "      <td>0.481831</td>\n",
       "      <td>positive</td>\n",
       "      <td>6620795592def26041d37251</td>\n",
       "      <td>6620795592def26041d37250</td>\n",
       "      <td>661f2d5e30ee4c696a1d15fd</td>\n",
       "    </tr>\n",
       "    <tr>\n",
       "      <th>1</th>\n",
       "      <td>2024-04-17 23:29:44.869</td>\n",
       "      <td>minha mãe está internada de novo</td>\n",
       "      <td>0.598994</td>\n",
       "      <td>0.401006</td>\n",
       "      <td>positive</td>\n",
       "      <td>66208598836c3c8565474de4</td>\n",
       "      <td>66208598836c3c8565474de3</td>\n",
       "      <td>661f2d5e30ee4c696a1d15fd</td>\n",
       "    </tr>\n",
       "    <tr>\n",
       "      <th>2</th>\n",
       "      <td>2024-04-18 00:05:07.202</td>\n",
       "      <td>minha mãe está internada de novo - foda!</td>\n",
       "      <td>0.598378</td>\n",
       "      <td>0.401622</td>\n",
       "      <td>positive</td>\n",
       "      <td>66208de37b852a12bbe1b312</td>\n",
       "      <td>66208de37b852a12bbe1b311</td>\n",
       "      <td>661f2d5e30ee4c696a1d15fd</td>\n",
       "    </tr>\n",
       "  </tbody>\n",
       "</table>\n",
       "</div>"
      ],
      "text/plain": [
       "               created_at                                      text  \\\n",
       "0 2024-04-17 22:37:25.805                       tive um péssimo dia   \n",
       "1 2024-04-17 23:29:44.869          minha mãe está internada de novo   \n",
       "2 2024-04-18 00:05:07.202  minha mãe está internada de novo - foda!   \n",
       "\n",
       "   score_positive  score_negative sentiment                       _id  \\\n",
       "0        0.518169        0.481831  positive  6620795592def26041d37251   \n",
       "1        0.598994        0.401006  positive  66208598836c3c8565474de4   \n",
       "2        0.598378        0.401622  positive  66208de37b852a12bbe1b312   \n",
       "\n",
       "             what_happen_id                   user_id  \n",
       "0  6620795592def26041d37250  661f2d5e30ee4c696a1d15fd  \n",
       "1  66208598836c3c8565474de3  661f2d5e30ee4c696a1d15fd  \n",
       "2  66208de37b852a12bbe1b311  661f2d5e30ee4c696a1d15fd  "
      ]
     },
     "execution_count": 9,
     "metadata": {},
     "output_type": "execute_result"
    }
   ],
   "source": [
    "df_sents = pd.DataFrame.from_records(sent_collection.find({'user_id': '661f2d5e30ee4c696a1d15fd'}),  columns=sents_columns)\n",
    "df_sents.head()"
   ]
  },
  {
   "cell_type": "markdown",
   "metadata": {},
   "source": [
    "https://konfuzio.com/en/nan-python-circumvent-with-nan-values-in-python/"
   ]
  },
  {
   "cell_type": "code",
   "execution_count": 20,
   "metadata": {},
   "outputs": [
    {
     "data": {
      "text/plain": [
       "{'total_registers': 3,\n",
       " 'total_positive': 3,\n",
       " 'total_negative': 0,\n",
       " 'total_score_negative': 1.2844587414281632,\n",
       " 'total_score_positive': 1.715541258571837,\n",
       " 'mean_feeling': 3.0,\n",
       " 'std_feeling': 0,\n",
       " 'chart': {'positive': 100.0}}"
      ]
     },
     "execution_count": 20,
     "metadata": {},
     "output_type": "execute_result"
    }
   ],
   "source": [
    "name = 'sentiment'\n",
    "\n",
    "profile['total_registers'] = df_sents.value_counts().count()\n",
    "profile['total_positive'] = df_sents.query(f\"{name} == 'positive'\").value_counts().count()\n",
    "profile['total_negative'] = df_sents.query(f\"{name} == 'negative'\").value_counts().count()\n",
    "profile['total_score_negative'] = df_sents['score_negative'].sum()\n",
    "profile['total_score_positive'] = df_sents['score_positive'].sum()\n",
    "profile['mean_feeling'] = df_sents[name].value_counts().mean()\n",
    "profile['std_feeling'] = 0 if np.isnan(df_sents[name].value_counts().std()) else df_sents[name].value_counts().std() \n",
    "profile['chart'] = df_sents[name].value_counts().map(lambda x: (x / df_sents.value_counts().count()) * 100).to_dict()\n",
    "profile"
   ]
  },
  {
   "cell_type": "code",
   "execution_count": 19,
   "metadata": {},
   "outputs": [
    {
     "data": {
      "text/plain": [
       "{'total_registers': 3,\n",
       " 'total_positive': 3,\n",
       " 'total_negative': 0,\n",
       " 'total_score_negative': 1.2844587414281632,\n",
       " 'total_score_positive': 1.715541258571837,\n",
       " 'mean_feeling': 3.0,\n",
       " 'std_feeling': 0,\n",
       " 'chart': {'positive': 100.0}}"
      ]
     },
     "execution_count": 19,
     "metadata": {},
     "output_type": "execute_result"
    }
   ],
   "source": [
    "profile = vars((ProfileCollection()\n",
    " .set_chart(df_sents[name].value_counts().map(lambda x: (x / df_sents.value_counts().count()) * 100).to_dict())\n",
    " .set_std_feeling(0 if np.isnan(df_sents[name].value_counts().std()) else df_sents[name].value_counts().std())\n",
    " .set_mean_feeling(df_sents[name].value_counts().mean())\n",
    " .set_total_score_negetive(df_sents['score_negative'].sum())\n",
    " .set_total_score_positive(df_sents['score_positive'].sum())\n",
    " .set_total_negative(df_sents.query(f\"{name} == 'negative'\").value_counts().count())\n",
    " .set_total_positive(df_sents.query(f\"{name} == 'positive'\").value_counts().count())\n",
    " .set_total_registers(df_sents.value_counts().count())))\n",
    "\n",
    "profile"
   ]
  },
  {
   "cell_type": "code",
   "execution_count": 18,
   "metadata": {},
   "outputs": [
    {
     "data": {
      "text/plain": [
       "[{'_id': ObjectId('663aa795dca08f4513232d80'),\n",
       "  'user_id': '65ae90883470eb010f5f1104',\n",
       "  'following_id': '64f74f6e54d0ba6c4b532786',\n",
       "  'created_at': datetime.datetime(2024, 5, 7, 22, 13, 41, 498000),\n",
       "  '_class': 'innovatenet.com.br.document.FollowsDocument'},\n",
       " {'_id': ObjectId('663acb10dca08f4513232d86'),\n",
       "  'user_id': '64f74f6e54d0ba6c4b532786',\n",
       "  'following_id': '65ae90883470eb010f5f1104',\n",
       "  'created_at': datetime.datetime(2024, 5, 8, 0, 45, 4, 877000),\n",
       "  '_class': 'innovatenet.com.br.document.FollowsDocument'},\n",
       " {'_id': ObjectId('663acb7cdca08f4513232d87'),\n",
       "  'user_id': '661f2d5e30ee4c696a1d15fd',\n",
       "  'following_id': '65ae90883470eb010f5f1104',\n",
       "  'created_at': datetime.datetime(2024, 5, 8, 0, 46, 52, 815000),\n",
       "  '_class': 'innovatenet.com.br.document.FollowsDocument'}]"
      ]
     },
     "execution_count": 18,
     "metadata": {},
     "output_type": "execute_result"
    }
   ],
   "source": [
    "list(follow_collection.find())"
   ]
  },
  {
   "cell_type": "code",
   "execution_count": 28,
   "metadata": {},
   "outputs": [
    {
     "data": {
      "text/plain": [
       "[{'total_following': 1, 'total_followers': 2}]"
      ]
     },
     "execution_count": 28,
     "metadata": {},
     "output_type": "execute_result"
    }
   ],
   "source": [
    "list(follow_collection.aggregate([\n",
    "    {\"$group\": {\"_id\": \"$name\", \"data\": { \"$first\": \"$$ROOT\"},\n",
    "                \"following\": { \"$sum\": {\"$cond\": [{\"$eq\": [\"$$ROOT.user_id\",'65ae90883470eb010f5f1104']},1,0]}},\n",
    "                \"followers\": {\"$sum\": {\"$cond\": [{\"$eq\": [\"$$ROOT.following_id\",'65ae90883470eb010f5f1104']},1,0]}}}},\n",
    "    {\"$project\": {\"total_following\": \"$following\",\"total_followers\": \"$followers\"}},\n",
    "    {'$unset': ['_id']}]))"
   ]
  },
  {
   "cell_type": "code",
   "execution_count": 27,
   "metadata": {},
   "outputs": [
    {
     "data": {
      "text/plain": [
       "[{'_id': ObjectId('663acb10dca08f4513232d86'),\n",
       "  'user_id': '64f74f6e54d0ba6c4b532786',\n",
       "  'following_id': '65ae90883470eb010f5f1104',\n",
       "  'created_at': datetime.datetime(2024, 5, 8, 0, 45, 4, 877000),\n",
       "  '_class': 'innovatenet.com.br.document.FollowsDocument'},\n",
       " {'_id': ObjectId('663acb7cdca08f4513232d87'),\n",
       "  'user_id': '661f2d5e30ee4c696a1d15fd',\n",
       "  'following_id': '65ae90883470eb010f5f1104',\n",
       "  'created_at': datetime.datetime(2024, 5, 8, 0, 46, 52, 815000),\n",
       "  '_class': 'innovatenet.com.br.document.FollowsDocument'}]"
      ]
     },
     "execution_count": 27,
     "metadata": {},
     "output_type": "execute_result"
    }
   ],
   "source": [
    "list(follow_collection.find({\"following_id\": \"65ae90883470eb010f5f1104\"}))"
   ]
  }
 ],
 "metadata": {
  "kernelspec": {
   "display_name": ".tf",
   "language": "python",
   "name": "python3"
  },
  "language_info": {
   "codemirror_mode": {
    "name": "ipython",
    "version": 3
   },
   "file_extension": ".py",
   "mimetype": "text/x-python",
   "name": "python",
   "nbconvert_exporter": "python",
   "pygments_lexer": "ipython3",
   "version": "3.7.3"
  }
 },
 "nbformat": 4,
 "nbformat_minor": 2
}
