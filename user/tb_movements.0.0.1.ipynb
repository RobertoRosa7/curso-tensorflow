{
 "cells": [
  {
   "cell_type": "markdown",
   "metadata": {},
   "source": [
    "# TB MOVEMENTS - Base de Dados Abril/Maio"
   ]
  },
  {
   "cell_type": "markdown",
   "metadata": {},
   "source": [
    "## Importação das Dependências"
   ]
  },
  {
   "cell_type": "code",
   "execution_count": null,
   "metadata": {},
   "outputs": [],
   "source": [
    "import os\n",
    "import pandas as pd\n",
    "from datetime import datetime"
   ]
  },
  {
   "cell_type": "markdown",
   "metadata": {},
   "source": [
    "## Carregando base de dados"
   ]
  },
  {
   "cell_type": "code",
   "execution_count": null,
   "metadata": {},
   "outputs": [],
   "source": [
    "df = pd.read_excel(os.path.join('data', 'BASE_DADOS_TB_MOVEMENTS_ABRIL_MAIO.xlsx'))"
   ]
  },
  {
   "cell_type": "code",
   "execution_count": null,
   "metadata": {},
   "outputs": [],
   "source": [
    "# Total de registros e colunas\n",
    "df.shape"
   ]
  },
  {
   "cell_type": "code",
   "execution_count": null,
   "metadata": {},
   "outputs": [],
   "source": [
    "# informação detalhada da base\n",
    "display(df.info())"
   ]
  },
  {
   "cell_type": "code",
   "execution_count": null,
   "metadata": {},
   "outputs": [],
   "source": [
    "df.head()"
   ]
  },
  {
   "cell_type": "code",
   "execution_count": null,
   "metadata": {},
   "outputs": [],
   "source": [
    "a = ['ID','USER_ID', 'CLIENT_ID','MASTER_MOVEMENT_ID', 'RULE_ID', 'ADDITIONAL_RULE_ID', 'NEXT_VALIDATION_DATE', 'UPDATE_DATE', 'DATE_LAST_EMAIL_SENT','DATE_LAST_SMS_SENT']\n",
    "b = ['STATUS','INDICATION_VALUE','CREATION_DATE','EFFECTIVE_DATE','CONTRACT','QT_EMAIL_SENT','QT_SMS_SENT','CNPJ_CORBAN','DO_NOT_SHOW']"
   ]
  },
  {
   "cell_type": "code",
   "execution_count": null,
   "metadata": {},
   "outputs": [],
   "source": [
    "df.drop(labels=a, axis=1, inplace=True)"
   ]
  },
  {
   "cell_type": "code",
   "execution_count": null,
   "metadata": {},
   "outputs": [],
   "source": [
    "display(df)"
   ]
  },
  {
   "cell_type": "code",
   "execution_count": null,
   "metadata": {},
   "outputs": [],
   "source": [
    "# descobrindo dados nulos\n",
    "df.isnull().sum().sort_values(ascending=False)"
   ]
  },
  {
   "cell_type": "code",
   "execution_count": null,
   "metadata": {},
   "outputs": [],
   "source": [
    "df['CREATION_DATE']"
   ]
  },
  {
   "cell_type": "code",
   "execution_count": null,
   "metadata": {},
   "outputs": [],
   "source": [
    "# time.strftime(\"%Y-%m-%d\",'01-APR-23 05.17.08.151832000 AM')\n",
    "datetime.strptime('01-APR-23 05.17.08.151832000 AM', '%d-%b-%y %H.%M.%S.%f000 %p').strftime('%Y-%m-%d')"
   ]
  },
  {
   "cell_type": "code",
   "execution_count": null,
   "metadata": {},
   "outputs": [],
   "source": [
    "datetime(1970, 1, 1, 0, 0, 0).strftime('%d-%b-%y %H.%M.%S.%f000 %p')"
   ]
  },
  {
   "cell_type": "code",
   "execution_count": null,
   "metadata": {},
   "outputs": [],
   "source": [
    "df['EFFECTIVE_DATE'].fillna(value=datetime(1970, 1, 1, 0, 0, 0).strftime('%d-%b-%y %H.%M.%S.%f000 %p'), inplace=True)"
   ]
  },
  {
   "cell_type": "code",
   "execution_count": null,
   "metadata": {},
   "outputs": [],
   "source": [
    "df.isnull().sum().sort_values(ascending=False)"
   ]
  },
  {
   "cell_type": "code",
   "execution_count": null,
   "metadata": {},
   "outputs": [],
   "source": [
    "df['CREATION_DATE'] = pd.to_datetime(df['CREATION_DATE'], format='%d-%b-%y %H.%M.%S.%f000 %p', errors='ignore')\n",
    "df['EFFECTIVE_DATE'] = pd.to_datetime(df['EFFECTIVE_DATE'], format='%d-%b-%y %H.%M.%S.%f000 %p', errors='ignore')\n",
    "df['CREATION_DATE'] = df['CREATION_DATE'].dt.strftime('%Y-%m-%d')\n",
    "df['EFFECTIVE_DATE'] = df['EFFECTIVE_DATE'].dt.strftime('%Y-%m-%d')"
   ]
  },
  {
   "cell_type": "code",
   "execution_count": null,
   "metadata": {},
   "outputs": [],
   "source": [
    "display(df)"
   ]
  },
  {
   "cell_type": "code",
   "execution_count": null,
   "metadata": {},
   "outputs": [],
   "source": [
    "df.fillna(value=0, inplace=True)"
   ]
  },
  {
   "cell_type": "code",
   "execution_count": null,
   "metadata": {},
   "outputs": [],
   "source": [
    "df.info()"
   ]
  },
  {
   "cell_type": "code",
   "execution_count": null,
   "metadata": {},
   "outputs": [],
   "source": [
    "df['CREATION_DATE'].value_counts().sort_values(ascending=False)"
   ]
  },
  {
   "cell_type": "code",
   "execution_count": null,
   "metadata": {},
   "outputs": [],
   "source": [
    "df[df['CREATION_DATE'] == '2023-04-01']"
   ]
  },
  {
   "cell_type": "code",
   "execution_count": null,
   "metadata": {},
   "outputs": [],
   "source": [
    "# pd.to_datetime(df['CREATION_DATE'], format='%d-%b-%y %H.%M.%S.%f000 %p', errors='ignore')\n",
    "# df_copy = df.copy()"
   ]
  },
  {
   "cell_type": "code",
   "execution_count": null,
   "metadata": {},
   "outputs": [],
   "source": [
    "# df_copy['CREATION_DATE'] = pd.to_datetime(df['CREATION_DATE'], format='%d-%b-%y %H.%M.%S.%f000 %p', errors='ignore')"
   ]
  },
  {
   "cell_type": "code",
   "execution_count": null,
   "metadata": {},
   "outputs": [],
   "source": [
    "# df_copy['CREATION_DATE'].dt.strftime('%Y-%m-%d')"
   ]
  },
  {
   "cell_type": "code",
   "execution_count": null,
   "metadata": {},
   "outputs": [],
   "source": [
    "# df_dates = df.filter(items=['CREATION_DATE', 'EFFECTIVE_DATE'], axis=1)"
   ]
  },
  {
   "cell_type": "code",
   "execution_count": null,
   "metadata": {},
   "outputs": [],
   "source": [
    "# df_dates.isna().sum()"
   ]
  },
  {
   "cell_type": "code",
   "execution_count": null,
   "metadata": {},
   "outputs": [],
   "source": [
    "# df_dates.isna().sum()"
   ]
  },
  {
   "cell_type": "code",
   "execution_count": null,
   "metadata": {},
   "outputs": [],
   "source": [
    "# for col in df_dates.columns:\n",
    "    # df[col] = pd.to_datetime(df_dates[col], format='%d-%b-%y %H.%M.%S.%f000 %p', errors='ignore')\n",
    "    # df[col] = df[col].dt.strftime('%Y-%m-%d')"
   ]
  },
  {
   "cell_type": "code",
   "execution_count": null,
   "metadata": {},
   "outputs": [],
   "source": [
    "# df_filtered = df.filter(items=['CREATION_DATE', 'EFFECTIVE_DATE', 'CONTRACT', 'QT_EMAIL_SENT', 'QT_SMS_SENT', 'CNPJ_CORBAN', 'DO_NOT_SHOW'], axis=1)\n",
    "# display(df_filtered)"
   ]
  },
  {
   "cell_type": "code",
   "execution_count": null,
   "metadata": {},
   "outputs": [],
   "source": [
    "# df_filtered[df_filtered['CREATION_DATE'] == '2023-05-22']"
   ]
  }
 ],
 "metadata": {
  "interpreter": {
   "hash": "37d749834043cc8bcf9500ddac590bcfc07020a4e948b1c7aab57c3f0cf1e0ef"
  },
  "kernelspec": {
   "display_name": "Python 3.9.5 ('.venv': venv)",
   "language": "python",
   "name": "python3"
  },
  "language_info": {
   "codemirror_mode": {
    "name": "ipython",
    "version": 3
   },
   "file_extension": ".py",
   "mimetype": "text/x-python",
   "name": "python",
   "nbconvert_exporter": "python",
   "pygments_lexer": "ipython3",
   "version": "3.9.5"
  },
  "orig_nbformat": 4
 },
 "nbformat": 4,
 "nbformat_minor": 2
}
