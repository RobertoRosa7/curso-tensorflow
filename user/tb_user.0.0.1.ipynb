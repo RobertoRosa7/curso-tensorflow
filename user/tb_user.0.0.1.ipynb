{
 "cells": [
  {
   "cell_type": "code",
   "execution_count": 1,
   "metadata": {},
   "outputs": [],
   "source": [
    "import os, sys\n",
    "import pandas as pd\n",
    "import json\n",
    "import csv\n",
    "from unicodedata import normalize\n",
    "from urllib import request\n",
    "from datetime import datetime\n",
    "\n",
    "sys.path.append(os.path.abspath(os.path.join('..')))"
   ]
  },
  {
   "cell_type": "code",
   "execution_count": 5,
   "metadata": {},
   "outputs": [],
   "source": [
    "from services.version_service import VersionService\n",
    "from keys.user_key import UserKey as key\n",
    "ver_service = VersionService()"
   ]
  },
  {
   "cell_type": "code",
   "execution_count": 3,
   "metadata": {},
   "outputs": [],
   "source": [
    "STORAGE = os.path.join('..', 'storage')"
   ]
  },
  {
   "cell_type": "code",
   "execution_count": 6,
   "metadata": {},
   "outputs": [],
   "source": [
    "FILENAME_TB_USER = ver_service.get_last_version(key.FILENAME_TB_USER, key.EXT_CSV, STORAGE)"
   ]
  },
  {
   "cell_type": "code",
   "execution_count": 8,
   "metadata": {},
   "outputs": [],
   "source": [
    "df_user = pd.read_csv(os.path.join(STORAGE, FILENAME_TB_USER), sep=',', encoding='utf-8', low_memory=False, dtype=str)"
   ]
  },
  {
   "cell_type": "code",
   "execution_count": 10,
   "metadata": {},
   "outputs": [
    {
     "data": {
      "text/plain": [
       "(12088, 14)"
      ]
     },
     "execution_count": 10,
     "metadata": {},
     "output_type": "execute_result"
    }
   ],
   "source": [
    "df_user.shape"
   ]
  },
  {
   "cell_type": "code",
   "execution_count": 11,
   "metadata": {},
   "outputs": [
    {
     "data": {
      "text/html": [
       "<div>\n",
       "<style scoped>\n",
       "    .dataframe tbody tr th:only-of-type {\n",
       "        vertical-align: middle;\n",
       "    }\n",
       "\n",
       "    .dataframe tbody tr th {\n",
       "        vertical-align: top;\n",
       "    }\n",
       "\n",
       "    .dataframe thead th {\n",
       "        text-align: right;\n",
       "    }\n",
       "</style>\n",
       "<table border=\"1\" class=\"dataframe\">\n",
       "  <thead>\n",
       "    <tr style=\"text-align: right;\">\n",
       "      <th></th>\n",
       "      <th>ID</th>\n",
       "      <th>REGISTRATION</th>\n",
       "      <th>CPF</th>\n",
       "      <th>NAME</th>\n",
       "      <th>EMAIL</th>\n",
       "      <th>CNPJ_CORBAN</th>\n",
       "      <th>GROUPS</th>\n",
       "      <th>LAST_ACCESS_DATE</th>\n",
       "      <th>CREATE_DATE</th>\n",
       "      <th>UPDATE_DATE</th>\n",
       "      <th>STATUS_CHANGE_BY</th>\n",
       "      <th>ACTIVE</th>\n",
       "      <th>EF_PARTNER_ID</th>\n",
       "      <th>TELEPHONE</th>\n",
       "    </tr>\n",
       "  </thead>\n",
       "  <tbody>\n",
       "    <tr>\n",
       "      <th>0</th>\n",
       "      <td>1251</td>\n",
       "      <td>EX60887</td>\n",
       "      <td>2796772195</td>\n",
       "      <td>IASMIN PASTORA CHAVES</td>\n",
       "      <td>nathalia.nunes@prservicos.com.br</td>\n",
       "      <td>07716869000186</td>\n",
       "      <td>FVE-COLABORADOR|FVE-INDICA_CONTA|FVE-INDICA_CA...</td>\n",
       "      <td>NaN</td>\n",
       "      <td>NaN</td>\n",
       "      <td>2022-11-14 14:39:59.719</td>\n",
       "      <td>73293796460</td>\n",
       "      <td>1</td>\n",
       "      <td>NaN</td>\n",
       "      <td>NaN</td>\n",
       "    </tr>\n",
       "    <tr>\n",
       "      <th>1</th>\n",
       "      <td>1252</td>\n",
       "      <td>EX60731</td>\n",
       "      <td>6455897803</td>\n",
       "      <td>FATIMA MARIA YOUSSEF</td>\n",
       "      <td>nathalia.nunes@prservicos.com.br</td>\n",
       "      <td>25259939000104</td>\n",
       "      <td>FVE-COLABORADOR|FVE-INDICA_CONTA</td>\n",
       "      <td>2022-05-12 17:44:16.000</td>\n",
       "      <td>NaN</td>\n",
       "      <td>NaN</td>\n",
       "      <td>NaN</td>\n",
       "      <td>NaN</td>\n",
       "      <td>NaN</td>\n",
       "      <td>NaN</td>\n",
       "    </tr>\n",
       "    <tr>\n",
       "      <th>2</th>\n",
       "      <td>1253</td>\n",
       "      <td>EX54336</td>\n",
       "      <td>14152393718</td>\n",
       "      <td>CLARISSA RIOS FACRE RANGEL</td>\n",
       "      <td>nathalia.nunes@prservicos.com.br</td>\n",
       "      <td>07625729000100</td>\n",
       "      <td>FVE-COLABORADOR|FVE-INDICA_CONTA</td>\n",
       "      <td>2022-05-13 16:06:47.000</td>\n",
       "      <td>NaN</td>\n",
       "      <td>NaN</td>\n",
       "      <td>NaN</td>\n",
       "      <td>NaN</td>\n",
       "      <td>NaN</td>\n",
       "      <td>6729882068</td>\n",
       "    </tr>\n",
       "    <tr>\n",
       "      <th>3</th>\n",
       "      <td>1254</td>\n",
       "      <td>EX56177</td>\n",
       "      <td>85520802653</td>\n",
       "      <td>LUCIANO PRADO DOS REIS</td>\n",
       "      <td>Renan@email.com</td>\n",
       "      <td>07625729000100</td>\n",
       "      <td>FVE-MASTER|FVE-INDICA_CONTA|FVE-COLABORADOR</td>\n",
       "      <td>2022-05-13 14:40:51.000</td>\n",
       "      <td>NaN</td>\n",
       "      <td>2022-12-08 10:28:16.211</td>\n",
       "      <td>NaN</td>\n",
       "      <td>NaN</td>\n",
       "      <td>NaN</td>\n",
       "      <td>11944256112</td>\n",
       "    </tr>\n",
       "    <tr>\n",
       "      <th>4</th>\n",
       "      <td>1255</td>\n",
       "      <td>EX61233</td>\n",
       "      <td>21922110230</td>\n",
       "      <td>ROSANE MARIA CRISTINO DE LIMA</td>\n",
       "      <td>nathalia.nunes@prservicos.com.br</td>\n",
       "      <td>28242616000198</td>\n",
       "      <td>FVE-COLABORADOR|FVE-INDICA_CONTA|FVE-INDICA_CA...</td>\n",
       "      <td>2022-05-23 18:21:09.000</td>\n",
       "      <td>NaN</td>\n",
       "      <td>NaN</td>\n",
       "      <td>NaN</td>\n",
       "      <td>NaN</td>\n",
       "      <td>NaN</td>\n",
       "      <td>NaN</td>\n",
       "    </tr>\n",
       "  </tbody>\n",
       "</table>\n",
       "</div>"
      ],
      "text/plain": [
       "     ID REGISTRATION          CPF                           NAME  \\\n",
       "0  1251      EX60887   2796772195          IASMIN PASTORA CHAVES   \n",
       "1  1252      EX60731   6455897803           FATIMA MARIA YOUSSEF   \n",
       "2  1253      EX54336  14152393718     CLARISSA RIOS FACRE RANGEL   \n",
       "3  1254      EX56177  85520802653         LUCIANO PRADO DOS REIS   \n",
       "4  1255      EX61233  21922110230  ROSANE MARIA CRISTINO DE LIMA   \n",
       "\n",
       "                              EMAIL     CNPJ_CORBAN  \\\n",
       "0  nathalia.nunes@prservicos.com.br  07716869000186   \n",
       "1  nathalia.nunes@prservicos.com.br  25259939000104   \n",
       "2  nathalia.nunes@prservicos.com.br  07625729000100   \n",
       "3                   Renan@email.com  07625729000100   \n",
       "4  nathalia.nunes@prservicos.com.br  28242616000198   \n",
       "\n",
       "                                              GROUPS         LAST_ACCESS_DATE  \\\n",
       "0  FVE-COLABORADOR|FVE-INDICA_CONTA|FVE-INDICA_CA...                      NaN   \n",
       "1                   FVE-COLABORADOR|FVE-INDICA_CONTA  2022-05-12 17:44:16.000   \n",
       "2                   FVE-COLABORADOR|FVE-INDICA_CONTA  2022-05-13 16:06:47.000   \n",
       "3        FVE-MASTER|FVE-INDICA_CONTA|FVE-COLABORADOR  2022-05-13 14:40:51.000   \n",
       "4  FVE-COLABORADOR|FVE-INDICA_CONTA|FVE-INDICA_CA...  2022-05-23 18:21:09.000   \n",
       "\n",
       "  CREATE_DATE              UPDATE_DATE STATUS_CHANGE_BY ACTIVE EF_PARTNER_ID  \\\n",
       "0         NaN  2022-11-14 14:39:59.719      73293796460      1           NaN   \n",
       "1         NaN                      NaN              NaN    NaN           NaN   \n",
       "2         NaN                      NaN              NaN    NaN           NaN   \n",
       "3         NaN  2022-12-08 10:28:16.211              NaN    NaN           NaN   \n",
       "4         NaN                      NaN              NaN    NaN           NaN   \n",
       "\n",
       "     TELEPHONE  \n",
       "0          NaN  \n",
       "1          NaN  \n",
       "2   6729882068  \n",
       "3  11944256112  \n",
       "4          NaN  "
      ]
     },
     "execution_count": 11,
     "metadata": {},
     "output_type": "execute_result"
    }
   ],
   "source": [
    "df_user.head()"
   ]
  },
  {
   "cell_type": "code",
   "execution_count": 12,
   "metadata": {},
   "outputs": [
    {
     "data": {
      "text/plain": [
       "EMAIL\n",
       "karina.souza@f1rst.com.br           8724\n",
       "nathalia.nunes@prservicos.com.br    1773\n",
       "wesley.gropo@f1rst.com.br            245\n",
       "eduardo.paz@f1rst.com.br             164\n",
       "talita.silva@f1rst.com.br            142\n",
       "                                    ... \n",
       "ANTONIO.BEZERRA@F1RST.COM.BR           1\n",
       "lucascampos@teste.com                  1\n",
       "wirland@teste.com.br                   1\n",
       "Renan@email.com                        1\n",
       "andressa.braga@f1rst.com.br            1\n",
       "Name: count, Length: 320, dtype: int64"
      ]
     },
     "execution_count": 12,
     "metadata": {},
     "output_type": "execute_result"
    }
   ],
   "source": [
    "df_user['EMAIL'].value_counts()"
   ]
  }
 ],
 "metadata": {
  "interpreter": {
   "hash": "37d749834043cc8bcf9500ddac590bcfc07020a4e948b1c7aab57c3f0cf1e0ef"
  },
  "kernelspec": {
   "display_name": "Python 3.9.5 ('.venv': venv)",
   "language": "python",
   "name": "python3"
  },
  "language_info": {
   "codemirror_mode": {
    "name": "ipython",
    "version": 3
   },
   "file_extension": ".py",
   "mimetype": "text/x-python",
   "name": "python",
   "nbconvert_exporter": "python",
   "pygments_lexer": "ipython3",
   "version": "3.9.5"
  },
  "orig_nbformat": 4
 },
 "nbformat": 4,
 "nbformat_minor": 2
}
